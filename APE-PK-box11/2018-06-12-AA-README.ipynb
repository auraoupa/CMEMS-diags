{
 "cells": [
  {
   "cell_type": "markdown",
   "metadata": {},
   "source": [
    "## Comparaison des cycles saisonniers de APE et PK moyennés dans la box 11\n",
    "\n",
    "### Les étapes\n",
    "\n",
    " 1. les coordonnées i,j de la box 11 sont définies par AJ dans le module ~/lib/python/AJ-spectre/natl60_10_by_10_boxes.py et on peut les obtenir comme [ceci](http://localhost:8888/notebooks/CMEMS-diags/APE-PK-box11/2018-06-12-AA-indices-box.ipynb)\n",
    " \n",
    " 1. on extrait T, S et W journaliers pour la box 11, grâce au script /home/albert7a/EXTRACT/extract_TSW_box11_coord_from_AJ.ksh sur occigen (attention il faut renommer les fichiers W en vovecrtz ...)\n",
    " \n",
    " 1. on calcul la buoyancy avec le script /home/albert7a/python/cdfbuoy/make_cdfbuoy_job_box11_year.ksh, qui utilise mpi_shell pour calculer en parallèle chaque 365 jours de l'année. Le cdftool cdfbuoy a été écrit spécialement pour l'occasion.\n",
    " \n",
    " 1. on filtre la buoyancy ainsi obtenue et vovecrtz grâce au script /home/albert7a/python/filtering/filt_3D_new/RUN_make_filt_box11.ksh qui fait appel au script /home/albert7a/python/filtering/2DLanczosHighPassFilter.py écrit auparavant et qui filtre un champs NATL60 2D spatialement avec une fréquence de coupure de 80 points de grille. Ce script est appliqué à chaque niveau vertical et on reconstruit le fichier final grâce au script /scratch/cnt0024/hmg2840/albert7a/DEV/RECONSTRUCT_3D_FILES/reconstruct_3D_files_box11 (le nom des fichiers est critique quand on utilise ce script car il va chercher le numero en plein milieu donc toutes les variables doivent avoir le même nombre de caractères\n",
    " \n",
    " 1. on multiplie le fichier buoyancy filtré avec vovecrtz filtré avec /home/albert7a/python/filtering/make_multiply_box11_job.ksh en prenant compte le mask associé au filtrage /scratch/cnt0024/hmg2840/albert7a/NATL60/NATL60-I/NATL60-CJM165.1d_mask1-139_filt-n80-f0.0125.nc. On obtient alors les fichiers NATL60box11-CJM165_y*.1d_wbuoy_filt* que l'on moyenne en 2D pour plotter des profils\n",
    " \n",
    " 1. on intègre dans la couche de mélange le produit buoyancy par vovecrtz grâce au script /home/albert7a/python/cdfmxlwb/make_cdfmxlint_box11_job.ksh qui fait appel au cdftool cdfmxlint développé pour l'occasion\n",
    " \n",
    " 1. on peut enfin tracer l'évolution temporelle de PK (cf notebook) que l'on compare à celle de l'APE calculée par ailleurs (cf notebook)"
   ]
  },
  {
   "cell_type": "markdown",
   "metadata": {},
   "source": [
    "## Combien d'heures de calcul ça coûte ?\n",
    "\n",
    "  - cdfbuoy 50h\n",
    "  - filt buoy 2 111h\n",
    "  - filt w 1 521h\n",
    "  - multiply\n",
    "  - int mxl"
   ]
  }
 ],
 "metadata": {
  "kernelspec": {
   "display_name": "Python [Root]",
   "language": "python",
   "name": "Python [Root]"
  },
  "language_info": {
   "codemirror_mode": {
    "name": "ipython",
    "version": 2
   },
   "file_extension": ".py",
   "mimetype": "text/x-python",
   "name": "python",
   "nbconvert_exporter": "python",
   "pygments_lexer": "ipython2",
   "version": "2.7.15"
  }
 },
 "nbformat": 4,
 "nbformat_minor": 2
}
