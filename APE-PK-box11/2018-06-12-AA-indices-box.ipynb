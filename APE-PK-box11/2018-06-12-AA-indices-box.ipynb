{
 "cells": [
  {
   "cell_type": "code",
   "execution_count": 3,
   "metadata": {},
   "outputs": [
    {
     "name": "stdout",
     "output_type": "stream",
     "text": [
      "Box_14\n",
      " indices =  3374 3926 1780 2698\n",
      "Box_13\n",
      " indices =  2813 3375 1773 2696\n",
      "Box_12\n",
      " indices =  2309 2835 1777 2742\n",
      "Box_11\n",
      " indices =  1761 2239 1833 2785\n",
      "Box_10\n",
      " indices =  3681 4247 962 1778\n",
      "Box_7\n",
      " indices =  1931 2494 968 1802\n",
      "Box_6\n",
      " indices =  3684 4286 232 963\n",
      "Box_5\n",
      " indices =  3088 3686 232 957\n",
      "Box_4\n",
      " indices =  2491 3087 232 959\n",
      "Box_3\n",
      " indices =  1891 2488 232 961\n",
      "Box_2\n",
      " indices =  1288 1889 234 974\n",
      "Box_1\n",
      " indices =  695 1295 236 993\n",
      "Box_9\n",
      " indices =  3088 3676 957 1770\n",
      "Box_8\n",
      " indices =  2493 3088 958 1783\n"
     ]
    }
   ],
   "source": [
    "import sys\n",
    "sys.path.insert(0,'/home/albert/lib/python/AJ-spectre/')\n",
    "from natl60_10_by_10_boxes import boxes\n",
    "\n",
    "def get_indices_box(box):\n",
    "    jmin,jmax = box.jmin,box.jmax\n",
    "    imin,imax = box.imin,box.imax\n",
    "    return imin,imax,jmin,jmax\n",
    "\n",
    "for box in boxes :\n",
    "    print box.name\n",
    "    imin,imax,jmin,jmax=get_indices_box(box)\n",
    "    print ' indices = ',imin,imax,jmin,jmax"
   ]
  }
 ],
 "metadata": {
  "kernelspec": {
   "display_name": "Python [Root]",
   "language": "python",
   "name": "Python [Root]"
  },
  "language_info": {
   "codemirror_mode": {
    "name": "ipython",
    "version": 2
   },
   "file_extension": ".py",
   "mimetype": "text/x-python",
   "name": "python",
   "nbconvert_exporter": "python",
   "pygments_lexer": "ipython2",
   "version": "2.7.15"
  }
 },
 "nbformat": 4,
 "nbformat_minor": 2
}
