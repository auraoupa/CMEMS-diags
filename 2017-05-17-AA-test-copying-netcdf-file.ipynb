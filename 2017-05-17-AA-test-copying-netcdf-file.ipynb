{
 "cells": [
  {
   "cell_type": "markdown",
   "metadata": {},
   "source": [
    "# Writing in an existing netcdf file"
   ]
  },
  {
   "cell_type": "code",
   "execution_count": 1,
   "metadata": {
    "collapsed": true
   },
   "outputs": [],
   "source": [
    "from netCDF4 import Dataset"
   ]
  },
  {
   "cell_type": "code",
   "execution_count": 5,
   "metadata": {},
   "outputs": [],
   "source": [
    "data = Dataset('/media/extra/DATA/NATL60/NATL60-CJM165-S/NATL60-CJM165_y2013m03d30.1d_curloverf.nc', 'r')"
   ]
  },
  {
   "cell_type": "code",
   "execution_count": 6,
   "metadata": {},
   "outputs": [
    {
     "name": "stdout",
     "output_type": "stream",
     "text": [
      "NETCDF4\n"
     ]
    }
   ],
   "source": [
    "print data.file_format"
   ]
  },
  {
   "cell_type": "code",
   "execution_count": 30,
   "metadata": {
    "collapsed": true
   },
   "outputs": [],
   "source": [
    "out=Dataset('/media/extra/DATA/NATL60/NATL60-CJM165-S/test.nc','w')"
   ]
  },
  {
   "cell_type": "code",
   "execution_count": 31,
   "metadata": {},
   "outputs": [
    {
     "name": "stdout",
     "output_type": "stream",
     "text": [
      "x 5422\n",
      "y 3454\n",
      "unknown 1\n",
      "time_counter 1\n",
      "nav_lon\n",
      "nav_lat\n",
      "unknown\n",
      "time_counter\n",
      "socurloverf\n"
     ]
    }
   ],
   "source": [
    "for dname, the_dim in data.dimensions.iteritems():\n",
    "    print dname, len(the_dim)\n",
    "    out.createDimension(dname, len(the_dim) if not the_dim.isunlimited() else None)\n",
    "\n",
    "\n",
    "# Copy variables\n",
    "for v_name, varin in data.variables.iteritems(): \n",
    "    print v_name\n",
    "    if v_name == 'socurloverf': \n",
    "      continue\n",
    "    outVar = out.createVariable(v_name, varin.datatype, varin.dimensions)\n",
    "    # Copy variable attributes\n",
    "    outVar.setncatts({k: varin.getncattr(k) for k in varin.ncattrs()})\n",
    "    outVar[:] = varin[:]\n",
    "\n"
   ]
  },
  {
   "cell_type": "code",
   "execution_count": 34,
   "metadata": {},
   "outputs": [],
   "source": [
    "curlin=data['socurloverf']\n",
    "curlout=out.createVariable('socurloverf',curlin.datatype,curlin.dimensions)\n",
    "curlout.setncatts({k: curlin.getncattr(k) for k in curlin.ncattrs()})\n"
   ]
  },
  {
   "cell_type": "code",
   "execution_count": 35,
   "metadata": {
    "collapsed": true
   },
   "outputs": [],
   "source": [
    "curlout[:]=0"
   ]
  },
  {
   "cell_type": "code",
   "execution_count": 19,
   "metadata": {
    "collapsed": true
   },
   "outputs": [],
   "source": [
    "for name, dimension in data.dimensions.iteritems():\n",
    "    out.createDimension(name, len(dimension) if not dimension.isunlimited() else None)"
   ]
  },
  {
   "cell_type": "code",
   "execution_count": 20,
   "metadata": {},
   "outputs": [
    {
     "data": {
      "text/plain": [
       "<type 'netCDF4._netCDF4.Dataset'>\n",
       "root group (NETCDF4 data model, file format HDF5):\n",
       "    dimensions(sizes): x(5422), y(3454), unknown(1), time_counter(0)\n",
       "    variables(dimensions): \n",
       "    groups: "
      ]
     },
     "execution_count": 20,
     "metadata": {},
     "output_type": "execute_result"
    }
   ],
   "source": [
    "out"
   ]
  },
  {
   "cell_type": "code",
   "execution_count": 21,
   "metadata": {},
   "outputs": [
    {
     "name": "stdout",
     "output_type": "stream",
     "text": [
      "nav_lon\n"
     ]
    },
    {
     "ename": "KeyError",
     "evalue": "<type 'netCDF4._netCDF4.Variable'>\nfloat32 nav_lon(y, x)\nunlimited dimensions: \ncurrent shape = (3454, 5422)\nfilling on, default _FillValue of 9.96920996839e+36 used\n",
     "output_type": "error",
     "traceback": [
      "\u001b[1;31m---------------------------------------------------------------------------\u001b[0m",
      "\u001b[1;31mKeyError\u001b[0m                                  Traceback (most recent call last)",
      "\u001b[1;32m<ipython-input-21-5f33a6446d7b>\u001b[0m in \u001b[0;36m<module>\u001b[1;34m()\u001b[0m\n\u001b[0;32m      6\u001b[0m \u001b[1;33m\u001b[0m\u001b[0m\n\u001b[0;32m      7\u001b[0m     \u001b[0mx\u001b[0m \u001b[1;33m=\u001b[0m \u001b[0mout\u001b[0m\u001b[1;33m.\u001b[0m\u001b[0mcreateVariable\u001b[0m\u001b[1;33m(\u001b[0m\u001b[0mname\u001b[0m\u001b[1;33m,\u001b[0m \u001b[0mvariable\u001b[0m\u001b[1;33m.\u001b[0m\u001b[0mdatatype\u001b[0m\u001b[1;33m,\u001b[0m \u001b[0mvariable\u001b[0m\u001b[1;33m.\u001b[0m\u001b[0mdimensions\u001b[0m\u001b[1;33m)\u001b[0m\u001b[1;33m\u001b[0m\u001b[0m\n\u001b[1;32m----> 8\u001b[1;33m     \u001b[0mout\u001b[0m\u001b[1;33m.\u001b[0m\u001b[0mvariables\u001b[0m\u001b[1;33m[\u001b[0m\u001b[0mx\u001b[0m\u001b[1;33m]\u001b[0m\u001b[1;33m[\u001b[0m\u001b[1;33m:\u001b[0m\u001b[1;33m]\u001b[0m \u001b[1;33m=\u001b[0m \u001b[0mdata\u001b[0m\u001b[1;33m.\u001b[0m\u001b[0mvariables\u001b[0m\u001b[1;33m[\u001b[0m\u001b[0mx\u001b[0m\u001b[1;33m]\u001b[0m\u001b[1;33m[\u001b[0m\u001b[1;33m:\u001b[0m\u001b[1;33m]\u001b[0m\u001b[1;33m\u001b[0m\u001b[0m\n\u001b[0m",
      "\u001b[1;31mKeyError\u001b[0m: <type 'netCDF4._netCDF4.Variable'>\nfloat32 nav_lon(y, x)\nunlimited dimensions: \ncurrent shape = (3454, 5422)\nfilling on, default _FillValue of 9.96920996839e+36 used\n"
     ]
    }
   ],
   "source": [
    "for name, variable in data.variables.iteritems():\n",
    "    print name\n",
    "    # take out the variable you don't want\n",
    "    if name == 'socurloverf': \n",
    "      continue\n",
    "\n",
    "    x = out.createVariable(name, variable.datatype, variable.dimensions)\n",
    "    out.variables[x][:] = data.variables[x][:]"
   ]
  },
  {
   "cell_type": "code",
   "execution_count": 36,
   "metadata": {},
   "outputs": [
    {
     "name": "stdout",
     "output_type": "stream",
     "text": [
      "<type 'netCDF4._netCDF4.Variable'>\n",
      "float32 socurloverf(time_counter, y, x)\n",
      "    units: -\n",
      "    _FillValue: 0.0\n",
      "    valid_min: -1000.0\n",
      "    valid_max: 1000.0\n",
      "    long_name: Relative_Vorticity (curl)\n",
      "    short_name: socurl\n",
      "    iweight: 1\n",
      "    online_operation: N/A\n",
      "    axis: TYX\n",
      "    scale_factor: 1.0\n",
      "    add_offset: 0.0\n",
      "    savelog10: 0.0\n",
      "unlimited dimensions: time_counter\n",
      "current shape = (1, 3454, 5422)\n",
      "filling on\n"
     ]
    }
   ],
   "source": [
    "print data.variables['socurloverf']"
   ]
  },
  {
   "cell_type": "code",
   "execution_count": 43,
   "metadata": {},
   "outputs": [],
   "source": [
    "curl=data.variables['socurloverf'][:]"
   ]
  },
  {
   "cell_type": "code",
   "execution_count": 38,
   "metadata": {
    "collapsed": true
   },
   "outputs": [],
   "source": [
    "filt_curl=data.createVariable(\"filt_curl\",\"f4\",(\"time_counter\",\"y\",\"x\",))"
   ]
  },
  {
   "cell_type": "code",
   "execution_count": 39,
   "metadata": {},
   "outputs": [
    {
     "name": "stdout",
     "output_type": "stream",
     "text": [
      "<type 'netCDF4._netCDF4.Variable'>\n",
      "float32 filt_curl(time_counter, y, x)\n",
      "unlimited dimensions: time_counter\n",
      "current shape = (1, 3454, 5422)\n",
      "filling on, default _FillValue of 9.96920996839e+36 used\n",
      "\n"
     ]
    }
   ],
   "source": [
    "print data.variables['filt_curl']"
   ]
  },
  {
   "cell_type": "code",
   "execution_count": 40,
   "metadata": {
    "collapsed": true
   },
   "outputs": [],
   "source": [
    "filt_curl[:]=0."
   ]
  },
  {
   "cell_type": "code",
   "execution_count": 41,
   "metadata": {
    "collapsed": true
   },
   "outputs": [],
   "source": [
    "data.close()"
   ]
  },
  {
   "cell_type": "code",
   "execution_count": null,
   "metadata": {
    "collapsed": true
   },
   "outputs": [],
   "source": []
  },
  {
   "cell_type": "code",
   "execution_count": null,
   "metadata": {
    "collapsed": true
   },
   "outputs": [],
   "source": []
  },
  {
   "cell_type": "code",
   "execution_count": null,
   "metadata": {
    "collapsed": true
   },
   "outputs": [],
   "source": []
  },
  {
   "cell_type": "code",
   "execution_count": null,
   "metadata": {
    "collapsed": true
   },
   "outputs": [],
   "source": []
  },
  {
   "cell_type": "code",
   "execution_count": null,
   "metadata": {
    "collapsed": true
   },
   "outputs": [],
   "source": []
  },
  {
   "cell_type": "code",
   "execution_count": 20,
   "metadata": {
    "collapsed": true
   },
   "outputs": [],
   "source": [
    "test=data.get_variables_by_attributes(short_name=\"socurl\")"
   ]
  },
  {
   "cell_type": "code",
   "execution_count": 22,
   "metadata": {},
   "outputs": [],
   "source": [
    "test2=data.variables['socurloverf'][:]"
   ]
  },
  {
   "cell_type": "code",
   "execution_count": 23,
   "metadata": {},
   "outputs": [
    {
     "data": {
      "text/plain": [
       "(1, 3454, 5422)"
      ]
     },
     "execution_count": 23,
     "metadata": {},
     "output_type": "execute_result"
    }
   ],
   "source": [
    "test2.shape"
   ]
  },
  {
   "cell_type": "code",
   "execution_count": 24,
   "metadata": {
    "collapsed": true
   },
   "outputs": [],
   "source": [
    "test2[:]=0."
   ]
  },
  {
   "cell_type": "code",
   "execution_count": 27,
   "metadata": {},
   "outputs": [
    {
     "ename": "RuntimeError",
     "evalue": "NetCDF: Not a valid ID",
     "output_type": "error",
     "traceback": [
      "\u001b[1;31m---------------------------------------------------------------------------\u001b[0m",
      "\u001b[1;31mRuntimeError\u001b[0m                              Traceback (most recent call last)",
      "\u001b[1;32m<ipython-input-27-9c8efd174b5b>\u001b[0m in \u001b[0;36m<module>\u001b[1;34m()\u001b[0m\n\u001b[1;32m----> 1\u001b[1;33m \u001b[0mdata\u001b[0m\u001b[1;33m.\u001b[0m\u001b[0mvariables\u001b[0m\u001b[1;33m[\u001b[0m\u001b[1;34m'socurloverf'\u001b[0m\u001b[1;33m]\u001b[0m\u001b[1;33m[\u001b[0m\u001b[1;33m:\u001b[0m\u001b[1;33m]\u001b[0m\u001b[1;33m=\u001b[0m\u001b[0mtest2\u001b[0m\u001b[1;33m[\u001b[0m\u001b[1;33m:\u001b[0m\u001b[1;33m]\u001b[0m\u001b[1;33m\u001b[0m\u001b[0m\n\u001b[0m",
      "\u001b[1;32mnetCDF4/_netCDF4.pyx\u001b[0m in \u001b[0;36mnetCDF4._netCDF4.Variable.__setitem__ (netCDF4/_netCDF4.c:42376)\u001b[1;34m()\u001b[0m\n",
      "\u001b[1;32mnetCDF4/_netCDF4.pyx\u001b[0m in \u001b[0;36mnetCDF4._netCDF4.Variable.shape.__get__ (netCDF4/_netCDF4.c:32778)\u001b[1;34m()\u001b[0m\n",
      "\u001b[1;32mnetCDF4/_netCDF4.pyx\u001b[0m in \u001b[0;36mnetCDF4._netCDF4.Variable._getdims (netCDF4/_netCDF4.c:31870)\u001b[1;34m()\u001b[0m\n",
      "\u001b[1;31mRuntimeError\u001b[0m: NetCDF: Not a valid ID"
     ]
    }
   ],
   "source": [
    "data.variables['socurloverf'][:]=test2[:]"
   ]
  },
  {
   "cell_type": "code",
   "execution_count": 25,
   "metadata": {
    "collapsed": true
   },
   "outputs": [],
   "source": [
    "data.close()"
   ]
  },
  {
   "cell_type": "code",
   "execution_count": 54,
   "metadata": {},
   "outputs": [
    {
     "name": "stdout",
     "output_type": "stream",
     "text": [
      "True\n"
     ]
    }
   ],
   "source": [
    "print time.isunlimited()"
   ]
  },
  {
   "cell_type": "code",
   "execution_count": 63,
   "metadata": {},
   "outputs": [
    {
     "data": {
      "text/plain": [
       "(0, 3454, 5422)"
      ]
     },
     "execution_count": 63,
     "metadata": {},
     "output_type": "execute_result"
    }
   ],
   "source": [
    "w_nc_fid = Dataset('/media/extra/DATA/NATL60/NATL60-CJM165-S/test8.nc', 'w', format='NETCDF4')\n",
    "w_nc_fid.description = \"NATL60 data filtered with Lanczos filter with cut-off frequency of 2deg\"\n",
    "\n",
    "time=w_nc_fid.createDimension('time_counter',None)\n",
    "x=w_nc_fid.createDimension('x', 5422)\n",
    "y=w_nc_fid.createDimension('y', 3454)\n",
    "w_nc_var = w_nc_fid.createVariable('truc', 'f8', ('time_counter','y','x'))\n",
    "w_nc_var.shape\n",
    "w_nc_var[1,:,:] = 1.\n",
    "w_nc_fid.close()  # close the new file\n"
   ]
  },
  {
   "cell_type": "code",
   "execution_count": 60,
   "metadata": {},
   "outputs": [
    {
     "data": {
      "text/plain": [
       "(1, 3454, 5422)"
      ]
     },
     "execution_count": 60,
     "metadata": {},
     "output_type": "execute_result"
    }
   ],
   "source": [
    "curl.shape"
   ]
  },
  {
   "cell_type": "code",
   "execution_count": 64,
   "metadata": {
    "collapsed": true
   },
   "outputs": [],
   "source": []
  },
  {
   "cell_type": "code",
   "execution_count": 48,
   "metadata": {},
   "outputs": [
    {
     "data": {
      "text/plain": [
       "masked_array(data =\n",
       " [[[-- -- -- ..., -- -- --]\n",
       "  [-- -- -- ..., -- -- --]\n",
       "  [-- -- -- ..., -- -- --]\n",
       "  ..., \n",
       "  [-- -- -- ..., -- -- --]\n",
       "  [-- -- -- ..., -- -- --]\n",
       "  [-- -- -- ..., -- -- --]]],\n",
       "             mask =\n",
       " [[[ True  True  True ...,  True  True  True]\n",
       "  [ True  True  True ...,  True  True  True]\n",
       "  [ True  True  True ...,  True  True  True]\n",
       "  ..., \n",
       "  [ True  True  True ...,  True  True  True]\n",
       "  [ True  True  True ...,  True  True  True]\n",
       "  [ True  True  True ...,  True  True  True]]],\n",
       "       fill_value = 0.0)"
      ]
     },
     "execution_count": 48,
     "metadata": {},
     "output_type": "execute_result"
    }
   ],
   "source": [
    "curl"
   ]
  },
  {
   "cell_type": "code",
   "execution_count": 51,
   "metadata": {},
   "outputs": [
    {
     "data": {
      "text/plain": [
       "-0.1615604"
      ]
     },
     "execution_count": 51,
     "metadata": {},
     "output_type": "execute_result"
    }
   ],
   "source": [
    "curl[0,100,100]"
   ]
  },
  {
   "cell_type": "code",
   "execution_count": 72,
   "metadata": {},
   "outputs": [],
   "source": [
    "filtset = Dataset('/media/extra/DATA/NATL60/NATL60-CJM165-S/test12.nc', 'w', format='NETCDF4')\n",
    "filtset.description = \"NATL60 data filtered with Lanczos filter with cut-off frequency of 2deg\"\n",
    "\n",
    "time=filtset.createDimension('time_counter',None)\n",
    "x=filtset.createDimension('x', 5422)\n",
    "y=filtset.createDimension('y', 3454)\n",
    "\n",
    "lat = filtset.createVariable('nav_lat', 'f8', ('y','x'))\n",
    "lat.standart_name=\"latitude\"\n",
    "lat.long_name = \"Latitude\" \n",
    "lat.units = \"degrees_north\"\n",
    "lat.nav_model = \"grid_U\"\n",
    "\n",
    "lon = filtset.createVariable('nav_lon', 'f8', ('y','x'))\n",
    "lon.standard_name = \"longitude\" \n",
    "lon.long_name = \"Longitude\" \n",
    "lon.units = \"degrees_east\" \n",
    "lon.nav_model = \"grid_U\" \n",
    "    \n",
    "time = filtset.createVariable('time_counter', 'f8', ('time_counter'))\n",
    "time.axis = \"T\" \n",
    "time.standard_name = \"time\" \n",
    "time.long_name = \"Time axis\" \n",
    "time.calendar = \"gregorian\" \n",
    "time.units = \"seconds since 1958-01-01 00:00:00\" \n",
    "time.time_origin = \"1958-01-01 00:00:00\" \n",
    "time.bounds = \"time_counter_bounds\" \n",
    "\n",
    "socurloverf = filtset.createVariable('socurloverf', 'f8', ('time_counter','y','x'),fill_value=0.)\n",
    "socurloverf.units = \"-\" \n",
    "socurloverf.valid_min = -1000.\n",
    "socurloverf.valid_max = 1000.\n",
    "socurloverf.long_name = \"Relative_Vorticity (curl)\" \n",
    "socurloverf.short_name = \"socurl\" \n",
    "socurloverf.iweight = 1 \n",
    "socurloverf.online_operation = \"N/A\" \n",
    "socurloverf.axis = \"TYX\" \n",
    "socurloverf.scale_factor = 1.\n",
    "socurloverf.add_offset = 0.\n",
    "socurloverf.savelog10 = 0. \n",
    "\n",
    "\n",
    "socurloverf.shape\n",
    "socurloverf[0,:,:] = 1.\n",
    "filtset.close()  # close the new file\n"
   ]
  },
  {
   "cell_type": "code",
   "execution_count": 73,
   "metadata": {},
   "outputs": [
    {
     "data": {
      "text/plain": [
       "array([[[ 1.,  1.,  1., ...,  1.,  1.,  1.],\n",
       "        [ 1.,  1.,  1., ...,  1.,  1.,  1.],\n",
       "        [ 1.,  1.,  1., ...,  1.,  1.,  1.],\n",
       "        ..., \n",
       "        [ 1.,  1.,  1., ...,  1.,  1.,  1.],\n",
       "        [ 1.,  1.,  1., ...,  1.,  1.,  1.],\n",
       "        [ 1.,  1.,  1., ...,  1.,  1.,  1.]]])"
      ]
     },
     "execution_count": 73,
     "metadata": {},
     "output_type": "execute_result"
    }
   ],
   "source": [
    "filtset = Dataset('/media/extra/DATA/NATL60/NATL60-CJM165-S/test12.nc', 'r')\n",
    "curl=filtset.variables['socurloverf'][:]\n",
    "curl\n"
   ]
  },
  {
   "cell_type": "code",
   "execution_count": 74,
   "metadata": {},
   "outputs": [
    {
     "data": {
      "text/plain": [
       "(1, 3454, 5422)"
      ]
     },
     "execution_count": 74,
     "metadata": {},
     "output_type": "execute_result"
    }
   ],
   "source": [
    "curl.shape"
   ]
  },
  {
   "cell_type": "code",
   "execution_count": 75,
   "metadata": {
    "collapsed": true
   },
   "outputs": [],
   "source": [
    "import numpy as npy"
   ]
  },
  {
   "cell_type": "code",
   "execution_count": 81,
   "metadata": {},
   "outputs": [
    {
     "data": {
      "text/plain": [
       "array([ 0,  1,  2,  3,  4,  5,  6,  7,  8,  9, 10, 11, 12, 13, 14, 15, 16,\n",
       "       17, 18, 19, 20, 21, 22, 23, 24, 25, 26, 27, 28, 29, 30])"
      ]
     },
     "execution_count": 81,
     "metadata": {},
     "output_type": "execute_result"
    }
   ],
   "source": [
    "npy.arange(0,31)"
   ]
  },
  {
   "cell_type": "code",
   "execution_count": null,
   "metadata": {
    "collapsed": true
   },
   "outputs": [],
   "source": []
  }
 ],
 "metadata": {
  "kernelspec": {
   "display_name": "Python [Root]",
   "language": "python",
   "name": "Python [Root]"
  },
  "language_info": {
   "codemirror_mode": {
    "name": "ipython",
    "version": 2
   },
   "file_extension": ".py",
   "mimetype": "text/x-python",
   "name": "python",
   "nbconvert_exporter": "python",
   "pygments_lexer": "ipython2",
   "version": "2.7.15"
  }
 },
 "nbformat": 4,
 "nbformat_minor": 1
}
