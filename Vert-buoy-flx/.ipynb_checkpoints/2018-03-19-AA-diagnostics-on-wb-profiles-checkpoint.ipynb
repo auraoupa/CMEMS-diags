{
 "cells": [
  {
   "cell_type": "code",
   "execution_count": 1,
   "metadata": {},
   "outputs": [
    {
     "data": {
      "application/javascript": [
       "IPython.notebook.set_autosave_interval(60000)"
      ]
     },
     "metadata": {},
     "output_type": "display_data"
    },
    {
     "name": "stdout",
     "output_type": "stream",
     "text": [
      "Autosaving every 60 seconds\n"
     ]
    }
   ],
   "source": [
    "import sys\n",
    "import glob\n",
    "import numpy as np\n",
    "import xarray as xr\n",
    "import matplotlib.pyplot as plt\n",
    "import matplotlib.dates as mdates\n",
    "import numpy.ma as ma\n",
    "\n",
    "%matplotlib inline\n",
    "%autosave 60"
   ]
  },
  {
   "cell_type": "code",
   "execution_count": 2,
   "metadata": {},
   "outputs": [],
   "source": [
    "sys.path.insert(0,'/home/albert/lib/python/AJ-spectre/')\n",
    "from natl60_10_by_10_boxes import boxes\n",
    "import plot_box as pb"
   ]
  },
  {
   "cell_type": "code",
   "execution_count": 3,
   "metadata": {},
   "outputs": [],
   "source": [
    "database = '/media/extra/DATA/NATL60/NATL60-CJM165-S/'\n",
    "buoyfile = database + 'filt-3D/NATL60-CJM165_y2013m03d01.1d_buoyancy_filt-n80-f0.0125.nc'\n",
    "wfile = database + 'filt-3D/NATL60-CJM165_y2013m03d01.1d_vovecrtz_filt-n80-f0.0125.nc'\n",
    "mldfile = database + 'MXL/NATL60-CJM165_y2013m03d01.1d_somxl010.nc'\n",
    "maskfile= '/media/extra/DATA/NATL60/NATL60-I/NATL60_v4.1_cdf_byte_mask.nc'"
   ]
  },
  {
   "cell_type": "code",
   "execution_count": 4,
   "metadata": {},
   "outputs": [],
   "source": [
    "dep=xr.open_dataset(buoyfile)['deptht']"
   ]
  },
  {
   "cell_type": "code",
   "execution_count": 14,
   "metadata": {},
   "outputs": [],
   "source": [
    "#box n Box_1  indices =  695 1295 236 993\n",
    "# minibox1 indices = 695 755 236 296\n",
    "\n",
    "buoy_minibox1 = xr.open_dataset(buoyfile)['sobuoy'][:,:,236:297,695:756]\n",
    "w_minibox1 = xr.open_dataset(wfile)['vovecrtz'][:,:,236:297,695:756]\n",
    "tmask_minibox1 = xr.open_dataset(maskfile)['tmask'][:,:,236:297,695:756]\n",
    "wmask_minibox1 = xr.open_dataset(maskfile)['fmask'][:,:,236:297,695:756]\n",
    "mld_minibox1 = xr.open_dataset(mldfile)['somxl010'][:,236:297,695:756,]\n"
   ]
  },
  {
   "cell_type": "code",
   "execution_count": 15,
   "metadata": {},
   "outputs": [],
   "source": [
    "buoy_minibox1_mask=ma.masked_where(tmask_minibox1 == 0, buoy_minibox1)\n",
    "w_minibox1_mask=ma.masked_where(tmask_minibox1 == 0, w_minibox1)\n",
    "avg_wb_minibox1=np.ones(len(dep))\n",
    "for k in np.arange(len(dep)):\n",
    "    avg_wb_minibox1[k] = np.nanmean(buoy_minibox1_mask[0,k,:,:]*w_minibox1_mask[0,k,:,:])\n",
    "\n",
    "avg_mld_minibox1=np.nanmean(mld_minibox1)"
   ]
  },
  {
   "cell_type": "code",
   "execution_count": 17,
   "metadata": {},
   "outputs": [
    {
     "data": {
      "text/plain": [
       "<matplotlib.lines.Line2D at 0x7fbdae2e1710>"
      ]
     },
     "execution_count": 17,
     "metadata": {},
     "output_type": "execute_result"
    },
    {
     "data": {
      "image/png": "[encoded data removed]",
      "text/plain": [
       "<matplotlib.figure.Figure at 0x7fbdae305d10>"
      ]
     },
     "metadata": {},
     "output_type": "display_data"
    }
   ],
   "source": [
    "fig, axs = plt.subplots(1,1, figsize=(5, 5))\n",
    "plt.suptitle('1st March w'b' profile in minibox1')\n",
    "\n",
    "axs.plot(avg_wb_minibox1,dep,'C0*-')\n",
    "axs.set_ylim(400,0)\n",
    "axs.axhline(y=avg_mld_minibox1, color='k')"
   ]
  },
  {
   "cell_type": "code",
   "execution_count": null,
   "metadata": {},
   "outputs": [],
   "source": []
  }
 ],
 "metadata": {
  "kernelspec": {
   "display_name": "Python [Root]",
   "language": "python",
   "name": "Python [Root]"
  },
  "language_info": {
   "codemirror_mode": {
    "name": "ipython",
    "version": 2
   },
   "file_extension": ".py",
   "mimetype": "text/x-python",
   "name": "python",
   "nbconvert_exporter": "python",
   "pygments_lexer": "ipython2",
   "version": "2.7.11"
  }
 },
 "nbformat": 4,
 "nbformat_minor": 1
}
