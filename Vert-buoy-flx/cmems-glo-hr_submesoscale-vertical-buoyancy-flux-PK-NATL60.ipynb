{
 "cells": [
  {
   "cell_type": "markdown",
   "metadata": {},
   "source": [
    "# Parameterisation for submesoscale vertical buoyancy flux : PK\n",
    "\n",
    "__author__ : Aurélie Albert & Julien Le Sommer (MEOM, IGE)\n",
    "\n",
    "__contributing author__ : Adekunle Ajayi (MEOM, IGE)\n",
    "\n",
    "__context__ : 22-GLO-HR project : Lot 1 - Ocean Modelling\n",
    "\n",
    "__date__ : 7 March 2018\n",
    "\n",
    "__purpose__ : Metric for net release of available potential energy (PK) in NATL60-CJM165 simulation\n",
    "\n",
    "__detailed description__ : \n",
    "\n",
    "To quantify the net release of available potential energy,\n",
    "PK in a region, we integrate w’b’ over the mixed layer depth.\n",
    "\n",
    "$$\\mathcal PK = \\frac{1}{h}\\int^{-h}_{0} \\langle w^{'} b^{'}\\rangle_{xy} dz.$$\n",
    "\n",
    "\n",
    "In the equation above, h represents the mixed layer depth, <>xy the horizontal averaging over region respectively. Prime represents the sub-mesoscale component of the flow.\n",
    "\n",
    "__practical steps__ :\n",
    "\n",
    "  * Input data are NATL60-CJM165 daily outputs of temperature, salinity  and vertical velocities for two whole month (March 2013 and September 2013)\n",
    "  * step 1. : The daily mixed layer depth is computed from 3D T and S fields with cdfmxl cdftool : https://github.com/meom-group/CDFTOOLS : the computation is done on occigen servers\n",
    "  * step 2. : 3D T and S fields are spatially filtered to keep the fine scales with the Lanczos2DHighPassFilter.py script written in the framework of the Vorticity Variance metric (see https://gitlab.com/meom-group-private/cmems-22-glo-hr-codes/tree/master/Task1-fine-scale-metrics/Vorticity-variance) : the computation is done on occigen servers\n",
    "  * step 3. : The buoyancy is computed from small scale 3D fields of temperature and salinty with cdfbuoy cdftool : the computation is done on occigen servers   \n",
    "  * step 4. : 10°x10° boxes already defined in the framework of the Kinetic energy wavenumber spectra are implemented (see https://gitlab.com/meom-group-private/cmems-22-glo-hr-codes/blob/master/Task1-fine-scale-metrics/Wavenumber-spectrum/cmems-glo-hr_demo-fine-scale-metrics_02_kinetic-energy-wavenumber-spectra.ipynb)\n",
    "  * step 5. : The profile of the product of the mixed layer depth and the buoyancy is averaged inside each box.\n",
    "  * step 6. : Plots of the monthly averaged profiles are produced for each box\n",
    "  \n",
    "__external libraries needed to run this script__ : \n",
    "\n",
    " * Definition of 10°x10° for NATL60 grid :natl60_10_by_10_boxes.py\n",
    " * Tools for plot in boxes : plot_box\n",
    " \n",
    "__licence__ : This work is licensed under a <a rel=\"license\" href=\"http://creativecommons.org/licenses/by/4.0/\">Creative Commons Attribution 4.0 International License</a>."
   ]
  },
  {
   "cell_type": "code",
   "execution_count": 1,
   "metadata": {},
   "outputs": [
    {
     "data": {
      "application/javascript": [
       "IPython.notebook.set_autosave_interval(60000)"
      ]
     },
     "metadata": {},
     "output_type": "display_data"
    },
    {
     "name": "stdout",
     "output_type": "stream",
     "text": [
      "Autosaving every 60 seconds\n"
     ]
    }
   ],
   "source": [
    "import sys\n",
    "import glob\n",
    "import numpy as np\n",
    "import xarray as xr\n",
    "import matplotlib.pyplot as plt\n",
    "import matplotlib.dates as mdates\n",
    "import numpy.ma as ma\n",
    "\n",
    "%matplotlib inline\n",
    "%autosave 60"
   ]
  },
  {
   "cell_type": "code",
   "execution_count": 2,
   "metadata": {},
   "outputs": [],
   "source": [
    "sys.path.insert(0,'/home/albert/lib/python/AJ-spectre/')\n",
    "from natl60_10_by_10_boxes import boxes\n",
    "import plot_box as pb"
   ]
  },
  {
   "cell_type": "code",
   "execution_count": 3,
   "metadata": {},
   "outputs": [],
   "source": [
    "database = '/media/extra/DATA/NATL60/NATL60-CJM165-S/'\n",
    "march_buoyfiles = sorted(glob.glob(database + 'filt-3D/NATL60-CJM165_y2013m03d*.1d_buoyancy_filt-n80-f0.0125.nc'))\n",
    "march_wfiles = sorted(glob.glob(database + 'filt-3D/NATL60-CJM165_y2013m03d*.1d_vovecrtz_filt-n80-f0.0125.nc'))\n",
    "sept_buoyfiles = sorted(glob.glob(database + 'filt-3D/NATL60-CJM165_y2013m09d*.1d_buoyancy_filt-n80-f0.0125.nc'))\n",
    "sept_wfiles = sorted(glob.glob(database + 'filt-3D/NATL60-CJM165_y2013m09d*.1d_vovecrtz_filt-n80-f0.0125.nc'))\n",
    "maskfile= '/media/extra/DATA/NATL60/NATL60-I/NATL60_v4.1_cdf_byte_mask.nc'"
   ]
  },
  {
   "cell_type": "code",
   "execution_count": 4,
   "metadata": {},
   "outputs": [],
   "source": [
    "dep=xr.open_dataset(march_buoyfiles[0])['deptht']"
   ]
  },
  {
   "cell_type": "code",
   "execution_count": 5,
   "metadata": {},
   "outputs": [],
   "source": [
    "def get_values_in_box(box,data):\n",
    "    jmin,jmax = box.jmin,box.jmax\n",
    "    imin,imax = box.imin,box.imax\n",
    "    values = data[:,:,jmin:jmax+1,imin:imax+1]\n",
    "    return values\n"
   ]
  },
  {
   "cell_type": "code",
   "execution_count": 6,
   "metadata": {},
   "outputs": [],
   "source": [
    "def Estimate_wb(box,buoy,w,tmask,wmask):\n",
    "    buoy_box = get_values_in_box(box,buoy)\n",
    "    w_box = get_values_in_box(box,w)  \n",
    "    \n",
    "    tmask_box = get_values_in_box(box,tmask)\n",
    "    wmask_box = get_values_in_box(box,wmask)\n",
    "    \n",
    "    if box.name == 'Box_14':\n",
    "        tmask_box[:,117,820:850,470:500]=0\n",
    "        tmask_box[:,129,485:510,360:400]=0\n",
    "        \n",
    "    if box.name == 'Box_12':\n",
    "        tmask_box[:,49,950:965,10:140]=0\n",
    "        \n",
    "    if box.name == 'Box_11':\n",
    "        tmask_box[:,54,200:225,40:60]=0\n",
    "    \n",
    "    buoy_box_mask=ma.masked_where(tmask_box == 0, buoy_box)\n",
    "    w_box_mask=ma.masked_where(wmask_box == 0, w_box)\n",
    "    \n",
    "    avg_wb_box=np.ones(len(dep))\n",
    "    \n",
    "    for k in np.arange(len(dep)):\n",
    "        avg_wb_box[k] = np.nanmean(buoy_box_mask[0,k,:,:]*w_box_mask[0,k,:,:])\n",
    "    return avg_wb_box"
   ]
  },
  {
   "cell_type": "code",
   "execution_count": 7,
   "metadata": {},
   "outputs": [],
   "source": [
    "def get_wb_in_boxes(buoyfiles,wfiles):\n",
    "    global boxes\n",
    "    _Ann_wb_arr = []\n",
    "    for i in range(len(buoyfiles)): \n",
    "        print buoyfiles[i]\n",
    "        buoy = xr.open_dataset(buoyfiles[i])['sobuoy']\n",
    "        w = xr.open_dataset(wfiles[i])['vovecrtz']\n",
    "        tmask = xr.open_dataset(maskfile)['tmask']\n",
    "        wmask = xr.open_dataset(maskfile)['fmask']\n",
    "        _wb_arr=[]\n",
    "        for box in boxes:\n",
    "            wb = Estimate_wb(box,buoy,w,tmask,wmask)\n",
    "            _wb_arr.append(wb)\n",
    "        wb_arr = np.array(_wb_arr)\n",
    "        _Ann_wb_arr.append(wb_arr)\n",
    "    Ann_wb_arr = np.array(_Ann_wb_arr)\n",
    "    Avg_ann_wb\n",
    "    return Ann_wb_arr"
   ]
  },
  {
   "cell_type": "code",
   "execution_count": null,
   "metadata": {},
   "outputs": [
    {
     "name": "stdout",
     "output_type": "stream",
     "text": [
      "/media/extra/DATA/NATL60/NATL60-CJM165-S/filt-3D/NATL60-CJM165_y2013m03d01.1d_buoyancy_filt-n80-f0.0125.nc\n",
      "/media/extra/DATA/NATL60/NATL60-CJM165-S/filt-3D/NATL60-CJM165_y2013m03d02.1d_buoyancy_filt-n80-f0.0125.nc\n",
      "/media/extra/DATA/NATL60/NATL60-CJM165-S/filt-3D/NATL60-CJM165_y2013m03d03.1d_buoyancy_filt-n80-f0.0125.nc\n",
      "/media/extra/DATA/NATL60/NATL60-CJM165-S/filt-3D/NATL60-CJM165_y2013m03d04.1d_buoyancy_filt-n80-f0.0125.nc\n",
      "/media/extra/DATA/NATL60/NATL60-CJM165-S/filt-3D/NATL60-CJM165_y2013m03d05.1d_buoyancy_filt-n80-f0.0125.nc\n",
      "/media/extra/DATA/NATL60/NATL60-CJM165-S/filt-3D/NATL60-CJM165_y2013m03d06.1d_buoyancy_filt-n80-f0.0125.nc\n",
      "/media/extra/DATA/NATL60/NATL60-CJM165-S/filt-3D/NATL60-CJM165_y2013m03d07.1d_buoyancy_filt-n80-f0.0125.nc\n",
      "/media/extra/DATA/NATL60/NATL60-CJM165-S/filt-3D/NATL60-CJM165_y2013m03d08.1d_buoyancy_filt-n80-f0.0125.nc\n",
      "/media/extra/DATA/NATL60/NATL60-CJM165-S/filt-3D/NATL60-CJM165_y2013m03d09.1d_buoyancy_filt-n80-f0.0125.nc\n",
      "/media/extra/DATA/NATL60/NATL60-CJM165-S/filt-3D/NATL60-CJM165_y2013m03d10.1d_buoyancy_filt-n80-f0.0125.nc\n",
      "/media/extra/DATA/NATL60/NATL60-CJM165-S/filt-3D/NATL60-CJM165_y2013m03d11.1d_buoyancy_filt-n80-f0.0125.nc\n",
      "/media/extra/DATA/NATL60/NATL60-CJM165-S/filt-3D/NATL60-CJM165_y2013m03d12.1d_buoyancy_filt-n80-f0.0125.nc\n"
     ]
    }
   ],
   "source": [
    "wb_boxes_yr = get_wb_in_boxes(march_buoyfiles,march_wfiles)"
   ]
  },
  {
   "cell_type": "code",
   "execution_count": 224,
   "metadata": {},
   "outputs": [
    {
     "name": "stdout",
     "output_type": "stream",
     "text": [
      "Box_14\n",
      "Box_13\n",
      "Box_12\n",
      "Box_11\n",
      "Box_10\n",
      "Box_7\n",
      "Box_6\n",
      "Box_5\n",
      "Box_4\n",
      "Box_3\n",
      "Box_2\n",
      "Box_1\n",
      "Box_9\n",
      "Box_8\n"
     ]
    }
   ],
   "source": [
    "wb_boxes_yr = get_wb_in_boxes(sept_buoyfiles,sept_wfiles)"
   ]
  },
  {
   "cell_type": "code",
   "execution_count": null,
   "metadata": {},
   "outputs": [],
   "source": []
  }
 ],
 "metadata": {
  "kernelspec": {
   "display_name": "Python [Root]",
   "language": "python",
   "name": "Python [Root]"
  },
  "language_info": {
   "codemirror_mode": {
    "name": "ipython",
    "version": 2
   },
   "file_extension": ".py",
   "mimetype": "text/x-python",
   "name": "python",
   "nbconvert_exporter": "python",
   "pygments_lexer": "ipython2",
   "version": "2.7.11"
  }
 },
 "nbformat": 4,
 "nbformat_minor": 1
}
