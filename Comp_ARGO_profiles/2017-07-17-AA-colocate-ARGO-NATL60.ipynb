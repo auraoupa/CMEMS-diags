{
 "cells": [
  {
   "cell_type": "markdown",
   "metadata": {},
   "source": [
    "# Given a date, make a correspondance between 1 ARGO profile and NATL60 outputs"
   ]
  },
  {
   "cell_type": "code",
   "execution_count": 1,
   "metadata": {
    "collapsed": true
   },
   "outputs": [],
   "source": [
    "## path for mdules\n",
    "\n",
    "import sys\n",
    "sys.path.insert(0,\"/home/users/albert6a/lib/python\")"
   ]
  },
  {
   "cell_type": "code",
   "execution_count": 2,
   "metadata": {
    "collapsed": false
   },
   "outputs": [],
   "source": [
    "## imports\n",
    "\n",
    "import numpy as np\n",
    "import dask\n",
    "import xarray as xr\n",
    "from netCDF4 import Dataset\n",
    "import matplotlib.pyplot as plt\n",
    "import pandas as pd \n",
    "%matplotlib inline"
   ]
  },
  {
   "cell_type": "code",
   "execution_count": 3,
   "metadata": {
    "collapsed": false
   },
   "outputs": [
    {
     "name": "stdout",
     "output_type": "stream",
     "text": [
      "/home/users/albert6a/Data/NATL60/NATL60-CJM165_y2012m06d14.1d_gridT.nc\r\n"
     ]
    }
   ],
   "source": [
    "## datasets\n",
    "\n",
    "#NATL60\n",
    "\n",
    "dir=\"/home/users/albert6a/Data/NATL60/\"\n",
    "file=\"NATL60-CJM165_y2012m06d14.1d_gridT.nc\"\n",
    "\n",
    "tfile=dir+file\n",
    "\n",
    "!ls $tfile\n"
   ]
  },
  {
   "cell_type": "code",
   "execution_count": 4,
   "metadata": {
    "collapsed": false
   },
   "outputs": [
    {
     "name": "stdout",
     "output_type": "stream",
     "text": [
      "/home/users/albert6a/Data/ARGO/EN.4.2.0.f.profiles.g10.201206.nc\n",
      "/home/users/albert6a/Data/ARGO/EN.4.2.0.f.profiles.g10.201201.nc\n",
      "/home/users/albert6a/Data/ARGO/EN.4.2.0.f.profiles.g10.201202.nc\n",
      "/home/users/albert6a/Data/ARGO/EN.4.2.0.f.profiles.g10.201203.nc\n",
      "/home/users/albert6a/Data/ARGO/EN.4.2.0.f.profiles.g10.201204.nc\n",
      "/home/users/albert6a/Data/ARGO/EN.4.2.0.f.profiles.g10.201205.nc\n",
      "/home/users/albert6a/Data/ARGO/EN.4.2.0.f.profiles.g10.201206.nc\n",
      "/home/users/albert6a/Data/ARGO/EN.4.2.0.f.profiles.g10.201207.nc\n",
      "/home/users/albert6a/Data/ARGO/EN.4.2.0.f.profiles.g10.201208.nc\n",
      "/home/users/albert6a/Data/ARGO/EN.4.2.0.f.profiles.g10.201209.nc\n",
      "/home/users/albert6a/Data/ARGO/EN.4.2.0.f.profiles.g10.201210.nc\n",
      "/home/users/albert6a/Data/ARGO/EN.4.2.0.f.profiles.g10.201211.nc\n",
      "/home/users/albert6a/Data/ARGO/EN.4.2.0.f.profiles.g10.201212.nc\n"
     ]
    }
   ],
   "source": [
    "#ARGO\n",
    "dir=\"/home/users/albert6a/Data/ARGO/\"\n",
    "file062012=\"EN.4.2.0.f.profiles.g10.201206.nc\"\n",
    "files=\"EN.4.2.0.f.profiles.g10.2012*.nc\"\n",
    "\n",
    "tfile062012=dir+file062012\n",
    "tfiles=dir+files\n",
    "\n",
    "!ls $tfile062012\n",
    "!ls $tfiles\n"
   ]
  },
  {
   "cell_type": "markdown",
   "metadata": {},
   "source": [
    "## Select one ARGO profile sampled at 14/06/2012"
   ]
  },
  {
   "cell_type": "code",
   "execution_count": 5,
   "metadata": {
    "collapsed": false
   },
   "outputs": [],
   "source": [
    "argo062012=xr.open_dataset(tfile062012)\n",
    "dep_ar=argo062012['DEPH_CORRECTED']\n",
    "lat_ar=argo062012['LATITUDE']\n",
    "lon_ar=argo062012['LONGITUDE']\n",
    "temp_ar=argo062012['POTM_CORRECTED']\n",
    "sal_ar=argo062012['PSAL_CORRECTED']\n",
    "day_ar=argo062012['JULD']"
   ]
  },
  {
   "cell_type": "code",
   "execution_count": 7,
   "metadata": {
    "collapsed": false
   },
   "outputs": [
    {
     "data": {
      "text/plain": [
       "array(['2012-06-01T23:59:02.000000000', '2012-06-01T23:58:15.000000000',\n",
       "       '2012-06-01T23:56:29.000000000', ...,\n",
       "       '2012-06-29T18:10:12.000000000', '2012-06-30T11:16:48.000000000',\n",
       "       '2012-06-30T18:15:00.000000000'], dtype='datetime64[ns]')"
      ]
     },
     "execution_count": 7,
     "metadata": {},
     "output_type": "execute_result"
    }
   ],
   "source": [
    "date=day_ar.values[:]\n",
    "date"
   ]
  },
  {
   "cell_type": "code",
   "execution_count": 61,
   "metadata": {
    "collapsed": true
   },
   "outputs": [],
   "source": [
    "def find_date(year,month,tday):\n",
    "    prof=[]\n",
    "    date=day_ar.values[:]\n",
    "    for t in np.arange(0,len(date)):\n",
    "        ts = pd.to_datetime(str(day_ar.values[t])) \n",
    "        dyear=ts.strftime('%Y')\n",
    "        dmonth=ts.strftime('%m')\n",
    "        dday=ts.strftime('%d')\n",
    "        if dyear == year:\n",
    "            if dmonth == month:\n",
    "                if dday == tday:\n",
    "                    prof.append(t)\n",
    "        aprof=np.array(prof)\n",
    "    return aprof\n",
    "                    "
   ]
  },
  {
   "cell_type": "code",
   "execution_count": 62,
   "metadata": {
    "collapsed": false
   },
   "outputs": [],
   "source": [
    "t14=find_date('2012','06','14')"
   ]
  },
  {
   "cell_type": "code",
   "execution_count": 63,
   "metadata": {
    "collapsed": false
   },
   "outputs": [
    {
     "data": {
      "text/plain": [
       "(1508,)"
      ]
     },
     "execution_count": 63,
     "metadata": {},
     "output_type": "execute_result"
    }
   ],
   "source": [
    "t14.shape"
   ]
  },
  {
   "cell_type": "markdown",
   "metadata": {},
   "source": [
    "## Restrict the number of profiles with NATL60 boundaries"
   ]
  },
  {
   "cell_type": "code",
   "execution_count": 64,
   "metadata": {
    "collapsed": true
   },
   "outputs": [],
   "source": [
    "def natl_region(tday):\n",
    "    tlat=[]\n",
    "    for t in np.arange(0,len(tday)):\n",
    "        if lat_ar[tday[t]] > 27:\n",
    "            if lat_ar[tday[t]]<67:\n",
    "                tlat.append(tday[t])\n",
    "    atlat=np.array(tlat)\n",
    "    tlatlon=[]\n",
    "    for t in np.arange(0,len(atlat)):\n",
    "        if lon_ar[atlat[t]] > -87:\n",
    "            if lon_ar[atlat[t]]<17:\n",
    "                tlatlon.append(atlat[t])\n",
    "    atlatlon=np.array(tlatlon)\n",
    "    return atlatlon"
   ]
  },
  {
   "cell_type": "code",
   "execution_count": 65,
   "metadata": {
    "collapsed": false
   },
   "outputs": [],
   "source": [
    "t14natl=natl_region(t14)"
   ]
  },
  {
   "cell_type": "code",
   "execution_count": 66,
   "metadata": {
    "collapsed": false
   },
   "outputs": [
    {
     "data": {
      "text/plain": [
       "(209,)"
      ]
     },
     "execution_count": 66,
     "metadata": {},
     "output_type": "execute_result"
    }
   ],
   "source": [
    "t14natl.shape"
   ]
  },
  {
   "cell_type": "markdown",
   "metadata": {},
   "source": [
    "## Plot one of the profile"
   ]
  },
  {
   "cell_type": "code",
   "execution_count": 67,
   "metadata": {
    "collapsed": true
   },
   "outputs": [],
   "source": [
    "def plot_temp_profile(nprof):\n",
    "    plt.plot(temp_ar[nprof,:],-1*dep_ar[nprof,:])\n",
    "    plt.xlabel('Potential temperature')\n",
    "    plt.ylabel('depth')\n",
    "    ts = pd.to_datetime(str(day_ar.values[nprof])) \n",
    "    d = ts.strftime('%Y.%m.%d')\n",
    "    title=\"ARGO profile at lat \"+str(np.trunc(lat_ar.values[nprof]))+\"deg N and lon \"+str(np.trunc(lon_ar.values[nprof]))+\"deg E \"+str(d)\n",
    "    plt.title(title)"
   ]
  },
  {
   "cell_type": "code",
   "execution_count": 68,
   "metadata": {
    "collapsed": false
   },
   "outputs": [
    {
     "data": {
      "image/png": "[encoded data removed]",
      "text/plain": [
       "<matplotlib.figure.Figure at 0x7f5e9aaa6110>"
      ]
     },
     "metadata": {},
     "output_type": "display_data"
    }
   ],
   "source": [
    "plot_temp_profile(t14natl[0])"
   ]
  },
  {
   "cell_type": "code",
   "execution_count": 71,
   "metadata": {
    "collapsed": true
   },
   "outputs": [],
   "source": [
    "def plot_sal_profile(nprof):\n",
    "    plt.plot(sal_ar[nprof,:],-1*dep_ar[nprof,:])\n",
    "    plt.xlabel('Practical salinity')\n",
    "    plt.ylabel('depth')\n",
    "    ts = pd.to_datetime(str(day_ar.values[nprof])) \n",
    "    d = ts.strftime('%Y.%m.%d')\n",
    "    title=\"ARGO profile at lat \"+str(np.trunc(lat_ar.values[nprof]))+\"deg N and lon \"+str(np.trunc(lon_ar.values[nprof]))+\"deg E \"+str(d)\n",
    "    plt.title(title)"
   ]
  },
  {
   "cell_type": "code",
   "execution_count": 72,
   "metadata": {
    "collapsed": false
   },
   "outputs": [
    {
     "data": {
      "image/png": "[encoded data removed]",
      "text/plain": [
       "<matplotlib.figure.Figure at 0x7f5e97c73150>"
      ]
     },
     "metadata": {},
     "output_type": "display_data"
    }
   ],
   "source": [
    "plot_sal_profile(t14natl[0])"
   ]
  },
  {
   "cell_type": "markdown",
   "metadata": {},
   "source": [
    "## Find the equivalent NATL60 region,  +/- 1° , at the surface"
   ]
  },
  {
   "cell_type": "code",
   "execution_count": 73,
   "metadata": {
    "collapsed": false
   },
   "outputs": [],
   "source": [
    "natl60=xr.open_dataset(tfile)\n",
    "dep_nat=natl60['deptht']\n",
    "lat_nat=natl60['nav_lat']\n",
    "lon_nat=natl60['nav_lon']\n",
    "temp_nat=natl60['votemper']\n",
    "sal_nat=natl60['vosaline']\n",
    "day_nat=natl60['time_counter']\n"
   ]
  },
  {
   "cell_type": "code",
   "execution_count": 74,
   "metadata": {
    "collapsed": false
   },
   "outputs": [
    {
     "data": {
      "text/plain": [
       "300"
      ]
     },
     "execution_count": 74,
     "metadata": {},
     "output_type": "execute_result"
    }
   ],
   "source": [
    "len(dep_nat.values)"
   ]
  },
  {
   "cell_type": "code",
   "execution_count": 75,
   "metadata": {
    "collapsed": false
   },
   "outputs": [],
   "source": [
    "latval=lat_nat.values\n",
    "lonval=lon_nat.values\n",
    "tempval=temp_nat[0,0].values\n",
    "salval=sal_nat[0,0].values"
   ]
  },
  {
   "cell_type": "code",
   "execution_count": 76,
   "metadata": {
    "collapsed": false
   },
   "outputs": [
    {
     "data": {
      "text/plain": [
       "(3454, 5422)"
      ]
     },
     "execution_count": 76,
     "metadata": {},
     "output_type": "execute_result"
    }
   ],
   "source": [
    "tempval.shape"
   ]
  },
  {
   "cell_type": "code",
   "execution_count": 40,
   "metadata": {
    "collapsed": false
   },
   "outputs": [],
   "source": [
    "def select_region_temp(latr,lonr):\n",
    "    templat=tempval[np.where(np.abs(latval-latr)<1)]\n",
    "    lonlat=lonval[np.where(np.abs(latval-latr)<1)]\n",
    "    tempr=templat[np.where(np.abs(lonlat-lonr)<1)]\n",
    "    return tempr"
   ]
  },
  {
   "cell_type": "code",
   "execution_count": 77,
   "metadata": {
    "collapsed": false
   },
   "outputs": [],
   "source": [
    "temp37N63W=select_region_temp(37,-63)"
   ]
  },
  {
   "cell_type": "code",
   "execution_count": 78,
   "metadata": {
    "collapsed": false
   },
   "outputs": [
    {
     "name": "stdout",
     "output_type": "stream",
     "text": [
      "taille= (18672,)\n",
      "mean= 23.3423507441\n",
      "min= 19.0094432831\n",
      "max= 25.6885318756\n"
     ]
    }
   ],
   "source": [
    "print 'taille=',temp37N63W.shape\n",
    "print 'mean=',np.mean(temp37N63W)\n",
    "print 'min=',np.min(temp37N63W)\n",
    "print 'max=',np.max(temp37N63W)"
   ]
  },
  {
   "cell_type": "code",
   "execution_count": 79,
   "metadata": {
    "collapsed": true
   },
   "outputs": [],
   "source": [
    "def select_region_sal(latr,lonr):\n",
    "    sallat=salval[np.where(np.abs(latval-latr)<1)]\n",
    "    lonlat=lonval[np.where(np.abs(latval-latr)<1)]\n",
    "    salr=sallat[np.where(np.abs(lonlat-lonr)<1)]\n",
    "    return salr"
   ]
  },
  {
   "cell_type": "code",
   "execution_count": 80,
   "metadata": {
    "collapsed": true
   },
   "outputs": [],
   "source": [
    "sal37N63W=select_region_sal(37,-63)"
   ]
  },
  {
   "cell_type": "code",
   "execution_count": 81,
   "metadata": {
    "collapsed": false
   },
   "outputs": [
    {
     "name": "stdout",
     "output_type": "stream",
     "text": [
      "taille= (18672,)\n",
      "mean= 36.4046774711\n",
      "min= 34.9465904236\n",
      "max= 36.5759429932\n"
     ]
    }
   ],
   "source": [
    "print 'taille=',sal37N63W.shape\n",
    "print 'mean=',np.mean(sal37N63W)\n",
    "print 'min=',np.min(sal37N63W)\n",
    "print 'max=',np.max(sal37N63W)"
   ]
  },
  {
   "cell_type": "markdown",
   "metadata": {},
   "source": [
    "## Loop over depth"
   ]
  },
  {
   "cell_type": "code",
   "execution_count": 87,
   "metadata": {
    "collapsed": true
   },
   "outputs": [],
   "source": [
    "def select_profiles_temp(latr,lonr):\n",
    "    latval=lat_nat.values\n",
    "    lonval=lon_nat.values\n",
    "    mean_prof_temp=np.zeros(len(dep_nat.values))\n",
    "    min_prof_temp=np.zeros(len(dep_nat.values))\n",
    "    max_prof_temp=np.zeros(len(dep_nat.values))\n",
    "    for z in np.arange(len(dep_nat.values)):\n",
    "        tempval=temp_nat[0,z].values\n",
    "        templat=tempval[np.where(np.abs(latval-latr)<1)]\n",
    "        lonlat=lonval[np.where(np.abs(latval-latr)<1)]\n",
    "        tempz=templat[np.where(np.abs(lonlat-lonr)<1)]\n",
    "        mean_prof_temp[z]=np.mean(tempz)\n",
    "        min_prof_temp[z]=np.min(tempz)\n",
    "        max_prof_temp[z]=np.max(tempz)\n",
    "    return mean_prof_temp, min_prof_temp, max_prof_temp\n"
   ]
  },
  {
   "cell_type": "code",
   "execution_count": 88,
   "metadata": {
    "collapsed": false
   },
   "outputs": [],
   "source": [
    "mean_temp37N63W,min_temp37N63W,max_temp37N63W=select_profiles_temp(37,-63)"
   ]
  },
  {
   "cell_type": "code",
   "execution_count": 89,
   "metadata": {
    "collapsed": false
   },
   "outputs": [
    {
     "data": {
      "text/plain": [
       "(300,)"
      ]
     },
     "execution_count": 89,
     "metadata": {},
     "output_type": "execute_result"
    }
   ],
   "source": [
    "mean_temp37N63W.shape"
   ]
  },
  {
   "cell_type": "markdown",
   "metadata": {
    "collapsed": true
   },
   "source": [
    "##Plot All"
   ]
  },
  {
   "cell_type": "code",
   "execution_count": 100,
   "metadata": {
    "collapsed": true
   },
   "outputs": [],
   "source": [
    "def plot_temp_profile_all(nprof,meant,mint,maxt,depmod):\n",
    "    plt.plot(temp_ar[nprof,:],-1*dep_ar[nprof,:])\n",
    "    plt.xlabel('Potential temperature')\n",
    "    plt.ylabel('depth')\n",
    "    plt.plot(meant,-1*depmod,'k-')\n",
    "    plt.plot(mint,-1*depmod,'k.')\n",
    "    plt.plot(maxt,-1*depmod,'k--')\n",
    "    plt.legend(['ARGO','mean NATL60','min NATL60','max NATL60'])\n",
    "    ts = pd.to_datetime(str(day_ar.values[nprof])) \n",
    "    d = ts.strftime('%Y.%m.%d')\n",
    "    title=\"ARGO profile at lat \"+str(np.trunc(lat_ar.values[nprof]))+\"deg N and lon \"+str(np.trunc(lon_ar.values[nprof]))+\"deg E \"+str(d)\n",
    "    plt.title(title)"
   ]
  },
  {
   "cell_type": "code",
   "execution_count": 101,
   "metadata": {
    "collapsed": false
   },
   "outputs": [
    {
     "data": {
      "image/png": "[encoded data removed]",
      "text/plain": [
       "<matplotlib.figure.Figure at 0x7f5e9a9710d0>"
      ]
     },
     "metadata": {},
     "output_type": "display_data"
    }
   ],
   "source": [
    "plot_temp_profile_all(t14natl[0],mean_temp37N63W,min_temp37N63W,max_temp37N63W,dep_nat)"
   ]
  },
  {
   "cell_type": "code",
   "execution_count": 98,
   "metadata": {
    "collapsed": false
   },
   "outputs": [],
   "source": [
    "def select_profiles_sal(latr,lonr):\n",
    "    latval=lat_nat.values\n",
    "    lonval=lon_nat.values\n",
    "    mean_prof_sal=np.zeros(len(dep_nat.values))\n",
    "    min_prof_sal=np.zeros(len(dep_nat.values))\n",
    "    max_prof_sal=np.zeros(len(dep_nat.values))\n",
    "    for z in np.arange(len(dep_nat.values)):\n",
    "        salval=sal_nat[0,z].values\n",
    "        sallat=salval[np.where(np.abs(latval-latr)<1)]\n",
    "        lonlat=lonval[np.where(np.abs(latval-latr)<1)]\n",
    "        salz=sallat[np.where(np.abs(lonlat-lonr)<1)]\n",
    "        mean_prof_sal[z]=np.mean(salz)\n",
    "        min_prof_sal[z]=np.min(salz)\n",
    "        max_prof_sal[z]=np.max(salz)\n",
    "    return mean_prof_sal, min_prof_sal, max_prof_sal\n",
    "mean_sal37N63W,min_sal37N63W,max_sal37N63W=select_profiles_sal(37,-63)\n"
   ]
  },
  {
   "cell_type": "code",
   "execution_count": 99,
   "metadata": {
    "collapsed": false
   },
   "outputs": [
    {
     "data": {
      "image/png": "[encoded data removed]",
      "text/plain": [
       "<matplotlib.figure.Figure at 0x7f5e97f1e590>"
      ]
     },
     "metadata": {},
     "output_type": "display_data"
    }
   ],
   "source": [
    "def plot_sal_profile_all(nprof,meant,mint,maxt,depmod):\n",
    "    plt.plot(sal_ar[nprof,:],-1*dep_ar[nprof,:])\n",
    "    plt.xlabel('Practical salinity')\n",
    "    plt.ylabel('depth')\n",
    "    plt.plot(meant,-1*depmod,'k-')\n",
    "    plt.plot(mint,-1*depmod,'k.')\n",
    "    plt.plot(maxt,-1*depmod,'k--')\n",
    "    plt.legend(['ARGO','mean NATL60','min NATL60','max NATL60'])\n",
    "    ts = pd.to_datetime(str(day_ar.values[nprof])) \n",
    "    d = ts.strftime('%Y.%m.%d')\n",
    "    title=\"ARGO profile at lat \"+str(np.trunc(lat_ar.values[nprof]))+\"deg N and lon \"+str(np.trunc(lon_ar.values[nprof]))+\"deg E \"+str(d)\n",
    "    plt.title(title)\n",
    "plot_sal_profile_all(t14natl[0],mean_sal37N63W,min_sal37N63W,max_sal37N63W,dep_nat)    "
   ]
  },
  {
   "cell_type": "code",
   "execution_count": null,
   "metadata": {
    "collapsed": true
   },
   "outputs": [],
   "source": []
  }
 ],
 "metadata": {
  "kernelspec": {
   "display_name": "Python [Root]",
   "language": "python",
   "name": "Python [Root]"
  },
  "language_info": {
   "codemirror_mode": {
    "name": "ipython",
    "version": 2
   },
   "file_extension": ".py",
   "mimetype": "text/x-python",
   "name": "python",
   "nbconvert_exporter": "python",
   "pygments_lexer": "ipython2",
   "version": "2.7.11"
  }
 },
 "nbformat": 4,
 "nbformat_minor": 0
}
