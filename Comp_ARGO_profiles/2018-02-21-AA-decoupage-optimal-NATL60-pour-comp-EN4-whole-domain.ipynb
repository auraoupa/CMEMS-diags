{
 "cells": [
  {
   "cell_type": "code",
   "execution_count": 1,
   "metadata": {
    "collapsed": false
   },
   "outputs": [
    {
     "name": "stderr",
     "output_type": "stream",
     "text": [
      "/home/albert/anaconda2/lib/python2.7/site-packages/matplotlib/ticker.py:1685: UserWarning: Steps argument should be a sequence of numbers\n",
      "increasing from 1 to 10, inclusive. Behavior with\n",
      "values outside this range is undefined, and will\n",
      "raise a ValueError in future versions of mpl.\n",
      "  warnings.warn('Steps argument should be a sequence of numbers\\n'\n"
     ]
    }
   ],
   "source": [
    "import sys\n",
    "sys.path.insert(0,\"/home/albert7a/lib/python\")\n",
    "\n",
    "\n",
    "## imports\n",
    "\n",
    "import numpy as np\n",
    "import dask\n",
    "import xarray as xr\n",
    "from netCDF4 import Dataset\n",
    "import matplotlib.pyplot as plt\n",
    "import pandas as pd\n",
    "import datetime\n",
    "import glob as glob\n",
    "import matplotlib.gridspec as gridspec\n",
    "from mpl_toolkits.basemap import Basemap\n",
    "import time\n",
    "from dask.diagnostics import ProgressBar\n",
    "from datetime import date\n",
    "import yaml\n",
    "import io\n",
    "import json\n",
    "import cmocean\n",
    "import cartopy.crs as ccrs\n",
    "from cartopy.mpl.gridliner import LONGITUDE_FORMATTER, LATITUDE_FORMATTER\n",
    "import cartopy.feature as cfeature\n",
    "import matplotlib.ticker as mticker\n",
    "\n",
    "%matplotlib inline"
   ]
  },
  {
   "cell_type": "code",
   "execution_count": 2,
   "metadata": {
    "collapsed": true
   },
   "outputs": [],
   "source": [
    "def select_profiles(latmin,latmax,lonmin,lonmax,datemin,datemax):\n",
    "        ''' Identify all the EN4 profiles that fall within the selected zone and period\n",
    "        '''\n",
    "        ## Datasets\n",
    "\n",
    "        #EN4\n",
    "        diren4=\"/media/extra/DATA/EN4/\"\n",
    "\n",
    "        yearmin=datemin[0:4]\n",
    "        monthmin=datemin[5:7]\n",
    "        yearmax=datemax[0:4]\n",
    "        monthmax=datemax[5:7]\n",
    "\n",
    "        list_filesEN4=[]\n",
    "        if yearmin == yearmax:\n",
    "            for m in np.arange(int(monthmin),int(monthmax)+1):\n",
    "                if m < 10:\n",
    "                    list_filesEN4.append('EN.4.2.0.f.profiles.g10.'+yearmin+'0'+str(m)+'.nc')\n",
    "                else:\n",
    "                    list_filesEN4.append('EN.4.2.0.f.profiles.g10.'+yearmin+str(m)+'.nc')\n",
    "        else:\n",
    "            for m in np.arange(int(monthmin),13):\n",
    "                if m < 10:\n",
    "                    list_filesEN4.append('EN.4.2.0.f.profiles.g10.'+yearmin+'0'+str(m)+'.nc')\n",
    "                else:\n",
    "                    list_filesEN4.append('EN.4.2.0.f.profiles.g10.'+yearmin+str(m)+'.nc')\n",
    "            for m in np.arange(1,int(monthmax)+1):\n",
    "                if m < 10:\n",
    "                    list_filesEN4.append('EN.4.2.0.f.profiles.g10.'+yearmax+'0'+str(m)+'.nc')\n",
    "                else:\n",
    "                    list_filesEN4.append('EN.4.2.0.f.profiles.g10.'+yearmax+str(m)+'.nc')\n",
    "\n",
    "        datetmin=pd.to_datetime(datemin)\n",
    "        datetmax=pd.to_datetime(datemax)\n",
    "        ttmin=datetime.datetime(int(datetmin.strftime('%Y')),int(datetmin.strftime('%m')),int(datetmin.strftime('%d')),int(datetmin.strftime('%H')),int(datetmin.strftime('%M')))\n",
    "        ttmax=datetime.datetime(int(datetmax.strftime('%Y')),int(datetmax.strftime('%m')),int(datetmax.strftime('%d')),int(datetmax.strftime('%H')),int(datetmax.strftime('%M')))\n",
    "        tsecmin=(ttmin-datetime.datetime(1958,1,1,0,0)).total_seconds()\n",
    "        tsecmax=(ttmax-datetime.datetime(1958,1,1,0,0)).total_seconds()\n",
    "        nb_profiles=0.\n",
    "        for f in np.arange(len(list_filesEN4)):\n",
    "                fileEN4=list_filesEN4[f]\n",
    "                tfileEN4=diren4+fileEN4\n",
    "\n",
    "                dsen4=xr.open_dataset(tfileEN4)\n",
    "                laten4=dsen4['LATITUDE']\n",
    "                lonen4=dsen4['LONGITUDE']\n",
    "                dayen4=dsen4['JULD']\n",
    "                refen4=dsen4['DC_REFERENCE']\n",
    "\n",
    "                indz=np.where((lonmin<lonen4.values)&(lonen4.values<lonmax)&(latmin<laten4.values)&(laten4.values<latmax))\n",
    "                prof_zone=[]\n",
    "                tsecen4z=[]\n",
    "                nb_profiles=nb_profiles+len(indz[0])\n",
    "        return nb_profiles\n"
   ]
  },
  {
   "cell_type": "code",
   "execution_count": 3,
   "metadata": {
    "collapsed": false
   },
   "outputs": [
    {
     "name": "stdout",
     "output_type": "stream",
     "text": [
      "90549.0\n"
     ]
    }
   ],
   "source": [
    "latmin,latmax,lonmin,lonmax = 27,60,-80,8\n",
    "datemin,datemax = '2012-10-01T00:01','2013-09-30T23:59'\n",
    "\n",
    "nb_profiles_NATL60_1year=select_profiles(latmin,latmax,lonmin,lonmax,datemin,datemax)\n",
    "print nb_profiles_NATL60_1year\n"
   ]
  },
  {
   "cell_type": "code",
   "execution_count": 4,
   "metadata": {
    "collapsed": false
   },
   "outputs": [
    {
     "name": "stderr",
     "output_type": "stream",
     "text": [
      "/home/albert/anaconda2/lib/python2.7/site-packages/ipykernel/__main__.py:6: VisibleDeprecationWarning: using a non-integer number instead of an integer will result in an error in the future\n",
      "/home/albert/anaconda2/lib/python2.7/site-packages/ipykernel/__main__.py:15: VisibleDeprecationWarning: using a non-integer number instead of an integer will result in an error in the future\n",
      "/home/albert/anaconda2/lib/python2.7/site-packages/ipykernel/__main__.py:16: VisibleDeprecationWarning: using a non-integer number instead of an integer will result in an error in the future\n",
      "/home/albert/anaconda2/lib/python2.7/site-packages/ipykernel/__main__.py:17: VisibleDeprecationWarning: using a non-integer number instead of an integer will result in an error in the future\n"
     ]
    },
    {
     "ename": "KeyboardInterrupt",
     "evalue": "",
     "output_type": "error",
     "traceback": [
      "\u001b[1;31m---------------------------------------------------------------------------\u001b[0m",
      "\u001b[1;31mKeyboardInterrupt\u001b[0m                         Traceback (most recent call last)",
      "\u001b[1;32m<ipython-input-4-7337f366cc9f>\u001b[0m in \u001b[0;36m<module>\u001b[1;34m()\u001b[0m\n\u001b[0;32m     12\u001b[0m         \u001b[0mlon1\u001b[0m\u001b[1;33m=\u001b[0m\u001b[0mlonmin\u001b[0m\u001b[1;33m+\u001b[0m\u001b[1;36m0.5\u001b[0m\u001b[1;33m*\u001b[0m\u001b[0mi\u001b[0m\u001b[1;33m\u001b[0m\u001b[0m\n\u001b[0;32m     13\u001b[0m         \u001b[0mlon2\u001b[0m\u001b[1;33m=\u001b[0m\u001b[0mlonmin\u001b[0m\u001b[1;33m+\u001b[0m\u001b[1;36m0.5\u001b[0m\u001b[1;33m*\u001b[0m\u001b[1;33m(\u001b[0m\u001b[0mi\u001b[0m\u001b[1;33m+\u001b[0m\u001b[1;36m1.\u001b[0m\u001b[1;33m)\u001b[0m\u001b[1;33m\u001b[0m\u001b[0m\n\u001b[1;32m---> 14\u001b[1;33m         \u001b[0mnb\u001b[0m\u001b[1;33m=\u001b[0m\u001b[0mselect_profiles\u001b[0m\u001b[1;33m(\u001b[0m\u001b[0mlat1\u001b[0m\u001b[1;33m,\u001b[0m\u001b[0mlat2\u001b[0m\u001b[1;33m,\u001b[0m\u001b[0mlon1\u001b[0m\u001b[1;33m,\u001b[0m\u001b[0mlon2\u001b[0m\u001b[1;33m,\u001b[0m\u001b[0mdatemin\u001b[0m\u001b[1;33m,\u001b[0m\u001b[0mdatemax\u001b[0m\u001b[1;33m)\u001b[0m\u001b[1;33m\u001b[0m\u001b[0m\n\u001b[0m\u001b[0;32m     15\u001b[0m         \u001b[0mnb_prof_box05_1year\u001b[0m\u001b[1;33m[\u001b[0m\u001b[0mi\u001b[0m\u001b[1;33m,\u001b[0m\u001b[0mj\u001b[0m\u001b[1;33m,\u001b[0m\u001b[1;36m0\u001b[0m\u001b[1;33m]\u001b[0m\u001b[1;33m=\u001b[0m\u001b[0mnb\u001b[0m\u001b[1;33m\u001b[0m\u001b[0m\n\u001b[0;32m     16\u001b[0m         \u001b[0mnb_prof_box05_1year\u001b[0m\u001b[1;33m[\u001b[0m\u001b[0mi\u001b[0m\u001b[1;33m,\u001b[0m\u001b[0mj\u001b[0m\u001b[1;33m,\u001b[0m\u001b[1;36m1\u001b[0m\u001b[1;33m]\u001b[0m\u001b[1;33m=\u001b[0m\u001b[1;36m0.5\u001b[0m\u001b[1;33m*\u001b[0m\u001b[1;33m(\u001b[0m\u001b[0mlat2\u001b[0m\u001b[1;33m+\u001b[0m\u001b[0mlat1\u001b[0m\u001b[1;33m)\u001b[0m\u001b[1;33m\u001b[0m\u001b[0m\n",
      "\u001b[1;32m<ipython-input-2-96971ec7b5b9>\u001b[0m in \u001b[0;36mselect_profiles\u001b[1;34m(latmin, latmax, lonmin, lonmax, datemin, datemax)\u001b[0m\n\u001b[0;32m     42\u001b[0m                 \u001b[0mtfileEN4\u001b[0m\u001b[1;33m=\u001b[0m\u001b[0mdiren4\u001b[0m\u001b[1;33m+\u001b[0m\u001b[0mfileEN4\u001b[0m\u001b[1;33m\u001b[0m\u001b[0m\n\u001b[0;32m     43\u001b[0m \u001b[1;33m\u001b[0m\u001b[0m\n\u001b[1;32m---> 44\u001b[1;33m                 \u001b[0mdsen4\u001b[0m\u001b[1;33m=\u001b[0m\u001b[0mxr\u001b[0m\u001b[1;33m.\u001b[0m\u001b[0mopen_dataset\u001b[0m\u001b[1;33m(\u001b[0m\u001b[0mtfileEN4\u001b[0m\u001b[1;33m)\u001b[0m\u001b[1;33m\u001b[0m\u001b[0m\n\u001b[0m\u001b[0;32m     45\u001b[0m                 \u001b[0mlaten4\u001b[0m\u001b[1;33m=\u001b[0m\u001b[0mdsen4\u001b[0m\u001b[1;33m[\u001b[0m\u001b[1;34m'LATITUDE'\u001b[0m\u001b[1;33m]\u001b[0m\u001b[1;33m\u001b[0m\u001b[0m\n\u001b[0;32m     46\u001b[0m                 \u001b[0mlonen4\u001b[0m\u001b[1;33m=\u001b[0m\u001b[0mdsen4\u001b[0m\u001b[1;33m[\u001b[0m\u001b[1;34m'LONGITUDE'\u001b[0m\u001b[1;33m]\u001b[0m\u001b[1;33m\u001b[0m\u001b[0m\n",
      "\u001b[1;32m/home/albert/anaconda2/lib/python2.7/site-packages/xarray/backends/api.pyc\u001b[0m in \u001b[0;36mopen_dataset\u001b[1;34m(filename_or_obj, group, decode_cf, mask_and_scale, decode_times, concat_characters, decode_coords, engine, chunks, lock, cache, drop_variables)\u001b[0m\n\u001b[0;32m    300\u001b[0m             \u001b[0mlock\u001b[0m \u001b[1;33m=\u001b[0m \u001b[0m_default_lock\u001b[0m\u001b[1;33m(\u001b[0m\u001b[0mfilename_or_obj\u001b[0m\u001b[1;33m,\u001b[0m \u001b[0mengine\u001b[0m\u001b[1;33m)\u001b[0m\u001b[1;33m\u001b[0m\u001b[0m\n\u001b[0;32m    301\u001b[0m         \u001b[1;32mwith\u001b[0m \u001b[0mclose_on_error\u001b[0m\u001b[1;33m(\u001b[0m\u001b[0mstore\u001b[0m\u001b[1;33m)\u001b[0m\u001b[1;33m:\u001b[0m\u001b[1;33m\u001b[0m\u001b[0m\n\u001b[1;32m--> 302\u001b[1;33m             \u001b[1;32mreturn\u001b[0m \u001b[0mmaybe_decode_store\u001b[0m\u001b[1;33m(\u001b[0m\u001b[0mstore\u001b[0m\u001b[1;33m,\u001b[0m \u001b[0mlock\u001b[0m\u001b[1;33m)\u001b[0m\u001b[1;33m\u001b[0m\u001b[0m\n\u001b[0m\u001b[0;32m    303\u001b[0m     \u001b[1;32melse\u001b[0m\u001b[1;33m:\u001b[0m\u001b[1;33m\u001b[0m\u001b[0m\n\u001b[0;32m    304\u001b[0m         \u001b[1;32mif\u001b[0m \u001b[0mengine\u001b[0m \u001b[1;32mis\u001b[0m \u001b[1;32mnot\u001b[0m \u001b[0mNone\u001b[0m \u001b[1;32mand\u001b[0m \u001b[0mengine\u001b[0m \u001b[1;33m!=\u001b[0m \u001b[1;34m'scipy'\u001b[0m\u001b[1;33m:\u001b[0m\u001b[1;33m\u001b[0m\u001b[0m\n",
      "\u001b[1;32m/home/albert/anaconda2/lib/python2.7/site-packages/xarray/backends/api.pyc\u001b[0m in \u001b[0;36mmaybe_decode_store\u001b[1;34m(store, lock)\u001b[0m\n\u001b[0;32m    221\u001b[0m             \u001b[0mstore\u001b[0m\u001b[1;33m,\u001b[0m \u001b[0mmask_and_scale\u001b[0m\u001b[1;33m=\u001b[0m\u001b[0mmask_and_scale\u001b[0m\u001b[1;33m,\u001b[0m \u001b[0mdecode_times\u001b[0m\u001b[1;33m=\u001b[0m\u001b[0mdecode_times\u001b[0m\u001b[1;33m,\u001b[0m\u001b[1;33m\u001b[0m\u001b[0m\n\u001b[0;32m    222\u001b[0m             \u001b[0mconcat_characters\u001b[0m\u001b[1;33m=\u001b[0m\u001b[0mconcat_characters\u001b[0m\u001b[1;33m,\u001b[0m \u001b[0mdecode_coords\u001b[0m\u001b[1;33m=\u001b[0m\u001b[0mdecode_coords\u001b[0m\u001b[1;33m,\u001b[0m\u001b[1;33m\u001b[0m\u001b[0m\n\u001b[1;32m--> 223\u001b[1;33m             drop_variables=drop_variables)\n\u001b[0m\u001b[0;32m    224\u001b[0m \u001b[1;33m\u001b[0m\u001b[0m\n\u001b[0;32m    225\u001b[0m         \u001b[0m_protect_dataset_variables_inplace\u001b[0m\u001b[1;33m(\u001b[0m\u001b[0mds\u001b[0m\u001b[1;33m,\u001b[0m \u001b[0mcache\u001b[0m\u001b[1;33m)\u001b[0m\u001b[1;33m\u001b[0m\u001b[0m\n",
      "\u001b[1;32m/home/albert/anaconda2/lib/python2.7/site-packages/xarray/conventions.pyc\u001b[0m in \u001b[0;36mdecode_cf\u001b[1;34m(obj, concat_characters, mask_and_scale, decode_times, decode_coords, drop_variables)\u001b[0m\n\u001b[0;32m    949\u001b[0m     vars, attrs, coord_names = decode_cf_variables(\n\u001b[0;32m    950\u001b[0m         \u001b[0mvars\u001b[0m\u001b[1;33m,\u001b[0m \u001b[0mattrs\u001b[0m\u001b[1;33m,\u001b[0m \u001b[0mconcat_characters\u001b[0m\u001b[1;33m,\u001b[0m \u001b[0mmask_and_scale\u001b[0m\u001b[1;33m,\u001b[0m \u001b[0mdecode_times\u001b[0m\u001b[1;33m,\u001b[0m\u001b[1;33m\u001b[0m\u001b[0m\n\u001b[1;32m--> 951\u001b[1;33m         decode_coords, drop_variables=drop_variables)\n\u001b[0m\u001b[0;32m    952\u001b[0m     \u001b[0mds\u001b[0m \u001b[1;33m=\u001b[0m \u001b[0mDataset\u001b[0m\u001b[1;33m(\u001b[0m\u001b[0mvars\u001b[0m\u001b[1;33m,\u001b[0m \u001b[0mattrs\u001b[0m\u001b[1;33m=\u001b[0m\u001b[0mattrs\u001b[0m\u001b[1;33m)\u001b[0m\u001b[1;33m\u001b[0m\u001b[0m\n\u001b[0;32m    953\u001b[0m     \u001b[0mds\u001b[0m \u001b[1;33m=\u001b[0m \u001b[0mds\u001b[0m\u001b[1;33m.\u001b[0m\u001b[0mset_coords\u001b[0m\u001b[1;33m(\u001b[0m\u001b[0mcoord_names\u001b[0m\u001b[1;33m.\u001b[0m\u001b[0munion\u001b[0m\u001b[1;33m(\u001b[0m\u001b[0mextra_coords\u001b[0m\u001b[1;33m)\u001b[0m\u001b[1;33m.\u001b[0m\u001b[0mintersection\u001b[0m\u001b[1;33m(\u001b[0m\u001b[0mvars\u001b[0m\u001b[1;33m)\u001b[0m\u001b[1;33m)\u001b[0m\u001b[1;33m\u001b[0m\u001b[0m\n",
      "\u001b[1;32m/home/albert/anaconda2/lib/python2.7/site-packages/xarray/conventions.pyc\u001b[0m in \u001b[0;36mdecode_cf_variables\u001b[1;34m(variables, attributes, concat_characters, mask_and_scale, decode_times, decode_coords, drop_variables)\u001b[0m\n\u001b[0;32m    882\u001b[0m         new_vars[k] = decode_cf_variable(\n\u001b[0;32m    883\u001b[0m             \u001b[0mv\u001b[0m\u001b[1;33m,\u001b[0m \u001b[0mconcat_characters\u001b[0m\u001b[1;33m=\u001b[0m\u001b[0mconcat\u001b[0m\u001b[1;33m,\u001b[0m \u001b[0mmask_and_scale\u001b[0m\u001b[1;33m=\u001b[0m\u001b[0mmask_and_scale\u001b[0m\u001b[1;33m,\u001b[0m\u001b[1;33m\u001b[0m\u001b[0m\n\u001b[1;32m--> 884\u001b[1;33m             decode_times=decode_times)\n\u001b[0m\u001b[0;32m    885\u001b[0m         \u001b[1;32mif\u001b[0m \u001b[0mdecode_coords\u001b[0m\u001b[1;33m:\u001b[0m\u001b[1;33m\u001b[0m\u001b[0m\n\u001b[0;32m    886\u001b[0m             \u001b[0mvar_attrs\u001b[0m \u001b[1;33m=\u001b[0m \u001b[0mnew_vars\u001b[0m\u001b[1;33m[\u001b[0m\u001b[0mk\u001b[0m\u001b[1;33m]\u001b[0m\u001b[1;33m.\u001b[0m\u001b[0mattrs\u001b[0m\u001b[1;33m\u001b[0m\u001b[0m\n",
      "\u001b[1;32m/home/albert/anaconda2/lib/python2.7/site-packages/xarray/conventions.pyc\u001b[0m in \u001b[0;36mdecode_cf_variable\u001b[1;34m(var, concat_characters, mask_and_scale, decode_times, decode_endianness)\u001b[0m\n\u001b[0;32m    779\u001b[0m \u001b[1;33m\u001b[0m\u001b[0m\n\u001b[0;32m    780\u001b[0m     \u001b[1;32mif\u001b[0m \u001b[0mconcat_characters\u001b[0m\u001b[1;33m:\u001b[0m\u001b[1;33m\u001b[0m\u001b[0m\n\u001b[1;32m--> 781\u001b[1;33m         \u001b[1;32mif\u001b[0m \u001b[0mdata\u001b[0m\u001b[1;33m.\u001b[0m\u001b[0mdtype\u001b[0m\u001b[1;33m.\u001b[0m\u001b[0mkind\u001b[0m \u001b[1;33m==\u001b[0m \u001b[1;34m'S'\u001b[0m \u001b[1;32mand\u001b[0m \u001b[0mdata\u001b[0m\u001b[1;33m.\u001b[0m\u001b[0mdtype\u001b[0m\u001b[1;33m.\u001b[0m\u001b[0mitemsize\u001b[0m \u001b[1;33m==\u001b[0m \u001b[1;36m1\u001b[0m\u001b[1;33m:\u001b[0m\u001b[1;33m\u001b[0m\u001b[0m\n\u001b[0m\u001b[0;32m    782\u001b[0m             \u001b[0mdimensions\u001b[0m \u001b[1;33m=\u001b[0m \u001b[0mdimensions\u001b[0m\u001b[1;33m[\u001b[0m\u001b[1;33m:\u001b[0m\u001b[1;33m-\u001b[0m\u001b[1;36m1\u001b[0m\u001b[1;33m]\u001b[0m\u001b[1;33m\u001b[0m\u001b[0m\n\u001b[0;32m    783\u001b[0m             \u001b[0mdata\u001b[0m \u001b[1;33m=\u001b[0m \u001b[0mCharToStringArray\u001b[0m\u001b[1;33m(\u001b[0m\u001b[0mdata\u001b[0m\u001b[1;33m)\u001b[0m\u001b[1;33m\u001b[0m\u001b[0m\n",
      "\u001b[1;32m/home/albert/anaconda2/lib/python2.7/site-packages/xarray/core/utils.pyc\u001b[0m in \u001b[0;36mdtype\u001b[1;34m(self)\u001b[0m\n\u001b[0;32m    408\u001b[0m     \u001b[1;33m@\u001b[0m\u001b[0mproperty\u001b[0m\u001b[1;33m\u001b[0m\u001b[0m\n\u001b[0;32m    409\u001b[0m     \u001b[1;32mdef\u001b[0m \u001b[0mdtype\u001b[0m\u001b[1;33m(\u001b[0m\u001b[0mself\u001b[0m\u001b[1;33m)\u001b[0m\u001b[1;33m:\u001b[0m\u001b[1;33m\u001b[0m\u001b[0m\n\u001b[1;32m--> 410\u001b[1;33m         \u001b[1;32mreturn\u001b[0m \u001b[0mself\u001b[0m\u001b[1;33m.\u001b[0m\u001b[0marray\u001b[0m\u001b[1;33m.\u001b[0m\u001b[0mdtype\u001b[0m\u001b[1;33m\u001b[0m\u001b[0m\n\u001b[0m\u001b[0;32m    411\u001b[0m \u001b[1;33m\u001b[0m\u001b[0m\n\u001b[0;32m    412\u001b[0m     \u001b[1;33m@\u001b[0m\u001b[0mproperty\u001b[0m\u001b[1;33m\u001b[0m\u001b[0m\n",
      "\u001b[1;32m/home/albert/anaconda2/lib/python2.7/site-packages/xarray/backends/netCDF4_.pyc\u001b[0m in \u001b[0;36mdtype\u001b[1;34m(self)\u001b[0m\n\u001b[0;32m     37\u001b[0m     \u001b[1;33m@\u001b[0m\u001b[0mproperty\u001b[0m\u001b[1;33m\u001b[0m\u001b[0m\n\u001b[0;32m     38\u001b[0m     \u001b[1;32mdef\u001b[0m \u001b[0mdtype\u001b[0m\u001b[1;33m(\u001b[0m\u001b[0mself\u001b[0m\u001b[1;33m)\u001b[0m\u001b[1;33m:\u001b[0m\u001b[1;33m\u001b[0m\u001b[0m\n\u001b[1;32m---> 39\u001b[1;33m         \u001b[0mdtype\u001b[0m \u001b[1;33m=\u001b[0m \u001b[0mself\u001b[0m\u001b[1;33m.\u001b[0m\u001b[0marray\u001b[0m\u001b[1;33m.\u001b[0m\u001b[0mdtype\u001b[0m\u001b[1;33m\u001b[0m\u001b[0m\n\u001b[0m\u001b[0;32m     40\u001b[0m         \u001b[1;32mif\u001b[0m \u001b[0mdtype\u001b[0m \u001b[1;32mis\u001b[0m \u001b[0mstr\u001b[0m\u001b[1;33m:\u001b[0m\u001b[1;33m\u001b[0m\u001b[0m\n\u001b[0;32m     41\u001b[0m             \u001b[1;31m# return object dtype because that's the only way in numpy to\u001b[0m\u001b[1;33m\u001b[0m\u001b[1;33m\u001b[0m\u001b[0m\n",
      "\u001b[1;32m/home/albert/anaconda2/lib/python2.7/site-packages/xarray/backends/netCDF4_.pyc\u001b[0m in \u001b[0;36marray\u001b[1;34m(self)\u001b[0m\n\u001b[0;32m     33\u001b[0m     \u001b[1;33m@\u001b[0m\u001b[0mproperty\u001b[0m\u001b[1;33m\u001b[0m\u001b[0m\n\u001b[0;32m     34\u001b[0m     \u001b[1;32mdef\u001b[0m \u001b[0marray\u001b[0m\u001b[1;33m(\u001b[0m\u001b[0mself\u001b[0m\u001b[1;33m)\u001b[0m\u001b[1;33m:\u001b[0m\u001b[1;33m\u001b[0m\u001b[0m\n\u001b[1;32m---> 35\u001b[1;33m         \u001b[1;32mreturn\u001b[0m \u001b[0mself\u001b[0m\u001b[1;33m.\u001b[0m\u001b[0mdatastore\u001b[0m\u001b[1;33m.\u001b[0m\u001b[0mds\u001b[0m\u001b[1;33m.\u001b[0m\u001b[0mvariables\u001b[0m\u001b[1;33m[\u001b[0m\u001b[0mself\u001b[0m\u001b[1;33m.\u001b[0m\u001b[0mvariable_name\u001b[0m\u001b[1;33m]\u001b[0m\u001b[1;33m\u001b[0m\u001b[0m\n\u001b[0m\u001b[0;32m     36\u001b[0m \u001b[1;33m\u001b[0m\u001b[0m\n\u001b[0;32m     37\u001b[0m     \u001b[1;33m@\u001b[0m\u001b[0mproperty\u001b[0m\u001b[1;33m\u001b[0m\u001b[0m\n",
      "\u001b[1;31mKeyboardInterrupt\u001b[0m: "
     ]
    }
   ],
   "source": [
    "#quadrillage tous les 0.5°\n",
    "\n",
    "Xbox=(lonmax-lonmin+1)/0.5\n",
    "Ybox=(latmax-latmin+1)/0.5\n",
    "\n",
    "nb_prof_box05_1year=np.zeros((Xbox,Ybox,3))\n",
    "\n",
    "for i in np.arange(Xbox):\n",
    "    for j in np.arange(Ybox):\n",
    "        lat1=latmin+0.5*j\n",
    "        lat2=latmin+0.5*(j+1.)\n",
    "        lon1=lonmin+0.5*i\n",
    "        lon2=lonmin+0.5*(i+1.)\n",
    "        nb=select_profiles(lat1,lat2,lon1,lon2,datemin,datemax)\n",
    "        nb_prof_box05_1year[i,j,0]=nb\n",
    "        nb_prof_box05_1year[i,j,1]=0.5*(lat2+lat1)\n",
    "        nb_prof_box05_1year[i,j,2]=0.5*(lon1+lon2)\n"
   ]
  },
  {
   "cell_type": "code",
   "execution_count": 6,
   "metadata": {
    "collapsed": false
   },
   "outputs": [
    {
     "data": {
      "text/plain": [
       "(178, 68, 3)"
      ]
     },
     "execution_count": 6,
     "metadata": {},
     "output_type": "execute_result"
    }
   ],
   "source": [
    "nb_prof_box05_1year.shape"
   ]
  },
  {
   "cell_type": "code",
   "execution_count": 7,
   "metadata": {
    "collapsed": false
   },
   "outputs": [
    {
     "data": {
      "text/plain": [
       "4538.0"
      ]
     },
     "execution_count": 7,
     "metadata": {},
     "output_type": "execute_result"
    }
   ],
   "source": [
    "np.nanmax(nb_prof_box05_1year[:,:,0])"
   ]
  },
  {
   "cell_type": "code",
   "execution_count": 8,
   "metadata": {
    "collapsed": false
   },
   "outputs": [
    {
     "data": {
      "image/png": "[encoded data removed]",
      "text/plain": [
       "<matplotlib.figure.Figure at 0x7f76dcaed950>"
      ]
     },
     "metadata": {},
     "output_type": "display_data"
    }
   ],
   "source": [
    "fig = plt.figure(figsize=(15,10))  # (w,h)\n",
    "ax = fig.add_subplot(111,projection=ccrs.PlateCarree(central_longitude=-30))\n",
    "ax.set_extent([-82, 12, 25, 55])\n",
    "cmap=cmocean.cm.amp\n",
    "cmap.set_under(color='white')\n",
    "pcolor=ax.pcolormesh(nb_prof_box05_1year[:,:,2], nb_prof_box05_1year[:,:,1],nb_prof_box05_1year[:,:,0],transform=ccrs.PlateCarree(),cmap=cmap,vmin=1,vmax=100)\n",
    "ax.add_feature(cfeature.LAND,facecolor='black')\n",
    "ax.coastlines()\n",
    "gl=ax.gridlines(crs=ccrs.PlateCarree(), draw_labels=True,\n",
    "                linewidth=2, color='grey', alpha=0.5, linestyle='--')\n",
    "\n",
    "fig.subplots_adjust(right=0.8)\n",
    "gl.xlocator = mticker.FixedLocator([-110,-90,-70,-50,-30,-10,10,30,50,70,90,110])\n",
    "gl.ylocator = mticker.FixedLocator([-10,0,10,20,30,40,50,60,70,80])\n",
    "gl.xformatter = LONGITUDE_FORMATTER\n",
    "gl.yformatter = LATITUDE_FORMATTER\n",
    "gl.xlabel_style = {'size': 15, 'color': 'gray'}\n",
    "gl.ylabel_style = {'size': 15, 'color': 'gray'}\n",
    "cbar = plt.colorbar(pcolor,orientation='horizontal',shrink=0.75)\n",
    "\n",
    "ax.set_title('Nb of profiles',size=17,y=1.08)\n",
    "plt.savefig(\"nb_profiles_decoupage025.png\")"
   ]
  },
  {
   "cell_type": "code",
   "execution_count": 25,
   "metadata": {
    "collapsed": true
   },
   "outputs": [],
   "source": [
    "id100=np.where(nb_prof_box05_1year[:,:,0]>100)\n",
    "id100[0].shape"
   ]
  },
  {
   "cell_type": "code",
   "execution_count": 28,
   "metadata": {
    "collapsed": false
   },
   "outputs": [
    {
     "data": {
      "text/plain": [
       "array([ 1501.,  1188.,   424.,  1360.,  1043.,   353.,  1452.,   464.,\n",
       "         263.,   381.,   563.,   658.,   249.,   219.,   333.,   246.,\n",
       "         275.,   233.,  4192.,   215.,  4294.,   240.,  4206.,  4538.,\n",
       "        2942.,  4255.,   236.,   900.,   631.,   345.,  2171.,  1931.,\n",
       "         388.,   218.,   632.,   430.,   268.,   277.,   324.,   274.,\n",
       "         519.,   461.,   206.,   231.,   285.,   578.,   320.,   377.,\n",
       "         365.,   673.,   421.,   229.,   305.,   364.,   226.,   242.,\n",
       "         286.,   527.,   278.,   546.,   251.,   257.,   683.,   419.,\n",
       "         370.,   302.,   902.,   220.])"
      ]
     },
     "execution_count": 28,
     "metadata": {},
     "output_type": "execute_result"
    }
   ],
   "source": [
    "nb_prof_box05_1year[idgrand[0][:],idgrand[1][:],0]"
   ]
  },
  {
   "cell_type": "code",
   "execution_count": 18,
   "metadata": {
    "collapsed": false
   },
   "outputs": [],
   "source": [
    "id101=np.where(nb_prof_box05_1year[:,:,0]==101)"
   ]
  },
  {
   "cell_type": "code",
   "execution_count": 20,
   "metadata": {
    "collapsed": false
   },
   "outputs": [
    {
     "name": "stdout",
     "output_type": "stream",
     "text": [
      "152 58\n"
     ]
    }
   ],
   "source": [
    "print id101[0][0], id101[1][0]"
   ]
  },
  {
   "cell_type": "code",
   "execution_count": 21,
   "metadata": {
    "collapsed": false
   },
   "outputs": [
    {
     "data": {
      "text/plain": [
       "101.0"
      ]
     },
     "execution_count": 21,
     "metadata": {},
     "output_type": "execute_result"
    }
   ],
   "source": [
    "nb_prof_box05_1year[152,58,0]"
   ]
  },
  {
   "cell_type": "code",
   "execution_count": 22,
   "metadata": {
    "collapsed": false
   },
   "outputs": [
    {
     "data": {
      "text/plain": [
       "56.25"
      ]
     },
     "execution_count": 22,
     "metadata": {},
     "output_type": "execute_result"
    }
   ],
   "source": [
    "nb_prof_box05_1year[152,58,1]"
   ]
  },
  {
   "cell_type": "code",
   "execution_count": 23,
   "metadata": {
    "collapsed": false
   },
   "outputs": [
    {
     "data": {
      "text/plain": [
       "-3.75"
      ]
     },
     "execution_count": 23,
     "metadata": {},
     "output_type": "execute_result"
    }
   ],
   "source": [
    "nb_prof_box05_1year[152,58,2]"
   ]
  },
  {
   "cell_type": "code",
   "execution_count": 24,
   "metadata": {
    "collapsed": false
   },
   "outputs": [
    {
     "name": "stdout",
     "output_type": "stream",
     "text": [
      "101.0\n"
     ]
    }
   ],
   "source": [
    "latmin,latmax,lonmin,lonmax = 56,56.5,-4,-3.5\n",
    "datemin,datemax = '2012-10-01T00:01','2013-09-30T23:59'\n",
    "\n",
    "nb101=select_profiles(latmin,latmax,lonmin,lonmax,datemin,datemax)\n",
    "print nb101\n"
   ]
  },
  {
   "cell_type": "code",
   "execution_count": 29,
   "metadata": {
    "collapsed": false
   },
   "outputs": [
    {
     "name": "stdout",
     "output_type": "stream",
     "text": [
      "169 25\n",
      "nb 206.0\n",
      "lat 39.75\n",
      "lon 4.75\n"
     ]
    }
   ],
   "source": [
    "id206=np.where(nb_prof_box05_1year[:,:,0]==206)\n",
    "print id206[0][0], id206[1][0]\n",
    "print \"nb\", nb_prof_box05_1year[id206[0][0], id206[1][0],0]\n",
    "print \"lat\", nb_prof_box05_1year[id206[0][0], id206[1][0],1]\n",
    "print \"lon\", nb_prof_box05_1year[id206[0][0], id206[1][0],2]"
   ]
  },
  {
   "cell_type": "code",
   "execution_count": 31,
   "metadata": {
    "collapsed": false
   },
   "outputs": [
    {
     "name": "stdout",
     "output_type": "stream",
     "text": [
      "206.0\n"
     ]
    }
   ],
   "source": [
    "latmin,latmax,lonmin,lonmax = 39.5,40,4.5,5\n",
    "datemin,datemax = '2012-10-01T00:01','2013-09-30T23:59'\n",
    "\n",
    "nb206=select_profiles(latmin,latmax,lonmin,lonmax,datemin,datemax)\n",
    "print nb206\n",
    "\n"
   ]
  },
  {
   "cell_type": "code",
   "execution_count": 32,
   "metadata": {
    "collapsed": true
   },
   "outputs": [],
   "source": [
    "idgrand=np.where(nb_prof_box05_1year[:,:,0]>500)"
   ]
  },
  {
   "cell_type": "code",
   "execution_count": 33,
   "metadata": {
    "collapsed": false
   },
   "outputs": [
    {
     "data": {
      "text/plain": [
       "array([ 1501.,  1188.,  1360.,  1043.,  1452.,   563.,   658.,  4192.,\n",
       "        4294.,  4206.,  4538.,  2942.,  4255.,   900.,   631.,  2171.,\n",
       "        1931.,   632.,   519.,   578.,   673.,   527.,   546.,   683.,\n",
       "         902.])"
      ]
     },
     "execution_count": 33,
     "metadata": {},
     "output_type": "execute_result"
    }
   ],
   "source": [
    "nb_prof_box05_1year[idgrand[0][:],idgrand[1][:],0]"
   ]
  },
  {
   "cell_type": "code",
   "execution_count": 34,
   "metadata": {
    "collapsed": false
   },
   "outputs": [
    {
     "name": "stdout",
     "output_type": "stream",
     "text": [
      "168 28\n",
      "nb 519.0\n",
      "lat 41.25\n",
      "lon 4.25\n"
     ]
    }
   ],
   "source": [
    "id519=np.where(nb_prof_box05_1year[:,:,0]==519)\n",
    "print id519[0][0], id519[1][0]\n",
    "print \"nb\", nb_prof_box05_1year[id519[0][0], id519[1][0],0]\n",
    "print \"lat\", nb_prof_box05_1year[id519[0][0], id519[1][0],1]\n",
    "print \"lon\", nb_prof_box05_1year[id519[0][0], id519[1][0],2]"
   ]
  },
  {
   "cell_type": "code",
   "execution_count": 35,
   "metadata": {
    "collapsed": false
   },
   "outputs": [
    {
     "name": "stdout",
     "output_type": "stream",
     "text": [
      "519.0\n"
     ]
    }
   ],
   "source": [
    "latmin,latmax,lonmin,lonmax = 41,41.5,4,4.5\n",
    "datemin,datemax = '2012-10-01T00:01','2013-09-30T23:59'\n",
    "\n",
    "nb519=select_profiles(latmin,latmax,lonmin,lonmax,datemin,datemax)\n",
    "print nb519\n"
   ]
  },
  {
   "cell_type": "code",
   "execution_count": 36,
   "metadata": {
    "collapsed": false
   },
   "outputs": [
    {
     "name": "stdout",
     "output_type": "stream",
     "text": [
      "10 23\n",
      "nb 1043.0\n",
      "lat 38.75\n",
      "lon -74.75\n"
     ]
    }
   ],
   "source": [
    "id1043=np.where(nb_prof_box05_1year[:,:,0]==1043)\n",
    "print id1043[0][0], id1043[1][0]\n",
    "print \"nb\", nb_prof_box05_1year[id1043[0][0], id1043[1][0],0]\n",
    "print \"lat\", nb_prof_box05_1year[id1043[0][0], id1043[1][0],1]\n",
    "print \"lon\", nb_prof_box05_1year[id1043[0][0], id1043[1][0],2]"
   ]
  },
  {
   "cell_type": "code",
   "execution_count": 37,
   "metadata": {
    "collapsed": false
   },
   "outputs": [
    {
     "name": "stdout",
     "output_type": "stream",
     "text": [
      "1043.0\n"
     ]
    }
   ],
   "source": [
    "latmin,latmax,lonmin,lonmax = 38.5,39,-75,-74.5\n",
    "datemin,datemax = '2012-10-01T00:01','2013-09-30T23:59'\n",
    "\n",
    "nb1043=select_profiles(latmin,latmax,lonmin,lonmax,datemin,datemax)\n",
    "print nb1043"
   ]
  },
  {
   "cell_type": "code",
   "execution_count": 38,
   "metadata": {
    "collapsed": true
   },
   "outputs": [],
   "source": [
    "idmax=np.where(nb_prof_box05_1year[:,:,0]==np.nanmax(nb_prof_box05_1year[:,:,0]))"
   ]
  },
  {
   "cell_type": "code",
   "execution_count": 39,
   "metadata": {
    "collapsed": false
   },
   "outputs": [
    {
     "name": "stdout",
     "output_type": "stream",
     "text": [
      "23 34\n",
      "nb 4538.0\n",
      "lat 44.25\n",
      "lon -68.25\n"
     ]
    }
   ],
   "source": [
    "print idmax[0][0], idmax[1][0]\n",
    "print \"nb\", nb_prof_box05_1year[idmax[0][0], idmax[1][0],0]\n",
    "print \"lat\", nb_prof_box05_1year[idmax[0][0], idmax[1][0],1]\n",
    "print \"lon\", nb_prof_box05_1year[idmax[0][0], idmax[1][0],2]"
   ]
  },
  {
   "cell_type": "code",
   "execution_count": 40,
   "metadata": {
    "collapsed": false
   },
   "outputs": [
    {
     "name": "stdout",
     "output_type": "stream",
     "text": [
      "4538.0\n"
     ]
    }
   ],
   "source": [
    "latmin,latmax,lonmin,lonmax = 44,44.5,-68.5,-68\n",
    "datemin,datemax = '2012-10-01T00:01','2013-09-30T23:59'\n",
    "\n",
    "nbmax=select_profiles(latmin,latmax,lonmin,lonmax,datemin,datemax)\n",
    "print nbmax"
   ]
  },
  {
   "cell_type": "code",
   "execution_count": 41,
   "metadata": {
    "collapsed": false
   },
   "outputs": [
    {
     "data": {
      "text/plain": [
       "(178, 68, 3)"
      ]
     },
     "execution_count": 41,
     "metadata": {},
     "output_type": "execute_result"
    }
   ],
   "source": [
    "nb_prof_box05_1year.shape"
   ]
  },
  {
   "cell_type": "code",
   "execution_count": 42,
   "metadata": {
    "collapsed": true
   },
   "outputs": [],
   "source": [
    "idnonzeros=np.where(nb_prof_box05_1year[:,:,0]>0)"
   ]
  },
  {
   "cell_type": "code",
   "execution_count": 43,
   "metadata": {
    "collapsed": false
   },
   "outputs": [
    {
     "data": {
      "text/plain": [
       "(6401,)"
      ]
     },
     "execution_count": 43,
     "metadata": {},
     "output_type": "execute_result"
    }
   ],
   "source": [
    "idnonzeros[0].shape"
   ]
  },
  {
   "cell_type": "code",
   "execution_count": 44,
   "metadata": {
    "collapsed": true
   },
   "outputs": [],
   "source": [
    "idmille=np.where(nb_prof_box05_1year[:,:,0]>1000)"
   ]
  },
  {
   "cell_type": "code",
   "execution_count": 45,
   "metadata": {
    "collapsed": false
   },
   "outputs": [
    {
     "data": {
      "text/plain": [
       "(13,)"
      ]
     },
     "execution_count": 45,
     "metadata": {},
     "output_type": "execute_result"
    }
   ],
   "source": [
    "idmille[0].shape"
   ]
  },
  {
   "cell_type": "code",
   "execution_count": 46,
   "metadata": {
    "collapsed": false
   },
   "outputs": [
    {
     "data": {
      "text/plain": [
       "(102,)"
      ]
     },
     "execution_count": 46,
     "metadata": {},
     "output_type": "execute_result"
    }
   ],
   "source": [
    "idcent=np.where(nb_prof_box05_1year[:,:,0]>100)\n",
    "idcent[0].shape"
   ]
  },
  {
   "cell_type": "code",
   "execution_count": null,
   "metadata": {
    "collapsed": true
   },
   "outputs": [],
   "source": []
  }
 ],
 "metadata": {
  "kernelspec": {
   "display_name": "Python [Root]",
   "language": "python",
   "name": "Python [Root]"
  },
  "language_info": {
   "codemirror_mode": {
    "name": "ipython",
    "version": 2
   },
   "file_extension": ".py",
   "mimetype": "text/x-python",
   "name": "python",
   "nbconvert_exporter": "python",
   "pygments_lexer": "ipython2",
   "version": "2.7.11"
  }
 },
 "nbformat": 4,
 "nbformat_minor": 0
}
