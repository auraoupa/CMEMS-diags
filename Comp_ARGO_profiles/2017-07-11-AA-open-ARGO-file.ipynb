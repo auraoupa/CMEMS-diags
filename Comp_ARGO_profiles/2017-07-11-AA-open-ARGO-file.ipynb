{
 "cells": [
  {
   "cell_type": "markdown",
   "metadata": {},
   "source": [
    "# Opening EN4 files containing ARGO profiles"
   ]
  },
  {
   "cell_type": "code",
   "execution_count": 1,
   "metadata": {
    "collapsed": true
   },
   "outputs": [],
   "source": [
    "## path for mdules\n",
    "\n",
    "import sys\n",
    "sys.path.insert(0,\"/home/users/albert6a/lib/python\")"
   ]
  },
  {
   "cell_type": "code",
   "execution_count": 2,
   "metadata": {
    "collapsed": false
   },
   "outputs": [],
   "source": [
    "## imports\n",
    "\n",
    "import numpy as np\n",
    "import dask\n",
    "import xarray as xr\n",
    "from netCDF4 import Dataset\n",
    "import matplotlib.pyplot as plt\n",
    "import pandas as pd \n",
    "%matplotlib inline"
   ]
  },
  {
   "cell_type": "code",
   "execution_count": 3,
   "metadata": {
    "collapsed": false
   },
   "outputs": [
    {
     "name": "stdout",
     "output_type": "stream",
     "text": [
      "/home/users/albert6a/Data/ARGO/EN.4.2.0.f.profiles.g10.201201.nc\n",
      "/home/users/albert6a/Data/ARGO/EN.4.2.0.f.profiles.g10.201201.nc\n",
      "/home/users/albert6a/Data/ARGO/EN.4.2.0.f.profiles.g10.201202.nc\n",
      "/home/users/albert6a/Data/ARGO/EN.4.2.0.f.profiles.g10.201203.nc\n",
      "/home/users/albert6a/Data/ARGO/EN.4.2.0.f.profiles.g10.201204.nc\n",
      "/home/users/albert6a/Data/ARGO/EN.4.2.0.f.profiles.g10.201205.nc\n",
      "/home/users/albert6a/Data/ARGO/EN.4.2.0.f.profiles.g10.201206.nc\n",
      "/home/users/albert6a/Data/ARGO/EN.4.2.0.f.profiles.g10.201207.nc\n",
      "/home/users/albert6a/Data/ARGO/EN.4.2.0.f.profiles.g10.201208.nc\n",
      "/home/users/albert6a/Data/ARGO/EN.4.2.0.f.profiles.g10.201209.nc\n",
      "/home/users/albert6a/Data/ARGO/EN.4.2.0.f.profiles.g10.201210.nc\n",
      "/home/users/albert6a/Data/ARGO/EN.4.2.0.f.profiles.g10.201211.nc\n",
      "/home/users/albert6a/Data/ARGO/EN.4.2.0.f.profiles.g10.201212.nc\n"
     ]
    }
   ],
   "source": [
    "## datasets\n",
    "\n",
    "dir=\"/home/users/albert6a/Data/ARGO/\"\n",
    "file012012=\"EN.4.2.0.f.profiles.g10.201201.nc\"\n",
    "files=\"EN.4.2.0.f.profiles.g10.2012*.nc\"\n",
    "\n",
    "tfile012012=dir+file012012\n",
    "tfiles=dir+files\n",
    "\n",
    "!ls $tfile012012\n",
    "!ls $tfiles\n"
   ]
  },
  {
   "cell_type": "code",
   "execution_count": 4,
   "metadata": {
    "collapsed": true
   },
   "outputs": [],
   "source": [
    "argo012012=xr.open_dataset(tfile012012)\n",
    "dep=argo012012['DEPH_CORRECTED']\n",
    "lat=argo012012['LATITUDE']\n",
    "lon=argo012012['LONGITUDE']\n",
    "temp=argo012012['POTM_CORRECTED']\n",
    "sal=argo012012['PSAL_CORRECTED']\n",
    "day=argo012012['JULD']\n"
   ]
  },
  {
   "cell_type": "code",
   "execution_count": 5,
   "metadata": {
    "collapsed": false
   },
   "outputs": [
    {
     "data": {
      "text/plain": [
       "(23689, 400)"
      ]
     },
     "execution_count": 5,
     "metadata": {},
     "output_type": "execute_result"
    }
   ],
   "source": [
    "temp.shape"
   ]
  },
  {
   "cell_type": "code",
   "execution_count": 6,
   "metadata": {
    "collapsed": false
   },
   "outputs": [],
   "source": [
    "dday=day.values[0]"
   ]
  },
  {
   "cell_type": "code",
   "execution_count": 7,
   "metadata": {
    "collapsed": false
   },
   "outputs": [
    {
     "data": {
      "text/plain": [
       "<matplotlib.text.Text at 0x7f88a65dfc90>"
      ]
     },
     "execution_count": 7,
     "metadata": {},
     "output_type": "execute_result"
    },
    {
     "data": {
      "image/png": "[encoded data removed]",
      "text/plain": [
       "<matplotlib.figure.Figure at 0x7f88a987d250>"
      ]
     },
     "metadata": {},
     "output_type": "display_data"
    }
   ],
   "source": [
    "plt.plot(temp[0,:],-1*dep[0,:])\n",
    "plt.xlabel('Potential temperature')\n",
    "plt.ylabel('depth')\n",
    "\n",
    "ts = pd.to_datetime(str(day.values[0])) \n",
    "d = ts.strftime('%Y.%m.%d')\n",
    "title=\"ARGO profile at lat \"+str(np.trunc(lat.values[0]))+\"deg N and lon \"+str(np.trunc(lon.values[0]))+\"deg E \"+str(d)\n",
    "plt.title(title)"
   ]
  },
  {
   "cell_type": "code",
   "execution_count": 25,
   "metadata": {
    "collapsed": false
   },
   "outputs": [],
   "source": [
    "def plot_temp_profils(nprof):\n",
    "    plt.plot(temp[nprof,:],-1*dep[nprof,:])\n",
    "    plt.xlabel('Potential temperature')\n",
    "    plt.ylabel('depth')\n",
    "    ts = pd.to_datetime(str(day.values[nprof])) \n",
    "    d = ts.strftime('%Y.%m.%d')\n",
    "    title=\"ARGO profile at lat \"+str(np.trunc(lat.values[nprof]))+\"deg N and lon \"+str(np.trunc(lon.values[nprof]))+\"deg E \"+str(d)\n",
    "    plt.title(title)"
   ]
  },
  {
   "cell_type": "code",
   "execution_count": 26,
   "metadata": {
    "collapsed": false
   },
   "outputs": [],
   "source": [
    "def plot_sal_profils(nprof):\n",
    "    plt.plot(sal[nprof,:],-1*dep[nprof,:])\n",
    "    plt.xlabel('Practical salinity')\n",
    "    plt.ylabel('depth')\n",
    "    ts = pd.to_datetime(str(day.values[nprof])) \n",
    "    d = ts.strftime('%Y.%m.%d')\n",
    "    title=\"ARGO profile at lat \"+str(np.trunc(lat.values[nprof]))+\"deg N and lon \"+str(np.trunc(lon.values[nprof]))+\"deg E \"+str(d)\n",
    "    plt.title(title)"
   ]
  },
  {
   "cell_type": "code",
   "execution_count": 27,
   "metadata": {
    "collapsed": false
   },
   "outputs": [
    {
     "data": {
      "image/png": "[encoded data removed]",
      "text/plain": [
       "<matplotlib.figure.Figure at 0x7f88a634dbd0>"
      ]
     },
     "metadata": {},
     "output_type": "display_data"
    }
   ],
   "source": [
    "plot_temp_profils(100)"
   ]
  },
  {
   "cell_type": "code",
   "execution_count": 11,
   "metadata": {
    "collapsed": false
   },
   "outputs": [
    {
     "data": {
      "image/png": "[encoded data removed]",
      "text/plain": [
       "<matplotlib.figure.Figure at 0x7f88a64d2110>"
      ]
     },
     "metadata": {},
     "output_type": "display_data"
    }
   ],
   "source": [
    "plot_sal_profils(100)"
   ]
  },
  {
   "cell_type": "code",
   "execution_count": 12,
   "metadata": {
    "collapsed": false
   },
   "outputs": [
    {
     "name": "stdout",
     "output_type": "stream",
     "text": [
      "2012 1 2\n"
     ]
    }
   ],
   "source": [
    "ts = pd.to_datetime(str(day.values[100])) \n",
    "d = ts.strftime('%Y.%m.%d')\n",
    "dyear=d[0:4]\n",
    "dmonth=d[6:7]\n",
    "dday=d[9:10]\n",
    "print dyear,dmonth,dday"
   ]
  },
  {
   "cell_type": "code",
   "execution_count": 13,
   "metadata": {
    "collapsed": false
   },
   "outputs": [
    {
     "name": "stdout",
     "output_type": "stream",
     "text": [
      "2012 01 02\n"
     ]
    }
   ],
   "source": [
    "dyear=ts.strftime('%Y')\n",
    "dmonth=ts.strftime('%m')\n",
    "dday=ts.strftime('%d')\n",
    "print dyear,dmonth,dday"
   ]
  },
  {
   "cell_type": "code",
   "execution_count": 14,
   "metadata": {
    "collapsed": false
   },
   "outputs": [
    {
     "data": {
      "text/plain": [
       "<xarray.DataArray 'JULD' (N_PROF: 23689)>\n",
       "array(['2012-01-01T23:52:00.000000000', '2012-01-01T23:26:02.000000000',\n",
       "       '2012-01-01T23:16:54.000000000', ..., '2012-01-31T22:52:48.000000000',\n",
       "       '2012-01-31T22:37:48.000000000', '2012-01-31T23:30:00.000000000'], dtype='datetime64[ns]')\n",
       "Dimensions without coordinates: N_PROF\n",
       "Attributes:\n",
       "    long_name:    julian day (utc) of the station relative to reference_date_...\n",
       "    conventions:  relative julian days with decimal part (as parts of day)\n",
       "    _fillvalue:   99999.0"
      ]
     },
     "execution_count": 14,
     "metadata": {},
     "output_type": "execute_result"
    }
   ],
   "source": [
    "day"
   ]
  },
  {
   "cell_type": "code",
   "execution_count": 15,
   "metadata": {
    "collapsed": false
   },
   "outputs": [
    {
     "data": {
      "text/plain": [
       "23689"
      ]
     },
     "execution_count": 15,
     "metadata": {},
     "output_type": "execute_result"
    }
   ],
   "source": [
    "date=day.values[:]\n",
    "len(date)"
   ]
  },
  {
   "cell_type": "code",
   "execution_count": 16,
   "metadata": {
    "collapsed": false
   },
   "outputs": [],
   "source": [
    "def find_date(year,month,tday):\n",
    "    prof=[]\n",
    "    for t in np.arange(0,len(date)):\n",
    "        ts = pd.to_datetime(str(day.values[t])) \n",
    "        dyear=ts.strftime('%Y')\n",
    "        dmonth=ts.strftime('%m')\n",
    "        dday=ts.strftime('%d')\n",
    "        if dyear == year:\n",
    "            if dmonth == month:\n",
    "                if dday == tday:\n",
    "                    prof.append(t)\n",
    "        aprof=np.array(prof)\n",
    "    return aprof\n",
    "                    "
   ]
  },
  {
   "cell_type": "code",
   "execution_count": 17,
   "metadata": {
    "collapsed": false
   },
   "outputs": [],
   "source": [
    "t06=find_date('2012','01','06')"
   ]
  },
  {
   "cell_type": "code",
   "execution_count": 18,
   "metadata": {
    "collapsed": false
   },
   "outputs": [
    {
     "data": {
      "text/plain": [
       "(787,)"
      ]
     },
     "execution_count": 18,
     "metadata": {},
     "output_type": "execute_result"
    }
   ],
   "source": [
    "t06.shape"
   ]
  },
  {
   "cell_type": "code",
   "execution_count": 19,
   "metadata": {
    "collapsed": true
   },
   "outputs": [],
   "source": [
    "date06=day.values[t06]"
   ]
  },
  {
   "cell_type": "code",
   "execution_count": 20,
   "metadata": {
    "collapsed": false
   },
   "outputs": [
    {
     "data": {
      "text/plain": [
       "(787,)"
      ]
     },
     "execution_count": 20,
     "metadata": {},
     "output_type": "execute_result"
    }
   ],
   "source": [
    "t06.shape"
   ]
  },
  {
   "cell_type": "code",
   "execution_count": 21,
   "metadata": {
    "collapsed": false
   },
   "outputs": [
    {
     "data": {
      "text/plain": [
       "(250,)"
      ]
     },
     "execution_count": 21,
     "metadata": {},
     "output_type": "execute_result"
    }
   ],
   "source": [
    "tlat06=[]\n",
    "for t in np.arange(0,len(t06)):\n",
    "    if lat[t06[t]] > 27:\n",
    "        if lat[t06[t]]<67:\n",
    "            tlat06.append(t06[t])\n",
    "atlat06=np.array(tlat06)\n",
    "atlat06.shape"
   ]
  },
  {
   "cell_type": "code",
   "execution_count": 22,
   "metadata": {
    "collapsed": false
   },
   "outputs": [
    {
     "data": {
      "text/plain": [
       "(117,)"
      ]
     },
     "execution_count": 22,
     "metadata": {},
     "output_type": "execute_result"
    }
   ],
   "source": [
    "tlatlon06=[]\n",
    "for t in np.arange(0,len(atlat06)):\n",
    "    if lon[atlat06[t]] > -87:\n",
    "        if lon[atlat06[t]]<17:\n",
    "            tlatlon06.append(atlat06[t])\n",
    "atlatlon06=np.array(tlatlon06)\n",
    "atlatlon06.shape"
   ]
  },
  {
   "cell_type": "code",
   "execution_count": 23,
   "metadata": {
    "collapsed": false
   },
   "outputs": [
    {
     "data": {
      "text/plain": [
       "array([  455,   456,   459,   462,   463,   467,   468,   472,   473,\n",
       "         475,   477,   479,   480,   481,   482,   483,   485,   486,\n",
       "         496,   497,   501,   507,   508,   513,   515,   517,   518,\n",
       "         520,   523,   524,   527,   528,   530,   533,   534,   536,\n",
       "         538,   544,   545,   552,   553, 11714, 11715, 11716, 11717,\n",
       "       11718, 11719, 11720, 11947, 11948, 11949, 11950, 11951, 11952,\n",
       "       11953, 11970, 11971, 11972, 11973, 12041, 12075, 12076, 12077,\n",
       "       12078, 12082, 12083, 12084, 12102, 12241, 12242, 12243, 12244,\n",
       "       12245, 12246, 12247, 12335, 12336, 12337, 12338, 12339, 12340,\n",
       "       12513, 12514, 12515, 12516, 12574, 12840, 12841, 12842, 12862,\n",
       "       12863, 12896, 12897, 12898, 12929, 12930, 12952, 12953, 12954,\n",
       "       12955, 12956, 13008, 13009, 13010, 13011, 13012, 13139, 13140,\n",
       "       13141, 13142, 13143, 17592, 17601, 17607, 17610, 17614, 17621])"
      ]
     },
     "execution_count": 23,
     "metadata": {},
     "output_type": "execute_result"
    }
   ],
   "source": [
    "atlatlon06[:]"
   ]
  },
  {
   "cell_type": "code",
   "execution_count": 28,
   "metadata": {
    "collapsed": false
   },
   "outputs": [
    {
     "data": {
      "image/png": "[encoded data removed]",
      "text/plain": [
       "<matplotlib.figure.Figure at 0x7f88a642d8d0>"
      ]
     },
     "metadata": {},
     "output_type": "display_data"
    }
   ],
   "source": [
    "plot_temp_profils(455)"
   ]
  },
  {
   "cell_type": "code",
   "execution_count": null,
   "metadata": {
    "collapsed": true
   },
   "outputs": [],
   "source": []
  }
 ],
 "metadata": {
  "kernelspec": {
   "display_name": "Python [Root]",
   "language": "python",
   "name": "Python [Root]"
  },
  "language_info": {
   "codemirror_mode": {
    "name": "ipython",
    "version": 2
   },
   "file_extension": ".py",
   "mimetype": "text/x-python",
   "name": "python",
   "nbconvert_exporter": "python",
   "pygments_lexer": "ipython2",
   "version": "2.7.11"
  }
 },
 "nbformat": 4,
 "nbformat_minor": 0
}
