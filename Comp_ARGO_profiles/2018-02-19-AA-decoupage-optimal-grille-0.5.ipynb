{
 "cells": [
  {
   "cell_type": "code",
   "execution_count": 1,
   "metadata": {
    "collapsed": false
   },
   "outputs": [
    {
     "name": "stderr",
     "output_type": "stream",
     "text": [
      "/home/albert/anaconda2/lib/python2.7/site-packages/matplotlib/ticker.py:1685: UserWarning: Steps argument should be a sequence of numbers\n",
      "increasing from 1 to 10, inclusive. Behavior with\n",
      "values outside this range is undefined, and will\n",
      "raise a ValueError in future versions of mpl.\n",
      "  warnings.warn('Steps argument should be a sequence of numbers\\n'\n"
     ]
    }
   ],
   "source": [
    "import sys\n",
    "sys.path.insert(0,\"/home/albert7a/lib/python\")\n",
    "\n",
    "\n",
    "## imports\n",
    "\n",
    "import numpy as np\n",
    "import dask\n",
    "import xarray as xr\n",
    "from netCDF4 import Dataset\n",
    "import matplotlib.pyplot as plt\n",
    "import pandas as pd\n",
    "import datetime\n",
    "import glob as glob\n",
    "import matplotlib.gridspec as gridspec\n",
    "from mpl_toolkits.basemap import Basemap\n",
    "import time\n",
    "from dask.diagnostics import ProgressBar\n",
    "from datetime import date\n",
    "import yaml\n",
    "import io\n",
    "import json\n",
    "import cmocean\n",
    "import cartopy.crs as ccrs\n",
    "from cartopy.mpl.gridliner import LONGITUDE_FORMATTER, LATITUDE_FORMATTER\n",
    "import cartopy.feature as cfeature\n",
    "import matplotlib.ticker as mticker\n",
    "\n",
    "%matplotlib inline"
   ]
  },
  {
   "cell_type": "code",
   "execution_count": 122,
   "metadata": {
    "collapsed": true
   },
   "outputs": [],
   "source": [
    "def select_profiles(latmin,latmax,lonmin,lonmax,datemin,datemax):\n",
    "        ''' Identify all the EN4 profiles that fall within the selected zone and period\n",
    "        '''\n",
    "        ## Datasets\n",
    "\n",
    "        #EN4\n",
    "        diren4=\"/media/extra/DATA/EN4/\"\n",
    "\n",
    "        yearmin=datemin[0:4]\n",
    "        monthmin=datemin[5:7]\n",
    "        yearmax=datemax[0:4]\n",
    "        monthmax=datemax[5:7]\n",
    "\n",
    "        list_filesEN4=[]\n",
    "        if yearmin == yearmax:\n",
    "            for m in np.arange(int(monthmin),int(monthmax)+1):\n",
    "                if m < 10:\n",
    "                    list_filesEN4.append('EN.4.2.0.f.profiles.g10.'+yearmin+'0'+str(m)+'.nc')\n",
    "                else:\n",
    "                    list_filesEN4.append('EN.4.2.0.f.profiles.g10.'+yearmin+str(m)+'.nc')\n",
    "        else:\n",
    "            for m in np.arange(int(monthmin),13):\n",
    "                if m < 10:\n",
    "                    list_filesEN4.append('EN.4.2.0.f.profiles.g10.'+yearmin+'0'+str(m)+'.nc')\n",
    "                else:\n",
    "                    list_filesEN4.append('EN.4.2.0.f.profiles.g10.'+yearmin+str(m)+'.nc')\n",
    "            for m in np.arange(1,int(monthmax)+1):\n",
    "                if m < 10:\n",
    "                    list_filesEN4.append('EN.4.2.0.f.profiles.g10.'+yearmax+'0'+str(m)+'.nc')\n",
    "                else:\n",
    "                    list_filesEN4.append('EN.4.2.0.f.profiles.g10.'+yearmax+str(m)+'.nc')\n",
    "\n",
    "        datetmin=pd.to_datetime(datemin)\n",
    "        datetmax=pd.to_datetime(datemax)\n",
    "        ttmin=datetime.datetime(int(datetmin.strftime('%Y')),int(datetmin.strftime('%m')),int(datetmin.strftime('%d')),int(datetmin.strftime('%H')),int(datetmin.strftime('%M')))\n",
    "        ttmax=datetime.datetime(int(datetmax.strftime('%Y')),int(datetmax.strftime('%m')),int(datetmax.strftime('%d')),int(datetmax.strftime('%H')),int(datetmax.strftime('%M')))\n",
    "        tsecmin=(ttmin-datetime.datetime(1958,1,1,0,0)).total_seconds()\n",
    "        tsecmax=(ttmax-datetime.datetime(1958,1,1,0,0)).total_seconds()\n",
    "        nb_profiles=0.\n",
    "        for f in np.arange(len(list_filesEN4)):\n",
    "                fileEN4=list_filesEN4[f]\n",
    "                tfileEN4=diren4+fileEN4\n",
    "\n",
    "                dsen4=xr.open_dataset(tfileEN4)\n",
    "                laten4=dsen4['LATITUDE']\n",
    "                lonen4=dsen4['LONGITUDE']\n",
    "                dayen4=dsen4['JULD']\n",
    "                refen4=dsen4['DC_REFERENCE']\n",
    "\n",
    "                indz=np.where((lonmin<=lonen4.values)&(lonen4.values<lonmax)&(latmin<=laten4.values)&(laten4.values<latmax))\n",
    "                prof_zone=[]\n",
    "                tsecen4z=[]\n",
    "                for ref in np.arange(len(indz[0])):\n",
    "                    dateen4= pd.to_datetime(str(dayen4[indz[0][ref]].values))\n",
    "                    ten4 = datetime.datetime(int(dateen4.strftime('%Y')),int(dateen4.strftime('%m')),int(dateen4.strftime('%d')),int(dateen4.strftime('%H')),int(dateen4.strftime('%M')))\n",
    "                    tsecen4=(ten4-datetime.datetime(1958,1,1,0,0)).total_seconds()\n",
    "                    if (tsecen4 < tsecmax) & (tsecen4 > tsecmin):\n",
    "                        prof_zone.append(indz[0][ref])\n",
    "                        tsecen4z.append(tsecen4)\n",
    "\n",
    "                nb_profiles=nb_profiles+len(prof_zone)\n",
    "        return nb_profiles\n"
   ]
  },
  {
   "cell_type": "code",
   "execution_count": 123,
   "metadata": {
    "collapsed": false
   },
   "outputs": [
    {
     "name": "stdout",
     "output_type": "stream",
     "text": [
      "90544.0\n"
     ]
    }
   ],
   "source": [
    "latmin,latmax,lonmin,lonmax = 27,60,-80,8\n",
    "datemin,datemax = '2012-10-01T00:01','2013-09-30T23:59'\n",
    "\n",
    "nb_profiles_NATL60_1year=select_profiles(latmin,latmax,lonmin,lonmax,datemin,datemax)\n",
    "print nb_profiles_NATL60_1year\n"
   ]
  },
  {
   "cell_type": "code",
   "execution_count": 124,
   "metadata": {
    "collapsed": false
   },
   "outputs": [
    {
     "name": "stderr",
     "output_type": "stream",
     "text": [
      "/home/albert/anaconda2/lib/python2.7/site-packages/ipykernel/__main__.py:6: VisibleDeprecationWarning: using a non-integer number instead of an integer will result in an error in the future\n",
      "/home/albert/anaconda2/lib/python2.7/site-packages/ipykernel/__main__.py:15: VisibleDeprecationWarning: using a non-integer number instead of an integer will result in an error in the future\n",
      "/home/albert/anaconda2/lib/python2.7/site-packages/ipykernel/__main__.py:16: VisibleDeprecationWarning: using a non-integer number instead of an integer will result in an error in the future\n",
      "/home/albert/anaconda2/lib/python2.7/site-packages/ipykernel/__main__.py:17: VisibleDeprecationWarning: using a non-integer number instead of an integer will result in an error in the future\n"
     ]
    }
   ],
   "source": [
    "#quadrillage tous les 0.5°\n",
    "\n",
    "Xbox=(lonmax-lonmin+1)/0.5\n",
    "Ybox=(latmax-latmin+1)/0.5\n",
    "\n",
    "nb_prof_box05_1year=np.zeros((Xbox,Ybox,3))\n",
    "\n",
    "for i in np.arange(Xbox):\n",
    "    for j in np.arange(Ybox):\n",
    "        lat1=latmin+0.5*j\n",
    "        lat2=latmin+0.5*(j+1.)\n",
    "        lon1=lonmin+0.5*i\n",
    "        lon2=lonmin+0.5*(i+1.)\n",
    "        nb=select_profiles(lat1,lat2,lon1,lon2,datemin,datemax)\n",
    "        nb_prof_box05_1year[i,j,0]=nb\n",
    "        nb_prof_box05_1year[i,j,1]=0.5*(lat2+lat1)\n",
    "        nb_prof_box05_1year[i,j,2]=0.5*(lon1+lon2)\n"
   ]
  },
  {
   "cell_type": "code",
   "execution_count": 125,
   "metadata": {
    "collapsed": false
   },
   "outputs": [
    {
     "data": {
      "text/plain": [
       "(178, 68, 3)"
      ]
     },
     "execution_count": 125,
     "metadata": {},
     "output_type": "execute_result"
    }
   ],
   "source": [
    "nb_prof_box05_1year.shape"
   ]
  },
  {
   "cell_type": "code",
   "execution_count": 126,
   "metadata": {
    "collapsed": false
   },
   "outputs": [
    {
     "data": {
      "text/plain": [
       "4538.0"
      ]
     },
     "execution_count": 126,
     "metadata": {},
     "output_type": "execute_result"
    }
   ],
   "source": [
    "np.nanmax(nb_prof_box05_1year[:,:,0])"
   ]
  },
  {
   "cell_type": "code",
   "execution_count": 63,
   "metadata": {
    "collapsed": false
   },
   "outputs": [
    {
     "data": {
      "text/plain": [
       "array([[  2.,   0.,   0., ...,   0.,   0.,   0.],\n",
       "       [  9.,  12.,   0., ...,   0.,   0.,   0.],\n",
       "       [  2.,  33.,   1., ...,   0.,   0.,   0.],\n",
       "       ..., \n",
       "       [  0.,   0.,   0., ...,   0.,   0.,   0.],\n",
       "       [  0.,   0.,   0., ...,   0.,   0.,   0.],\n",
       "       [  0.,   0.,   0., ...,   0.,   0.,   0.]])"
      ]
     },
     "execution_count": 63,
     "metadata": {},
     "output_type": "execute_result"
    }
   ],
   "source": [
    "nb_prof_box05_1year[:,:,0]"
   ]
  },
  {
   "cell_type": "code",
   "execution_count": 64,
   "metadata": {
    "collapsed": false
   },
   "outputs": [
    {
     "name": "stdout",
     "output_type": "stream",
     "text": [
      "2.0\n"
     ]
    }
   ],
   "source": [
    "print nb_prof_box05_1year[0,0,0]"
   ]
  },
  {
   "cell_type": "code",
   "execution_count": 127,
   "metadata": {
    "collapsed": false
   },
   "outputs": [
    {
     "data": {
      "image/png": "[encoded data removed]",
      "text/plain": [
       "<matplotlib.figure.Figure at 0x7f76dcbe75d0>"
      ]
     },
     "metadata": {},
     "output_type": "display_data"
    }
   ],
   "source": [
    "fig = plt.figure(figsize=(15,10))  # (w,h)\n",
    "ax = fig.add_subplot(111,projection=ccrs.PlateCarree(central_longitude=-30))\n",
    "ax.set_extent([-82, 12, 25, 55])\n",
    "cmap=cmocean.cm.amp\n",
    "cmap.set_under(color='white')\n",
    "pcolor=ax.pcolormesh(nb_prof_box05_1year[:,:,2], nb_prof_box05_1year[:,:,1],nb_prof_box05_1year[:,:,0],transform=ccrs.PlateCarree(),cmap=cmap,vmin=1,vmax=100)\n",
    "ax.add_feature(cfeature.LAND,facecolor='black')\n",
    "ax.coastlines()\n",
    "gl=ax.gridlines(crs=ccrs.PlateCarree(), draw_labels=True,\n",
    "                linewidth=2, color='grey', alpha=0.5, linestyle='--')\n",
    "\n",
    "fig.subplots_adjust(right=0.8)\n",
    "gl.xlocator = mticker.FixedLocator([-110,-90,-70,-50,-30,-10,10,30,50,70,90,110])\n",
    "gl.ylocator = mticker.FixedLocator([-10,0,10,20,30,40,50,60,70,80])\n",
    "gl.xformatter = LONGITUDE_FORMATTER\n",
    "gl.yformatter = LATITUDE_FORMATTER\n",
    "gl.xlabel_style = {'size': 15, 'color': 'gray'}\n",
    "gl.ylabel_style = {'size': 15, 'color': 'gray'}\n",
    "cbar = plt.colorbar(pcolor,orientation='horizontal',shrink=0.75)\n",
    "\n",
    "ax.set_title('Nb of profiles',size=17,y=1.08)\n",
    "plt.savefig(\"nb_profiles_decoupage025.png\")"
   ]
  },
  {
   "cell_type": "code",
   "execution_count": 25,
   "metadata": {
    "collapsed": true
   },
   "outputs": [],
   "source": [
    "idgrand=np.where(nb_prof_box05_1year[:,:,0]>200)"
   ]
  },
  {
   "cell_type": "code",
   "execution_count": 26,
   "metadata": {
    "collapsed": false
   },
   "outputs": [
    {
     "data": {
      "text/plain": [
       "(68,)"
      ]
     },
     "execution_count": 26,
     "metadata": {},
     "output_type": "execute_result"
    }
   ],
   "source": [
    "idgrand[0].shape"
   ]
  },
  {
   "cell_type": "code",
   "execution_count": 27,
   "metadata": {
    "collapsed": false
   },
   "outputs": [
    {
     "data": {
      "text/plain": [
       "(68,)"
      ]
     },
     "execution_count": 27,
     "metadata": {},
     "output_type": "execute_result"
    }
   ],
   "source": [
    "idgrand[1].shape"
   ]
  },
  {
   "cell_type": "code",
   "execution_count": 28,
   "metadata": {
    "collapsed": false
   },
   "outputs": [
    {
     "data": {
      "text/plain": [
       "array([ 1501.,  1188.,   424.,  1360.,  1043.,   353.,  1452.,   464.,\n",
       "         263.,   381.,   563.,   658.,   249.,   219.,   333.,   246.,\n",
       "         275.,   233.,  4192.,   215.,  4294.,   240.,  4206.,  4538.,\n",
       "        2942.,  4255.,   236.,   900.,   631.,   345.,  2171.,  1931.,\n",
       "         388.,   218.,   632.,   430.,   268.,   277.,   324.,   274.,\n",
       "         519.,   461.,   206.,   231.,   285.,   578.,   320.,   377.,\n",
       "         365.,   673.,   421.,   229.,   305.,   364.,   226.,   242.,\n",
       "         286.,   527.,   278.,   546.,   251.,   257.,   683.,   419.,\n",
       "         370.,   302.,   902.,   220.])"
      ]
     },
     "execution_count": 28,
     "metadata": {},
     "output_type": "execute_result"
    }
   ],
   "source": [
    "nb_prof_box05_1year[idgrand[0][:],idgrand[1][:],0]"
   ]
  },
  {
   "cell_type": "code",
   "execution_count": 18,
   "metadata": {
    "collapsed": false
   },
   "outputs": [],
   "source": [
    "id101=np.where(nb_prof_box05_1year[:,:,0]==101)"
   ]
  },
  {
   "cell_type": "code",
   "execution_count": 20,
   "metadata": {
    "collapsed": false
   },
   "outputs": [
    {
     "name": "stdout",
     "output_type": "stream",
     "text": [
      "152 58\n"
     ]
    }
   ],
   "source": [
    "print id101[0][0], id101[1][0]"
   ]
  },
  {
   "cell_type": "code",
   "execution_count": 21,
   "metadata": {
    "collapsed": false
   },
   "outputs": [
    {
     "data": {
      "text/plain": [
       "101.0"
      ]
     },
     "execution_count": 21,
     "metadata": {},
     "output_type": "execute_result"
    }
   ],
   "source": [
    "nb_prof_box05_1year[152,58,0]"
   ]
  },
  {
   "cell_type": "code",
   "execution_count": 22,
   "metadata": {
    "collapsed": false
   },
   "outputs": [
    {
     "data": {
      "text/plain": [
       "56.25"
      ]
     },
     "execution_count": 22,
     "metadata": {},
     "output_type": "execute_result"
    }
   ],
   "source": [
    "nb_prof_box05_1year[152,58,1]"
   ]
  },
  {
   "cell_type": "code",
   "execution_count": 23,
   "metadata": {
    "collapsed": false
   },
   "outputs": [
    {
     "data": {
      "text/plain": [
       "-3.75"
      ]
     },
     "execution_count": 23,
     "metadata": {},
     "output_type": "execute_result"
    }
   ],
   "source": [
    "nb_prof_box05_1year[152,58,2]"
   ]
  },
  {
   "cell_type": "code",
   "execution_count": 24,
   "metadata": {
    "collapsed": false
   },
   "outputs": [
    {
     "name": "stdout",
     "output_type": "stream",
     "text": [
      "101.0\n"
     ]
    }
   ],
   "source": [
    "latmin,latmax,lonmin,lonmax = 56,56.5,-4,-3.5\n",
    "datemin,datemax = '2012-10-01T00:01','2013-09-30T23:59'\n",
    "\n",
    "nb101=select_profiles(latmin,latmax,lonmin,lonmax,datemin,datemax)\n",
    "print nb101\n"
   ]
  },
  {
   "cell_type": "code",
   "execution_count": 29,
   "metadata": {
    "collapsed": false
   },
   "outputs": [
    {
     "name": "stdout",
     "output_type": "stream",
     "text": [
      "169 25\n",
      "nb 206.0\n",
      "lat 39.75\n",
      "lon 4.75\n"
     ]
    }
   ],
   "source": [
    "id206=np.where(nb_prof_box05_1year[:,:,0]==206)\n",
    "print id206[0][0], id206[1][0]\n",
    "print \"nb\", nb_prof_box05_1year[id206[0][0], id206[1][0],0]\n",
    "print \"lat\", nb_prof_box05_1year[id206[0][0], id206[1][0],1]\n",
    "print \"lon\", nb_prof_box05_1year[id206[0][0], id206[1][0],2]"
   ]
  },
  {
   "cell_type": "code",
   "execution_count": 31,
   "metadata": {
    "collapsed": false
   },
   "outputs": [
    {
     "name": "stdout",
     "output_type": "stream",
     "text": [
      "206.0\n"
     ]
    }
   ],
   "source": [
    "latmin,latmax,lonmin,lonmax = 39.5,40,4.5,5\n",
    "datemin,datemax = '2012-10-01T00:01','2013-09-30T23:59'\n",
    "\n",
    "nb206=select_profiles(latmin,latmax,lonmin,lonmax,datemin,datemax)\n",
    "print nb206\n",
    "\n"
   ]
  },
  {
   "cell_type": "code",
   "execution_count": 32,
   "metadata": {
    "collapsed": true
   },
   "outputs": [],
   "source": [
    "idgrand=np.where(nb_prof_box05_1year[:,:,0]>500)"
   ]
  },
  {
   "cell_type": "code",
   "execution_count": 33,
   "metadata": {
    "collapsed": false
   },
   "outputs": [
    {
     "data": {
      "text/plain": [
       "array([ 1501.,  1188.,  1360.,  1043.,  1452.,   563.,   658.,  4192.,\n",
       "        4294.,  4206.,  4538.,  2942.,  4255.,   900.,   631.,  2171.,\n",
       "        1931.,   632.,   519.,   578.,   673.,   527.,   546.,   683.,\n",
       "         902.])"
      ]
     },
     "execution_count": 33,
     "metadata": {},
     "output_type": "execute_result"
    }
   ],
   "source": [
    "nb_prof_box05_1year[idgrand[0][:],idgrand[1][:],0]"
   ]
  },
  {
   "cell_type": "code",
   "execution_count": 34,
   "metadata": {
    "collapsed": false
   },
   "outputs": [
    {
     "name": "stdout",
     "output_type": "stream",
     "text": [
      "168 28\n",
      "nb 519.0\n",
      "lat 41.25\n",
      "lon 4.25\n"
     ]
    }
   ],
   "source": [
    "id519=np.where(nb_prof_box05_1year[:,:,0]==519)\n",
    "print id519[0][0], id519[1][0]\n",
    "print \"nb\", nb_prof_box05_1year[id519[0][0], id519[1][0],0]\n",
    "print \"lat\", nb_prof_box05_1year[id519[0][0], id519[1][0],1]\n",
    "print \"lon\", nb_prof_box05_1year[id519[0][0], id519[1][0],2]"
   ]
  },
  {
   "cell_type": "code",
   "execution_count": 35,
   "metadata": {
    "collapsed": false
   },
   "outputs": [
    {
     "name": "stdout",
     "output_type": "stream",
     "text": [
      "519.0\n"
     ]
    }
   ],
   "source": [
    "latmin,latmax,lonmin,lonmax = 41,41.5,4,4.5\n",
    "datemin,datemax = '2012-10-01T00:01','2013-09-30T23:59'\n",
    "\n",
    "nb519=select_profiles(latmin,latmax,lonmin,lonmax,datemin,datemax)\n",
    "print nb519\n"
   ]
  },
  {
   "cell_type": "code",
   "execution_count": 36,
   "metadata": {
    "collapsed": false
   },
   "outputs": [
    {
     "name": "stdout",
     "output_type": "stream",
     "text": [
      "10 23\n",
      "nb 1043.0\n",
      "lat 38.75\n",
      "lon -74.75\n"
     ]
    }
   ],
   "source": [
    "id1043=np.where(nb_prof_box05_1year[:,:,0]==1043)\n",
    "print id1043[0][0], id1043[1][0]\n",
    "print \"nb\", nb_prof_box05_1year[id1043[0][0], id1043[1][0],0]\n",
    "print \"lat\", nb_prof_box05_1year[id1043[0][0], id1043[1][0],1]\n",
    "print \"lon\", nb_prof_box05_1year[id1043[0][0], id1043[1][0],2]"
   ]
  },
  {
   "cell_type": "code",
   "execution_count": 37,
   "metadata": {
    "collapsed": false
   },
   "outputs": [
    {
     "name": "stdout",
     "output_type": "stream",
     "text": [
      "1043.0\n"
     ]
    }
   ],
   "source": [
    "latmin,latmax,lonmin,lonmax = 38.5,39,-75,-74.5\n",
    "datemin,datemax = '2012-10-01T00:01','2013-09-30T23:59'\n",
    "\n",
    "nb1043=select_profiles(latmin,latmax,lonmin,lonmax,datemin,datemax)\n",
    "print nb1043"
   ]
  },
  {
   "cell_type": "code",
   "execution_count": 38,
   "metadata": {
    "collapsed": true
   },
   "outputs": [],
   "source": [
    "idmax=np.where(nb_prof_box05_1year[:,:,0]==np.nanmax(nb_prof_box05_1year[:,:,0]))"
   ]
  },
  {
   "cell_type": "code",
   "execution_count": 39,
   "metadata": {
    "collapsed": false
   },
   "outputs": [
    {
     "name": "stdout",
     "output_type": "stream",
     "text": [
      "23 34\n",
      "nb 4538.0\n",
      "lat 44.25\n",
      "lon -68.25\n"
     ]
    }
   ],
   "source": [
    "print idmax[0][0], idmax[1][0]\n",
    "print \"nb\", nb_prof_box05_1year[idmax[0][0], idmax[1][0],0]\n",
    "print \"lat\", nb_prof_box05_1year[idmax[0][0], idmax[1][0],1]\n",
    "print \"lon\", nb_prof_box05_1year[idmax[0][0], idmax[1][0],2]"
   ]
  },
  {
   "cell_type": "code",
   "execution_count": 40,
   "metadata": {
    "collapsed": false
   },
   "outputs": [
    {
     "name": "stdout",
     "output_type": "stream",
     "text": [
      "4538.0\n"
     ]
    }
   ],
   "source": [
    "latmin,latmax,lonmin,lonmax = 44,44.5,-68.5,-68\n",
    "datemin,datemax = '2012-10-01T00:01','2013-09-30T23:59'\n",
    "\n",
    "nbmax=select_profiles(latmin,latmax,lonmin,lonmax,datemin,datemax)\n",
    "print nbmax"
   ]
  },
  {
   "cell_type": "code",
   "execution_count": 41,
   "metadata": {
    "collapsed": false
   },
   "outputs": [
    {
     "data": {
      "text/plain": [
       "(178, 68, 3)"
      ]
     },
     "execution_count": 41,
     "metadata": {},
     "output_type": "execute_result"
    }
   ],
   "source": [
    "nb_prof_box05_1year.shape"
   ]
  },
  {
   "cell_type": "code",
   "execution_count": 42,
   "metadata": {
    "collapsed": true
   },
   "outputs": [],
   "source": [
    "idnonzeros=np.where(nb_prof_box05_1year[:,:,0]>0)"
   ]
  },
  {
   "cell_type": "code",
   "execution_count": 43,
   "metadata": {
    "collapsed": false
   },
   "outputs": [
    {
     "data": {
      "text/plain": [
       "(6401,)"
      ]
     },
     "execution_count": 43,
     "metadata": {},
     "output_type": "execute_result"
    }
   ],
   "source": [
    "idnonzeros[0].shape"
   ]
  },
  {
   "cell_type": "code",
   "execution_count": 44,
   "metadata": {
    "collapsed": true
   },
   "outputs": [],
   "source": [
    "idmille=np.where(nb_prof_box05_1year[:,:,0]>1000)"
   ]
  },
  {
   "cell_type": "code",
   "execution_count": 45,
   "metadata": {
    "collapsed": false
   },
   "outputs": [
    {
     "data": {
      "text/plain": [
       "(13,)"
      ]
     },
     "execution_count": 45,
     "metadata": {},
     "output_type": "execute_result"
    }
   ],
   "source": [
    "idmille[0].shape"
   ]
  },
  {
   "cell_type": "code",
   "execution_count": 128,
   "metadata": {
    "collapsed": false
   },
   "outputs": [
    {
     "data": {
      "text/plain": [
       "(103,)"
      ]
     },
     "execution_count": 128,
     "metadata": {},
     "output_type": "execute_result"
    }
   ],
   "source": [
    "idcent=np.where(nb_prof_box05_1year[:,:,0]>100)\n",
    "idcent[0].shape"
   ]
  },
  {
   "cell_type": "code",
   "execution_count": 129,
   "metadata": {
    "collapsed": true
   },
   "outputs": [],
   "source": [
    "def list_reference_profiles(list_reference,latmin,latmax,lonmin,lonmax,datemin,datemax):\n",
    "        ''' Identify all the EN4 profiles that fall within the selected zone and period\n",
    "        '''\n",
    "        ## Datasets\n",
    "\n",
    "        #EN4\n",
    "        diren4=\"/media/extra/DATA/EN4/\"\n",
    "\n",
    "        yearmin=datemin[0:4]\n",
    "        monthmin=datemin[5:7]\n",
    "        yearmax=datemax[0:4]\n",
    "        monthmax=datemax[5:7]\n",
    "\n",
    "        list_filesEN4=[]\n",
    "        if yearmin == yearmax:\n",
    "            for m in np.arange(int(monthmin),int(monthmax)+1):\n",
    "                if m < 10:\n",
    "                    list_filesEN4.append('EN.4.2.0.f.profiles.g10.'+yearmin+'0'+str(m)+'.nc')\n",
    "                else:\n",
    "                    list_filesEN4.append('EN.4.2.0.f.profiles.g10.'+yearmin+str(m)+'.nc')\n",
    "        else:\n",
    "            for m in np.arange(int(monthmin),13):\n",
    "                if m < 10:\n",
    "                    list_filesEN4.append('EN.4.2.0.f.profiles.g10.'+yearmin+'0'+str(m)+'.nc')\n",
    "                else:\n",
    "                    list_filesEN4.append('EN.4.2.0.f.profiles.g10.'+yearmin+str(m)+'.nc')\n",
    "            for m in np.arange(1,int(monthmax)+1):\n",
    "                if m < 10:\n",
    "                    list_filesEN4.append('EN.4.2.0.f.profiles.g10.'+yearmax+'0'+str(m)+'.nc')\n",
    "                else:\n",
    "                    list_filesEN4.append('EN.4.2.0.f.profiles.g10.'+yearmax+str(m)+'.nc')\n",
    "\n",
    "        datetmin=pd.to_datetime(datemin)\n",
    "        datetmax=pd.to_datetime(datemax)\n",
    "        ttmin=datetime.datetime(int(datetmin.strftime('%Y')),int(datetmin.strftime('%m')),int(datetmin.strftime('%d')),int(datetmin.strftime('%H')),int(datetmin.strftime('%M')))\n",
    "        ttmax=datetime.datetime(int(datetmax.strftime('%Y')),int(datetmax.strftime('%m')),int(datetmax.strftime('%d')),int(datetmax.strftime('%H')),int(datetmax.strftime('%M')))\n",
    "        tsecmin=(ttmin-datetime.datetime(1958,1,1,0,0)).total_seconds()\n",
    "        tsecmax=(ttmax-datetime.datetime(1958,1,1,0,0)).total_seconds()\n",
    "        nb_profiles=0.\n",
    "        \n",
    "        for f in np.arange(len(list_filesEN4)):\n",
    "                fileEN4=list_filesEN4[f]\n",
    "                tfileEN4=diren4+fileEN4\n",
    "\n",
    "                dsen4=xr.open_dataset(tfileEN4)\n",
    "                laten4=dsen4['LATITUDE']\n",
    "                lonen4=dsen4['LONGITUDE']\n",
    "                dayen4=dsen4['JULD']\n",
    "                refen4=dsen4['DC_REFERENCE']\n",
    "\n",
    "                indz=np.where((lonmin<lonen4.values)&(lonen4.values<lonmax)&(latmin<laten4.values)&(laten4.values<latmax))\n",
    "\n",
    "                prof_zone=[]\n",
    "                tsecen4z=[]\n",
    "\n",
    "                for ref in np.arange(len(indz[0])):\n",
    "                        dateen4= pd.to_datetime(str(dayen4[indz[0][ref]].values))\n",
    "                        ten4 = datetime.datetime(int(dateen4.strftime('%Y')),int(dateen4.strftime('%m')),int(dateen4.strftime('%d')),int(dateen4.strftime('%H')),int(dateen4.strftime('%M')))\n",
    "                        tsecen4=(ten4-datetime.datetime(1958,1,1,0,0)).total_seconds()\n",
    "                        if (tsecen4 < tsecmax) & (tsecen4 > tsecmin):\n",
    "                                prof_zone.append(indz[0][ref])\n",
    "                                tsecen4z.append(tsecen4)\n",
    "\n",
    "                for ref in np.arange(len(prof_zone)):\n",
    "                        list_reference.append(str(refen4[prof_zone[ref]].values))\n",
    "\n",
    "\n",
    "        return list_reference\n"
   ]
  },
  {
   "cell_type": "code",
   "execution_count": 53,
   "metadata": {
    "collapsed": true
   },
   "outputs": [],
   "source": [
    "latmin,latmax,lonmin,lonmax = 44,44.5,-68.5,-68\n",
    "datemin,datemax = '2012-10-01T00:01','2013-09-30T23:59'\n",
    "\n",
    "list_reference=[]\n",
    "list_reference=list_reference_profiles(list_reference,latmin,latmax,lonmin,lonmax,datemin,datemax)\n"
   ]
  },
  {
   "cell_type": "code",
   "execution_count": 54,
   "metadata": {
    "collapsed": false
   },
   "outputs": [
    {
     "data": {
      "text/plain": [
       "4537"
      ]
     },
     "execution_count": 54,
     "metadata": {},
     "output_type": "execute_result"
    }
   ],
   "source": [
    "len(list_reference)"
   ]
  },
  {
   "cell_type": "code",
   "execution_count": 55,
   "metadata": {
    "collapsed": false
   },
   "outputs": [
    {
     "name": "stdout",
     "output_type": "stream",
     "text": [
      "9 21\n",
      "nb 1501.0\n",
      "lat 37.75\n",
      "lon -75.25\n"
     ]
    }
   ],
   "source": [
    "print idcent[0][0], idcent[1][0]\n",
    "print \"nb\", nb_prof_box05_1year[idcent[0][0], idcent[1][0],0]\n",
    "print \"lat\", nb_prof_box05_1year[idcent[0][0], idcent[1][0],1]\n",
    "print \"lon\", nb_prof_box05_1year[idcent[0][0], idcent[1][0],2]"
   ]
  },
  {
   "cell_type": "code",
   "execution_count": 56,
   "metadata": {
    "collapsed": true
   },
   "outputs": [],
   "source": [
    "list_reference=[]\n",
    "\n",
    "\n",
    "latmin,latmax,lonmin,lonmax = 44,44.5,-68.5,-68\n",
    "datemin,datemax = '2012-10-01T00:01','2013-09-30T23:59'\n",
    "list_reference=list_reference_profiles(list_reference,latmin,latmax,lonmin,lonmax,datemin,datemax)\n",
    "\n",
    "latmin,latmax,lonmin,lonmax = 37.5,38,-75.5,-75\n",
    "datemin,datemax = '2012-10-01T00:01','2013-09-30T23:59'\n",
    "list_reference=list_reference_profiles(list_reference,latmin,latmax,lonmin,lonmax,datemin,datemax)\n"
   ]
  },
  {
   "cell_type": "code",
   "execution_count": 57,
   "metadata": {
    "collapsed": false
   },
   "outputs": [
    {
     "data": {
      "text/plain": [
       "6038"
      ]
     },
     "execution_count": 57,
     "metadata": {},
     "output_type": "execute_result"
    }
   ],
   "source": [
    "len(list_reference)"
   ]
  },
  {
   "cell_type": "code",
   "execution_count": 130,
   "metadata": {
    "collapsed": true
   },
   "outputs": [],
   "source": [
    "list_reference=[]\n",
    "\n",
    "for k in np.arange(len(idcent[0])):\n",
    "    latmin=nb_prof_box05_1year[idcent[0][k], idcent[1][k],1]-0.25\n",
    "    latmax=nb_prof_box05_1year[idcent[0][k], idcent[1][k],1]+0.25\n",
    "    lonmin=nb_prof_box05_1year[idcent[0][k], idcent[1][k],2]-0.25\n",
    "    lonmax=nb_prof_box05_1year[idcent[0][k], idcent[1][k],2]+0.25\n",
    "    datemin,datemax = '2012-10-01T00:01','2013-09-30T23:59'\n",
    "    list_reference=list_reference_profiles(list_reference,latmin,latmax,lonmin,lonmax,datemin,datemax)\n"
   ]
  },
  {
   "cell_type": "code",
   "execution_count": 131,
   "metadata": {
    "collapsed": false
   },
   "outputs": [
    {
     "data": {
      "text/plain": [
       "60829"
      ]
     },
     "execution_count": 131,
     "metadata": {},
     "output_type": "execute_result"
    }
   ],
   "source": [
    "len(list_reference)"
   ]
  },
  {
   "cell_type": "code",
   "execution_count": 132,
   "metadata": {
    "collapsed": true
   },
   "outputs": [],
   "source": [
    "def select_profiles_noreference(latmin,latmax,lonmin,lonmax,datemin,datemax,list_reference):\n",
    "        ''' Identify all the EN4 profiles that fall within the selected zone and period\n",
    "        '''\n",
    "        ## Datasets\n",
    "\n",
    "        #EN4\n",
    "        diren4=\"/media/extra/DATA/EN4/\"\n",
    "\n",
    "        yearmin=datemin[0:4]\n",
    "        monthmin=datemin[5:7]\n",
    "        yearmax=datemax[0:4]\n",
    "        monthmax=datemax[5:7]\n",
    "\n",
    "        list_filesEN4=[]\n",
    "        if yearmin == yearmax:\n",
    "            for m in np.arange(int(monthmin),int(monthmax)+1):\n",
    "                if m < 10:\n",
    "                    list_filesEN4.append('EN.4.2.0.f.profiles.g10.'+yearmin+'0'+str(m)+'.nc')\n",
    "                else:\n",
    "                    list_filesEN4.append('EN.4.2.0.f.profiles.g10.'+yearmin+str(m)+'.nc')\n",
    "        else:\n",
    "            for m in np.arange(int(monthmin),13):\n",
    "                if m < 10:\n",
    "                    list_filesEN4.append('EN.4.2.0.f.profiles.g10.'+yearmin+'0'+str(m)+'.nc')\n",
    "                else:\n",
    "                    list_filesEN4.append('EN.4.2.0.f.profiles.g10.'+yearmin+str(m)+'.nc')\n",
    "            for m in np.arange(1,int(monthmax)+1):\n",
    "                if m < 10:\n",
    "                    list_filesEN4.append('EN.4.2.0.f.profiles.g10.'+yearmax+'0'+str(m)+'.nc')\n",
    "                else:\n",
    "                    list_filesEN4.append('EN.4.2.0.f.profiles.g10.'+yearmax+str(m)+'.nc')\n",
    "\n",
    "        datetmin=pd.to_datetime(datemin)\n",
    "        datetmax=pd.to_datetime(datemax)\n",
    "        ttmin=datetime.datetime(int(datetmin.strftime('%Y')),int(datetmin.strftime('%m')),int(datetmin.strftime('%d')),int(datetmin.strftime('%H')),int(datetmin.strftime('%M')))\n",
    "        ttmax=datetime.datetime(int(datetmax.strftime('%Y')),int(datetmax.strftime('%m')),int(datetmax.strftime('%d')),int(datetmax.strftime('%H')),int(datetmax.strftime('%M')))\n",
    "        tsecmin=(ttmin-datetime.datetime(1958,1,1,0,0)).total_seconds()\n",
    "        tsecmax=(ttmax-datetime.datetime(1958,1,1,0,0)).total_seconds()\n",
    "        nb_profiles=0.\n",
    "        for f in np.arange(len(list_filesEN4)):\n",
    "                fileEN4=list_filesEN4[f]\n",
    "                tfileEN4=diren4+fileEN4\n",
    "\n",
    "                dsen4=xr.open_dataset(tfileEN4)\n",
    "                laten4=dsen4['LATITUDE']\n",
    "                lonen4=dsen4['LONGITUDE']\n",
    "                dayen4=dsen4['JULD']\n",
    "                refen4=dsen4['DC_REFERENCE']\n",
    "\n",
    "                indz=np.where((lonmin<=lonen4.values)&(lonen4.values<lonmax)&(latmin<=laten4.values)&(laten4.values<latmax))\n",
    "                prof_zone=[]\n",
    "                tsecen4z=[]\n",
    "                \n",
    "                for ref in np.arange(len(indz[0])):\n",
    "                        dateen4= pd.to_datetime(str(dayen4[indz[0][ref]].values))\n",
    "                        ten4 = datetime.datetime(int(dateen4.strftime('%Y')),int(dateen4.strftime('%m')),int(dateen4.strftime('%d')),int(dateen4.strftime('%H')),int(dateen4.strftime('%M')))\n",
    "                        tsecen4=(ten4-datetime.datetime(1958,1,1,0,0)).total_seconds()\n",
    "                        if (tsecen4 < tsecmax) & (tsecen4 > tsecmin):\n",
    "                                prof_zone.append(indz[0][ref])\n",
    "                                tsecen4z.append(tsecen4)\n",
    "\n",
    "                list_ref=[]\n",
    "                for ref in np.arange(len(prof_zone)):\n",
    "                        if not str(refen4[prof_zone[ref]].values) in list_reference:\n",
    "                            list_ref.append(ref)\n",
    "\n",
    "                nb_profiles=nb_profiles+len(list_ref)\n",
    "        return nb_profiles\n"
   ]
  },
  {
   "cell_type": "code",
   "execution_count": 61,
   "metadata": {
    "collapsed": true
   },
   "outputs": [],
   "source": [
    "latmin,latmax,lonmin,lonmax = 37.5,38,-75.5,-75\n",
    "datemin,datemax = '2012-10-01T00:01','2013-09-30T23:59'\n",
    "nb_profiles=select_profiles_noreference(latmin,latmax,lonmin,lonmax,datemin,datemax,list_reference)"
   ]
  },
  {
   "cell_type": "code",
   "execution_count": 62,
   "metadata": {
    "collapsed": false
   },
   "outputs": [
    {
     "name": "stdout",
     "output_type": "stream",
     "text": [
      "0.0\n"
     ]
    }
   ],
   "source": [
    "print nb_profiles"
   ]
  },
  {
   "cell_type": "code",
   "execution_count": 65,
   "metadata": {
    "collapsed": false
   },
   "outputs": [
    {
     "name": "stdout",
     "output_type": "stream",
     "text": [
      "27.25\n",
      "-79.75\n"
     ]
    }
   ],
   "source": [
    "print nb_prof_box05_1year[0,0,1]\n",
    "print nb_prof_box05_1year[0,0,2]\n"
   ]
  },
  {
   "cell_type": "code",
   "execution_count": 66,
   "metadata": {
    "collapsed": true
   },
   "outputs": [],
   "source": [
    "latmin,latmax,lonmin,lonmax = 27,27.5,-80,-79.5\n",
    "datemin,datemax = '2012-10-01T00:01','2013-09-30T23:59'\n",
    "nb_profiles=select_profiles_noreference(latmin,latmax,lonmin,lonmax,datemin,datemax,list_reference)"
   ]
  },
  {
   "cell_type": "code",
   "execution_count": 67,
   "metadata": {
    "collapsed": false
   },
   "outputs": [
    {
     "name": "stdout",
     "output_type": "stream",
     "text": [
      "2.0\n"
     ]
    }
   ],
   "source": [
    "print nb_profiles"
   ]
  },
  {
   "cell_type": "code",
   "execution_count": 133,
   "metadata": {
    "collapsed": true
   },
   "outputs": [],
   "source": [
    "#quadrillage tous les 1°\n",
    "latmin,latmax,lonmin,lonmax = 27,60,-80,8\n",
    "datemin,datemax = '2012-10-01T00:01','2013-09-30T23:59'\n",
    "\n",
    "Xbox=(lonmax-lonmin+1)\n",
    "Ybox=(latmax-latmin+1)\n",
    "\n",
    "nb_prof_box1_1year=np.zeros((Xbox,Ybox,3))\n",
    "\n",
    "for i in np.arange(Xbox):\n",
    "    for j in np.arange(Ybox):\n",
    "        lat1=latmin+j\n",
    "        lat2=latmin+(j+1.)\n",
    "        lon1=lonmin+i\n",
    "        lon2=lonmin+(i+1.)\n",
    "        nb=select_profiles_noreference(lat1,lat2,lon1,lon2,datemin,datemax,list_reference)\n",
    "        nb_prof_box1_1year[i,j,0]=nb\n",
    "        nb_prof_box1_1year[i,j,1]=0.5*(lat2+lat1)\n",
    "        nb_prof_box1_1year[i,j,2]=0.5*(lon1+lon2)\n"
   ]
  },
  {
   "cell_type": "code",
   "execution_count": 134,
   "metadata": {
    "collapsed": false
   },
   "outputs": [
    {
     "data": {
      "text/plain": [
       "(89, 34, 3)"
      ]
     },
     "execution_count": 134,
     "metadata": {},
     "output_type": "execute_result"
    }
   ],
   "source": [
    "nb_prof_box1_1year.shape"
   ]
  },
  {
   "cell_type": "code",
   "execution_count": 70,
   "metadata": {
    "collapsed": false
   },
   "outputs": [
    {
     "name": "stdout",
     "output_type": "stream",
     "text": [
      "[[ 23.   0.   3. ...,   0.   0.   0.]\n",
      " [ 59.  10.   1. ...,   0.   0.   0.]\n",
      " [ 31.  32.   7. ...,   0.   0.   0.]\n",
      " ..., \n",
      " [  0.   0.   0. ...,  12.   2.  82.]\n",
      " [  0.   0.   0. ...,   1.   0.   8.]\n",
      " [  0.   0.   0. ...,  80.   0.   0.]]\n"
     ]
    }
   ],
   "source": [
    "print nb_prof_box1_1year[:,:,0]"
   ]
  },
  {
   "cell_type": "code",
   "execution_count": 135,
   "metadata": {
    "collapsed": false
   },
   "outputs": [
    {
     "name": "stdout",
     "output_type": "stream",
     "text": [
      "4279.0\n",
      "44.5\n",
      "-68.5\n"
     ]
    }
   ],
   "source": [
    "print np.nanmax(nb_prof_box1_1year[:,:,0])\n",
    "idmax=np.where(nb_prof_box1_1year[:,:,0]==np.nanmax(nb_prof_box1_1year[:,:,0]))\n",
    "print nb_prof_box1_1year[idmax[0][0],idmax[1][0],1]\n",
    "print nb_prof_box1_1year[idmax[0][0],idmax[1][0],2]"
   ]
  },
  {
   "cell_type": "code",
   "execution_count": 77,
   "metadata": {
    "collapsed": false
   },
   "outputs": [
    {
     "name": "stdout",
     "output_type": "stream",
     "text": [
      "332.0\n",
      "193.0\n"
     ]
    }
   ],
   "source": [
    "latmin=55\n",
    "latmax=56\n",
    "lonmin=-9\n",
    "lonmax=-8\n",
    "datemin,datemax = '2012-10-01T00:01','2013-09-30T23:59'\n",
    "\n",
    "nbmax=select_profiles(latmin,latmax,lonmin,lonmax,datemin,datemax)\n",
    "print nbmax\n",
    "nbmax=select_profiles_noreference(latmin,latmax,lonmin,lonmax,datemin,datemax,list_reference)\n",
    "print nbmax"
   ]
  },
  {
   "cell_type": "code",
   "execution_count": 136,
   "metadata": {
    "collapsed": false
   },
   "outputs": [
    {
     "name": "stdout",
     "output_type": "stream",
     "text": [
      "21  boxes\n"
     ]
    }
   ],
   "source": [
    "idcent=np.where(nb_prof_box1_1year[:,:,0]>100)\n",
    "print len(idcent[0]),' boxes'\n",
    "#for k in np.arange(len(idcent[0])):\n",
    "#    print nb_prof_box1_1year[idcent[0][k],idcent[1][k],0],' profiles'\n",
    "#    print 'lat = ',nb_prof_box1_1year[idcent[0][k],idcent[1][k],1]\n",
    "#    print 'lon = ',nb_prof_box1_1year[idcent[0][k],idcent[1][k],2]\n"
   ]
  },
  {
   "cell_type": "code",
   "execution_count": 137,
   "metadata": {
    "collapsed": false
   },
   "outputs": [
    {
     "name": "stdout",
     "output_type": "stream",
     "text": [
      "21  boxes with more than 50 profiles\n"
     ]
    }
   ],
   "source": [
    "id1=np.where(nb_prof_box1_1year[:,:,0]>50)\n",
    "print len(idcent[0]),' boxes with more than 50 profiles'\n",
    "#for k in np.arange(len(idcent[0])):\n",
    "#    print nb_prof_box1_1year[idcent[0][k],idcent[1][k],0],' profiles'\n",
    "#    print 'lat = ',nb_prof_box1_1year[idcent[0][k],idcent[1][k],1]\n",
    "#    print 'lon = ',nb_prof_box1_1year[idcent[0][k],idcent[1][k],2]\n"
   ]
  },
  {
   "cell_type": "code",
   "execution_count": 85,
   "metadata": {
    "collapsed": true
   },
   "outputs": [],
   "source": [
    "def append_list_reference_profiles(list_reference,latmin,latmax,lonmin,lonmax,datemin,datemax):\n",
    "        ''' Identify all the EN4 profiles that fall within the selected zone and period\n",
    "        '''\n",
    "        ## Datasets\n",
    "\n",
    "        #EN4\n",
    "        diren4=\"/media/extra/DATA/EN4/\"\n",
    "\n",
    "        yearmin=datemin[0:4]\n",
    "        monthmin=datemin[5:7]\n",
    "        yearmax=datemax[0:4]\n",
    "        monthmax=datemax[5:7]\n",
    "\n",
    "        list_filesEN4=[]\n",
    "        if yearmin == yearmax:\n",
    "            for m in np.arange(int(monthmin),int(monthmax)+1):\n",
    "                if m < 10:\n",
    "                    list_filesEN4.append('EN.4.2.0.f.profiles.g10.'+yearmin+'0'+str(m)+'.nc')\n",
    "                else:\n",
    "                    list_filesEN4.append('EN.4.2.0.f.profiles.g10.'+yearmin+str(m)+'.nc')\n",
    "        else:\n",
    "            for m in np.arange(int(monthmin),13):\n",
    "                if m < 10:\n",
    "                    list_filesEN4.append('EN.4.2.0.f.profiles.g10.'+yearmin+'0'+str(m)+'.nc')\n",
    "                else:\n",
    "                    list_filesEN4.append('EN.4.2.0.f.profiles.g10.'+yearmin+str(m)+'.nc')\n",
    "            for m in np.arange(1,int(monthmax)+1):\n",
    "                if m < 10:\n",
    "                    list_filesEN4.append('EN.4.2.0.f.profiles.g10.'+yearmax+'0'+str(m)+'.nc')\n",
    "                else:\n",
    "                    list_filesEN4.append('EN.4.2.0.f.profiles.g10.'+yearmax+str(m)+'.nc')\n",
    "\n",
    "        datetmin=pd.to_datetime(datemin)\n",
    "        datetmax=pd.to_datetime(datemax)\n",
    "        ttmin=datetime.datetime(int(datetmin.strftime('%Y')),int(datetmin.strftime('%m')),int(datetmin.strftime('%d')),int(datetmin.strftime('%H')),int(datetmin.strftime('%M')))\n",
    "        ttmax=datetime.datetime(int(datetmax.strftime('%Y')),int(datetmax.strftime('%m')),int(datetmax.strftime('%d')),int(datetmax.strftime('%H')),int(datetmax.strftime('%M')))\n",
    "        tsecmin=(ttmin-datetime.datetime(1958,1,1,0,0)).total_seconds()\n",
    "        tsecmax=(ttmax-datetime.datetime(1958,1,1,0,0)).total_seconds()\n",
    "        nb_profiles=0.\n",
    "        \n",
    "        for f in np.arange(len(list_filesEN4)):\n",
    "                fileEN4=list_filesEN4[f]\n",
    "                tfileEN4=diren4+fileEN4\n",
    "\n",
    "                dsen4=xr.open_dataset(tfileEN4)\n",
    "                laten4=dsen4['LATITUDE']\n",
    "                lonen4=dsen4['LONGITUDE']\n",
    "                dayen4=dsen4['JULD']\n",
    "                refen4=dsen4['DC_REFERENCE']\n",
    "\n",
    "                indz=np.where((lonmin<lonen4.values)&(lonen4.values<lonmax)&(latmin<laten4.values)&(laten4.values<latmax))\n",
    "\n",
    "                prof_zone=[]\n",
    "                tsecen4z=[]\n",
    "\n",
    "                for ref in np.arange(len(indz[0])):\n",
    "                        dateen4= pd.to_datetime(str(dayen4[indz[0][ref]].values))\n",
    "                        ten4 = datetime.datetime(int(dateen4.strftime('%Y')),int(dateen4.strftime('%m')),int(dateen4.strftime('%d')),int(dateen4.strftime('%H')),int(dateen4.strftime('%M')))\n",
    "                        tsecen4=(ten4-datetime.datetime(1958,1,1,0,0)).total_seconds()\n",
    "                        if (tsecen4 < tsecmax) & (tsecen4 > tsecmin):\n",
    "                            if not str(refen4[indz[0][ref]].values) in list_reference:\n",
    "                                prof_zone.append(indz[0][ref])\n",
    "                                tsecen4z.append(tsecen4)\n",
    "\n",
    "                for ref in np.arange(len(prof_zone)):\n",
    "                        list_reference.append(str(refen4[prof_zone[ref]].values))\n",
    "\n",
    "\n",
    "        return list_reference\n"
   ]
  },
  {
   "cell_type": "code",
   "execution_count": 86,
   "metadata": {
    "collapsed": true
   },
   "outputs": [],
   "source": [
    "#list_reference=[]\n",
    "#append existing list_reference\n",
    "\n",
    "for k in np.arange(len(id1[0])):\n",
    "    latmin=nb_prof_box1_1year[id1[0][k], id1[1][k],1]-0.5\n",
    "    latmax=nb_prof_box1_1year[id1[0][k], id1[1][k],1]+0.5\n",
    "    lonmin=nb_prof_box1_1year[id1[0][k], id1[1][k],2]-0.5\n",
    "    lonmax=nb_prof_box1_1year[id1[0][k], id1[1][k],2]+0.5\n",
    "    datemin,datemax = '2012-10-01T00:01','2013-09-30T23:59'\n",
    "    list_reference=append_list_reference_profiles(list_reference,latmin,latmax,lonmin,lonmax,datemin,datemax)\n"
   ]
  },
  {
   "cell_type": "code",
   "execution_count": 88,
   "metadata": {
    "collapsed": false
   },
   "outputs": [
    {
     "data": {
      "text/plain": [
       "66085"
      ]
     },
     "execution_count": 88,
     "metadata": {},
     "output_type": "execute_result"
    }
   ],
   "source": [
    "len(list_reference)"
   ]
  },
  {
   "cell_type": "code",
   "execution_count": 92,
   "metadata": {
    "collapsed": true
   },
   "outputs": [],
   "source": [
    "#quadrillage tous les 5°\n",
    "latmin,latmax,lonmin,lonmax = 27,60,-80,8\n",
    "datemin,datemax = '2012-10-01T00:01','2013-09-30T23:59'\n",
    "\n",
    "Xbox=(lonmax-lonmin+1)/5\n",
    "Ybox=(latmax-latmin+1)/5\n",
    "\n",
    "nb_prof_box5_1year=np.zeros((Xbox,Ybox,3))\n",
    "\n",
    "for i in np.arange(Xbox):\n",
    "    for j in np.arange(Ybox):\n",
    "        lat1=latmin+5*j\n",
    "        lat2=latmin+5*(j+1.)\n",
    "        lon1=lonmin+5*i\n",
    "        lon2=lonmin+5*(i+1.)\n",
    "        nb=select_profiles_noreference(lat1,lat2,lon1,lon2,datemin,datemax,list_reference)\n",
    "        nb_prof_box5_1year[i,j,0]=nb\n",
    "        nb_prof_box5_1year[i,j,1]=0.5*(lat2+lat1)\n",
    "        nb_prof_box5_1year[i,j,2]=0.5*(lon1+lon2)\n"
   ]
  },
  {
   "cell_type": "code",
   "execution_count": 93,
   "metadata": {
    "collapsed": false
   },
   "outputs": [
    {
     "data": {
      "text/plain": [
       "(17, 6, 3)"
      ]
     },
     "execution_count": 93,
     "metadata": {},
     "output_type": "execute_result"
    }
   ],
   "source": [
    "nb_prof_box5_1year.shape"
   ]
  },
  {
   "cell_type": "code",
   "execution_count": 94,
   "metadata": {
    "collapsed": false
   },
   "outputs": [
    {
     "data": {
      "text/plain": [
       "102"
      ]
     },
     "execution_count": 94,
     "metadata": {},
     "output_type": "execute_result"
    }
   ],
   "source": [
    "17*6"
   ]
  },
  {
   "cell_type": "code",
   "execution_count": 95,
   "metadata": {
    "collapsed": false
   },
   "outputs": [
    {
     "name": "stdout",
     "output_type": "stream",
     "text": [
      "4873.0\n"
     ]
    }
   ],
   "source": [
    "print np.nanmax(nb_prof_box5_1year[:,:,0])"
   ]
  },
  {
   "cell_type": "code",
   "execution_count": 106,
   "metadata": {
    "collapsed": false
   },
   "outputs": [
    {
     "name": "stdout",
     "output_type": "stream",
     "text": [
      "4873.0\n",
      "lat = 44.5\n",
      "lon = -67.5\n"
     ]
    }
   ],
   "source": [
    "print np.nanmax(nb_prof_box5_1year[:,:,0])\n",
    "idmax=np.where(nb_prof_box5_1year[:,:,0]==np.nanmax(nb_prof_box5_1year[:,:,0]))\n",
    "\n",
    "print 'lat =',nb_prof_box5_1year[idmax[0][0],idmax[1][0],1]\n",
    "print 'lon =',nb_prof_box5_1year[idmax[0][0],idmax[1][0],2]\n"
   ]
  },
  {
   "cell_type": "code",
   "execution_count": 107,
   "metadata": {
    "collapsed": false
   },
   "outputs": [
    {
     "name": "stdout",
     "output_type": "stream",
     "text": [
      "17026.0\n",
      "4594.0\n"
     ]
    }
   ],
   "source": [
    "latmin=43\n",
    "latmax=47\n",
    "lonmin=-70\n",
    "lonmax=-65\n",
    "datemin,datemax = '2012-10-01T00:01','2013-09-30T23:59'\n",
    "\n",
    "nbmax=select_profiles(latmin,latmax,lonmin,lonmax,datemin,datemax)\n",
    "print nbmax\n",
    "nbmax=select_profiles_noreference(latmin,latmax,lonmin,lonmax,datemin,datemax,list_reference)\n",
    "print nbmax"
   ]
  },
  {
   "cell_type": "code",
   "execution_count": 97,
   "metadata": {
    "collapsed": false
   },
   "outputs": [
    {
     "name": "stdout",
     "output_type": "stream",
     "text": [
      "44.5\n",
      "-67.5\n"
     ]
    }
   ],
   "source": [
    "\n",
    "idmax=np.where(nb_prof_box5_1year[:,:,0]==np.nanmax(nb_prof_box5_1year[:,:,0]))\n",
    "print nb_prof_box5_1year[idmax[0][0],idmax[1][0],1]\n",
    "print nb_prof_box5_1year[idmax[0][0],idmax[1][0],2]"
   ]
  },
  {
   "cell_type": "code",
   "execution_count": 98,
   "metadata": {
    "collapsed": true
   },
   "outputs": [],
   "source": [
    "#quadrillage tous les 2°\n",
    "latmin,latmax,lonmin,lonmax = 27,60,-80,8\n",
    "datemin,datemax = '2012-10-01T00:01','2013-09-30T23:59'\n",
    "\n",
    "Xbox=(lonmax-lonmin+1)/2\n",
    "Ybox=(latmax-latmin+1)/2\n",
    "\n",
    "nb_prof_box2_1year=np.zeros((Xbox,Ybox,3))\n",
    "\n",
    "for i in np.arange(Xbox):\n",
    "    for j in np.arange(Ybox):\n",
    "        lat1=latmin+2*j\n",
    "        lat2=latmin+2*(j+1.)\n",
    "        lon1=lonmin+2*i\n",
    "        lon2=lonmin+2*(i+1.)\n",
    "        nb=select_profiles_noreference(lat1,lat2,lon1,lon2,datemin,datemax,list_reference)\n",
    "        nb_prof_box2_1year[i,j,0]=nb\n",
    "        nb_prof_box2_1year[i,j,1]=0.5*(lat2+lat1)\n",
    "        nb_prof_box2_1year[i,j,2]=0.5*(lon1+lon2)\n"
   ]
  },
  {
   "cell_type": "code",
   "execution_count": 104,
   "metadata": {
    "collapsed": false
   },
   "outputs": [
    {
     "name": "stdout",
     "output_type": "stream",
     "text": [
      "4331.0\n",
      "lat = 44.0\n",
      "lon = -69.0\n"
     ]
    }
   ],
   "source": [
    "print np.nanmax(nb_prof_box2_1year[:,:,0])\n",
    "idmax=np.where(nb_prof_box2_1year[:,:,0]==np.nanmax(nb_prof_box2_1year[:,:,0]))\n",
    "\n",
    "print 'lat =',nb_prof_box2_1year[idmax[0][0],idmax[1][0],1]\n",
    "print 'lon =',nb_prof_box2_1year[idmax[0][0],idmax[1][0],2]\n"
   ]
  },
  {
   "cell_type": "code",
   "execution_count": 105,
   "metadata": {
    "collapsed": false
   },
   "outputs": [
    {
     "name": "stdout",
     "output_type": "stream",
     "text": [
      "13821.0\n",
      "4331.0\n"
     ]
    }
   ],
   "source": [
    "latmin=43\n",
    "latmax=45\n",
    "lonmin=-70\n",
    "lonmax=-68\n",
    "datemin,datemax = '2012-10-01T00:01','2013-09-30T23:59'\n",
    "\n",
    "nbmax=select_profiles(latmin,latmax,lonmin,lonmax,datemin,datemax)\n",
    "print nbmax\n",
    "nbmax=select_profiles_noreference(latmin,latmax,lonmin,lonmax,datemin,datemax,list_reference)\n",
    "print nbmax"
   ]
  },
  {
   "cell_type": "code",
   "execution_count": 108,
   "metadata": {
    "collapsed": false
   },
   "outputs": [
    {
     "name": "stdout",
     "output_type": "stream",
     "text": [
      "1er quart = 29.0\n",
      "2e quart = 22.0\n",
      "3e quart = 0.0\n",
      "4e quart = 0.0\n"
     ]
    }
   ],
   "source": [
    "latmin=43\n",
    "latmax=44\n",
    "lonmin=-70\n",
    "lonmax=-69\n",
    "datemin,datemax = '2012-10-01T00:01','2013-09-30T23:59'\n",
    "\n",
    "nbmax=select_profiles_noreference(latmin,latmax,lonmin,lonmax,datemin,datemax,list_reference)\n",
    "print '1er quart =',nbmax\n",
    "\n",
    "latmin=43\n",
    "latmax=44\n",
    "lonmin=-69\n",
    "lonmax=-68\n",
    "datemin,datemax = '2012-10-01T00:01','2013-09-30T23:59'\n",
    "\n",
    "nbmax=select_profiles_noreference(latmin,latmax,lonmin,lonmax,datemin,datemax,list_reference)\n",
    "print '2e quart =',nbmax\n",
    "\n",
    "latmin=44\n",
    "latmax=45\n",
    "lonmin=-70\n",
    "lonmax=-69\n",
    "datemin,datemax = '2012-10-01T00:01','2013-09-30T23:59'\n",
    "\n",
    "nbmax=select_profiles_noreference(latmin,latmax,lonmin,lonmax,datemin,datemax,list_reference)\n",
    "print '3e quart =',nbmax\n",
    "\n",
    "latmin=44\n",
    "latmax=45\n",
    "lonmin=-69\n",
    "lonmax=-68\n",
    "datemin,datemax = '2012-10-01T00:01','2013-09-30T23:59'\n",
    "\n",
    "nbmax=select_profiles_noreference(latmin,latmax,lonmin,lonmax,datemin,datemax,list_reference)\n",
    "print '4e quart =',nbmax"
   ]
  },
  {
   "cell_type": "code",
   "execution_count": 112,
   "metadata": {
    "collapsed": false
   },
   "outputs": [
    {
     "name": "stdout",
     "output_type": "stream",
     "text": [
      "8636.0\n",
      "4278.0\n"
     ]
    }
   ],
   "source": [
    "\n",
    "latmin=43.5\n",
    "latmax=44.5\n",
    "lonmin=-69.5\n",
    "lonmax=-68.5\n",
    "datemin,datemax = '2012-10-01T00:01','2013-09-30T23:59'\n",
    "\n",
    "nbmax=select_profiles(latmin,latmax,lonmin,lonmax,datemin,datemax)\n",
    "print nbmax\n",
    "nbmax=select_profiles_noreference(latmin,latmax,lonmin,lonmax,datemin,datemax,list_reference)\n",
    "print nbmax"
   ]
  },
  {
   "cell_type": "code",
   "execution_count": 111,
   "metadata": {
    "collapsed": false
   },
   "outputs": [
    {
     "name": "stdout",
     "output_type": "stream",
     "text": [
      "4299.0\n",
      "4278.0\n"
     ]
    }
   ],
   "source": [
    "latmin=43.75\n",
    "latmax=44.25\n",
    "lonmin=-69.25\n",
    "lonmax=-68.75\n",
    "datemin,datemax = '2012-10-01T00:01','2013-09-30T23:59'\n",
    "\n",
    "nbmax=select_profiles(latmin,latmax,lonmin,lonmax,datemin,datemax)\n",
    "print nbmax\n",
    "nbmax=select_profiles_noreference(latmin,latmax,lonmin,lonmax,datemin,datemax,list_reference)\n",
    "print nbmax\n"
   ]
  },
  {
   "cell_type": "code",
   "execution_count": 101,
   "metadata": {
    "collapsed": false
   },
   "outputs": [
    {
     "data": {
      "image/png": "[encoded data removed]",
      "text/plain": [
       "<matplotlib.figure.Figure at 0x7f76d3a21ed0>"
      ]
     },
     "metadata": {},
     "output_type": "display_data"
    }
   ],
   "source": [
    "fig = plt.figure(figsize=(15,10))  # (w,h)\n",
    "ax = fig.add_subplot(111,projection=ccrs.PlateCarree(central_longitude=-30))\n",
    "ax.set_extent([-82, 12, 25, 55])\n",
    "cmap=cmocean.cm.amp\n",
    "cmap.set_under(color='white')\n",
    "pcolor=ax.pcolormesh(nb_prof_box1_1year[:,:,2], nb_prof_box1_1year[:,:,1],nb_prof_box1_1year[:,:,0],transform=ccrs.PlateCarree(),cmap=cmap,vmin=1,vmax=200)\n",
    "ax.add_feature(cfeature.LAND,facecolor='black')\n",
    "ax.coastlines()\n",
    "gl=ax.gridlines(crs=ccrs.PlateCarree(), draw_labels=True,\n",
    "                linewidth=2, color='grey', alpha=0.5, linestyle='--')\n",
    "\n",
    "fig.subplots_adjust(right=0.8)\n",
    "gl.xlocator = mticker.FixedLocator([-110,-90,-70,-50,-30,-10,10,30,50,70,90,110])\n",
    "gl.ylocator = mticker.FixedLocator([-10,0,10,20,30,40,50,60,70,80])\n",
    "gl.xformatter = LONGITUDE_FORMATTER\n",
    "gl.yformatter = LATITUDE_FORMATTER\n",
    "gl.xlabel_style = {'size': 15, 'color': 'gray'}\n",
    "gl.ylabel_style = {'size': 15, 'color': 'gray'}\n",
    "cbar = plt.colorbar(pcolor,orientation='horizontal',shrink=0.75)\n",
    "\n",
    "ax.set_title('Nb of profiles',size=17,y=1.08)\n",
    "plt.savefig(\"nb_profiles_decoupage1.png\")"
   ]
  },
  {
   "cell_type": "code",
   "execution_count": 103,
   "metadata": {
    "collapsed": false
   },
   "outputs": [
    {
     "data": {
      "image/png": "[encoded data removed]",
      "text/plain": [
       "<matplotlib.figure.Figure at 0x7f76d1fa8950>"
      ]
     },
     "metadata": {},
     "output_type": "display_data"
    }
   ],
   "source": [
    "fig = plt.figure(figsize=(15,10))  # (w,h)\n",
    "ax = fig.add_subplot(111,projection=ccrs.PlateCarree(central_longitude=-30))\n",
    "ax.set_extent([-82, 12, 25, 55])\n",
    "cmap=cmocean.cm.amp\n",
    "cmap.set_under(color='white')\n",
    "pcolor=ax.pcolormesh(nb_prof_box2_1year[:,:,2], nb_prof_box2_1year[:,:,1],nb_prof_box2_1year[:,:,0],transform=ccrs.PlateCarree(),cmap=cmap,vmin=1,vmax=4000)\n",
    "ax.add_feature(cfeature.LAND,facecolor='black')\n",
    "ax.coastlines()\n",
    "gl=ax.gridlines(crs=ccrs.PlateCarree(), draw_labels=True,\n",
    "                linewidth=2, color='grey', alpha=0.5, linestyle='--')\n",
    "\n",
    "fig.subplots_adjust(right=0.8)\n",
    "gl.xlocator = mticker.FixedLocator([-110,-90,-70,-50,-30,-10,10,30,50,70,90,110])\n",
    "gl.ylocator = mticker.FixedLocator([-10,0,10,20,30,40,50,60,70,80])\n",
    "gl.xformatter = LONGITUDE_FORMATTER\n",
    "gl.yformatter = LATITUDE_FORMATTER\n",
    "gl.xlabel_style = {'size': 15, 'color': 'gray'}\n",
    "gl.ylabel_style = {'size': 15, 'color': 'gray'}\n",
    "cbar = plt.colorbar(pcolor,orientation='horizontal',shrink=0.75)\n",
    "\n",
    "ax.set_title('Nb of profiles',size=17,y=1.08)\n",
    "plt.savefig(\"nb_profiles_decoupage2.png\")"
   ]
  },
  {
   "cell_type": "code",
   "execution_count": null,
   "metadata": {
    "collapsed": true
   },
   "outputs": [],
   "source": []
  }
 ],
 "metadata": {
  "kernelspec": {
   "display_name": "Python [Root]",
   "language": "python",
   "name": "Python [Root]"
  },
  "language_info": {
   "codemirror_mode": {
    "name": "ipython",
    "version": 2
   },
   "file_extension": ".py",
   "mimetype": "text/x-python",
   "name": "python",
   "nbconvert_exporter": "python",
   "pygments_lexer": "ipython2",
   "version": "2.7.11"
  }
 },
 "nbformat": 4,
 "nbformat_minor": 0
}
