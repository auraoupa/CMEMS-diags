{
 "cells": [
  {
   "cell_type": "code",
   "execution_count": 2,
   "metadata": {
    "collapsed": true
   },
   "outputs": [],
   "source": [
    "import sys\n",
    "sys.path.insert(0,\"/home/albert7a/lib/python\")\n",
    "\n",
    "\n",
    "## imports\n",
    "\n",
    "import numpy as np\n",
    "import dask\n",
    "import xarray as xr\n",
    "from netCDF4 import Dataset\n",
    "import matplotlib.pyplot as plt\n",
    "import pandas as pd\n",
    "import datetime\n",
    "import glob as glob\n",
    "import matplotlib.gridspec as gridspec\n",
    "from mpl_toolkits.basemap import Basemap\n",
    "import time\n",
    "from dask.diagnostics import ProgressBar\n",
    "from datetime import date"
   ]
  },
  {
   "cell_type": "code",
   "execution_count": 139,
   "metadata": {
    "collapsed": false
   },
   "outputs": [],
   "source": [
    "latmin=40\n",
    "latmax=50\n",
    "lonmin=-26\n",
    "lonmax=10\n",
    "datemin='2012-07-22T00:00'\n",
    "datemax='2012-07-23T23:59'"
   ]
  },
  {
   "cell_type": "code",
   "execution_count": 140,
   "metadata": {
    "collapsed": false
   },
   "outputs": [
    {
     "name": "stdout",
     "output_type": "stream",
     "text": [
      "lamin= 26.5648 lamax= 67.3871 lomin= -86.255 lomax= 17.7867 tmin= 1719835200.0 tmax= 1722427200.0\n",
      "tsecmin= 1721606400.0 tsecmax= 1721779140.0\n",
      "selected area falls within NATL60-CJM165 boundaries, the program is proceeding\n"
     ]
    }
   ],
   "source": [
    "tfiles=\"/media/extra/DATA/NATL60/NATL60-CJM165-S/3d/NATL60-CJM165_y????m??d??.1d_gridT.nc\"\n",
    "dsN = xr.open_mfdataset(tfiles,concat_dim='time_counter',decode_times=False, chunks={'deptht':1 ,'time_counter':10})\n",
    "\n",
    "latN = dsN.nav_lat\n",
    "lonN = dsN.nav_lon\n",
    "timN = dsN.time_counter\n",
    "\n",
    "lamin=np.nanmin(latN.values)\n",
    "lamax=np.nanmax(latN.values)\n",
    "lomin=np.nanmin(lonN.values)\n",
    "lomax=np.nanmax(lonN.values)\n",
    "tmin=np.min(timN.values)\n",
    "\n",
    "print 'lamin=',lamin,'lamax=',lamax,'lomin=',lomin,'lomax=',lomax,'tmin=',tmin,'tmax=',tmax\n",
    "\n",
    "datetmin=pd.to_datetime(datemin)\n",
    "datetmax=pd.to_datetime(datemax)\n",
    "ttmin=datetime.datetime(int(datetmin.strftime('%Y')),int(datetmin.strftime('%m')),int(datetmin.strftime('%d')),int(datetmin.strftime('%H')),int(datetmin.strftime('%M')))\n",
    "ttmax=datetime.datetime(int(datetmax.strftime('%Y')),int(datetmax.strftime('%m')),int(datetmax.strftime('%d')),int(datetmax.strftime('%H')),int(datetmax.strftime('%M')))\n",
    "tsecmin=(ttmin-datetime.datetime(1958,1,1,0,0)).total_seconds()\n",
    "tsecmax=(ttmax-datetime.datetime(1958,1,1,0,0)).total_seconds()\n",
    "\n",
    "print 'tsecmin=',tsecmin,'tsecmax=',tsecmax\n",
    "if (lamin < latmin < lamax) & (lamin < latmax < lamax) & (lomin < lonmin < lomax) & (lomin < lonmax < lomax) & (tmin < tsecmin < tmax) & (tmin < tsecmax < tmax):\n",
    "        print \"selected area falls within NATL60-CJM165 boundaries, the program is proceeding\"\n",
    "else:\n",
    "        print \"selected area does not fall within NATL60-CJM165 boundaries, the program is stopping\"\n",
    "\n"
   ]
  },
  {
   "cell_type": "code",
   "execution_count": 141,
   "metadata": {
    "collapsed": false
   },
   "outputs": [],
   "source": [
    "yearmin=datemin[0:4]\n",
    "monthmin=datemin[5:7]\n",
    "yearmax=datemax[0:4]\n",
    "monthmax=datemax[5:7]\n"
   ]
  },
  {
   "cell_type": "code",
   "execution_count": 142,
   "metadata": {
    "collapsed": false
   },
   "outputs": [
    {
     "name": "stdout",
     "output_type": "stream",
     "text": [
      "['EN.4.2.0.f.profiles.g10.201207.nc']\n"
     ]
    }
   ],
   "source": [
    "diren4=\"/media/extra/DATA/ARGO/\"\n",
    "list_filesEN4=[]\n",
    "if yearmin == yearmax:\n",
    "    for m in np.arange(int(monthmin),int(monthmax)+1):\n",
    "        if m < 10:\n",
    "            list_filesEN4.append('EN.4.2.0.f.profiles.g10.'+yearmin+'0'+str(m)+'.nc')\n",
    "        else:\n",
    "            list_filesEN4.append('EN.4.2.0.f.profiles.g10.'+yearmin+str(m)+'.nc')\n",
    "else:\n",
    "    for m in np.arange(int(monthmin),13):\n",
    "        if m < 10:\n",
    "            list_filesEN4.append('EN.4.2.0.f.profiles.g10.'+yearmin+'0'+str(m)+'.nc')\n",
    "        else:\n",
    "            list_filesEN4.append('EN.4.2.0.f.profiles.g10.'+yearmin+str(m)+'.nc')\n",
    "    for m in np.arange(1,int(monthmax)+1):\n",
    "        if m < 10:\n",
    "            list_filesEN4.append('EN.4.2.0.f.profiles.g10.'+yearmax+'0'+str(m)+'.nc')\n",
    "        else:\n",
    "            list_filesEN4.append('EN.4.2.0.f.profiles.g10.'+yearmax+str(m)+'.nc')\n",
    "print list_filesEN4"
   ]
  },
  {
   "cell_type": "code",
   "execution_count": 143,
   "metadata": {
    "collapsed": false
   },
   "outputs": [
    {
     "name": "stdout",
     "output_type": "stream",
     "text": [
      "1721606400.0 1721779140.0\n"
     ]
    }
   ],
   "source": [
    "print tsecmin,tsecmax"
   ]
  },
  {
   "cell_type": "code",
   "execution_count": 144,
   "metadata": {
    "collapsed": false
   },
   "outputs": [
    {
     "name": "stdout",
     "output_type": "stream",
     "text": [
      "144\n",
      "2012-07-22T11:42:07.000000000 1721648520.0\n",
      "2012-07-22T11:37:05.000000000 1721648220.0\n",
      "2012-07-22T09:17:50.000000000 1721639820.0\n",
      "2012-07-22T05:59:39.000000000 1721627940.0\n",
      "2012-07-22T04:35:00.000000000 1721622900.0\n",
      "2012-07-22T02:14:31.000000000 1721614440.0\n",
      "2012-07-23T17:16:42.000000000 1721754960.0\n",
      "2012-07-23T15:59:25.000000000 1721750340.0\n",
      "2012-07-23T07:46:38.000000000 1721720760.0\n",
      "2012-07-23T00:32:00.000000000 1721694720.0\n",
      "2012-07-22T19:46:48.000000000 1721677560.0\n",
      "2012-07-22T20:46:48.000000000 1721681160.0\n",
      "2012-07-22T20:16:24.000000000 1721679360.0\n",
      "2012-07-22T21:16:48.000000000 1721682960.0\n",
      "14\n"
     ]
    }
   ],
   "source": [
    "for f in np.arange(len(list_filesEN4)):\n",
    "    fileEN4=list_filesEN4[f]\n",
    "    tfileEN4=diren4+fileEN4\n",
    "\n",
    "    dsen4=xr.open_dataset(tfileEN4)\n",
    "    laten4=dsen4['LATITUDE']\n",
    "    lonen4=dsen4['LONGITUDE']\n",
    "    dayen4=dsen4['JULD']\n",
    "    refen4=dsen4['DC_REFERENCE']\n",
    "\n",
    "    indz=np.where((lonmin<lonen4.values)&(lonen4.values<lonmax)&(latmin<laten4.values)&(laten4.values<latmax))\n",
    "    prof_zone=[]\n",
    "    tsecen4z=[]\n",
    "    print len(indz[0])\n",
    "    \n",
    "    for ref in np.arange(len(indz[0])):\n",
    "            dateen4= pd.to_datetime(str(dayen4[indz[0][ref]].values))\n",
    "            ten4 = datetime.datetime(int(dateen4.strftime('%Y')),int(dateen4.strftime('%m')),int(dateen4.strftime('%d')),int(dateen4.strftime('%H')),int(dateen4.strftime('%M')))\n",
    "            tsecen4=(ten4-datetime.datetime(1958,1,1,0,0)).total_seconds()\n",
    "            if (tsecen4 < tsecmax) & (tsecen4 > tsecmin):\n",
    "                    print str(dayen4[indz[0][ref]].values),tsecen4\n",
    "                    prof_zone.append(indz[0][ref])\n",
    "                    tsecen4z.append(tsecen4)\n",
    "\n",
    "    print len(prof_zone)\n",
    "    \n",
    "    for ref in np.arange(len(prof_zone)):\n",
    "            if ref == 0:\n",
    "              dictyml={:{'file':fileEN4,'reference':str(refen4[prof_zone[ref]].values),'profile no':int(prof_zone[ref]),'latitude':float(laten4[prof_zone[ref]].values),'longitude':float(lonen4[prof_zone[ref]].values),'date':str(dayen4[prof_zone[ref]].values)}}\n",
    "            else:\n",
    "                    up={int(ref+1):{'file':fileEN4,'reference':str(refen4[prof_zone[ref]].values),'profile no':int(prof_zone[ref]),'latitude':float(laten4[prof_zone[ref]].values),'longitude':float(lonen4[prof_zone[ref]].values),'date':str(dayen4[prof_zone[ref]].values)}}\n",
    "                    dictyml.update(up)\n",
    "\n",
    "    with io.open('data.yaml', 'w', encoding='utf8') as outfile:\n",
    "            yaml.dump(dictyml, outfile, default_flow_style=False, allow_unicode=True)\n",
    "\n",
    "\n"
   ]
  },
  {
   "cell_type": "code",
   "execution_count": 85,
   "metadata": {
    "collapsed": false
   },
   "outputs": [
    {
     "data": {
      "text/plain": [
       "{1: ['EN.4.2.0.f.profiles.g10.201207.nc', ' A20120701-02752', 2040],\n",
       " 2: ['EN.4.2.0.f.profiles.g10.201207.nc', ' A20120701-02753', 2041],\n",
       " 3: ['EN.4.2.0.f.profiles.g10.201207.nc', ' A20120701-02754', 2055],\n",
       " 4: ['EN.4.2.0.f.profiles.g10.201207.nc', ' A20120701-02755', 2065],\n",
       " 5: ['EN.4.2.0.f.profiles.g10.201207.nc', ' A20120701-02756', 2071],\n",
       " 6: ['EN.4.2.0.f.profiles.g10.201207.nc', ' A20120701-02757', 2083],\n",
       " 7: ['EN.4.2.0.f.profiles.g10.201207.nc', ' A20120701-02758', 44904],\n",
       " 8: ['EN.4.2.0.f.profiles.g10.201207.nc', ' A20120701-02759', 44907],\n",
       " 9: ['EN.4.2.0.f.profiles.g10.201207.nc', ' A20120701-02760', 44908],\n",
       " 10: ['EN.4.2.0.f.profiles.g10.201207.nc', ' A20120701-02761', 44910]}"
      ]
     },
     "execution_count": 85,
     "metadata": {},
     "output_type": "execute_result"
    }
   ],
   "source": [
    "dictyml"
   ]
  },
  {
   "cell_type": "code",
   "execution_count": 93,
   "metadata": {
    "collapsed": true
   },
   "outputs": [],
   "source": [
    "import yaml\n",
    "import io\n",
    "\n",
    "# Define data\n",
    "data = {1: ['EN.4.2.0.f.profiles.g10.201206.nc', 'DC_REFERENCE',222], 2 : ['EN.4.2.0.f.profiles.g10.201206.nc', 'DC_REFERENCE',222]}\n",
    "\n",
    "\n",
    "# Write YAML file\n",
    "with io.open('data.yaml', 'w', encoding='utf8') as outfile:\n",
    "    yaml.dump(data, outfile, default_flow_style=False, allow_unicode=True)\n",
    "\n"
   ]
  },
  {
   "cell_type": "code",
   "execution_count": 66,
   "metadata": {
    "collapsed": false
   },
   "outputs": [
    {
     "name": "stdout",
     "output_type": "stream",
     "text": [
      "True\n"
     ]
    }
   ],
   "source": [
    "# Read YAML file\n",
    "with open(\"data.yaml\", 'r') as stream:\n",
    "    data_loaded = yaml.load(stream)\n",
    "\n",
    "print(data == data_loaded)"
   ]
  },
  {
   "cell_type": "code",
   "execution_count": 67,
   "metadata": {
    "collapsed": false
   },
   "outputs": [
    {
     "name": "stdout",
     "output_type": "stream",
     "text": [
      "{1: ['EN.4.2.0.f.profiles.g10.201206.nc', 'DC_REFERENCE', 222], 2: ['EN.4.2.0.f.profiles.g10.201206.nc', 'DC_REFERENCE', 222]}\n"
     ]
    }
   ],
   "source": [
    "print data_loaded"
   ]
  },
  {
   "cell_type": "code",
   "execution_count": 69,
   "metadata": {
    "collapsed": false
   },
   "outputs": [],
   "source": [
    "data={1: ['EN.4.2.0.f.profiles.g10.201206.nc', 'DC_REFERENCE',222]}\n",
    "data2={2: ['EN.4.2.0.f.profiles.g10.201204.nc', 'DC_REFERENCE',223]}\n",
    "data.update(data2)"
   ]
  },
  {
   "cell_type": "code",
   "execution_count": 70,
   "metadata": {
    "collapsed": false
   },
   "outputs": [
    {
     "name": "stdout",
     "output_type": "stream",
     "text": [
      "{1: ['EN.4.2.0.f.profiles.g10.201206.nc', 'DC_REFERENCE', 222], 2: ['EN.4.2.0.f.profiles.g10.201204.nc', 'DC_REFERENCE', 223]}\n"
     ]
    }
   ],
   "source": [
    "print data"
   ]
  },
  {
   "cell_type": "code",
   "execution_count": 71,
   "metadata": {
    "collapsed": false
   },
   "outputs": [
    {
     "data": {
      "text/plain": [
       "array([ 0,  1,  2,  3,  4,  5,  6,  7,  8,  9, 10, 11])"
      ]
     },
     "execution_count": 71,
     "metadata": {},
     "output_type": "execute_result"
    }
   ],
   "source": [
    "np.arange(12)"
   ]
  },
  {
   "cell_type": "code",
   "execution_count": 87,
   "metadata": {
    "collapsed": false
   },
   "outputs": [
    {
     "name": "stdout",
     "output_type": "stream",
     "text": [
      "{1: ['EN.4.2.0.f.profiles.g10.201206.nc', 'DC_REFERENCE', 222], 2: ['EN.4.2.0.f.profiles.g10.201204.nc', 'DC_REFERENCE', 223]}\n"
     ]
    }
   ],
   "source": [
    "print data"
   ]
  },
  {
   "cell_type": "code",
   "execution_count": 88,
   "metadata": {
    "collapsed": false
   },
   "outputs": [
    {
     "name": "stdout",
     "output_type": "stream",
     "text": [
      "{1: ['EN.4.2.0.f.profiles.g10.201207.nc', ' A20120701-02752', 2040], 2: ['EN.4.2.0.f.profiles.g10.201207.nc', ' A20120701-02753', 2041], 3: ['EN.4.2.0.f.profiles.g10.201207.nc', ' A20120701-02754', 2055], 4: ['EN.4.2.0.f.profiles.g10.201207.nc', ' A20120701-02755', 2065], 5: ['EN.4.2.0.f.profiles.g10.201207.nc', ' A20120701-02756', 2071], 6: ['EN.4.2.0.f.profiles.g10.201207.nc', ' A20120701-02757', 2083], 7: ['EN.4.2.0.f.profiles.g10.201207.nc', ' A20120701-02758', 44904], 8: ['EN.4.2.0.f.profiles.g10.201207.nc', ' A20120701-02759', 44907], 9: ['EN.4.2.0.f.profiles.g10.201207.nc', ' A20120701-02760', 44908], 10: ['EN.4.2.0.f.profiles.g10.201207.nc', ' A20120701-02761', 44910]}\n"
     ]
    }
   ],
   "source": [
    "print dictyml"
   ]
  },
  {
   "cell_type": "code",
   "execution_count": 90,
   "metadata": {
    "collapsed": false
   },
   "outputs": [
    {
     "data": {
      "text/plain": [
       "\"{1: ['EN.4.2.0.f.profiles.g10.201206.nc', 'DC_REFERENCE', 222], 2: ['EN.4.2.0.f.profiles.g10.201204.nc', 'DC_REFERENCE', 223]}\""
      ]
     },
     "execution_count": 90,
     "metadata": {},
     "output_type": "execute_result"
    }
   ],
   "source": [
    "format(data)"
   ]
  },
  {
   "cell_type": "code",
   "execution_count": 91,
   "metadata": {
    "collapsed": false
   },
   "outputs": [
    {
     "data": {
      "text/plain": [
       "\"{1: ['EN.4.2.0.f.profiles.g10.201207.nc', ' A20120701-02752', 2040], 2: ['EN.4.2.0.f.profiles.g10.201207.nc', ' A20120701-02753', 2041], 3: ['EN.4.2.0.f.profiles.g10.201207.nc', ' A20120701-02754', 2055], 4: ['EN.4.2.0.f.profiles.g10.201207.nc', ' A20120701-02755', 2065], 5: ['EN.4.2.0.f.profiles.g10.201207.nc', ' A20120701-02756', 2071], 6: ['EN.4.2.0.f.profiles.g10.201207.nc', ' A20120701-02757', 2083], 7: ['EN.4.2.0.f.profiles.g10.201207.nc', ' A20120701-02758', 44904], 8: ['EN.4.2.0.f.profiles.g10.201207.nc', ' A20120701-02759', 44907], 9: ['EN.4.2.0.f.profiles.g10.201207.nc', ' A20120701-02760', 44908], 10: ['EN.4.2.0.f.profiles.g10.201207.nc', ' A20120701-02761', 44910]}\""
      ]
     },
     "execution_count": 91,
     "metadata": {},
     "output_type": "execute_result"
    }
   ],
   "source": [
    "format(dictyml)"
   ]
  },
  {
   "cell_type": "code",
   "execution_count": 109,
   "metadata": {
    "collapsed": false
   },
   "outputs": [],
   "source": [
    "dictyml={int(ref+1):[fileEN4,str(refen4[0].values),int(prof_zone[0])]}\n",
    "with io.open('data.yaml', 'w', encoding='utf8') as outfile:\n",
    "            yaml.dump(dictyml, outfile, default_flow_style=False, allow_unicode=True)\n",
    "\n"
   ]
  },
  {
   "cell_type": "code",
   "execution_count": 114,
   "metadata": {
    "collapsed": false
   },
   "outputs": [
    {
     "data": {
      "text/plain": [
       "array(' A20120701-02761', \n",
       "      dtype='|S16')"
      ]
     },
     "execution_count": 114,
     "metadata": {},
     "output_type": "execute_result"
    }
   ],
   "source": [
    "refen4[ref].data"
   ]
  },
  {
   "cell_type": "code",
   "execution_count": 124,
   "metadata": {
    "collapsed": false
   },
   "outputs": [
    {
     "data": {
      "text/plain": [
       "'2012-07-01T23:53:41.000000000'"
      ]
     },
     "execution_count": 124,
     "metadata": {},
     "output_type": "execute_result"
    }
   ],
   "source": [
    "str(dayen4[0].values)"
   ]
  },
  {
   "cell_type": "code",
   "execution_count": 126,
   "metadata": {
    "collapsed": false
   },
   "outputs": [
    {
     "name": "stdout",
     "output_type": "stream",
     "text": [
      "1721606400.0\n"
     ]
    }
   ],
   "source": [
    "datemin='2012-07-22'\n",
    "datetmin=pd.to_datetime(datemin)\n",
    "ttmin=datetime.datetime(int(datetmin.strftime('%Y')),int(datetmin.strftime('%m')),int(datetmin.strftime('%d')),int(datetmin.strftime('%H')),int(datetmin.strftime('%M')))\n",
    "tsecmin=(ttmin-datetime.datetime(1958,1,1,0,0)).total_seconds()\n",
    "print tsecmin"
   ]
  },
  {
   "cell_type": "code",
   "execution_count": 127,
   "metadata": {
    "collapsed": false
   },
   "outputs": [
    {
     "name": "stdout",
     "output_type": "stream",
     "text": [
      "1719792000.0\n"
     ]
    }
   ],
   "source": [
    "datemin='2012-07-01'\n",
    "datetmin=pd.to_datetime(datemin)\n",
    "ttmin=datetime.datetime(int(datetmin.strftime('%Y')),int(datetmin.strftime('%m')),int(datetmin.strftime('%d')),int(datetmin.strftime('%H')),int(datetmin.strftime('%M')))\n",
    "tsecmin=(ttmin-datetime.datetime(1958,1,1,0,0)).total_seconds()\n",
    "print tsecmin"
   ]
  },
  {
   "cell_type": "code",
   "execution_count": 128,
   "metadata": {
    "collapsed": false
   },
   "outputs": [
    {
     "name": "stdout",
     "output_type": "stream",
     "text": [
      "2012-07-01T06:06:03.000000000\n",
      "1719813960.0\n"
     ]
    }
   ],
   "source": [
    "print str(dayen4[indz[0][0]].values)\n",
    "dateen4= pd.to_datetime(str(dayen4[indz[0][0]].values))\n",
    "ten4 = datetime.datetime(int(dateen4.strftime('%Y')),int(dateen4.strftime('%m')),int(dateen4.strftime('%d')),int(dateen4.strftime('%H')),int(dateen4.strftime('%M')))\n",
    "tsecen4=(ten4-datetime.datetime(1958,1,1,0,0)).total_seconds()\n",
    "print tsecen4"
   ]
  },
  {
   "cell_type": "code",
   "execution_count": null,
   "metadata": {
    "collapsed": true
   },
   "outputs": [],
   "source": []
  }
 ],
 "metadata": {
  "kernelspec": {
   "display_name": "Python [Root]",
   "language": "python",
   "name": "Python [Root]"
  },
  "language_info": {
   "codemirror_mode": {
    "name": "ipython",
    "version": 2
   },
   "file_extension": ".py",
   "mimetype": "text/x-python",
   "name": "python",
   "nbconvert_exporter": "python",
   "pygments_lexer": "ipython2",
   "version": "2.7.11"
  }
 },
 "nbformat": 4,
 "nbformat_minor": 0
}
