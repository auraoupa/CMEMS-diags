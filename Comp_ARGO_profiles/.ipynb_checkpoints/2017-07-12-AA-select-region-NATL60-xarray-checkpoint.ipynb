{
 "cells": [
  {
   "cell_type": "markdown",
   "metadata": {},
   "source": [
    "# Opening EN4 files containing ARGO profiles"
   ]
  },
  {
   "cell_type": "code",
   "execution_count": 1,
   "metadata": {
    "collapsed": true
   },
   "outputs": [],
   "source": [
    "## path for mdules\n",
    "\n",
    "import sys\n",
    "sys.path.insert(0,\"/home/users/albert6a/lib/python\")"
   ]
  },
  {
   "cell_type": "code",
   "execution_count": 35,
   "metadata": {
    "collapsed": false
   },
   "outputs": [],
   "source": [
    "## imports\n",
    "\n",
    "import numpy as np\n",
    "import dask\n",
    "import xarray as xr\n",
    "from netCDF4 import Dataset\n",
    "import matplotlib.pyplot as plt\n",
    "import pandas as pd \n",
    "%matplotlib inline"
   ]
  },
  {
   "cell_type": "code",
   "execution_count": 6,
   "metadata": {
    "collapsed": false
   },
   "outputs": [
    {
     "name": "stdout",
     "output_type": "stream",
     "text": [
      "/home/users/albert6a/Data/ARGO/EN.4.2.0.f.profiles.g10.201201.nc\r\n"
     ]
    }
   ],
   "source": [
    "## datasets\n",
    "\n",
    "dir=\"/home/users/albert6a/Data/ARGO/\"\n",
    "file012012=\"EN.4.2.0.f.profiles.g10.201201.nc\"\n",
    "\n",
    "tfile012012=dir+file012012\n",
    "\n",
    "!ls $tfile012012\n"
   ]
  },
  {
   "cell_type": "code",
   "execution_count": 49,
   "metadata": {
    "collapsed": true
   },
   "outputs": [],
   "source": [
    "argo012012=xr.open_dataset(tfile012012)\n",
    "dep=argo012012['DEPH_CORRECTED']\n",
    "lat=argo012012['LATITUDE']\n",
    "lon=argo012012['LONGITUDE']\n",
    "temp=argo012012['POTM_CORRECTED']\n",
    "sal=argo012012['PSAL_CORRECTED']\n",
    "day=argo012012['JULD']\n"
   ]
  },
  {
   "cell_type": "code",
   "execution_count": 8,
   "metadata": {
    "collapsed": false
   },
   "outputs": [
    {
     "data": {
      "text/plain": [
       "(23689, 400)"
      ]
     },
     "execution_count": 8,
     "metadata": {},
     "output_type": "execute_result"
    }
   ],
   "source": [
    "temp.shape"
   ]
  },
  {
   "cell_type": "code",
   "execution_count": 29,
   "metadata": {
    "collapsed": false
   },
   "outputs": [
    {
     "data": {
      "text/plain": [
       "50.0"
      ]
     },
     "execution_count": 29,
     "metadata": {},
     "output_type": "execute_result"
    }
   ],
   "source": [
    "np.trunc(lat.values[0])"
   ]
  },
  {
   "cell_type": "code",
   "execution_count": 34,
   "metadata": {
    "collapsed": false
   },
   "outputs": [
    {
     "data": {
      "text/plain": [
       "numpy.datetime64('2012-01-02T00:52:00.000000000+0100')"
      ]
     },
     "execution_count": 34,
     "metadata": {},
     "output_type": "execute_result"
    }
   ],
   "source": [
    "dday=day.values[0]"
   ]
  },
  {
   "cell_type": "code",
   "execution_count": 38,
   "metadata": {
    "collapsed": false
   },
   "outputs": [
    {
     "data": {
      "text/plain": [
       "<matplotlib.text.Text at 0x7f02a3d18390>"
      ]
     },
     "execution_count": 38,
     "metadata": {},
     "output_type": "execute_result"
    },
    {
     "data": {
      "image/png": "[encoded data removed]",
      "text/plain": [
       "<matplotlib.figure.Figure at 0x7f02a3e1b510>"
      ]
     },
     "metadata": {},
     "output_type": "display_data"
    }
   ],
   "source": [
    "plt.plot(temp[0,:],-1*dep[0,:])\n",
    "plt.xlabel('Potential temperature')\n",
    "plt.ylabel('depth')\n",
    "\n",
    "ts = pd.to_datetime(str(day.values[0])) \n",
    "d = ts.strftime('%Y.%m.%d')\n",
    "title=\"ARGO profile at lat \"+str(np.trunc(lat.values[0]))+\"deg N and lon \"+str(np.trunc(lon.values[0]))+\"deg E \"+str(d)\n",
    "plt.title(title)"
   ]
  },
  {
   "cell_type": "code",
   "execution_count": 42,
   "metadata": {
    "collapsed": false
   },
   "outputs": [],
   "source": [
    "def plot_temp_profils(nprof):\n",
    "    plt.plot(temp[nprof,:],-1*dep[nprof,:])\n",
    "    plt.xlabel('Potential temperature')\n",
    "    plt.ylabel('depth')\n",
    "    ts = pd.to_datetime(str(day.values[nprof])) \n",
    "    d = ts.strftime('%Y.%m.%d')\n",
    "    title=\"ARGO profile at lat \"+str(np.trunc(lat.values[0]))+\"deg N and lon \"+str(np.trunc(lon.values[0]))+\"deg E \"+str(d)\n",
    "    plt.title(title)"
   ]
  },
  {
   "cell_type": "code",
   "execution_count": 44,
   "metadata": {
    "collapsed": false
   },
   "outputs": [],
   "source": [
    "def plot_sal_profils(nprof):\n",
    "    plt.plot(sal[nprof,:],-1*dep[nprof,:])\n",
    "    plt.xlabel('Practical salinity')\n",
    "    plt.ylabel('depth')\n",
    "    ts = pd.to_datetime(str(day.values[nprof])) \n",
    "    d = ts.strftime('%Y.%m.%d')\n",
    "    title=\"ARGO profile at lat \"+str(np.trunc(lat.values[0]))+\"deg N and lon \"+str(np.trunc(lon.values[0]))+\"deg E \"+str(d)\n",
    "    plt.title(title)"
   ]
  },
  {
   "cell_type": "code",
   "execution_count": 43,
   "metadata": {
    "collapsed": false
   },
   "outputs": [
    {
     "data": {
      "image/png": "[encoded data removed]",
      "text/plain": [
       "<matplotlib.figure.Figure at 0x7f02a3d6f510>"
      ]
     },
     "metadata": {},
     "output_type": "display_data"
    }
   ],
   "source": [
    "plot_temp_profils(100)"
   ]
  },
  {
   "cell_type": "code",
   "execution_count": 45,
   "metadata": {
    "collapsed": false
   },
   "outputs": [
    {
     "data": {
      "image/png": "[encoded data removed]",
      "text/plain": [
       "<matplotlib.figure.Figure at 0x7f02a3b31c50>"
      ]
     },
     "metadata": {},
     "output_type": "display_data"
    }
   ],
   "source": [
    "plot_sal_profils(100)"
   ]
  },
  {
   "cell_type": "code",
   "execution_count": 51,
   "metadata": {
    "collapsed": false
   },
   "outputs": [
    {
     "name": "stdout",
     "output_type": "stream",
     "text": [
      "2012 1 2\n"
     ]
    }
   ],
   "source": [
    "ts = pd.to_datetime(str(day.values[100])) \n",
    "d = ts.strftime('%Y.%m.%d')\n",
    "dyear=d[0:4]\n",
    "dmonth=d[6:7]\n",
    "dday=d[9:10]\n",
    "print dyear,dmonth,dday"
   ]
  },
  {
   "cell_type": "code",
   "execution_count": 52,
   "metadata": {
    "collapsed": false
   },
   "outputs": [
    {
     "name": "stdout",
     "output_type": "stream",
     "text": [
      "2012 01 02\n"
     ]
    }
   ],
   "source": [
    "dyear=ts.strftime('%Y')\n",
    "dmonth=ts.strftime('%m')\n",
    "dday=ts.strftime('%d')\n",
    "print dyear,dmonth,dday"
   ]
  },
  {
   "cell_type": "code",
   "execution_count": null,
   "metadata": {
    "collapsed": true
   },
   "outputs": [],
   "source": []
  }
 ],
 "metadata": {
  "kernelspec": {
   "display_name": "Python 2",
   "language": "python",
   "name": "python2"
  },
  "language_info": {
   "codemirror_mode": {
    "name": "ipython",
    "version": 2
   },
   "file_extension": ".py",
   "mimetype": "text/x-python",
   "name": "python",
   "nbconvert_exporter": "python",
   "pygments_lexer": "ipython2",
   "version": "2.7.13"
  }
 },
 "nbformat": 4,
 "nbformat_minor": 0
}
