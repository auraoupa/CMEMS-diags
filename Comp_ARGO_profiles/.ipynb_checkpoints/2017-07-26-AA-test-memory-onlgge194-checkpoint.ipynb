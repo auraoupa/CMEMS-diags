{
 "cells": [
  {
   "cell_type": "code",
   "execution_count": 1,
   "metadata": {
    "collapsed": false
   },
   "outputs": [
    {
     "data": {
      "application/json": {
       "Software versions": [
        {
         "module": "Python",
         "version": "2.7.11 64bit [GCC 4.4.7 20120313 (Red Hat 4.4.7-1)]"
        },
        {
         "module": "IPython",
         "version": "4.2.0"
        },
        {
         "module": "OS",
         "version": "Linux 3.16.0 4 amd64 x86_64 with debian 8.5"
        },
        {
         "module": "numpy",
         "version": "1.11.1"
        },
        {
         "module": "xarray",
         "version": "0.9.1"
        },
        {
         "module": "netCDF4",
         "version": "1.2.4"
        }
       ]
      },
      "text/html": [
       "<table><tr><th>Software</th><th>Version</th></tr><tr><td>Python</td><td>2.7.11 64bit [GCC 4.4.7 20120313 (Red Hat 4.4.7-1)]</td></tr><tr><td>IPython</td><td>4.2.0</td></tr><tr><td>OS</td><td>Linux 3.16.0 4 amd64 x86_64 with debian 8.5</td></tr><tr><td>numpy</td><td>1.11.1</td></tr><tr><td>xarray</td><td>0.9.1</td></tr><tr><td>netCDF4</td><td>1.2.4</td></tr><tr><td colspan='2'>Thu Aug 24 10:26:10 2017 CEST</td></tr></table>"
      ],
      "text/latex": [
       "\\begin{tabular}{|l|l|}\\hline\n",
       "{\\bf Software} & {\\bf Version} \\\\ \\hline\\hline\n",
       "Python & 2.7.11 64bit [GCC 4.4.7 20120313 (Red Hat 4.4.7-1)] \\\\ \\hline\n",
       "IPython & 4.2.0 \\\\ \\hline\n",
       "OS & Linux 3.16.0 4 amd64 x86\\_64 with debian 8.5 \\\\ \\hline\n",
       "numpy & 1.11.1 \\\\ \\hline\n",
       "xarray & 0.9.1 \\\\ \\hline\n",
       "netCDF4 & 1.2.4 \\\\ \\hline\n",
       "\\hline \\multicolumn{2}{|l|}{Thu Aug 24 10:26:10 2017 CEST} \\\\ \\hline\n",
       "\\end{tabular}\n"
      ],
      "text/plain": [
       "Software versions\n",
       "Python 2.7.11 64bit [GCC 4.4.7 20120313 (Red Hat 4.4.7-1)]\n",
       "IPython 4.2.0\n",
       "OS Linux 3.16.0 4 amd64 x86_64 with debian 8.5\n",
       "numpy 1.11.1\n",
       "xarray 0.9.1\n",
       "netCDF4 1.2.4\n",
       "Thu Aug 24 10:26:10 2017 CEST"
      ]
     },
     "execution_count": 1,
     "metadata": {},
     "output_type": "execute_result"
    }
   ],
   "source": [
    "## magics\n",
    "\n",
    "%load_ext version_information \n",
    "%version_information numpy,xarray,netCDF4"
   ]
  },
  {
   "cell_type": "code",
   "execution_count": 2,
   "metadata": {
    "collapsed": true
   },
   "outputs": [],
   "source": [
    "## path for mdules\n",
    "\n",
    "import sys\n",
    "sys.path.insert(0,\"/home/albert/lib/python\")"
   ]
  },
  {
   "cell_type": "code",
   "execution_count": 3,
   "metadata": {
    "collapsed": true
   },
   "outputs": [],
   "source": [
    "## imports\n",
    "\n",
    "import numpy as np\n",
    "import dask\n",
    "import xarray as xr\n",
    "from netCDF4 import Dataset\n",
    "import matplotlib.pyplot as plt\n",
    "import pandas as pd \n",
    "import datetime\n",
    "import glob as glob\n",
    "import matplotlib.gridspec as gridspec\n",
    "from mpl_toolkits.basemap import Basemap\n",
    "import time\n",
    "from dask.diagnostics import ProgressBar\n",
    "\n",
    "%matplotlib inline"
   ]
  },
  {
   "cell_type": "code",
   "execution_count": 4,
   "metadata": {
    "collapsed": false
   },
   "outputs": [
    {
     "name": "stdout",
     "output_type": "stream",
     "text": [
      "/media/extra/DATA/NATL60/NATL60-CJM165-S/NATL60-CJM165_y2012m06d14.1d_gridT.nc\r\n"
     ]
    }
   ],
   "source": [
    "## datasets\n",
    "\n",
    "#NATL60\n",
    "\n",
    "dir=\"/media/extra/DATA/NATL60/NATL60-CJM165-S/\"\n",
    "file=\"NATL60-CJM165_y2012m06d14.1d_gridT.nc\"\n",
    "\n",
    "tfile=dir+file\n",
    "\n",
    "!ls $tfile\n"
   ]
  },
  {
   "cell_type": "code",
   "execution_count": 6,
   "metadata": {
    "collapsed": true
   },
   "outputs": [],
   "source": [
    "dsN = xr.open_dataset(tfile, chunks={'deptht':30 ,'time_counter':1})"
   ]
  },
  {
   "cell_type": "code",
   "execution_count": 15,
   "metadata": {
    "collapsed": false
   },
   "outputs": [
    {
     "data": {
      "text/plain": [
       "<xarray.Dataset>\n",
       "Dimensions:               (axis_nbounds: 2, deptht: 300, time_counter: 1, x: 5422, y: 3454)\n",
       "Coordinates:\n",
       "    nav_lat               (y, x) float32 26.5648 26.5648 26.5648 26.5648 ...\n",
       "    nav_lon               (y, x) float32 -81.4512 -81.4346 -81.4179 -81.4012 ...\n",
       "  * deptht                (deptht) float32 0.480455 1.55879 2.79421 4.18731 ...\n",
       "    time_centered         (time_counter) datetime64[ns] 2012-06-14T12:00:00\n",
       "  * time_counter          (time_counter) datetime64[ns] 2012-06-14T12:00:00\n",
       "Dimensions without coordinates: axis_nbounds, x, y\n",
       "Data variables:\n",
       "    deptht_bounds         (deptht, axis_nbounds) float32 0.0 1.00003 ...\n",
       "    votemper              (time_counter, deptht, y, x) float64 nan nan nan ...\n",
       "    time_centered_bounds  (time_counter, axis_nbounds) float64 1.718e+09 ...\n",
       "    time_counter_bounds   (time_counter, axis_nbounds) float64 1.718e+09 ...\n",
       "    vosaline              (time_counter, deptht, y, x) float64 nan nan nan ...\n",
       "    sossheig              (time_counter, y, x) float64 nan nan nan nan nan ...\n",
       "    temtrd_zdf            (time_counter, deptht, y, x) float64 nan nan nan ...\n",
       "    saltrd_zdf            (time_counter, deptht, y, x) float64 nan nan nan ...\n",
       "Attributes:\n",
       "    description: ocean T grid variables\n",
       "    title: ocean T grid variables\n",
       "    Conventions: CF-1.5\n",
       "    production: An IPSL model\n",
       "    start_date: 20120301\n",
       "    output_frequency: 1d\n",
       "    CONFIG: NATL60\n",
       "    CASE: CJM165"
      ]
     },
     "execution_count": 15,
     "metadata": {},
     "output_type": "execute_result"
    }
   ],
   "source": [
    "dsN"
   ]
  },
  {
   "cell_type": "code",
   "execution_count": 7,
   "metadata": {
    "collapsed": false
   },
   "outputs": [],
   "source": [
    "latN = dsN.nav_lat\n",
    "lonN = dsN.nav_lon\n",
    "tempN=dsN.votemper\n",
    "saltN=dsN.vosaline\n",
    "depN = dsN.deptht\n",
    "timN = dsN.time_counter"
   ]
  },
  {
   "cell_type": "code",
   "execution_count": 8,
   "metadata": {
    "collapsed": true
   },
   "outputs": [],
   "source": [
    "observation_lon=-63.784\n",
    "observation_lat=37.495"
   ]
  },
  {
   "cell_type": "code",
   "execution_count": 50,
   "metadata": {
    "collapsed": false
   },
   "outputs": [],
   "source": [
    "#decoupage grossier autour de la position du profile ARGO pour un niveau vertical\n",
    "\n",
    "indxBOX=np.where((lonN>observation_lon-1)&(lonN<observation_lon+1)&(latN>observation_lat-1)&(latN<observation_lat+1))  \n",
    "model_lonBOX=lonN[np.min(indxBOX[0]):np.max(indxBOX[0]),np.min(indxBOX[1]):np.max(indxBOX[1])]\n",
    "model_latBOX=latN[np.min(indxBOX[0]):np.max(indxBOX[0]),np.min(indxBOX[1]):np.max(indxBOX[1])]\n",
    "model_tempBOX=tempN[:,0,np.min(indxBOX[0]):np.max(indxBOX[0]),np.min(indxBOX[1]):np.max(indxBOX[1])]\n",
    "model_saltBOX=saltN[:,0,np.min(indxBOX[0]):np.max(indxBOX[0]),np.min(indxBOX[1]):np.max(indxBOX[1])]\n",
    "\n",
    "model_lonBOX_array=model_lonBOX.values\n",
    "model_latBOX_array=model_latBOX.values\n",
    "model_tempBOX_array=model_tempBOX.values\n",
    "model_saltBOX_array=model_saltBOX.values\n",
    "time_array=timN.values\n",
    "t_dim=np.arange(1)\n",
    "x_dim=np.arange(122)\n",
    "y_dim=np.arange(159)\n"
   ]
  },
  {
   "cell_type": "code",
   "execution_count": 51,
   "metadata": {
    "collapsed": false
   },
   "outputs": [
    {
     "data": {
      "text/plain": [
       "array([[-64.77238464, -64.75571442, -64.73905182, ..., -62.78866196,\n",
       "        -62.77199173, -62.7553215 ],\n",
       "       [-64.77262878, -64.75595856, -64.73929596, ..., -62.7889061 ,\n",
       "        -62.77223587, -62.75556183],\n",
       "       [-64.77287292, -64.75621033, -64.7395401 , ..., -62.78915024,\n",
       "        -62.77248001, -62.75580978],\n",
       "       ..., \n",
       "       [-64.81837463, -64.80170441, -64.78503418, ..., -62.83447266,\n",
       "        -62.81779861, -62.80112457],\n",
       "       [-64.81871796, -64.80205536, -64.78538513, ..., -62.83482361,\n",
       "        -62.81814575, -62.80147171],\n",
       "       [-64.81906891, -64.80239868, -64.78573608, ..., -62.83517075,\n",
       "        -62.8184967 , -62.80182266]], dtype=float32)"
      ]
     },
     "execution_count": 51,
     "metadata": {},
     "output_type": "execute_result"
    }
   ],
   "source": [
    "model_lonBOX_array"
   ]
  },
  {
   "cell_type": "code",
   "execution_count": 52,
   "metadata": {
    "collapsed": false
   },
   "outputs": [
    {
     "name": "stdout",
     "output_type": "stream",
     "text": [
      "(1,)\n",
      "(159, 122)\n",
      "(159, 122)\n",
      "(1, 159, 122)\n",
      "(1, 159, 122)\n",
      "(1,)\n",
      "(122,)\n",
      "(159,)\n"
     ]
    }
   ],
   "source": [
    "print time_array.shape\n",
    "print model_latBOX_array.shape\n",
    "print model_lonBOX_array.shape\n",
    "print model_tempBOX_array.shape\n",
    "print model_saltBOX_array.shape\n",
    "print t_dim.shape\n",
    "print x_dim.shape\n",
    "print y_dim.shape"
   ]
  },
  {
   "cell_type": "code",
   "execution_count": 53,
   "metadata": {
    "collapsed": false
   },
   "outputs": [
    {
     "data": {
      "text/plain": [
       "<xarray.Dataset>\n",
       "Dimensions:       (time_counter: 1, x: 122, y: 159)\n",
       "Coordinates:\n",
       "  * time_counter  (time_counter) int64 0\n",
       "  * y             (y) int64 0 1 2 3 4 5 6 7 8 9 10 11 12 13 14 15 16 17 18 ...\n",
       "  * x             (x) int64 0 1 2 3 4 5 6 7 8 9 10 11 12 13 14 15 16 17 18 ...\n",
       "Data variables:\n",
       "    votemper      (time_counter, y, x) float64 24.43 24.44 24.44 24.45 24.45 ...\n",
       "    nav_lat       (y, x) float32 36.4767 36.477 36.4772 36.4774 36.4776 ...\n",
       "    nav_lon       (y, x) float32 -64.7724 -64.7557 -64.7391 -64.7224 ...\n",
       "    vosaline      (time_counter, y, x) float64 36.36 36.36 36.36 36.36 36.36 ..."
      ]
     },
     "execution_count": 53,
     "metadata": {},
     "output_type": "execute_result"
    }
   ],
   "source": [
    "\n",
    "d = {}\n",
    "d['time_counter'] = ('time_counter',t_dim)\n",
    "d['y'] = ('y',y_dim)\n",
    "d['x'] = ('x',x_dim)\n",
    "d['nav_lat'] = (['y','x'],model_latBOX_array)\n",
    "d['nav_lon'] = (['y','x'],model_lonBOX_array)\n",
    "\n",
    "d['votemper'] = (['time_counter','y','x'], model_tempBOX_array)\n",
    "d['vosaline'] = (['time_counter','y','x'], model_saltBOX_array)\n",
    "\n",
    "dset = xr.Dataset(d)\n",
    "dset"
   ]
  },
  {
   "cell_type": "code",
   "execution_count": 54,
   "metadata": {
    "collapsed": false
   },
   "outputs": [],
   "source": [
    "latB = dset.nav_lat\n",
    "lonB = dset.nav_lon\n",
    "model_temperatureB = dset.votemper\n",
    "model_salinityB = dset.vosaline\n"
   ]
  },
  {
   "cell_type": "code",
   "execution_count": 55,
   "metadata": {
    "collapsed": true
   },
   "outputs": [],
   "source": [
    "model_temperature_stacked = model_temperatureB.stack(profile=('x', 'y'))\n",
    "model_salinity_stacked = model_salinityB.stack(profile=('x', 'y'))\n",
    "lon_stacked = lonB.stack(profile=('x', 'y'))\n",
    "lat_stacked = latB.stack(profile=('x', 'y'))\n"
   ]
  },
  {
   "cell_type": "code",
   "execution_count": 56,
   "metadata": {
    "collapsed": true
   },
   "outputs": [],
   "source": [
    "distance_threshold = 0.25\n",
    "square_distance_to_observation = (lon_stacked - observation_lon)**2 + (lat_stacked-observation_lat)**2\n",
    "is_close_to_observation = square_distance_to_observation < distance_threshold**2\n",
    "\n",
    "model_temperature_near_observation = model_temperature_stacked.where(is_close_to_observation,drop=True)\n",
    "model_salinity_near_observation = model_salinity_stacked.where(is_close_to_observation, drop=True)\n",
    "lat_near_observation = lat_stacked.where(is_close_to_observation, drop=True)\n",
    "lon_near_observation = lon_stacked.where(is_close_to_observation, drop=True)"
   ]
  },
  {
   "cell_type": "code",
   "execution_count": 58,
   "metadata": {
    "collapsed": true
   },
   "outputs": [],
   "source": [
    "model_mean = model_temperature_near_observation.mean()\n",
    "    \n",
    "percentile_10= model_temperature_near_observation.quantile(0.1)\n",
    "    \n",
    "percentile_90= model_temperature_near_observation.quantile(0.9)\n"
   ]
  },
  {
   "cell_type": "code",
   "execution_count": 64,
   "metadata": {
    "collapsed": false
   },
   "outputs": [
    {
     "data": {
      "text/plain": [
       "<xarray.DataArray ()>\n",
       "array(24.728003585043457)"
      ]
     },
     "execution_count": 64,
     "metadata": {},
     "output_type": "execute_result"
    }
   ],
   "source": [
    "model_mean"
   ]
  },
  {
   "cell_type": "code",
   "execution_count": 67,
   "metadata": {
    "collapsed": true
   },
   "outputs": [],
   "source": [
    "#loop over vertical level\n",
    "def profile_mean_percent(k):\n",
    "\n",
    "    #decoupage grossier autour de la position du profile ARGO pour un niveau vertical\n",
    "\n",
    "    indxBOX=np.where((lonN>observation_lon-1)&(lonN<observation_lon+1)&(latN>observation_lat-1)&(latN<observation_lat+1))  \n",
    "    model_lonBOX=lonN[np.min(indxBOX[0]):np.max(indxBOX[0]),np.min(indxBOX[1]):np.max(indxBOX[1])]\n",
    "    model_latBOX=latN[np.min(indxBOX[0]):np.max(indxBOX[0]),np.min(indxBOX[1]):np.max(indxBOX[1])]\n",
    "    model_tempBOX=tempN[:,k,np.min(indxBOX[0]):np.max(indxBOX[0]),np.min(indxBOX[1]):np.max(indxBOX[1])]\n",
    "    model_saltBOX=saltN[:,k,np.min(indxBOX[0]):np.max(indxBOX[0]),np.min(indxBOX[1]):np.max(indxBOX[1])]\n",
    "\n",
    "    model_lonBOX_array=model_lonBOX.values\n",
    "    model_latBOX_array=model_latBOX.values\n",
    "    model_tempBOX_array=model_tempBOX.values\n",
    "    model_saltBOX_array=model_saltBOX.values\n",
    "    time_array=timN.values\n",
    "    t_dim=np.arange(1)\n",
    "    x_dim=np.arange(122)\n",
    "    y_dim=np.arange(159)\n",
    "\n",
    "    # construction d'un nouveau xarray\n",
    "    d = {}\n",
    "    d['time_counter'] = ('time_counter',t_dim)\n",
    "    d['y'] = ('y',y_dim)\n",
    "    d['x'] = ('x',x_dim)\n",
    "    d['nav_lat'] = (['y','x'],model_latBOX_array)\n",
    "    d['nav_lon'] = (['y','x'],model_lonBOX_array)\n",
    "    \n",
    "    d['votemper'] = (['time_counter','y','x'], model_tempBOX_array)\n",
    "    d['vosaline'] = (['time_counter','y','x'], model_saltBOX_array)\n",
    "    \n",
    "    dset = xr.Dataset(d)\n",
    "    \n",
    "    latB = dset.nav_lat\n",
    "    lonB = dset.nav_lon\n",
    "    model_temperatureB = dset.votemper\n",
    "    model_salinityB = dset.vosaline\n",
    "    \n",
    "    # selection plus fine des profils\n",
    "    \n",
    "    model_temperature_stacked = model_temperatureB.stack(profile=('x', 'y'))\n",
    "    model_salinity_stacked = model_salinityB.stack(profile=('x', 'y'))\n",
    "    lon_stacked = lonB.stack(profile=('x', 'y'))\n",
    "    lat_stacked = latB.stack(profile=('x', 'y'))\n",
    "    \n",
    "    distance_threshold = 0.25\n",
    "    square_distance_to_observation = (lon_stacked - observation_lon)**2 + (lat_stacked-observation_lat)**2\n",
    "    is_close_to_observation = square_distance_to_observation < distance_threshold**2\n",
    "    \n",
    "    model_temperature_near_observation = model_temperature_stacked.where(is_close_to_observation,drop=True)\n",
    "    model_salinity_near_observation = model_salinity_stacked.where(is_close_to_observation, drop=True)\n",
    "    lat_near_observation = lat_stacked.where(is_close_to_observation, drop=True)\n",
    "    lon_near_observation = lon_stacked.where(is_close_to_observation, drop=True)\n",
    "    \n",
    "    model_mean = model_temperature_near_observation.mean()\n",
    "    percentile_10= model_temperature_near_observation.quantile(0.1)\n",
    "    percentile_90= model_temperature_near_observation.quantile(0.9)\n",
    "\n",
    "    return model_mean,percentile_10,percentile_90"
   ]
  },
  {
   "cell_type": "code",
   "execution_count": 68,
   "metadata": {
    "collapsed": false
   },
   "outputs": [
    {
     "name": "stdout",
     "output_type": "stream",
     "text": [
      "1 loop, best of 3: 26.4 s per loop\n"
     ]
    }
   ],
   "source": [
    "%timeit profile_mean_percent(0)"
   ]
  },
  {
   "cell_type": "code",
   "execution_count": 72,
   "metadata": {
    "collapsed": false
   },
   "outputs": [
    {
     "name": "stdout",
     "output_type": "stream",
     "text": [
      "1 loop, best of 3: 25.9 s per loop\n"
     ]
    }
   ],
   "source": [
    "%timeit profile_mean_percent(0)"
   ]
  },
  {
   "cell_type": "code",
   "execution_count": 69,
   "metadata": {
    "collapsed": true
   },
   "outputs": [],
   "source": [
    "#loop over vertical level\n",
    "def profile_mean(k):\n",
    "\n",
    "    #decoupage grossier autour de la position du profile ARGO pour un niveau vertical\n",
    "\n",
    "    indxBOX=np.where((lonN>observation_lon-1)&(lonN<observation_lon+1)&(latN>observation_lat-1)&(latN<observation_lat+1))  \n",
    "    model_lonBOX=lonN[np.min(indxBOX[0]):np.max(indxBOX[0]),np.min(indxBOX[1]):np.max(indxBOX[1])]\n",
    "    model_latBOX=latN[np.min(indxBOX[0]):np.max(indxBOX[0]),np.min(indxBOX[1]):np.max(indxBOX[1])]\n",
    "    model_tempBOX=tempN[:,k,np.min(indxBOX[0]):np.max(indxBOX[0]),np.min(indxBOX[1]):np.max(indxBOX[1])]\n",
    "    model_saltBOX=saltN[:,k,np.min(indxBOX[0]):np.max(indxBOX[0]),np.min(indxBOX[1]):np.max(indxBOX[1])]\n",
    "\n",
    "    model_lonBOX_array=model_lonBOX.values\n",
    "    model_latBOX_array=model_latBOX.values\n",
    "    model_tempBOX_array=model_tempBOX.values\n",
    "    model_saltBOX_array=model_saltBOX.values\n",
    "    time_array=timN.values\n",
    "    t_dim=np.arange(1)\n",
    "    x_dim=np.arange(122)\n",
    "    y_dim=np.arange(159)\n",
    "\n",
    "    # construction d'un nouveau xarray\n",
    "    d = {}\n",
    "    d['time_counter'] = ('time_counter',t_dim)\n",
    "    d['y'] = ('y',y_dim)\n",
    "    d['x'] = ('x',x_dim)\n",
    "    d['nav_lat'] = (['y','x'],model_latBOX_array)\n",
    "    d['nav_lon'] = (['y','x'],model_lonBOX_array)\n",
    "    \n",
    "    d['votemper'] = (['time_counter','y','x'], model_tempBOX_array)\n",
    "    d['vosaline'] = (['time_counter','y','x'], model_saltBOX_array)\n",
    "    \n",
    "    dset = xr.Dataset(d)\n",
    "    \n",
    "    latB = dset.nav_lat\n",
    "    lonB = dset.nav_lon\n",
    "    model_temperatureB = dset.votemper\n",
    "    model_salinityB = dset.vosaline\n",
    "    \n",
    "    # selection plus fine des profils\n",
    "    \n",
    "    model_temperature_stacked = model_temperatureB.stack(profile=('x', 'y'))\n",
    "    model_salinity_stacked = model_salinityB.stack(profile=('x', 'y'))\n",
    "    lon_stacked = lonB.stack(profile=('x', 'y'))\n",
    "    lat_stacked = latB.stack(profile=('x', 'y'))\n",
    "    \n",
    "    distance_threshold = 0.25\n",
    "    square_distance_to_observation = (lon_stacked - observation_lon)**2 + (lat_stacked-observation_lat)**2\n",
    "    is_close_to_observation = square_distance_to_observation < distance_threshold**2\n",
    "    \n",
    "    model_temperature_near_observation = model_temperature_stacked.where(is_close_to_observation,drop=True)\n",
    "    model_salinity_near_observation = model_salinity_stacked.where(is_close_to_observation, drop=True)\n",
    "    lat_near_observation = lat_stacked.where(is_close_to_observation, drop=True)\n",
    "    lon_near_observation = lon_stacked.where(is_close_to_observation, drop=True)\n",
    "    \n",
    "    model_mean = model_temperature_near_observation.mean()\n",
    "\n",
    "    return model_mean"
   ]
  },
  {
   "cell_type": "code",
   "execution_count": 70,
   "metadata": {
    "collapsed": false
   },
   "outputs": [
    {
     "name": "stdout",
     "output_type": "stream",
     "text": [
      "1 loop, best of 3: 26.7 s per loop\n"
     ]
    }
   ],
   "source": [
    "%timeit profile_mean(0)"
   ]
  },
  {
   "cell_type": "code",
   "execution_count": 71,
   "metadata": {
    "collapsed": false
   },
   "outputs": [
    {
     "name": "stdout",
     "output_type": "stream",
     "text": [
      "1 loop, best of 3: 25.9 s per loop\n"
     ]
    }
   ],
   "source": [
    "%timeit profile_mean(0)"
   ]
  },
  {
   "cell_type": "code",
   "execution_count": 73,
   "metadata": {
    "collapsed": false
   },
   "outputs": [
    {
     "name": "stdout",
     "output_type": "stream",
     "text": [
      "1 loop, best of 3: 24.7 s per loop\n"
     ]
    }
   ],
   "source": [
    "%timeit profile_mean(1)"
   ]
  },
  {
   "cell_type": "code",
   "execution_count": null,
   "metadata": {
    "collapsed": true
   },
   "outputs": [],
   "source": []
  }
 ],
 "metadata": {
  "kernelspec": {
   "display_name": "Python [Root]",
   "language": "python",
   "name": "Python [Root]"
  },
  "language_info": {
   "codemirror_mode": {
    "name": "ipython",
    "version": 2
   },
   "file_extension": ".py",
   "mimetype": "text/x-python",
   "name": "python",
   "nbconvert_exporter": "python",
   "pygments_lexer": "ipython2",
   "version": "2.7.11"
  }
 },
 "nbformat": 4,
 "nbformat_minor": 0
}
