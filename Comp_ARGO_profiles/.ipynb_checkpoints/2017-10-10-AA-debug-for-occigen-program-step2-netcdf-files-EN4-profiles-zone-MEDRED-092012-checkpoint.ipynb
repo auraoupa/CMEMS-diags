{
 "cells": [
  {
   "cell_type": "code",
   "execution_count": 1,
   "metadata": {
    "collapsed": true
   },
   "outputs": [],
   "source": [
    "import sys\n",
    "sys.path.insert(0,\"/home/albert7a/lib/python\")\n",
    "\n",
    "\n",
    "## imports\n",
    "\n",
    "import numpy as np\n",
    "import dask\n",
    "import xarray as xr\n",
    "from netCDF4 import Dataset\n",
    "import matplotlib.pyplot as plt\n",
    "import pandas as pd\n",
    "import datetime\n",
    "import glob as glob\n",
    "import matplotlib.gridspec as gridspec\n",
    "from mpl_toolkits.basemap import Basemap\n",
    "import time\n",
    "from dask.diagnostics import ProgressBar\n",
    "from datetime import date"
   ]
  },
  {
   "cell_type": "code",
   "execution_count": 2,
   "metadata": {},
   "outputs": [],
   "source": [
    "latmin=-1.5\n",
    "latmax=5\n",
    "lonmin=35\n",
    "lonmax=40\n",
    "datemin='2012-09-01T00:00'\n",
    "datemax='2012-09-30T23:59'"
   ]
  },
  {
   "cell_type": "code",
   "execution_count": 4,
   "metadata": {},
   "outputs": [
    {
     "name": "stdout",
     "output_type": "stream",
     "text": [
      " lamin= 26.5648 lamax= 67.3871 lomin= -86.255 lomax= 17.7867 tmin= 1719835200.0 tmax= 1722427200.0\n",
      "tsecmin= 1725148800.0 tsecmax= 1727740740.0\n",
      "selected area does not fall within NATL60-CJM165 boundaries, the program is stopping\n"
     ]
    }
   ],
   "source": [
    "tfiles=\"/media/extra/DATA/NATL60/NATL60-CJM165-S/3d/NATL60-CJM165_y????m??d??.1d_gridT.nc\"\n",
    "dsN = xr.open_mfdataset(tfiles,concat_dim='time_counter',decode_times=False, chunks={'deptht':1 ,'time_counter':10})\n",
    "\n",
    "latN = dsN.nav_lat\n",
    "lonN = dsN.nav_lon\n",
    "timN = dsN.time_counter\n",
    "\n",
    "lamin=np.nanmin(latN.values)\n",
    "lamax=np.nanmax(latN.values)\n",
    "lomin=np.nanmin(lonN.values)\n",
    "lomax=np.nanmax(lonN.values)\n",
    "tmin=np.min(timN.values)\n",
    "tmax=np.max(timN.values)\n",
    "\n",
    "print 'lamin=',lamin,'lamax=',lamax,'lomin=',lomin,'lomax=',lomax,'tmin=',tmin,'tmax=',tmax\n",
    "\n",
    "datetmin=pd.to_datetime(datemin)\n",
    "datetmax=pd.to_datetime(datemax)\n",
    "ttmin=datetime.datetime(int(datetmin.strftime('%Y')),int(datetmin.strftime('%m')),int(datetmin.strftime('%d')),int(datetmin.strftime('%H')),int(datetmin.strftime('%M')))\n",
    "ttmax=datetime.datetime(int(datetmax.strftime('%Y')),int(datetmax.strftime('%m')),int(datetmax.strftime('%d')),int(datetmax.strftime('%H')),int(datetmax.strftime('%M')))\n",
    "tsecmin=(ttmin-datetime.datetime(1958,1,1,0,0)).total_seconds()\n",
    "tsecmax=(ttmax-datetime.datetime(1958,1,1,0,0)).total_seconds()\n",
    "\n",
    "print 'tsecmin=',tsecmin,'tsecmax=',tsecmax\n",
    "if (lamin < latmin < lamax) & (lamin < latmax < lamax) & (lomin < lonmin < lomax) & (lomin < lonmax < lomax) & (tmin < tsecmin < tmax) & (tmin < tsecmax < tmax):\n",
    "        print \"selected area falls within NATL60-CJM165 boundaries, the program is proceeding\"\n",
    "else:\n",
    "        print \"selected area does not fall within NATL60-CJM165 boundaries, the program is stopping\"\n",
    "\n"
   ]
  },
  {
   "cell_type": "code",
   "execution_count": 5,
   "metadata": {},
   "outputs": [],
   "source": [
    "yearmin=datemin[0:4]\n",
    "monthmin=datemin[5:7]\n",
    "yearmax=datemax[0:4]\n",
    "monthmax=datemax[5:7]\n"
   ]
  },
  {
   "cell_type": "code",
   "execution_count": 6,
   "metadata": {},
   "outputs": [
    {
     "name": "stdout",
     "output_type": "stream",
     "text": [
      "['EN.4.2.0.f.profiles.g10.201209.nc']\n"
     ]
    }
   ],
   "source": [
    "diren4=\"/media/extra/DATA/ARGO/\"\n",
    "list_filesEN4=[]\n",
    "if yearmin == yearmax:\n",
    "    for m in np.arange(int(monthmin),int(monthmax)+1):\n",
    "        if m < 10:\n",
    "            list_filesEN4.append('EN.4.2.0.f.profiles.g10.'+yearmin+'0'+str(m)+'.nc')\n",
    "        else:\n",
    "            list_filesEN4.append('EN.4.2.0.f.profiles.g10.'+yearmin+str(m)+'.nc')\n",
    "else:\n",
    "    for m in np.arange(int(monthmin),13):\n",
    "        if m < 10:\n",
    "            list_filesEN4.append('EN.4.2.0.f.profiles.g10.'+yearmin+'0'+str(m)+'.nc')\n",
    "        else:\n",
    "            list_filesEN4.append('EN.4.2.0.f.profiles.g10.'+yearmin+str(m)+'.nc')\n",
    "    for m in np.arange(1,int(monthmax)+1):\n",
    "        if m < 10:\n",
    "            list_filesEN4.append('EN.4.2.0.f.profiles.g10.'+yearmax+'0'+str(m)+'.nc')\n",
    "        else:\n",
    "            list_filesEN4.append('EN.4.2.0.f.profiles.g10.'+yearmax+str(m)+'.nc')\n",
    "print list_filesEN4"
   ]
  },
  {
   "cell_type": "code",
   "execution_count": 143,
   "metadata": {},
   "outputs": [
    {
     "name": "stdout",
     "output_type": "stream",
     "text": [
      "1721606400.0 1721779140.0\n"
     ]
    }
   ],
   "source": [
    "print tsecmin,tsecmax"
   ]
  },
  {
   "cell_type": "code",
   "execution_count": 12,
   "metadata": {},
   "outputs": [
    {
     "name": "stdout",
     "output_type": "stream",
     "text": [
      "/media/extra/DATA/ARGO/EN.4.2.0.f.profiles.g10.201209.nc\n",
      "/media/extra/DATA/ARGO/EN.4.2.0.f.profiles.g10.201209.nc\n",
      "0\n",
      "0\n"
     ]
    },
    {
     "ename": "NameError",
     "evalue": "name 'dictyml' is not defined",
     "output_type": "error",
     "traceback": [
      "\u001b[1;31m---------------------------------------------------------------------------\u001b[0m",
      "\u001b[1;31mNameError\u001b[0m                                 Traceback (most recent call last)",
      "\u001b[1;32m<ipython-input-12-72f114100ae5>\u001b[0m in \u001b[0;36m<module>\u001b[1;34m()\u001b[0m\n\u001b[0;32m     34\u001b[0m \u001b[1;33m\u001b[0m\u001b[0m\n\u001b[0;32m     35\u001b[0m \u001b[1;33m\u001b[0m\u001b[0m\n\u001b[1;32m---> 36\u001b[1;33m     \u001b[1;32mprint\u001b[0m \u001b[0mdictyml\u001b[0m\u001b[1;33m[\u001b[0m\u001b[0mstr\u001b[0m\u001b[1;33m(\u001b[0m\u001b[0mrefen4\u001b[0m\u001b[1;33m[\u001b[0m\u001b[0mprof_zone\u001b[0m\u001b[1;33m[\u001b[0m\u001b[1;36m0\u001b[0m\u001b[1;33m]\u001b[0m\u001b[1;33m]\u001b[0m\u001b[1;33m.\u001b[0m\u001b[0mvalues\u001b[0m\u001b[1;33m)\u001b[0m\u001b[1;33m]\u001b[0m\u001b[1;33m\u001b[0m\u001b[0m\n\u001b[0m\u001b[0;32m     37\u001b[0m \u001b[1;33m\u001b[0m\u001b[0m\n\u001b[0;32m     38\u001b[0m     \u001b[1;32mwith\u001b[0m \u001b[0mio\u001b[0m\u001b[1;33m.\u001b[0m\u001b[0mopen\u001b[0m\u001b[1;33m(\u001b[0m\u001b[0mjsonfile\u001b[0m\u001b[1;33m,\u001b[0m \u001b[1;34m'w'\u001b[0m\u001b[1;33m,\u001b[0m \u001b[0mencoding\u001b[0m\u001b[1;33m=\u001b[0m\u001b[1;34m'utf8'\u001b[0m\u001b[1;33m)\u001b[0m \u001b[1;32mas\u001b[0m \u001b[0moutfile\u001b[0m\u001b[1;33m:\u001b[0m\u001b[1;33m\u001b[0m\u001b[0m\n",
      "\u001b[1;31mNameError\u001b[0m: name 'dictyml' is not defined"
     ]
    }
   ],
   "source": [
    "for f in np.arange(len(list_filesEN4)):\n",
    "    fileEN4=list_filesEN4[f]\n",
    "    tfileEN4=diren4+fileEN4\n",
    "    print tfileEN4\n",
    "    !ls $tfileEN4\n",
    "    dsen4=xr.open_dataset(tfileEN4)\n",
    "    laten4=dsen4['LATITUDE']\n",
    "    lonen4=dsen4['LONGITUDE']\n",
    "    dayen4=dsen4['JULD']\n",
    "    refen4=dsen4['DC_REFERENCE']\n",
    "\n",
    "    indz=np.where((lonmin<lonen4.values)&(lonen4.values<lonmax)&(latmin<laten4.values)&(laten4.values<latmax))\n",
    "    prof_zone=[]\n",
    "    tsecen4z=[]\n",
    "    print len(indz[0])\n",
    "    \n",
    "    for ref in np.arange(len(indz[0])):\n",
    "            dateen4= pd.to_datetime(str(dayen4[indz[0][ref]].values))\n",
    "            ten4 = datetime.datetime(int(dateen4.strftime('%Y')),int(dateen4.strftime('%m')),int(dateen4.strftime('%d')),int(dateen4.strftime('%H')),int(dateen4.strftime('%M')))\n",
    "            tsecen4=(ten4-datetime.datetime(1958,1,1,0,0)).total_seconds()\n",
    "            if (tsecen4 < tsecmax) & (tsecen4 > tsecmin):\n",
    "                    print str(dayen4[indz[0][ref]].values),tsecen4\n",
    "                    prof_zone.append(indz[0][ref])\n",
    "                    tsecen4z.append(tsecen4)\n",
    "\n",
    "    print len(prof_zone)\n",
    "    \n",
    "    for ref in np.arange(len(prof_zone)):\n",
    "            if (f == 0) & (ref == 0):\n",
    "                    dictyml={str(refen4[prof_zone[ref]].values):{'reference':str(refen4[prof_zone[ref]].values),'file':fileEN4,'profile no':int(prof_zone[ref]),'latitude':float(laten4[prof_zone[ref]].values),'longitude':float(lonen4[prof_zone[ref]].values),'date':str(dayen4[prof_zone[ref]].values)}}\n",
    "            else:\n",
    "                    up={str(refen4[prof_zone[ref]].values):{'reference':str(refen4[prof_zone[ref]].values),'file':fileEN4,'profile no':int(prof_zone[ref]),'latitude':float(laten4[prof_zone[ref]].values),'longitude':float(lonen4[prof_zone[ref]].values),'date':str(dayen4[prof_zone[ref]].values)}}\n",
    "                    dictyml.update(up)\n",
    "\n",
    "\n",
    "    print dictyml[str(refen4[prof_zone[0]].values)]\n",
    "\n",
    "    with io.open(jsonfile, 'w', encoding='utf8') as outfile:\n",
    "            outfile.write(unicode(json.dumps(dictyml, sort_keys=True,indent=4, separators=(',', ': '))))\n",
    "\n"
   ]
  },
  {
   "cell_type": "code",
   "execution_count": 85,
   "metadata": {},
   "outputs": [
    {
     "data": {
      "text/plain": [
       "{1: ['EN.4.2.0.f.profiles.g10.201207.nc', ' A20120701-02752', 2040],\n",
       " 2: ['EN.4.2.0.f.profiles.g10.201207.nc', ' A20120701-02753', 2041],\n",
       " 3: ['EN.4.2.0.f.profiles.g10.201207.nc', ' A20120701-02754', 2055],\n",
       " 4: ['EN.4.2.0.f.profiles.g10.201207.nc', ' A20120701-02755', 2065],\n",
       " 5: ['EN.4.2.0.f.profiles.g10.201207.nc', ' A20120701-02756', 2071],\n",
       " 6: ['EN.4.2.0.f.profiles.g10.201207.nc', ' A20120701-02757', 2083],\n",
       " 7: ['EN.4.2.0.f.profiles.g10.201207.nc', ' A20120701-02758', 44904],\n",
       " 8: ['EN.4.2.0.f.profiles.g10.201207.nc', ' A20120701-02759', 44907],\n",
       " 9: ['EN.4.2.0.f.profiles.g10.201207.nc', ' A20120701-02760', 44908],\n",
       " 10: ['EN.4.2.0.f.profiles.g10.201207.nc', ' A20120701-02761', 44910]}"
      ]
     },
     "execution_count": 85,
     "metadata": {},
     "output_type": "execute_result"
    }
   ],
   "source": [
    "dictyml"
   ]
  },
  {
   "cell_type": "code",
   "execution_count": 93,
   "metadata": {
    "collapsed": true
   },
   "outputs": [],
   "source": [
    "import yaml\n",
    "import io\n",
    "\n",
    "# Define data\n",
    "data = {1: ['EN.4.2.0.f.profiles.g10.201206.nc', 'DC_REFERENCE',222], 2 : ['EN.4.2.0.f.profiles.g10.201206.nc', 'DC_REFERENCE',222]}\n",
    "\n",
    "\n",
    "# Write YAML file\n",
    "with io.open('data.yaml', 'w', encoding='utf8') as outfile:\n",
    "    yaml.dump(data, outfile, default_flow_style=False, allow_unicode=True)\n",
    "\n"
   ]
  },
  {
   "cell_type": "code",
   "execution_count": 66,
   "metadata": {},
   "outputs": [
    {
     "name": "stdout",
     "output_type": "stream",
     "text": [
      "True\n"
     ]
    }
   ],
   "source": [
    "# Read YAML file\n",
    "with open(\"data.yaml\", 'r') as stream:\n",
    "    data_loaded = yaml.load(stream)\n",
    "\n",
    "print(data == data_loaded)"
   ]
  },
  {
   "cell_type": "code",
   "execution_count": 67,
   "metadata": {},
   "outputs": [
    {
     "name": "stdout",
     "output_type": "stream",
     "text": [
      "{1: ['EN.4.2.0.f.profiles.g10.201206.nc', 'DC_REFERENCE', 222], 2: ['EN.4.2.0.f.profiles.g10.201206.nc', 'DC_REFERENCE', 222]}\n"
     ]
    }
   ],
   "source": [
    "print data_loaded"
   ]
  },
  {
   "cell_type": "code",
   "execution_count": 69,
   "metadata": {},
   "outputs": [],
   "source": [
    "data={1: ['EN.4.2.0.f.profiles.g10.201206.nc', 'DC_REFERENCE',222]}\n",
    "data2={2: ['EN.4.2.0.f.profiles.g10.201204.nc', 'DC_REFERENCE',223]}\n",
    "data.update(data2)"
   ]
  },
  {
   "cell_type": "code",
   "execution_count": 70,
   "metadata": {},
   "outputs": [
    {
     "name": "stdout",
     "output_type": "stream",
     "text": [
      "{1: ['EN.4.2.0.f.profiles.g10.201206.nc', 'DC_REFERENCE', 222], 2: ['EN.4.2.0.f.profiles.g10.201204.nc', 'DC_REFERENCE', 223]}\n"
     ]
    }
   ],
   "source": [
    "print data"
   ]
  },
  {
   "cell_type": "code",
   "execution_count": 71,
   "metadata": {},
   "outputs": [
    {
     "data": {
      "text/plain": [
       "array([ 0,  1,  2,  3,  4,  5,  6,  7,  8,  9, 10, 11])"
      ]
     },
     "execution_count": 71,
     "metadata": {},
     "output_type": "execute_result"
    }
   ],
   "source": [
    "np.arange(12)"
   ]
  },
  {
   "cell_type": "code",
   "execution_count": 87,
   "metadata": {},
   "outputs": [
    {
     "name": "stdout",
     "output_type": "stream",
     "text": [
      "{1: ['EN.4.2.0.f.profiles.g10.201206.nc', 'DC_REFERENCE', 222], 2: ['EN.4.2.0.f.profiles.g10.201204.nc', 'DC_REFERENCE', 223]}\n"
     ]
    }
   ],
   "source": [
    "print data"
   ]
  },
  {
   "cell_type": "code",
   "execution_count": 88,
   "metadata": {},
   "outputs": [
    {
     "name": "stdout",
     "output_type": "stream",
     "text": [
      "{1: ['EN.4.2.0.f.profiles.g10.201207.nc', ' A20120701-02752', 2040], 2: ['EN.4.2.0.f.profiles.g10.201207.nc', ' A20120701-02753', 2041], 3: ['EN.4.2.0.f.profiles.g10.201207.nc', ' A20120701-02754', 2055], 4: ['EN.4.2.0.f.profiles.g10.201207.nc', ' A20120701-02755', 2065], 5: ['EN.4.2.0.f.profiles.g10.201207.nc', ' A20120701-02756', 2071], 6: ['EN.4.2.0.f.profiles.g10.201207.nc', ' A20120701-02757', 2083], 7: ['EN.4.2.0.f.profiles.g10.201207.nc', ' A20120701-02758', 44904], 8: ['EN.4.2.0.f.profiles.g10.201207.nc', ' A20120701-02759', 44907], 9: ['EN.4.2.0.f.profiles.g10.201207.nc', ' A20120701-02760', 44908], 10: ['EN.4.2.0.f.profiles.g10.201207.nc', ' A20120701-02761', 44910]}\n"
     ]
    }
   ],
   "source": [
    "print dictyml"
   ]
  },
  {
   "cell_type": "code",
   "execution_count": 90,
   "metadata": {},
   "outputs": [
    {
     "data": {
      "text/plain": [
       "\"{1: ['EN.4.2.0.f.profiles.g10.201206.nc', 'DC_REFERENCE', 222], 2: ['EN.4.2.0.f.profiles.g10.201204.nc', 'DC_REFERENCE', 223]}\""
      ]
     },
     "execution_count": 90,
     "metadata": {},
     "output_type": "execute_result"
    }
   ],
   "source": [
    "format(data)"
   ]
  },
  {
   "cell_type": "code",
   "execution_count": 91,
   "metadata": {},
   "outputs": [
    {
     "data": {
      "text/plain": [
       "\"{1: ['EN.4.2.0.f.profiles.g10.201207.nc', ' A20120701-02752', 2040], 2: ['EN.4.2.0.f.profiles.g10.201207.nc', ' A20120701-02753', 2041], 3: ['EN.4.2.0.f.profiles.g10.201207.nc', ' A20120701-02754', 2055], 4: ['EN.4.2.0.f.profiles.g10.201207.nc', ' A20120701-02755', 2065], 5: ['EN.4.2.0.f.profiles.g10.201207.nc', ' A20120701-02756', 2071], 6: ['EN.4.2.0.f.profiles.g10.201207.nc', ' A20120701-02757', 2083], 7: ['EN.4.2.0.f.profiles.g10.201207.nc', ' A20120701-02758', 44904], 8: ['EN.4.2.0.f.profiles.g10.201207.nc', ' A20120701-02759', 44907], 9: ['EN.4.2.0.f.profiles.g10.201207.nc', ' A20120701-02760', 44908], 10: ['EN.4.2.0.f.profiles.g10.201207.nc', ' A20120701-02761', 44910]}\""
      ]
     },
     "execution_count": 91,
     "metadata": {},
     "output_type": "execute_result"
    }
   ],
   "source": [
    "format(dictyml)"
   ]
  },
  {
   "cell_type": "code",
   "execution_count": 109,
   "metadata": {},
   "outputs": [],
   "source": [
    "dictyml={int(ref+1):[fileEN4,str(refen4[0].values),int(prof_zone[0])]}\n",
    "with io.open('data.yaml', 'w', encoding='utf8') as outfile:\n",
    "            yaml.dump(dictyml, outfile, default_flow_style=False, allow_unicode=True)\n",
    "\n"
   ]
  },
  {
   "cell_type": "code",
   "execution_count": 114,
   "metadata": {},
   "outputs": [
    {
     "data": {
      "text/plain": [
       "array(' A20120701-02761', \n",
       "      dtype='|S16')"
      ]
     },
     "execution_count": 114,
     "metadata": {},
     "output_type": "execute_result"
    }
   ],
   "source": [
    "refen4[ref].data"
   ]
  },
  {
   "cell_type": "code",
   "execution_count": 124,
   "metadata": {},
   "outputs": [
    {
     "data": {
      "text/plain": [
       "'2012-07-01T23:53:41.000000000'"
      ]
     },
     "execution_count": 124,
     "metadata": {},
     "output_type": "execute_result"
    }
   ],
   "source": [
    "str(dayen4[0].values)"
   ]
  },
  {
   "cell_type": "code",
   "execution_count": 126,
   "metadata": {},
   "outputs": [
    {
     "name": "stdout",
     "output_type": "stream",
     "text": [
      "1721606400.0\n"
     ]
    }
   ],
   "source": [
    "datemin='2012-07-22'\n",
    "datetmin=pd.to_datetime(datemin)\n",
    "ttmin=datetime.datetime(int(datetmin.strftime('%Y')),int(datetmin.strftime('%m')),int(datetmin.strftime('%d')),int(datetmin.strftime('%H')),int(datetmin.strftime('%M')))\n",
    "tsecmin=(ttmin-datetime.datetime(1958,1,1,0,0)).total_seconds()\n",
    "print tsecmin"
   ]
  },
  {
   "cell_type": "code",
   "execution_count": 127,
   "metadata": {},
   "outputs": [
    {
     "name": "stdout",
     "output_type": "stream",
     "text": [
      "1719792000.0\n"
     ]
    }
   ],
   "source": [
    "datemin='2012-07-01'\n",
    "datetmin=pd.to_datetime(datemin)\n",
    "ttmin=datetime.datetime(int(datetmin.strftime('%Y')),int(datetmin.strftime('%m')),int(datetmin.strftime('%d')),int(datetmin.strftime('%H')),int(datetmin.strftime('%M')))\n",
    "tsecmin=(ttmin-datetime.datetime(1958,1,1,0,0)).total_seconds()\n",
    "print tsecmin"
   ]
  },
  {
   "cell_type": "code",
   "execution_count": 128,
   "metadata": {},
   "outputs": [
    {
     "name": "stdout",
     "output_type": "stream",
     "text": [
      "2012-07-01T06:06:03.000000000\n",
      "1719813960.0\n"
     ]
    }
   ],
   "source": [
    "print str(dayen4[indz[0][0]].values)\n",
    "dateen4= pd.to_datetime(str(dayen4[indz[0][0]].values))\n",
    "ten4 = datetime.datetime(int(dateen4.strftime('%Y')),int(dateen4.strftime('%m')),int(dateen4.strftime('%d')),int(dateen4.strftime('%H')),int(dateen4.strftime('%M')))\n",
    "tsecen4=(ten4-datetime.datetime(1958,1,1,0,0)).total_seconds()\n",
    "print tsecen4"
   ]
  },
  {
   "cell_type": "code",
   "execution_count": null,
   "metadata": {
    "collapsed": true
   },
   "outputs": [],
   "source": []
  }
 ],
 "metadata": {
  "kernelspec": {
   "display_name": "Python [Root]",
   "language": "python",
   "name": "Python [Root]"
  },
  "language_info": {
   "codemirror_mode": {
    "name": "ipython",
    "version": 2
   },
   "file_extension": ".py",
   "mimetype": "text/x-python",
   "name": "python",
   "nbconvert_exporter": "python",
   "pygments_lexer": "ipython2",
   "version": "2.7.15"
  }
 },
 "nbformat": 4,
 "nbformat_minor": 1
}
