{
 "cells": [
  {
   "cell_type": "markdown",
   "metadata": {},
   "source": [
    "# Select a +/- 15 days period around one date in NATL60 dataset"
   ]
  },
  {
   "cell_type": "markdown",
   "metadata": {},
   "source": [
    "## Imports and magics (for jupyter)"
   ]
  },
  {
   "cell_type": "code",
   "execution_count": 1,
   "metadata": {
    "collapsed": false
   },
   "outputs": [
    {
     "data": {
      "application/json": {
       "Software versions": [
        {
         "module": "Python",
         "version": "2.7.11 64bit [GCC 4.4.7 20120313 (Red Hat 4.4.7-1)]"
        },
        {
         "module": "IPython",
         "version": "4.2.0"
        },
        {
         "module": "OS",
         "version": "Linux 3.16.0 4 amd64 x86_64 with debian 8.5"
        },
        {
         "module": "numpy",
         "version": "1.11.1"
        },
        {
         "module": "xarray",
         "version": "0.9.1"
        },
        {
         "module": "netCDF4",
         "version": "1.2.4"
        },
        {
         "module": "dask",
         "version": "0.15.2"
        }
       ]
      },
      "text/html": [
       "<table><tr><th>Software</th><th>Version</th></tr><tr><td>Python</td><td>2.7.11 64bit [GCC 4.4.7 20120313 (Red Hat 4.4.7-1)]</td></tr><tr><td>IPython</td><td>4.2.0</td></tr><tr><td>OS</td><td>Linux 3.16.0 4 amd64 x86_64 with debian 8.5</td></tr><tr><td>numpy</td><td>1.11.1</td></tr><tr><td>xarray</td><td>0.9.1</td></tr><tr><td>netCDF4</td><td>1.2.4</td></tr><tr><td>dask</td><td>0.15.2</td></tr><tr><td colspan='2'>Wed Sep 13 16:02:50 2017 CEST</td></tr></table>"
      ],
      "text/latex": [
       "\\begin{tabular}{|l|l|}\\hline\n",
       "{\\bf Software} & {\\bf Version} \\\\ \\hline\\hline\n",
       "Python & 2.7.11 64bit [GCC 4.4.7 20120313 (Red Hat 4.4.7-1)] \\\\ \\hline\n",
       "IPython & 4.2.0 \\\\ \\hline\n",
       "OS & Linux 3.16.0 4 amd64 x86\\_64 with debian 8.5 \\\\ \\hline\n",
       "numpy & 1.11.1 \\\\ \\hline\n",
       "xarray & 0.9.1 \\\\ \\hline\n",
       "netCDF4 & 1.2.4 \\\\ \\hline\n",
       "dask & 0.15.2 \\\\ \\hline\n",
       "\\hline \\multicolumn{2}{|l|}{Wed Sep 13 16:02:50 2017 CEST} \\\\ \\hline\n",
       "\\end{tabular}\n"
      ],
      "text/plain": [
       "Software versions\n",
       "Python 2.7.11 64bit [GCC 4.4.7 20120313 (Red Hat 4.4.7-1)]\n",
       "IPython 4.2.0\n",
       "OS Linux 3.16.0 4 amd64 x86_64 with debian 8.5\n",
       "numpy 1.11.1\n",
       "xarray 0.9.1\n",
       "netCDF4 1.2.4\n",
       "dask 0.15.2\n",
       "Wed Sep 13 16:02:50 2017 CEST"
      ]
     },
     "execution_count": 1,
     "metadata": {},
     "output_type": "execute_result"
    }
   ],
   "source": [
    "## magics\n",
    "\n",
    "%load_ext version_information \n",
    "%version_information numpy,xarray,netCDF4,dask"
   ]
  },
  {
   "cell_type": "code",
   "execution_count": 2,
   "metadata": {
    "collapsed": true
   },
   "outputs": [],
   "source": [
    "## path for mdules\n",
    "\n",
    "import sys\n",
    "sys.path.insert(0,\"/home/albert/lib/python\")"
   ]
  },
  {
   "cell_type": "code",
   "execution_count": 3,
   "metadata": {
    "collapsed": true
   },
   "outputs": [],
   "source": [
    "## imports\n",
    "\n",
    "import numpy as np\n",
    "import dask\n",
    "import xarray as xr\n",
    "from netCDF4 import Dataset\n",
    "import matplotlib.pyplot as plt\n",
    "import pandas as pd \n",
    "import datetime\n",
    "import glob as glob\n",
    "import matplotlib.gridspec as gridspec\n",
    "from mpl_toolkits.basemap import Basemap\n",
    "import time\n",
    "from dask.diagnostics import ProgressBar\n",
    "import warnings\n",
    "warnings.filterwarnings('ignore')\n",
    "\n",
    "%matplotlib inline"
   ]
  },
  {
   "cell_type": "markdown",
   "metadata": {},
   "source": [
    "## Datasets\n",
    "\n",
    "   - NATL60 CJM165 simulation that runs from June 15th, 2012 to September 30th, 2013, we only have local acces to July 2012 (407Go of data)"
   ]
  },
  {
   "cell_type": "code",
   "execution_count": 4,
   "metadata": {
    "collapsed": false
   },
   "outputs": [
    {
     "name": "stdout",
     "output_type": "stream",
     "text": [
      "/media/extra/DATA/NATL60/NATL60-CJM165-S/3d/NATL60-CJM165_y2012m07d01.1d_gridT.nc\r\n",
      "/media/extra/DATA/NATL60/NATL60-CJM165-S/3d/NATL60-CJM165_y2012m07d02.1d_gridT.nc\r\n",
      "/media/extra/DATA/NATL60/NATL60-CJM165-S/3d/NATL60-CJM165_y2012m07d03.1d_gridT.nc\r\n",
      "/media/extra/DATA/NATL60/NATL60-CJM165-S/3d/NATL60-CJM165_y2012m07d04.1d_gridT.nc\r\n",
      "/media/extra/DATA/NATL60/NATL60-CJM165-S/3d/NATL60-CJM165_y2012m07d05.1d_gridT.nc\r\n",
      "/media/extra/DATA/NATL60/NATL60-CJM165-S/3d/NATL60-CJM165_y2012m07d06.1d_gridT.nc\r\n",
      "/media/extra/DATA/NATL60/NATL60-CJM165-S/3d/NATL60-CJM165_y2012m07d07.1d_gridT.nc\r\n",
      "/media/extra/DATA/NATL60/NATL60-CJM165-S/3d/NATL60-CJM165_y2012m07d08.1d_gridT.nc\r\n",
      "/media/extra/DATA/NATL60/NATL60-CJM165-S/3d/NATL60-CJM165_y2012m07d09.1d_gridT.nc\r\n",
      "/media/extra/DATA/NATL60/NATL60-CJM165-S/3d/NATL60-CJM165_y2012m07d10.1d_gridT.nc\r\n",
      "/media/extra/DATA/NATL60/NATL60-CJM165-S/3d/NATL60-CJM165_y2012m07d11.1d_gridT.nc\r\n",
      "/media/extra/DATA/NATL60/NATL60-CJM165-S/3d/NATL60-CJM165_y2012m07d12.1d_gridT.nc\r\n",
      "/media/extra/DATA/NATL60/NATL60-CJM165-S/3d/NATL60-CJM165_y2012m07d13.1d_gridT.nc\r\n",
      "/media/extra/DATA/NATL60/NATL60-CJM165-S/3d/NATL60-CJM165_y2012m07d14.1d_gridT.nc\r\n",
      "/media/extra/DATA/NATL60/NATL60-CJM165-S/3d/NATL60-CJM165_y2012m07d15.1d_gridT.nc\r\n",
      "/media/extra/DATA/NATL60/NATL60-CJM165-S/3d/NATL60-CJM165_y2012m07d16.1d_gridT.nc\r\n",
      "/media/extra/DATA/NATL60/NATL60-CJM165-S/3d/NATL60-CJM165_y2012m07d17.1d_gridT.nc\r\n",
      "/media/extra/DATA/NATL60/NATL60-CJM165-S/3d/NATL60-CJM165_y2012m07d18.1d_gridT.nc\r\n",
      "/media/extra/DATA/NATL60/NATL60-CJM165-S/3d/NATL60-CJM165_y2012m07d19.1d_gridT.nc\r\n",
      "/media/extra/DATA/NATL60/NATL60-CJM165-S/3d/NATL60-CJM165_y2012m07d20.1d_gridT.nc\r\n",
      "/media/extra/DATA/NATL60/NATL60-CJM165-S/3d/NATL60-CJM165_y2012m07d21.1d_gridT.nc\r\n",
      "/media/extra/DATA/NATL60/NATL60-CJM165-S/3d/NATL60-CJM165_y2012m07d22.1d_gridT.nc\r\n",
      "/media/extra/DATA/NATL60/NATL60-CJM165-S/3d/NATL60-CJM165_y2012m07d23.1d_gridT.nc\r\n",
      "/media/extra/DATA/NATL60/NATL60-CJM165-S/3d/NATL60-CJM165_y2012m07d24.1d_gridT.nc\r\n",
      "/media/extra/DATA/NATL60/NATL60-CJM165-S/3d/NATL60-CJM165_y2012m07d25.1d_gridT.nc\r\n",
      "/media/extra/DATA/NATL60/NATL60-CJM165-S/3d/NATL60-CJM165_y2012m07d26.1d_gridT.nc\r\n",
      "/media/extra/DATA/NATL60/NATL60-CJM165-S/3d/NATL60-CJM165_y2012m07d27.1d_gridT.nc\r\n",
      "/media/extra/DATA/NATL60/NATL60-CJM165-S/3d/NATL60-CJM165_y2012m07d28.1d_gridT.nc\r\n",
      "/media/extra/DATA/NATL60/NATL60-CJM165-S/3d/NATL60-CJM165_y2012m07d29.1d_gridT.nc\r\n",
      "/media/extra/DATA/NATL60/NATL60-CJM165-S/3d/NATL60-CJM165_y2012m07d30.1d_gridT.nc\r\n",
      "/media/extra/DATA/NATL60/NATL60-CJM165-S/3d/NATL60-CJM165_y2012m07d31.1d_gridT.nc\r\n"
     ]
    }
   ],
   "source": [
    "#NATL60\n",
    "\n",
    "dir=\"/media/extra/DATA/NATL60/NATL60-CJM165-S/3d/\"\n",
    "files=\"NATL60-CJM165_y2012m07d*.1d_gridT.nc\"\n",
    "\n",
    "tfiles=dir+files\n",
    "\n",
    "!ls $tfiles\n"
   ]
  },
  {
   "cell_type": "markdown",
   "metadata": {},
   "source": [
    "## Open NATL60 files"
   ]
  },
  {
   "cell_type": "code",
   "execution_count": 36,
   "metadata": {
    "collapsed": false
   },
   "outputs": [
    {
     "data": {
      "text/plain": [
       "(31,)"
      ]
     },
     "execution_count": 36,
     "metadata": {},
     "output_type": "execute_result"
    }
   ],
   "source": [
    "##Open NATL60 files to get boundaries of domain\n",
    "\n",
    "dsN = xr.open_mfdataset(tfiles,concat_dim='time_counter',decode_times=False, chunks={'deptht':1 ,'time_counter':1})\n",
    "\n",
    "latN = dsN.nav_lat\n",
    "lonN = dsN.nav_lon\n",
    "tempN=dsN.votemper\n",
    "saltN=dsN.vosaline\n",
    "depN = dsN.deptht\n",
    "timN = dsN.time_counter\n",
    "\n",
    "timN.shape"
   ]
  },
  {
   "cell_type": "code",
   "execution_count": 113,
   "metadata": {
    "collapsed": false
   },
   "outputs": [],
   "source": [
    "t = datetime.datetime(2012, 07, 15)\n",
    "tsec=(t-datetime.datetime(1958,1,1,0,0)).total_seconds()\n",
    "indDate=np.where((timN.values < tsec + 15*24*3600) & (timN.values > tsec - 15*24*3600))"
   ]
  },
  {
   "cell_type": "code",
   "execution_count": 114,
   "metadata": {
    "collapsed": false
   },
   "outputs": [
    {
     "data": {
      "text/plain": [
       "1721001600.0"
      ]
     },
     "execution_count": 114,
     "metadata": {},
     "output_type": "execute_result"
    }
   ],
   "source": [
    "tsec"
   ]
  },
  {
   "cell_type": "code",
   "execution_count": 82,
   "metadata": {
    "collapsed": false
   },
   "outputs": [
    {
     "data": {
      "text/plain": [
       "array([ 0,  1,  2,  3,  4,  5,  6,  7,  8,  9, 10, 11, 12, 13, 14, 15, 16,\n",
       "       17, 18, 19, 20, 21, 22, 23, 24, 25, 26, 27, 28])"
      ]
     },
     "execution_count": 82,
     "metadata": {},
     "output_type": "execute_result"
    }
   ],
   "source": [
    "indDate[0]"
   ]
  },
  {
   "cell_type": "code",
   "execution_count": 83,
   "metadata": {
    "collapsed": false
   },
   "outputs": [],
   "source": [
    "ex = dsN['votemper'].isel(time_counter=slice(indDate[0][0],indDate[0][-1]))"
   ]
  },
  {
   "cell_type": "code",
   "execution_count": 84,
   "metadata": {
    "collapsed": false
   },
   "outputs": [
    {
     "data": {
      "text/plain": [
       "(28, 300, 3454, 5422)"
      ]
     },
     "execution_count": 84,
     "metadata": {},
     "output_type": "execute_result"
    }
   ],
   "source": [
    "ex.shape"
   ]
  },
  {
   "cell_type": "code",
   "execution_count": 85,
   "metadata": {
    "collapsed": false
   },
   "outputs": [
    {
     "name": "stdout",
     "output_type": "stream",
     "text": [
      "/media/extra/DATA/ARGO/EN.4.2.0.f.profiles.g10.201207.nc\r\n"
     ]
    }
   ],
   "source": [
    "#EN4\n",
    "dir_ar=\"/media/extra/DATA/ARGO/\"\n",
    "file072012=\"EN.4.2.0.f.profiles.g10.201207.nc\"\n",
    "\n",
    "tfile072012=dir_ar+file072012\n",
    "\n",
    "!ls $tfile072012"
   ]
  },
  {
   "cell_type": "code",
   "execution_count": 86,
   "metadata": {
    "collapsed": true
   },
   "outputs": [],
   "source": [
    "argo072012=xr.open_dataset(tfile072012)\n",
    "dep_ar=argo072012['DEPH_CORRECTED']\n",
    "lat_ar=argo072012['LATITUDE']\n",
    "lon_ar=argo072012['LONGITUDE']\n",
    "temp_ar=argo072012['POTM_CORRECTED']\n",
    "salt_ar=argo072012['PSAL_CORRECTED']\n",
    "day_ar=argo072012['JULD']\n"
   ]
  },
  {
   "cell_type": "code",
   "execution_count": 88,
   "metadata": {
    "collapsed": false
   },
   "outputs": [],
   "source": [
    "def find_date(day_ar,year,month,tday):\n",
    "    prof=[]\n",
    "    date=day_ar.values[:]\n",
    "    for t in np.arange(0,len(date)):\n",
    "        ts = pd.to_datetime(str(day_ar.values[t])) \n",
    "        dyear=ts.strftime('%Y')\n",
    "        dmonth=ts.strftime('%m')\n",
    "        dday=ts.strftime('%d')\n",
    "        if dyear == year:\n",
    "            if dmonth == month:\n",
    "                if dday == tday:\n",
    "                    prof.append(t)\n",
    "        aprof=np.array(prof)\n",
    "    return aprof\n",
    "\n",
    "t15=find_date(day_ar,'2012','07','15')\n"
   ]
  },
  {
   "cell_type": "code",
   "execution_count": 100,
   "metadata": {
    "collapsed": false
   },
   "outputs": [],
   "source": [
    "truc= pd.to_datetime(str(day_ar.values[t15[0]]))"
   ]
  },
  {
   "cell_type": "code",
   "execution_count": 101,
   "metadata": {
    "collapsed": false
   },
   "outputs": [],
   "source": [
    "dyear=truc.strftime('%Y')\n",
    "dmonth=truc.strftime('%m')\n",
    "dday=truc.strftime('%d')\n",
    "dhour=truc.strftime('%H')\n",
    "dminute=truc.strftime('%M')"
   ]
  },
  {
   "cell_type": "code",
   "execution_count": 104,
   "metadata": {
    "collapsed": false
   },
   "outputs": [
    {
     "data": {
      "text/plain": [
       "'2012'"
      ]
     },
     "execution_count": 104,
     "metadata": {},
     "output_type": "execute_result"
    }
   ],
   "source": [
    "dyear"
   ]
  },
  {
   "cell_type": "code",
   "execution_count": 102,
   "metadata": {
    "collapsed": false
   },
   "outputs": [
    {
     "name": "stdout",
     "output_type": "stream",
     "text": [
      "2012 07 15 23 58\n"
     ]
    }
   ],
   "source": [
    "print dyear,dmonth,dday,dhour,dminute"
   ]
  },
  {
   "cell_type": "code",
   "execution_count": 111,
   "metadata": {
    "collapsed": false
   },
   "outputs": [],
   "source": [
    "t = datetime.datetime(int(dyear),int(dmonth),int(dday),int(dhour),int(dminute))\n",
    "tsec=(t-datetime.datetime(1958,1,1,0,0)).total_seconds()\n",
    "indDate=np.where((timN.values < tsec + 15*24*3600) & (timN.values > tsec - 15*24*3600))"
   ]
  },
  {
   "cell_type": "code",
   "execution_count": 112,
   "metadata": {
    "collapsed": false
   },
   "outputs": [
    {
     "data": {
      "text/plain": [
       "1721087880.0"
      ]
     },
     "execution_count": 112,
     "metadata": {},
     "output_type": "execute_result"
    }
   ],
   "source": [
    "tsec"
   ]
  },
  {
   "cell_type": "code",
   "execution_count": null,
   "metadata": {
    "collapsed": true
   },
   "outputs": [],
   "source": []
  }
 ],
 "metadata": {
  "kernelspec": {
   "display_name": "Python [Root]",
   "language": "python",
   "name": "Python [Root]"
  },
  "language_info": {
   "codemirror_mode": {
    "name": "ipython",
    "version": 2
   },
   "file_extension": ".py",
   "mimetype": "text/x-python",
   "name": "python",
   "nbconvert_exporter": "python",
   "pygments_lexer": "ipython2",
   "version": "2.7.11"
  }
 },
 "nbformat": 4,
 "nbformat_minor": 0
}
