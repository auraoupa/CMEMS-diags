{
 "cells": [
  {
   "cell_type": "markdown",
   "metadata": {},
   "source": [
    "# Decomposing NATL60 domain in small pieces so that the extraction of model profiles takes less time\n",
    "\n",
    "## Step 1 : 0.5°x0.5° boxes\n",
    "\n",
    "In NATL60 there are 12104 0.5°x0.5° boxes. Some of them are empty, the maximum amount of profiles inside one box is 4537. The extraction of 4537 profiles located in a 0.5°x0.5° box takes around 5h.\n",
    "If the number of profiles in the box is more than 100 profiles, a jsonfile is created. We get 104 jsonfiles containing between 100 and 4537 profiles.\n",
    "All jsonfiles are concatenated in a list of 65477 profiles, which represents 72% of all the profiles.\n",
    "\n",
    "## Step 2 : 1°x1° boxes\n",
    "\n",
    "We decompose NATL60 in 3026 1°x1° boxes. We exclude the profiles already selected in 0.5°x0.5° boxes. The maximum amount of profiles inside one 1°x1° box is . Same process is done than in step 1, adding another profiles to the list.\n"
   ]
  },
  {
   "cell_type": "code",
   "execution_count": null,
   "metadata": {
    "collapsed": true
   },
   "outputs": [],
   "source": []
  }
 ],
 "metadata": {
  "kernelspec": {
   "display_name": "Python [Root]",
   "language": "python",
   "name": "Python [Root]"
  },
  "language_info": {
   "codemirror_mode": {
    "name": "ipython",
    "version": 2
   },
   "file_extension": ".py",
   "mimetype": "text/x-python",
   "name": "python",
   "nbconvert_exporter": "python",
   "pygments_lexer": "ipython2",
   "version": "2.7.11"
  }
 },
 "nbformat": 4,
 "nbformat_minor": 0
}
