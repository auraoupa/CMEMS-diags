{
 "cells": [
  {
   "cell_type": "code",
   "execution_count": 1,
   "metadata": {
    "collapsed": false
   },
   "outputs": [
    {
     "data": {
      "application/json": {
       "Software versions": [
        {
         "module": "Python",
         "version": "2.7.11 64bit [GCC 4.4.7 20120313 (Red Hat 4.4.7-1)]"
        },
        {
         "module": "IPython",
         "version": "4.2.0"
        },
        {
         "module": "OS",
         "version": "Linux 3.16.0 4 amd64 x86_64 with debian 8.5"
        },
        {
         "module": "numpy",
         "version": "1.11.1"
        },
        {
         "module": "xarray",
         "version": "0.9.1"
        },
        {
         "module": "netCDF4",
         "version": "1.2.4"
        }
       ]
      },
      "text/html": [
       "<table><tr><th>Software</th><th>Version</th></tr><tr><td>Python</td><td>2.7.11 64bit [GCC 4.4.7 20120313 (Red Hat 4.4.7-1)]</td></tr><tr><td>IPython</td><td>4.2.0</td></tr><tr><td>OS</td><td>Linux 3.16.0 4 amd64 x86_64 with debian 8.5</td></tr><tr><td>numpy</td><td>1.11.1</td></tr><tr><td>xarray</td><td>0.9.1</td></tr><tr><td>netCDF4</td><td>1.2.4</td></tr><tr><td colspan='2'>Mon Aug 28 14:49:50 2017 CEST</td></tr></table>"
      ],
      "text/latex": [
       "\\begin{tabular}{|l|l|}\\hline\n",
       "{\\bf Software} & {\\bf Version} \\\\ \\hline\\hline\n",
       "Python & 2.7.11 64bit [GCC 4.4.7 20120313 (Red Hat 4.4.7-1)] \\\\ \\hline\n",
       "IPython & 4.2.0 \\\\ \\hline\n",
       "OS & Linux 3.16.0 4 amd64 x86\\_64 with debian 8.5 \\\\ \\hline\n",
       "numpy & 1.11.1 \\\\ \\hline\n",
       "xarray & 0.9.1 \\\\ \\hline\n",
       "netCDF4 & 1.2.4 \\\\ \\hline\n",
       "\\hline \\multicolumn{2}{|l|}{Mon Aug 28 14:49:50 2017 CEST} \\\\ \\hline\n",
       "\\end{tabular}\n"
      ],
      "text/plain": [
       "Software versions\n",
       "Python 2.7.11 64bit [GCC 4.4.7 20120313 (Red Hat 4.4.7-1)]\n",
       "IPython 4.2.0\n",
       "OS Linux 3.16.0 4 amd64 x86_64 with debian 8.5\n",
       "numpy 1.11.1\n",
       "xarray 0.9.1\n",
       "netCDF4 1.2.4\n",
       "Mon Aug 28 14:49:50 2017 CEST"
      ]
     },
     "execution_count": 1,
     "metadata": {},
     "output_type": "execute_result"
    }
   ],
   "source": [
    "## magics\n",
    "\n",
    "%load_ext version_information \n",
    "%version_information numpy,xarray,netCDF4"
   ]
  },
  {
   "cell_type": "code",
   "execution_count": 2,
   "metadata": {
    "collapsed": true
   },
   "outputs": [],
   "source": [
    "## path for mdules\n",
    "\n",
    "import sys\n",
    "sys.path.insert(0,\"/home/albert/lib/python\")"
   ]
  },
  {
   "cell_type": "code",
   "execution_count": 3,
   "metadata": {
    "collapsed": true
   },
   "outputs": [],
   "source": [
    "## imports\n",
    "\n",
    "import numpy as np\n",
    "import dask\n",
    "import xarray as xr\n",
    "from netCDF4 import Dataset\n",
    "import matplotlib.pyplot as plt\n",
    "import pandas as pd \n",
    "import datetime\n",
    "import glob as glob\n",
    "import matplotlib.gridspec as gridspec\n",
    "from mpl_toolkits.basemap import Basemap\n",
    "import time\n",
    "from dask.diagnostics import ProgressBar\n",
    "\n",
    "%matplotlib inline"
   ]
  },
  {
   "cell_type": "code",
   "execution_count": 4,
   "metadata": {
    "collapsed": false
   },
   "outputs": [
    {
     "name": "stdout",
     "output_type": "stream",
     "text": [
      "/media/extra/DATA/NATL60/NATL60-CJM165-S/3d/NATL60-CJM165_y2012m07d01.1d_gridT.nc\r\n",
      "/media/extra/DATA/NATL60/NATL60-CJM165-S/3d/NATL60-CJM165_y2012m07d02.1d_gridT.nc\r\n",
      "/media/extra/DATA/NATL60/NATL60-CJM165-S/3d/NATL60-CJM165_y2012m07d03.1d_gridT.nc\r\n",
      "/media/extra/DATA/NATL60/NATL60-CJM165-S/3d/NATL60-CJM165_y2012m07d04.1d_gridT.nc\r\n",
      "/media/extra/DATA/NATL60/NATL60-CJM165-S/3d/NATL60-CJM165_y2012m07d05.1d_gridT.nc\r\n",
      "/media/extra/DATA/NATL60/NATL60-CJM165-S/3d/NATL60-CJM165_y2012m07d06.1d_gridT.nc\r\n",
      "/media/extra/DATA/NATL60/NATL60-CJM165-S/3d/NATL60-CJM165_y2012m07d07.1d_gridT.nc\r\n",
      "/media/extra/DATA/NATL60/NATL60-CJM165-S/3d/NATL60-CJM165_y2012m07d08.1d_gridT.nc\r\n",
      "/media/extra/DATA/NATL60/NATL60-CJM165-S/3d/NATL60-CJM165_y2012m07d09.1d_gridT.nc\r\n",
      "/media/extra/DATA/NATL60/NATL60-CJM165-S/3d/NATL60-CJM165_y2012m07d10.1d_gridT.nc\r\n",
      "/media/extra/DATA/NATL60/NATL60-CJM165-S/3d/NATL60-CJM165_y2012m07d11.1d_gridT.nc\r\n",
      "/media/extra/DATA/NATL60/NATL60-CJM165-S/3d/NATL60-CJM165_y2012m07d12.1d_gridT.nc\r\n",
      "/media/extra/DATA/NATL60/NATL60-CJM165-S/3d/NATL60-CJM165_y2012m07d13.1d_gridT.nc\r\n",
      "/media/extra/DATA/NATL60/NATL60-CJM165-S/3d/NATL60-CJM165_y2012m07d14.1d_gridT.nc\r\n",
      "/media/extra/DATA/NATL60/NATL60-CJM165-S/3d/NATL60-CJM165_y2012m07d15.1d_gridT.nc\r\n",
      "/media/extra/DATA/NATL60/NATL60-CJM165-S/3d/NATL60-CJM165_y2012m07d16.1d_gridT.nc\r\n",
      "/media/extra/DATA/NATL60/NATL60-CJM165-S/3d/NATL60-CJM165_y2012m07d17.1d_gridT.nc\r\n",
      "/media/extra/DATA/NATL60/NATL60-CJM165-S/3d/NATL60-CJM165_y2012m07d18.1d_gridT.nc\r\n",
      "/media/extra/DATA/NATL60/NATL60-CJM165-S/3d/NATL60-CJM165_y2012m07d19.1d_gridT.nc\r\n",
      "/media/extra/DATA/NATL60/NATL60-CJM165-S/3d/NATL60-CJM165_y2012m07d20.1d_gridT.nc\r\n",
      "/media/extra/DATA/NATL60/NATL60-CJM165-S/3d/NATL60-CJM165_y2012m07d21.1d_gridT.nc\r\n",
      "/media/extra/DATA/NATL60/NATL60-CJM165-S/3d/NATL60-CJM165_y2012m07d22.1d_gridT.nc\r\n",
      "/media/extra/DATA/NATL60/NATL60-CJM165-S/3d/NATL60-CJM165_y2012m07d23.1d_gridT.nc\r\n",
      "/media/extra/DATA/NATL60/NATL60-CJM165-S/3d/NATL60-CJM165_y2012m07d24.1d_gridT.nc\r\n",
      "/media/extra/DATA/NATL60/NATL60-CJM165-S/3d/NATL60-CJM165_y2012m07d25.1d_gridT.nc\r\n",
      "/media/extra/DATA/NATL60/NATL60-CJM165-S/3d/NATL60-CJM165_y2012m07d26.1d_gridT.nc\r\n",
      "/media/extra/DATA/NATL60/NATL60-CJM165-S/3d/NATL60-CJM165_y2012m07d27.1d_gridT.nc\r\n",
      "/media/extra/DATA/NATL60/NATL60-CJM165-S/3d/NATL60-CJM165_y2012m07d28.1d_gridT.nc\r\n",
      "/media/extra/DATA/NATL60/NATL60-CJM165-S/3d/NATL60-CJM165_y2012m07d29.1d_gridT.nc\r\n",
      "/media/extra/DATA/NATL60/NATL60-CJM165-S/3d/NATL60-CJM165_y2012m07d30.1d_gridT.nc\r\n",
      "/media/extra/DATA/NATL60/NATL60-CJM165-S/3d/NATL60-CJM165_y2012m07d31.1d_gridT.nc\r\n"
     ]
    }
   ],
   "source": [
    "## datasets\n",
    "\n",
    "#NATL60\n",
    "\n",
    "dir=\"/media/extra/DATA/NATL60/NATL60-CJM165-S/3d/\"\n",
    "files=\"NATL60-CJM165_y2012m07d*.1d_gridT.nc\"\n",
    "\n",
    "tfiles=dir+files\n",
    "\n",
    "!ls $tfiles\n"
   ]
  },
  {
   "cell_type": "code",
   "execution_count": 5,
   "metadata": {
    "collapsed": false
   },
   "outputs": [],
   "source": [
    "dsN = xr.open_mfdataset(tfiles,concat_dim='time_counter',decode_times=False, chunks={'deptht':1 ,'time_counter':1})"
   ]
  },
  {
   "cell_type": "code",
   "execution_count": 6,
   "metadata": {
    "collapsed": false
   },
   "outputs": [],
   "source": [
    "latN = dsN.nav_lat\n",
    "lonN = dsN.nav_lon\n",
    "tempN=dsN.votemper\n",
    "saltN=dsN.vosaline\n",
    "depN = dsN.deptht\n",
    "timN = dsN.time_counter"
   ]
  },
  {
   "cell_type": "code",
   "execution_count": 7,
   "metadata": {
    "collapsed": true
   },
   "outputs": [],
   "source": [
    "observation_lon=-63.784\n",
    "observation_lat=37.495"
   ]
  },
  {
   "cell_type": "code",
   "execution_count": 8,
   "metadata": {
    "collapsed": true
   },
   "outputs": [],
   "source": [
    "indxBOX=np.where((lonN>observation_lon-1)&(lonN<observation_lon+1)&(latN>observation_lat-1)&(latN<observation_lat+1))  \n",
    "model_lonBOX=lonN[np.min(indxBOX[0]):np.max(indxBOX[0]),np.min(indxBOX[1]):np.max(indxBOX[1])]\n",
    "model_latBOX=latN[np.min(indxBOX[0]):np.max(indxBOX[0]),np.min(indxBOX[1]):np.max(indxBOX[1])]\n",
    "model_tempBOX=tempN[:,0,np.min(indxBOX[0]):np.max(indxBOX[0]),np.min(indxBOX[1]):np.max(indxBOX[1])]\n",
    "model_saltBOX=saltN[:,0,np.min(indxBOX[0]):np.max(indxBOX[0]),np.min(indxBOX[1]):np.max(indxBOX[1])]\n",
    "\n",
    "model_lonBOX_array=model_lonBOX.values\n",
    "model_latBOX_array=model_latBOX.values\n",
    "model_tempBOX_array=model_tempBOX.values"
   ]
  },
  {
   "cell_type": "code",
   "execution_count": 32,
   "metadata": {
    "collapsed": false
   },
   "outputs": [],
   "source": [
    "#loop over vertical level\n",
    "def profile_mean_percent_all_dates(k):\n",
    "    \n",
    "    model_mean=np.zeros(11)\n",
    "    percent_10=np.zeros(11)\n",
    "    percent_90=np.zeros(11)\n",
    "    \n",
    "    for t in np.arange(-10,10):\n",
    "        \n",
    "        day=15+t\n",
    "        if day < 10:\n",
    "            file=\"NATL60-CJM165_y2012m07d0\"+str(day)+\".1d_gridT.nc\"\n",
    "        else:\n",
    "            file=\"NATL60-CJM165_y2012m07d\"+str(day)+\".1d_gridT.nc\"\n",
    "        tfile=dir+file\n",
    "        !ls $tfile\n",
    "        \n",
    "        dsN = xr.open_dataset(tfile, chunks={'deptht':30 ,'time_counter':1})\n",
    "        \n",
    "        latN = dsN.nav_lat\n",
    "        lonN = dsN.nav_lon\n",
    "        tempN=dsN.votemper\n",
    "        saltN=dsN.vosaline\n",
    "        depN = dsN.deptht\n",
    "        timN = dsN.time_counter\n",
    "\n",
    "        #decoupage grossier autour de la position du profile ARGO pour un niveau vertical\n",
    "\n",
    "        indxBOX=np.where((lonN>observation_lon-1)&(lonN<observation_lon+1)&(latN>observation_lat-1)&(latN<observation_lat+1))  \n",
    "        model_lonBOX=lonN[np.min(indxBOX[0]):np.max(indxBOX[0]),np.min(indxBOX[1]):np.max(indxBOX[1])]\n",
    "        model_latBOX=latN[np.min(indxBOX[0]):np.max(indxBOX[0]),np.min(indxBOX[1]):np.max(indxBOX[1])]\n",
    "        model_tempBOX=tempN[:,k,np.min(indxBOX[0]):np.max(indxBOX[0]),np.min(indxBOX[1]):np.max(indxBOX[1])]\n",
    "        model_saltBOX=saltN[:,k,np.min(indxBOX[0]):np.max(indxBOX[0]),np.min(indxBOX[1]):np.max(indxBOX[1])]\n",
    "\n",
    "        model_lonBOX_array=model_lonBOX.values\n",
    "        model_latBOX_array=model_latBOX.values\n",
    "        model_tempBOX_array=model_tempBOX.values\n",
    "        model_saltBOX_array=model_saltBOX.values\n",
    "        time_array=timN.values\n",
    "        t_dim=np.arange(1)\n",
    "        x_dim=np.arange(122)\n",
    "        y_dim=np.arange(159)\n",
    "\n",
    "        # construction d'un nouveau xarray\n",
    "        d = {}\n",
    "        d['time_counter'] = ('time_counter',t_dim)\n",
    "        d['y'] = ('y',y_dim)\n",
    "        d['x'] = ('x',x_dim)\n",
    "        d['nav_lat'] = (['y','x'],model_latBOX_array)\n",
    "        d['nav_lon'] = (['y','x'],model_lonBOX_array)\n",
    "    \n",
    "        d['votemper'] = (['time_counter','y','x'], model_tempBOX_array)\n",
    "        d['vosaline'] = (['time_counter','y','x'], model_saltBOX_array)\n",
    "    \n",
    "        dset = xr.Dataset(d)\n",
    "    \n",
    "        latB = dset.nav_lat\n",
    "        lonB = dset.nav_lon\n",
    "        model_temperatureB = dset.votemper\n",
    "        model_salinityB = dset.vosaline\n",
    "    \n",
    "        # selection plus fine des profils\n",
    "        \n",
    "        model_temperature_stacked = model_temperatureB.stack(profile=('x', 'y'))\n",
    "        model_salinity_stacked = model_salinityB.stack(profile=('x', 'y'))\n",
    "        lon_stacked = lonB.stack(profile=('x', 'y'))\n",
    "        lat_stacked = latB.stack(profile=('x', 'y'))\n",
    "    \n",
    "        distance_threshold = 0.25\n",
    "        square_distance_to_observation = (lon_stacked - observation_lon)**2 + (lat_stacked-observation_lat)**2\n",
    "        is_close_to_observation = square_distance_to_observation < distance_threshold**2\n",
    "    \n",
    "        model_temperature_near_observation = model_temperature_stacked.where(is_close_to_observation,drop=True)\n",
    "        model_salinity_near_observation = model_salinity_stacked.where(is_close_to_observation, drop=True)\n",
    "        lat_near_observation = lat_stacked.where(is_close_to_observation, drop=True)\n",
    "        lon_near_observation = lon_stacked.where(is_close_to_observation, drop=True)\n",
    "    \n",
    "        model_mean[t] = model_temperature_near_observation.mean()\n",
    "        percent_10[t]= model_temperature_near_observation.quantile(0.1)\n",
    "        percent_90[t]= model_temperature_near_observation.quantile(0.9)\n",
    "\n",
    "    return model_mean,percent_10,percent_90"
   ]
  },
  {
   "cell_type": "code",
   "execution_count": 34,
   "metadata": {
    "collapsed": false
   },
   "outputs": [
    {
     "name": "stdout",
     "output_type": "stream",
     "text": [
      "/media/extra/DATA/NATL60/NATL60-CJM165-S/3d/NATL60-CJM165_y2012m07d05.1d_gridT.nc\n",
      "/media/extra/DATA/NATL60/NATL60-CJM165-S/3d/NATL60-CJM165_y2012m07d06.1d_gridT.nc\n",
      "/media/extra/DATA/NATL60/NATL60-CJM165-S/3d/NATL60-CJM165_y2012m07d07.1d_gridT.nc\n",
      "/media/extra/DATA/NATL60/NATL60-CJM165-S/3d/NATL60-CJM165_y2012m07d08.1d_gridT.nc\n",
      "/media/extra/DATA/NATL60/NATL60-CJM165-S/3d/NATL60-CJM165_y2012m07d09.1d_gridT.nc\n",
      "/media/extra/DATA/NATL60/NATL60-CJM165-S/3d/NATL60-CJM165_y2012m07d10.1d_gridT.nc\n",
      "/media/extra/DATA/NATL60/NATL60-CJM165-S/3d/NATL60-CJM165_y2012m07d11.1d_gridT.nc\n",
      "/media/extra/DATA/NATL60/NATL60-CJM165-S/3d/NATL60-CJM165_y2012m07d12.1d_gridT.nc\n",
      "/media/extra/DATA/NATL60/NATL60-CJM165-S/3d/NATL60-CJM165_y2012m07d13.1d_gridT.nc\n",
      "/media/extra/DATA/NATL60/NATL60-CJM165-S/3d/NATL60-CJM165_y2012m07d14.1d_gridT.nc\n",
      "/media/extra/DATA/NATL60/NATL60-CJM165-S/3d/NATL60-CJM165_y2012m07d15.1d_gridT.nc\n",
      "/media/extra/DATA/NATL60/NATL60-CJM165-S/3d/NATL60-CJM165_y2012m07d16.1d_gridT.nc\n",
      "/media/extra/DATA/NATL60/NATL60-CJM165-S/3d/NATL60-CJM165_y2012m07d17.1d_gridT.nc\n",
      "/media/extra/DATA/NATL60/NATL60-CJM165-S/3d/NATL60-CJM165_y2012m07d18.1d_gridT.nc\n",
      "/media/extra/DATA/NATL60/NATL60-CJM165-S/3d/NATL60-CJM165_y2012m07d19.1d_gridT.nc\n",
      "/media/extra/DATA/NATL60/NATL60-CJM165-S/3d/NATL60-CJM165_y2012m07d20.1d_gridT.nc\n",
      "/media/extra/DATA/NATL60/NATL60-CJM165-S/3d/NATL60-CJM165_y2012m07d21.1d_gridT.nc\n",
      "/media/extra/DATA/NATL60/NATL60-CJM165-S/3d/NATL60-CJM165_y2012m07d22.1d_gridT.nc\n",
      "/media/extra/DATA/NATL60/NATL60-CJM165-S/3d/NATL60-CJM165_y2012m07d23.1d_gridT.nc\n",
      "/media/extra/DATA/NATL60/NATL60-CJM165-S/3d/NATL60-CJM165_y2012m07d24.1d_gridT.nc\n",
      "/media/extra/DATA/NATL60/NATL60-CJM165-S/3d/NATL60-CJM165_y2012m07d05.1d_gridT.nc\n",
      "/media/extra/DATA/NATL60/NATL60-CJM165-S/3d/NATL60-CJM165_y2012m07d06.1d_gridT.nc\n",
      "/media/extra/DATA/NATL60/NATL60-CJM165-S/3d/NATL60-CJM165_y2012m07d07.1d_gridT.nc\n",
      "/media/extra/DATA/NATL60/NATL60-CJM165-S/3d/NATL60-CJM165_y2012m07d08.1d_gridT.nc\n",
      "/media/extra/DATA/NATL60/NATL60-CJM165-S/3d/NATL60-CJM165_y2012m07d09.1d_gridT.nc\n",
      "/media/extra/DATA/NATL60/NATL60-CJM165-S/3d/NATL60-CJM165_y2012m07d10.1d_gridT.nc\n",
      "/media/extra/DATA/NATL60/NATL60-CJM165-S/3d/NATL60-CJM165_y2012m07d11.1d_gridT.nc\n",
      "/media/extra/DATA/NATL60/NATL60-CJM165-S/3d/NATL60-CJM165_y2012m07d12.1d_gridT.nc\n",
      "/media/extra/DATA/NATL60/NATL60-CJM165-S/3d/NATL60-CJM165_y2012m07d13.1d_gridT.nc\n",
      "/media/extra/DATA/NATL60/NATL60-CJM165-S/3d/NATL60-CJM165_y2012m07d14.1d_gridT.nc\n",
      "/media/extra/DATA/NATL60/NATL60-CJM165-S/3d/NATL60-CJM165_y2012m07d15.1d_gridT.nc\n",
      "/media/extra/DATA/NATL60/NATL60-CJM165-S/3d/NATL60-CJM165_y2012m07d16.1d_gridT.nc\n",
      "/media/extra/DATA/NATL60/NATL60-CJM165-S/3d/NATL60-CJM165_y2012m07d17.1d_gridT.nc\n",
      "/media/extra/DATA/NATL60/NATL60-CJM165-S/3d/NATL60-CJM165_y2012m07d18.1d_gridT.nc\n",
      "/media/extra/DATA/NATL60/NATL60-CJM165-S/3d/NATL60-CJM165_y2012m07d19.1d_gridT.nc\n",
      "/media/extra/DATA/NATL60/NATL60-CJM165-S/3d/NATL60-CJM165_y2012m07d20.1d_gridT.nc\n",
      "/media/extra/DATA/NATL60/NATL60-CJM165-S/3d/NATL60-CJM165_y2012m07d21.1d_gridT.nc\n",
      "/media/extra/DATA/NATL60/NATL60-CJM165-S/3d/NATL60-CJM165_y2012m07d22.1d_gridT.nc\n",
      "/media/extra/DATA/NATL60/NATL60-CJM165-S/3d/NATL60-CJM165_y2012m07d23.1d_gridT.nc\n",
      "/media/extra/DATA/NATL60/NATL60-CJM165-S/3d/NATL60-CJM165_y2012m07d24.1d_gridT.nc\n",
      "/media/extra/DATA/NATL60/NATL60-CJM165-S/3d/NATL60-CJM165_y2012m07d05.1d_gridT.nc\n",
      "/media/extra/DATA/NATL60/NATL60-CJM165-S/3d/NATL60-CJM165_y2012m07d06.1d_gridT.nc\n",
      "/media/extra/DATA/NATL60/NATL60-CJM165-S/3d/NATL60-CJM165_y2012m07d07.1d_gridT.nc\n",
      "/media/extra/DATA/NATL60/NATL60-CJM165-S/3d/NATL60-CJM165_y2012m07d08.1d_gridT.nc\n",
      "/media/extra/DATA/NATL60/NATL60-CJM165-S/3d/NATL60-CJM165_y2012m07d09.1d_gridT.nc\n",
      "/media/extra/DATA/NATL60/NATL60-CJM165-S/3d/NATL60-CJM165_y2012m07d10.1d_gridT.nc\n",
      "/media/extra/DATA/NATL60/NATL60-CJM165-S/3d/NATL60-CJM165_y2012m07d11.1d_gridT.nc\n",
      "/media/extra/DATA/NATL60/NATL60-CJM165-S/3d/NATL60-CJM165_y2012m07d12.1d_gridT.nc\n",
      "/media/extra/DATA/NATL60/NATL60-CJM165-S/3d/NATL60-CJM165_y2012m07d13.1d_gridT.nc\n",
      "/media/extra/DATA/NATL60/NATL60-CJM165-S/3d/NATL60-CJM165_y2012m07d14.1d_gridT.nc\n",
      "/media/extra/DATA/NATL60/NATL60-CJM165-S/3d/NATL60-CJM165_y2012m07d15.1d_gridT.nc\n",
      "/media/extra/DATA/NATL60/NATL60-CJM165-S/3d/NATL60-CJM165_y2012m07d16.1d_gridT.nc\n",
      "/media/extra/DATA/NATL60/NATL60-CJM165-S/3d/NATL60-CJM165_y2012m07d17.1d_gridT.nc\n",
      "/media/extra/DATA/NATL60/NATL60-CJM165-S/3d/NATL60-CJM165_y2012m07d18.1d_gridT.nc\n",
      "/media/extra/DATA/NATL60/NATL60-CJM165-S/3d/NATL60-CJM165_y2012m07d19.1d_gridT.nc\n",
      "/media/extra/DATA/NATL60/NATL60-CJM165-S/3d/NATL60-CJM165_y2012m07d20.1d_gridT.nc\n",
      "/media/extra/DATA/NATL60/NATL60-CJM165-S/3d/NATL60-CJM165_y2012m07d21.1d_gridT.nc\n",
      "/media/extra/DATA/NATL60/NATL60-CJM165-S/3d/NATL60-CJM165_y2012m07d22.1d_gridT.nc\n",
      "/media/extra/DATA/NATL60/NATL60-CJM165-S/3d/NATL60-CJM165_y2012m07d23.1d_gridT.nc\n",
      "/media/extra/DATA/NATL60/NATL60-CJM165-S/3d/NATL60-CJM165_y2012m07d24.1d_gridT.nc\n",
      "/media/extra/DATA/NATL60/NATL60-CJM165-S/3d/NATL60-CJM165_y2012m07d05.1d_gridT.nc\n",
      "/media/extra/DATA/NATL60/NATL60-CJM165-S/3d/NATL60-CJM165_y2012m07d06.1d_gridT.nc\n",
      "/media/extra/DATA/NATL60/NATL60-CJM165-S/3d/NATL60-CJM165_y2012m07d07.1d_gridT.nc\n",
      "/media/extra/DATA/NATL60/NATL60-CJM165-S/3d/NATL60-CJM165_y2012m07d08.1d_gridT.nc\n",
      "/media/extra/DATA/NATL60/NATL60-CJM165-S/3d/NATL60-CJM165_y2012m07d09.1d_gridT.nc\n",
      "/media/extra/DATA/NATL60/NATL60-CJM165-S/3d/NATL60-CJM165_y2012m07d10.1d_gridT.nc\n",
      "/media/extra/DATA/NATL60/NATL60-CJM165-S/3d/NATL60-CJM165_y2012m07d11.1d_gridT.nc\n",
      "/media/extra/DATA/NATL60/NATL60-CJM165-S/3d/NATL60-CJM165_y2012m07d12.1d_gridT.nc\n",
      "/media/extra/DATA/NATL60/NATL60-CJM165-S/3d/NATL60-CJM165_y2012m07d13.1d_gridT.nc\n",
      "/media/extra/DATA/NATL60/NATL60-CJM165-S/3d/NATL60-CJM165_y2012m07d14.1d_gridT.nc\n",
      "/media/extra/DATA/NATL60/NATL60-CJM165-S/3d/NATL60-CJM165_y2012m07d15.1d_gridT.nc\n",
      "/media/extra/DATA/NATL60/NATL60-CJM165-S/3d/NATL60-CJM165_y2012m07d16.1d_gridT.nc\n",
      "/media/extra/DATA/NATL60/NATL60-CJM165-S/3d/NATL60-CJM165_y2012m07d17.1d_gridT.nc\n",
      "/media/extra/DATA/NATL60/NATL60-CJM165-S/3d/NATL60-CJM165_y2012m07d18.1d_gridT.nc\n",
      "/media/extra/DATA/NATL60/NATL60-CJM165-S/3d/NATL60-CJM165_y2012m07d19.1d_gridT.nc\n",
      "/media/extra/DATA/NATL60/NATL60-CJM165-S/3d/NATL60-CJM165_y2012m07d20.1d_gridT.nc\n",
      "/media/extra/DATA/NATL60/NATL60-CJM165-S/3d/NATL60-CJM165_y2012m07d21.1d_gridT.nc\n",
      "/media/extra/DATA/NATL60/NATL60-CJM165-S/3d/NATL60-CJM165_y2012m07d22.1d_gridT.nc\n",
      "/media/extra/DATA/NATL60/NATL60-CJM165-S/3d/NATL60-CJM165_y2012m07d23.1d_gridT.nc\n",
      "/media/extra/DATA/NATL60/NATL60-CJM165-S/3d/NATL60-CJM165_y2012m07d24.1d_gridT.nc\n",
      "1 loop, best of 3: 10min 7s per loop\n"
     ]
    }
   ],
   "source": [
    "%timeit model_mean,percent_10,percent_90=profile_mean_percent_all_dates(0)"
   ]
  },
  {
   "cell_type": "code",
   "execution_count": 13,
   "metadata": {
    "collapsed": true
   },
   "outputs": [],
   "source": [
    "#loop over vertical level\n",
    "def profile_mean_percent(k):\n",
    "\n",
    "    #decoupage grossier autour de la position du profile ARGO pour un niveau vertical\n",
    "\n",
    "    indxBOX=np.where((lonN>observation_lon-1)&(lonN<observation_lon+1)&(latN>observation_lat-1)&(latN<observation_lat+1))  \n",
    "    model_lonBOX=lonN[np.min(indxBOX[0]):np.max(indxBOX[0]),np.min(indxBOX[1]):np.max(indxBOX[1])]\n",
    "    model_latBOX=latN[np.min(indxBOX[0]):np.max(indxBOX[0]),np.min(indxBOX[1]):np.max(indxBOX[1])]\n",
    "    model_tempBOX=tempN[:,k,np.min(indxBOX[0]):np.max(indxBOX[0]),np.min(indxBOX[1]):np.max(indxBOX[1])]\n",
    "    model_saltBOX=saltN[:,k,np.min(indxBOX[0]):np.max(indxBOX[0]),np.min(indxBOX[1]):np.max(indxBOX[1])]\n",
    "\n",
    "    model_lonBOX_array=model_lonBOX.values\n",
    "    model_latBOX_array=model_latBOX.values\n",
    "    model_tempBOX_array=model_tempBOX.values\n",
    "    model_saltBOX_array=model_saltBOX.values\n",
    "    time_array=timN.values\n",
    "    t_dim=np.arange(31)\n",
    "    x_dim=np.arange(122)\n",
    "    y_dim=np.arange(159)\n",
    "\n",
    "    # construction d'un nouveau xarray\n",
    "    d = {}\n",
    "    d['time_counter'] = ('time_counter',t_dim)\n",
    "    d['y'] = ('y',y_dim)\n",
    "    d['x'] = ('x',x_dim)\n",
    "    d['nav_lat'] = (['y','x'],model_latBOX_array)\n",
    "    d['nav_lon'] = (['y','x'],model_lonBOX_array)\n",
    "    \n",
    "    d['votemper'] = (['time_counter','y','x'], model_tempBOX_array)\n",
    "    d['vosaline'] = (['time_counter','y','x'], model_saltBOX_array)\n",
    "    \n",
    "    dset = xr.Dataset(d)\n",
    "    \n",
    "    latB = dset.nav_lat\n",
    "    lonB = dset.nav_lon\n",
    "    model_temperatureB = dset.votemper\n",
    "    model_salinityB = dset.vosaline\n",
    "    \n",
    "    # selection plus fine des profils\n",
    "    \n",
    "    model_temperature_stacked = model_temperatureB.stack(profile=('x', 'y'))\n",
    "    model_salinity_stacked = model_salinityB.stack(profile=('x', 'y'))\n",
    "    lon_stacked = lonB.stack(profile=('x', 'y'))\n",
    "    lat_stacked = latB.stack(profile=('x', 'y'))\n",
    "    \n",
    "    distance_threshold = 0.25\n",
    "    square_distance_to_observation = (lon_stacked - observation_lon)**2 + (lat_stacked-observation_lat)**2\n",
    "    is_close_to_observation = square_distance_to_observation < distance_threshold**2\n",
    "    \n",
    "    model_temperature_near_observation = model_temperature_stacked.where(is_close_to_observation,drop=True)\n",
    "    model_salinity_near_observation = model_salinity_stacked.where(is_close_to_observation, drop=True)\n",
    "    lat_near_observation = lat_stacked.where(is_close_to_observation, drop=True)\n",
    "    lon_near_observation = lon_stacked.where(is_close_to_observation, drop=True)\n",
    "    \n",
    "    model_mean = model_temperature_near_observation.mean()\n",
    "    percentile_10= model_temperature_near_observation.quantile(0.1)\n",
    "    percentile_90= model_temperature_near_observation.quantile(0.9)\n",
    "\n",
    "    return model_mean,percentile_10,percentile_90"
   ]
  },
  {
   "cell_type": "code",
   "execution_count": 18,
   "metadata": {
    "collapsed": false
   },
   "outputs": [
    {
     "name": "stdout",
     "output_type": "stream",
     "text": [
      "1 loop, best of 3: 30.7 s per loop\n"
     ]
    }
   ],
   "source": [
    "%timeit model_mean,percentile_10,percentile_90=profile_mean_percent(0)"
   ]
  },
  {
   "cell_type": "code",
   "execution_count": 20,
   "metadata": {
    "collapsed": false
   },
   "outputs": [
    {
     "data": {
      "text/plain": [
       "<xarray.DataArray ()>\n",
       "array(25.199009675342815)"
      ]
     },
     "execution_count": 20,
     "metadata": {},
     "output_type": "execute_result"
    }
   ],
   "source": [
    "model_mean,percentile_10,percentile_90=profile_mean_percent(0)\n",
    "model_mean"
   ]
  },
  {
   "cell_type": "code",
   "execution_count": 22,
   "metadata": {
    "collapsed": false
   },
   "outputs": [
    {
     "name": "stdout",
     "output_type": "stream",
     "text": [
      "24.3521640778 25.9938922882\n"
     ]
    }
   ],
   "source": [
    "print percentile_10.values,percentile_90.values"
   ]
  },
  {
   "cell_type": "code",
   "execution_count": 72,
   "metadata": {
    "collapsed": false
   },
   "outputs": [
    {
     "name": "stdout",
     "output_type": "stream",
     "text": [
      "1 loop, best of 3: 25.9 s per loop\n"
     ]
    }
   ],
   "source": [
    "%timeit profile_mean_percent(0)"
   ]
  },
  {
   "cell_type": "code",
   "execution_count": 69,
   "metadata": {
    "collapsed": true
   },
   "outputs": [],
   "source": [
    "#loop over vertical level\n",
    "def profile_mean(k):\n",
    "\n",
    "    #decoupage grossier autour de la position du profile ARGO pour un niveau vertical\n",
    "\n",
    "    indxBOX=np.where((lonN>observation_lon-1)&(lonN<observation_lon+1)&(latN>observation_lat-1)&(latN<observation_lat+1))  \n",
    "    model_lonBOX=lonN[np.min(indxBOX[0]):np.max(indxBOX[0]),np.min(indxBOX[1]):np.max(indxBOX[1])]\n",
    "    model_latBOX=latN[np.min(indxBOX[0]):np.max(indxBOX[0]),np.min(indxBOX[1]):np.max(indxBOX[1])]\n",
    "    model_tempBOX=tempN[:,k,np.min(indxBOX[0]):np.max(indxBOX[0]),np.min(indxBOX[1]):np.max(indxBOX[1])]\n",
    "    model_saltBOX=saltN[:,k,np.min(indxBOX[0]):np.max(indxBOX[0]),np.min(indxBOX[1]):np.max(indxBOX[1])]\n",
    "\n",
    "    model_lonBOX_array=model_lonBOX.values\n",
    "    model_latBOX_array=model_latBOX.values\n",
    "    model_tempBOX_array=model_tempBOX.values\n",
    "    model_saltBOX_array=model_saltBOX.values\n",
    "    time_array=timN.values\n",
    "    t_dim=np.arange(1)\n",
    "    x_dim=np.arange(122)\n",
    "    y_dim=np.arange(159)\n",
    "\n",
    "    # construction d'un nouveau xarray\n",
    "    d = {}\n",
    "    d['time_counter'] = ('time_counter',t_dim)\n",
    "    d['y'] = ('y',y_dim)\n",
    "    d['x'] = ('x',x_dim)\n",
    "    d['nav_lat'] = (['y','x'],model_latBOX_array)\n",
    "    d['nav_lon'] = (['y','x'],model_lonBOX_array)\n",
    "    \n",
    "    d['votemper'] = (['time_counter','y','x'], model_tempBOX_array)\n",
    "    d['vosaline'] = (['time_counter','y','x'], model_saltBOX_array)\n",
    "    \n",
    "    dset = xr.Dataset(d)\n",
    "    \n",
    "    latB = dset.nav_lat\n",
    "    lonB = dset.nav_lon\n",
    "    model_temperatureB = dset.votemper\n",
    "    model_salinityB = dset.vosaline\n",
    "    \n",
    "    # selection plus fine des profils\n",
    "    \n",
    "    model_temperature_stacked = model_temperatureB.stack(profile=('x', 'y'))\n",
    "    model_salinity_stacked = model_salinityB.stack(profile=('x', 'y'))\n",
    "    lon_stacked = lonB.stack(profile=('x', 'y'))\n",
    "    lat_stacked = latB.stack(profile=('x', 'y'))\n",
    "    \n",
    "    distance_threshold = 0.25\n",
    "    square_distance_to_observation = (lon_stacked - observation_lon)**2 + (lat_stacked-observation_lat)**2\n",
    "    is_close_to_observation = square_distance_to_observation < distance_threshold**2\n",
    "    \n",
    "    model_temperature_near_observation = model_temperature_stacked.where(is_close_to_observation,drop=True)\n",
    "    model_salinity_near_observation = model_salinity_stacked.where(is_close_to_observation, drop=True)\n",
    "    lat_near_observation = lat_stacked.where(is_close_to_observation, drop=True)\n",
    "    lon_near_observation = lon_stacked.where(is_close_to_observation, drop=True)\n",
    "    \n",
    "    model_mean = model_temperature_near_observation.mean()\n",
    "\n",
    "    return model_mean"
   ]
  },
  {
   "cell_type": "code",
   "execution_count": 70,
   "metadata": {
    "collapsed": false
   },
   "outputs": [
    {
     "name": "stdout",
     "output_type": "stream",
     "text": [
      "1 loop, best of 3: 26.7 s per loop\n"
     ]
    }
   ],
   "source": [
    "%timeit profile_mean(0)"
   ]
  },
  {
   "cell_type": "code",
   "execution_count": 71,
   "metadata": {
    "collapsed": false
   },
   "outputs": [
    {
     "name": "stdout",
     "output_type": "stream",
     "text": [
      "1 loop, best of 3: 25.9 s per loop\n"
     ]
    }
   ],
   "source": [
    "%timeit profile_mean(0)"
   ]
  },
  {
   "cell_type": "code",
   "execution_count": 73,
   "metadata": {
    "collapsed": false
   },
   "outputs": [
    {
     "name": "stdout",
     "output_type": "stream",
     "text": [
      "1 loop, best of 3: 24.7 s per loop\n"
     ]
    }
   ],
   "source": [
    "%timeit profile_mean(1)"
   ]
  },
  {
   "cell_type": "code",
   "execution_count": null,
   "metadata": {
    "collapsed": true
   },
   "outputs": [],
   "source": []
  }
 ],
 "metadata": {
  "kernelspec": {
   "display_name": "Python [Root]",
   "language": "python",
   "name": "Python [Root]"
  },
  "language_info": {
   "codemirror_mode": {
    "name": "ipython",
    "version": 2
   },
   "file_extension": ".py",
   "mimetype": "text/x-python",
   "name": "python",
   "nbconvert_exporter": "python",
   "pygments_lexer": "ipython2",
   "version": "2.7.11"
  }
 },
 "nbformat": 4,
 "nbformat_minor": 0
}
