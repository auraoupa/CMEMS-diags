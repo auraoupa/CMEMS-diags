{
 "cells": [
  {
   "cell_type": "markdown",
   "metadata": {},
   "source": [
    "# Trying to use json format\n",
    "\n",
    "some useful ressources :\n",
    "  - https://blog.datafiniti.co/4-reasons-you-should-use-json-instead-of-csv-2cac362f1943\n",
    "  - http://sametmax.com/yaml-xml-json-csv-ini-quest-ce-que-cest-et-a-quoi-ca-sert/\n",
    "  - https://docs.python.org/2/library/json.html?highlight=json#json\n",
    "  - https://www.dataquest.io/blog/python-json-tutorial/\n",
    "  \n",
    " - conda install -c conda-forge ijson\n",
    " - conda install -c ioos folium"
   ]
  },
  {
   "cell_type": "code",
   "execution_count": 7,
   "metadata": {
    "collapsed": true
   },
   "outputs": [],
   "source": [
    "import sys\n",
    "sys.path.insert(0,\"/home/albert7a/lib/python\")\n",
    "\n",
    "\n",
    "## imports\n",
    "\n",
    "import numpy as np\n",
    "import dask\n",
    "import xarray as xr\n",
    "from netCDF4 import Dataset\n",
    "import matplotlib.pyplot as plt\n",
    "import pandas as pd\n",
    "import datetime\n",
    "import glob as glob\n",
    "import matplotlib.gridspec as gridspec\n",
    "from mpl_toolkits.basemap import Basemap\n",
    "import time\n",
    "from dask.diagnostics import ProgressBar\n",
    "from datetime import date\n",
    "import yaml\n",
    "import io\n",
    "import json\n",
    "import ijson\n"
   ]
  },
  {
   "cell_type": "code",
   "execution_count": 148,
   "metadata": {
    "collapsed": false
   },
   "outputs": [
    {
     "name": "stdout",
     "output_type": "stream",
     "text": [
      "45254\n",
      "CPU times: user 20.5 s, sys: 96 ms, total: 20.6 s\n",
      "Wall time: 20.6 s\n"
     ]
    }
   ],
   "source": [
    "diren4=\"/media/extra/DATA/ARGO/\"\n",
    "list_filesEN4=['EN.4.2.0.f.profiles.g10.201207.nc']\n",
    "\n",
    "for f in np.arange(len(list_filesEN4)):\n",
    "    fileEN4=list_filesEN4[f]\n",
    "    tfileEN4=diren4+fileEN4\n",
    "\n",
    "    dsen4=xr.open_dataset(tfileEN4)\n",
    "    laten4=dsen4['LATITUDE']\n",
    "    lonen4=dsen4['LONGITUDE']\n",
    "    dayen4=dsen4['JULD']\n",
    "    refen4=dsen4['DC_REFERENCE']\n",
    "    \n",
    "    print len(laten4.values)\n",
    "\n",
    "    for ref in np.arange(len(laten4.values)):\n",
    "            if ref == 0:\n",
    "                dictyml={str(refen4[ref].values):{'file':fileEN4,'profile no':int(ref),'latitude':float(laten4[ref].values),'longitude':float(lonen4[ref].values),'date':str(dayen4[ref].values)}}\n",
    "            else:\n",
    "                up={str(refen4[ref].values):{'file':fileEN4,'profile no':int(ref),'latitude':float(laten4[ref].values),'longitude':float(lonen4[ref].values),'date':str(dayen4[ref].values)}}\n",
    "                dictyml.update(up)\n",
    "\n",
    "                \n",
    "with io.open('data.yaml', 'w'i ) as outfile:\n",
    "    %time yaml.dump(dictyml, outfile, default_flow_style=False, allow_unicode=True)\n",
    "\n"
   ]
  },
  {
   "cell_type": "code",
   "execution_count": 149,
   "metadata": {
    "collapsed": false
   },
   "outputs": [
    {
     "name": "stdout",
     "output_type": "stream",
     "text": [
      "45254\n",
      "CPU times: user 832 ms, sys: 16 ms, total: 848 ms\n",
      "Wall time: 848 ms\n"
     ]
    }
   ],
   "source": [
    "diren4=\"/media/extra/DATA/ARGO/\"\n",
    "list_filesEN4=['EN.4.2.0.f.profiles.g10.201207.nc']\n",
    "\n",
    "for f in np.arange(len(list_filesEN4)):\n",
    "    fileEN4=list_filesEN4[f]\n",
    "    tfileEN4=diren4+fileEN4\n",
    "\n",
    "    dsen4=xr.open_dataset(tfileEN4)\n",
    "    laten4=dsen4['LATITUDE']\n",
    "    lonen4=dsen4['LONGITUDE']\n",
    "    dayen4=dsen4['JULD']\n",
    "    refen4=dsen4['DC_REFERENCE']\n",
    "    \n",
    "    print len(laten4.values)\n",
    "\n",
    "    for ref in np.arange(len(laten4.values)):\n",
    "            if ref == 0:\n",
    "                dictyml={int(ref+1):{'reference':str(refen4[ref].values),'file':fileEN4,'profile no':int(ref),'latitude':float(laten4[ref].values),'longitude':float(lonen4[ref].values),'date':str(dayen4[ref].values)}}\n",
    "            else:\n",
    "                up={int(ref+1):{'reference':str(refen4[ref].values),'file':fileEN4,'profile no':int(ref),'latitude':float(laten4[ref].values),'longitude':float(lonen4[ref].values),'date':str(dayen4[ref].values)}}\n",
    "                dictyml.update(up)\n",
    "               \n",
    "dataf={'profilesList':dictyml}\n",
    "\n",
    "               \n",
    "with open('data.json', 'w') as f:\n",
    "     %time json.dump(dictyml, f,sort_keys=True,indent=4, separators=(',', ': '))\n",
    "        \n",
    " "
   ]
  },
  {
   "cell_type": "code",
   "execution_count": 145,
   "metadata": {
    "collapsed": false
   },
   "outputs": [
    {
     "name": "stdout",
     "output_type": "stream",
     "text": [
      "CPU times: user 296 ms, sys: 4 ms, total: 300 ms\n",
      "Wall time: 299 ms\n"
     ]
    }
   ],
   "source": [
    "sourcefile=open('data.json','rU')\n",
    "%time truc=json.load(sourcefile)\n"
   ]
  },
  {
   "cell_type": "code",
   "execution_count": 144,
   "metadata": {
    "collapsed": false
   },
   "outputs": [
    {
     "name": "stdout",
     "output_type": "stream",
     "text": [
      "CPU times: user 2.52 s, sys: 76 ms, total: 2.59 s\n",
      "Wall time: 2.53 s\n"
     ]
    }
   ],
   "source": [
    "%time datapd=pd.read_json('data.json', orient='index')"
   ]
  },
  {
   "cell_type": "code",
   "execution_count": 150,
   "metadata": {
    "collapsed": false
   },
   "outputs": [
    {
     "name": "stdout",
     "output_type": "stream",
     "text": [
      "CPU times: user 32.8 s, sys: 300 ms, total: 33.1 s\n",
      "Wall time: 33.1 s\n"
     ]
    }
   ],
   "source": [
    "sourcefile=open('data.yaml','rU')\n",
    "%time truc=yaml.load(sourcefile)\n"
   ]
  },
  {
   "cell_type": "code",
   "execution_count": 129,
   "metadata": {
    "collapsed": false
   },
   "outputs": [],
   "source": [
    "def parse_float(x):\n",
    "    try:\n",
    "        x = float(x)\n",
    "    except Exception:\n",
    "        x = 0\n",
    "    return x\n",
    "datapd[\"latitude\"]=datapd[\"latitude\"].apply(parse_float)\n",
    "datapd[\"longitude\"]=datapd[\"longitude\"].apply(parse_float)"
   ]
  },
  {
   "cell_type": "code",
   "execution_count": 153,
   "metadata": {
    "collapsed": false
   },
   "outputs": [],
   "source": [
    "import folium\n",
    "from folium import plugins\n",
    "\n",
    "stops_heatmap = folium.Map(location=[45,-50], zoom_start=5)\n",
    "stops_heatmap.add_children(plugins.HeatMap([[row[\"latitude\"], row[\"longitude\"]] for name, row in datapd.iterrows()]))\n",
    "stops_heatmap.save(\"heatmap_profilesEN4_201207.html\")\n"
   ]
  },
  {
   "cell_type": "code",
   "execution_count": 152,
   "metadata": {
    "collapsed": false
   },
   "outputs": [],
   "source": [
    "stops_map = folium.Map(location=[45,-50], zoom_start=5)\n",
    "marker_cluster = folium.MarkerCluster().add_to(stops_map)\n",
    "for name, row in datapd.iterrows():\n",
    "    folium.Marker([row[\"latitude\"], row[\"longitude\"]], popup=row[\"reference\"]).add_to(marker_cluster)\n",
    "stops_map.save(\"number_profilesEN4_201207.html\")\n"
   ]
  },
  {
   "cell_type": "code",
   "execution_count": null,
   "metadata": {
    "collapsed": true
   },
   "outputs": [],
   "source": []
  }
 ],
 "metadata": {
  "kernelspec": {
   "display_name": "Python [Root]",
   "language": "python",
   "name": "Python [Root]"
  },
  "language_info": {
   "codemirror_mode": {
    "name": "ipython",
    "version": 2
   },
   "file_extension": ".py",
   "mimetype": "text/x-python",
   "name": "python",
   "nbconvert_exporter": "python",
   "pygments_lexer": "ipython2",
   "version": "2.7.11"
  }
 },
 "nbformat": 4,
 "nbformat_minor": 0
}
