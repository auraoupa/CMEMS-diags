{
 "cells": [
  {
   "cell_type": "code",
   "execution_count": 4,
   "metadata": {},
   "outputs": [],
   "source": [
    "import json\n",
    "import pandas as pd\n",
    "\n",
    "datapd=pd.read_json('labrador_winter.json', orient='index')\n"
   ]
  },
  {
   "cell_type": "code",
   "execution_count": 6,
   "metadata": {
    "collapsed": true
   },
   "outputs": [],
   "source": [
    "def parse_float(x):\n",
    "    try:\n",
    "        x = float(x)\n",
    "    except Exception:\n",
    "        x = 0\n",
    "    return x\n",
    "datapd[\"latitude\"]=datapd[\"latitude\"].apply(parse_float)\n",
    "datapd[\"longitude\"]=datapd[\"longitude\"].apply(parse_float)\n",
    "\n",
    "import folium\n",
    "from folium import plugins\n",
    "\n",
    "stops_heatmap = folium.Map(location=[57,-50], zoom_start=5)\n",
    "stops_heatmap.add_children(plugins.HeatMap([[row[\"latitude\"], row[\"longitude\"]] for name, row in datapd.iterrows()]))\n",
    "stops_heatmap.save(\"heatmap_labrador_winter.html\")\n"
   ]
  },
  {
   "cell_type": "code",
   "execution_count": 10,
   "metadata": {},
   "outputs": [],
   "source": [
    "stops_map = folium.Map(location=[57,-50], zoom_start=5)\n",
    "marker_cluster = folium.MarkerCluster().add_to(stops_map)\n",
    "for name, row in datapd.iterrows():\n",
    "    folium.Marker([row[\"latitude\"], row[\"longitude\"]], popup=row[\"file\"]).add_to(marker_cluster)\n",
    "stops_map.save(\"number_labrador_winter.html\")\n"
   ]
  },
  {
   "cell_type": "code",
   "execution_count": null,
   "metadata": {
    "collapsed": true
   },
   "outputs": [],
   "source": []
  }
 ],
 "metadata": {
  "kernelspec": {
   "display_name": "Python [Root]",
   "language": "python",
   "name": "Python [Root]"
  },
  "language_info": {
   "codemirror_mode": {
    "name": "ipython",
    "version": 2
   },
   "file_extension": ".py",
   "mimetype": "text/x-python",
   "name": "python",
   "nbconvert_exporter": "python",
   "pygments_lexer": "ipython2",
   "version": "2.7.15"
  }
 },
 "nbformat": 4,
 "nbformat_minor": 1
}
