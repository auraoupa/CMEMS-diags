{
 "cells": [
  {
   "cell_type": "code",
   "execution_count": 1,
   "metadata": {
    "collapsed": true
   },
   "outputs": [],
   "source": [
    "import sys\n",
    "sys.path.insert(0,\"/home/albert7a/lib/python\")\n",
    "\n",
    "\n",
    "## imports\n",
    "\n",
    "import numpy as np\n",
    "import dask\n",
    "import xarray as xr\n",
    "from netCDF4 import Dataset\n",
    "import matplotlib.pyplot as plt\n",
    "import pandas as pd\n",
    "import datetime\n",
    "import glob as glob\n",
    "import matplotlib.gridspec as gridspec\n",
    "from mpl_toolkits.basemap import Basemap\n",
    "import time\n",
    "from dask.diagnostics import ProgressBar\n",
    "from datetime import date"
   ]
  },
  {
   "cell_type": "code",
   "execution_count": 2,
   "metadata": {
    "collapsed": false
   },
   "outputs": [],
   "source": [
    "fileEN4=\"EN.4.2.0.f.profiles.g10.201207.nc\"\n",
    "ref_prof=2222"
   ]
  },
  {
   "cell_type": "code",
   "execution_count": 3,
   "metadata": {
    "collapsed": false
   },
   "outputs": [
    {
     "name": "stdout",
     "output_type": "stream",
     "text": [
      "NATL60 :  26.5648 67.3871 -86.255 17.7867 1719835200.0 1722427200.0\n",
      "EN4 :  30.393 -77.773 1721837160.0\n"
     ]
    }
   ],
   "source": [
    "## Datasets\n",
    "\n",
    "#EN4\n",
    "diren4=\"/media/extra/DATA/ARGO/\"\n",
    "tfileEN4=diren4+fileEN4\n",
    "\n",
    "\n",
    "#NATL60\n",
    "tfiles=\"/media/extra/DATA/NATL60/NATL60-CJM165-S/3d/NATL60-CJM165_y????m??d??.1d_gridT.nc\"\n",
    "\n",
    "##Open NATL60 files to get boundaries of domain\n",
    "dsN = xr.open_mfdataset(tfiles,concat_dim='time_counter',decode_times=False, chunks={'deptht':1 ,'time_counter':10})\n",
    "\n",
    "latN = dsN.nav_lat\n",
    "lonN = dsN.nav_lon\n",
    "timN = dsN.time_counter\n",
    "\n",
    "lamin=np.nanmin(latN.values)\n",
    "lamax=np.nanmax(latN.values)\n",
    "lomin=np.nanmin(lonN.values)\n",
    "lomax=np.nanmax(lonN.values)\n",
    "tmin=np.min(timN.values)\n",
    "tmax=np.max(timN.values)\n",
    "\n",
    "dsen4=xr.open_dataset(tfileEN4)\n",
    "laten4=dsen4['LATITUDE'][ref_prof].values\n",
    "lonen4=dsen4['LONGITUDE'][ref_prof].values\n",
    "dayen4=dsen4['JULD'][ref_prof]\n",
    "\n",
    "dateen4= pd.to_datetime(str(dayen4.values))\n",
    "ten4 = datetime.datetime(int(dateen4.strftime('%Y')),int(dateen4.strftime('%m')),int(dateen4.strftime('%d')),int(dateen4.strftime('%H')),int(dateen4.strftime('%M')))\n",
    "tsecen4=(ten4-datetime.datetime(1958,1,1,0,0)).total_seconds()\n",
    "\n",
    "print \"NATL60 : \",lamin,lamax,lomin,lomax,tmin,tmax\n",
    "print \"EN4 : \",laten4,lonen4,tsecen4"
   ]
  },
  {
   "cell_type": "code",
   "execution_count": 4,
   "metadata": {
    "collapsed": false
   },
   "outputs": [
    {
     "name": "stdout",
     "output_type": "stream",
     "text": [
      "selected EN4 profile falls within NATL60-CJM165 space boundaries or time period, the program is proceeding\n"
     ]
    }
   ],
   "source": [
    "if (laten4 > lamax) | (laten4 < lamin) | (lonen4 > lomax) | (lonen4 < lomin) | (tsecen4 > tmax) | (tsecen4 < tmin):\n",
    "        print \"selected EN4 profile does not fall within NATL60-CJM165 space boundaries or time period, the program is stopping\"\n",
    "else:\n",
    "        print \"selected EN4 profile falls within NATL60-CJM165 space boundaries or time period, the program is proceeding\"\n"
   ]
  },
  {
   "cell_type": "code",
   "execution_count": 47,
   "metadata": {
    "collapsed": true
   },
   "outputs": [],
   "source": [
    "observation_lon=lonen4\n",
    "observation_lat=laten4\n",
    "observation_time=tsecen4\n",
    "\n",
    "tempen4=dsen4['POTM_CORRECTED'][ref_prof]\n",
    "salten4=dsen4['PSAL_CORRECTED'][ref_prof]\n",
    "depen4=dsen4['DEPH_CORRECTED'][ref_prof]\n",
    "\n",
    "observation_dep=depen4\n",
    "observation_temp=tempen4\n",
    "observation_salt=salten4\n",
    "\n",
    "depN = dsN.deptht\n",
    "tempN=dsN.votemper\n",
    "saltN=dsN.vosaline\n",
    "\n"
   ]
  },
  {
   "cell_type": "code",
   "execution_count": 49,
   "metadata": {
    "collapsed": false
   },
   "outputs": [
    {
     "data": {
      "text/plain": [
       "(400,)"
      ]
     },
     "execution_count": 49,
     "metadata": {},
     "output_type": "execute_result"
    }
   ],
   "source": [
    "observation_dep.shape"
   ]
  },
  {
   "cell_type": "code",
   "execution_count": 50,
   "metadata": {
    "collapsed": false
   },
   "outputs": [
    {
     "name": "stderr",
     "output_type": "stream",
     "text": [
      "/home/albert/anaconda2/lib/python2.7/site-packages/ipykernel/__main__.py:8: VisibleDeprecationWarning: using a non-integer number instead of an integer will result in an error in the future\n",
      "/home/albert/anaconda2/lib/python2.7/site-packages/ipykernel/__main__.py:9: VisibleDeprecationWarning: using a non-integer number instead of an integer will result in an error in the future\n",
      "/home/albert/anaconda2/lib/python2.7/site-packages/ipykernel/__main__.py:10: VisibleDeprecationWarning: using a non-integer number instead of an integer will result in an error in the future\n",
      "/home/albert/anaconda2/lib/python2.7/site-packages/ipykernel/__main__.py:11: VisibleDeprecationWarning: using a non-integer number instead of an integer will result in an error in the future\n",
      "/home/albert/anaconda2/lib/python2.7/site-packages/ipykernel/__main__.py:12: VisibleDeprecationWarning: using a non-integer number instead of an integer will result in an error in the future\n",
      "/home/albert/anaconda2/lib/python2.7/site-packages/ipykernel/__main__.py:21: VisibleDeprecationWarning: using a non-integer number instead of an integer will result in an error in the future\n",
      "/home/albert/anaconda2/lib/python2.7/site-packages/ipykernel/__main__.py:22: VisibleDeprecationWarning: using a non-integer number instead of an integer will result in an error in the future\n"
     ]
    }
   ],
   "source": [
    "dep_level=np.zeros(1)\n",
    "\n",
    "for k in np.arange(len(observation_dep)):\n",
    "    if not np.isnan(observation_dep[k]):\n",
    "        dep_level[0]=k\n",
    "\n",
    "#get the corresponding model level\n",
    "model_level=np.zeros(dep_level[0])\n",
    "model_dep=np.zeros(dep_level[0])\n",
    "obsred_dep=np.zeros(dep_level[0])\n",
    "obsred_temp=np.zeros(dep_level[0])\n",
    "obsred_salt=np.zeros(dep_level[0])\n",
    "for z in np.arange(dep_level[0]):\n",
    "    obsred_dep[int(z)]=observation_dep[int(z)]\n",
    "    obsred_temp[int(z)]=observation_temp[int(z)]\n",
    "    obsred_salt[int(z)]=observation_salt[int(z)]\n",
    "    diff_dep=0*depN.values\n",
    "    for k in np.arange(len(depN.values)):\n",
    "        diff_dep[k]=depN.values[k]-obsred_dep[int(z)]\n",
    "    lev=np.where(np.abs(diff_dep)==np.min(np.abs(diff_dep)))\n",
    "    model_level[z]=lev[0]\n",
    "    model_dep[z]=depN.values[lev[0]]\n"
   ]
  },
  {
   "cell_type": "code",
   "execution_count": 51,
   "metadata": {
    "collapsed": false
   },
   "outputs": [
    {
     "data": {
      "text/plain": [
       "(42,)"
      ]
     },
     "execution_count": 51,
     "metadata": {},
     "output_type": "execute_result"
    }
   ],
   "source": [
    "obsred_temp.shape"
   ]
  },
  {
   "cell_type": "code",
   "execution_count": 7,
   "metadata": {
    "collapsed": false
   },
   "outputs": [],
   "source": [
    "step=1\n",
    "indxBOX=np.where((lonN>observation_lon-1)&(lonN<observation_lon+1)&(latN>observation_lat-1)&(latN<observation_lat+1))\n",
    "model_lonBOX=lonN[np.min(indxBOX[0]):np.max(indxBOX[0]):step,np.min(indxBOX[1]):np.max(indxBOX[1]):step]\n",
    "model_latBOX=latN[np.min(indxBOX[0]):np.max(indxBOX[0]):step,np.min(indxBOX[1]):np.max(indxBOX[1]):step]\n",
    "model_lonBOX_array=model_lonBOX.values\n",
    "model_latBOX_array=model_latBOX.values\n",
    "indtBOX=np.where((timN.values < tsecen4 + 15*24*3600) & (timN.values > tsecen4 - 15*24*3600) )\n",
    "model_tBOX=timN[indtBOX[0][0]:indtBOX[0][-1]]\n",
    "t_dim=np.arange(len(model_tBOX))\n",
    "x_dim=np.arange(model_lonBOX_array.shape[1])\n",
    "y_dim=np.arange(model_lonBOX_array.shape[0])\n",
    "\n"
   ]
  },
  {
   "cell_type": "code",
   "execution_count": 8,
   "metadata": {
    "collapsed": true
   },
   "outputs": [],
   "source": [
    "k=0"
   ]
  },
  {
   "cell_type": "code",
   "execution_count": 9,
   "metadata": {
    "collapsed": true
   },
   "outputs": [],
   "source": [
    "model_tempBOX=tempN[indtBOX[0][0]:indtBOX[0][-1],k,np.min(indxBOX[0]):np.max(indxBOX[0]):step,np.min(indxBOX[1]):np.max(indxBOX[1]):step]\n",
    "model_saltBOX=saltN[indtBOX[0][0]:indtBOX[0][-1],k,np.min(indxBOX[0]):np.max(indxBOX[0]):step,np.min(indxBOX[1]):np.max(indxBOX[1]):step]\n"
   ]
  },
  {
   "cell_type": "code",
   "execution_count": 10,
   "metadata": {
    "collapsed": true
   },
   "outputs": [],
   "source": [
    "model_tempBOX_array=model_tempBOX.values\n",
    "model_saltBOX_array=model_saltBOX.values\n",
    "model_tBOX_array=model_tBOX.values\n"
   ]
  },
  {
   "cell_type": "code",
   "execution_count": 11,
   "metadata": {
    "collapsed": false
   },
   "outputs": [
    {
     "data": {
      "text/plain": [
       "(21, 142, 120)"
      ]
     },
     "execution_count": 11,
     "metadata": {},
     "output_type": "execute_result"
    }
   ],
   "source": [
    "model_tempBOX_array.shape"
   ]
  },
  {
   "cell_type": "code",
   "execution_count": 12,
   "metadata": {
    "collapsed": false
   },
   "outputs": [
    {
     "name": "stdout",
     "output_type": "stream",
     "text": [
      "2012-07-24 16:06:08\n"
     ]
    }
   ],
   "source": [
    "print dateen4"
   ]
  },
  {
   "cell_type": "code",
   "execution_count": 13,
   "metadata": {
    "collapsed": true
   },
   "outputs": [],
   "source": [
    "d = {}\n",
    "d['time_counter'] = ('time_counter',t_dim)\n",
    "d['y'] = ('y',y_dim)\n",
    "d['x'] = ('x',x_dim)\n",
    "d['nav_lat'] = (['y','x'],model_latBOX_array)\n",
    "d['nav_lon'] = (['y','x'],model_lonBOX_array)\n",
    "\n",
    "d['votemper'] = (['time_counter','y','x'], model_tempBOX_array)\n",
    "d['vosaline'] = (['time_counter','y','x'], model_saltBOX_array)\n",
    "d['time_counter'] = (['time_counter'], model_tBOX_array)\n",
    "dset = xr.Dataset(d)\n",
    "\n",
    "latB = dset.nav_lat\n",
    "lonB = dset.nav_lon\n",
    "model_temperatureB = dset.votemper\n",
    "model_salinityB = dset.vosaline\n",
    "model_timeB = dset.time_counter\n",
    "\n"
   ]
  },
  {
   "cell_type": "code",
   "execution_count": 14,
   "metadata": {
    "collapsed": true
   },
   "outputs": [],
   "source": [
    "lon_stacked = lonB.stack(profile=('x', 'y'))\n",
    "lat_stacked = latB.stack(profile=('x', 'y'))\n",
    "\n",
    "distance_threshold = 0.25\n",
    "square_distance_to_observation = (lon_stacked - observation_lon)**2 + (lat_stacked-observation_lat)**2\n",
    "is_close_to_observation = square_distance_to_observation < distance_threshold**2\n",
    "\n",
    "model_temperature_stacked = model_temperatureB.stack(profile=('x', 'y'))\n",
    "model_salinity_stacked = model_salinityB.stack(profile=('x', 'y'))\n",
    "\n",
    "model_temperature_near_observation = model_temperature_stacked.where(is_close_to_observation,drop=True)\n",
    "model_salinity_near_observation = model_salinity_stacked.where(is_close_to_observation, drop=True)\n",
    "lat_near_observation = lat_stacked.where(is_close_to_observation, drop=True)\n",
    "lon_near_observation = lon_stacked.where(is_close_to_observation, drop=True)\n"
   ]
  },
  {
   "cell_type": "code",
   "execution_count": 15,
   "metadata": {
    "collapsed": false
   },
   "outputs": [
    {
     "data": {
      "text/plain": [
       "(21, 17040)"
      ]
     },
     "execution_count": 15,
     "metadata": {},
     "output_type": "execute_result"
    }
   ],
   "source": [
    "model_temperature_stacked.shape"
   ]
  },
  {
   "cell_type": "code",
   "execution_count": 16,
   "metadata": {
    "collapsed": false
   },
   "outputs": [
    {
     "data": {
      "text/plain": [
       "(21, 845)"
      ]
     },
     "execution_count": 16,
     "metadata": {},
     "output_type": "execute_result"
    }
   ],
   "source": [
    "model_temperature_near_observation.shape"
   ]
  },
  {
   "cell_type": "code",
   "execution_count": 17,
   "metadata": {
    "collapsed": true
   },
   "outputs": [],
   "source": [
    "model_temp_dask=dask.array.from_array(model_temperature_near_observation,chunks=(100,100))\n",
    "model_temp_dask_concat=dask.array.concatenate(model_temp_dask)\n",
    "model_salt_dask=dask.array.from_array(model_salinity_near_observation,chunks=(100,100))\n",
    "model_salt_dask_concat=dask.array.concatenate(model_salt_dask)\n",
    "temp_model_mean = model_temp_dask_concat.mean().compute()\n",
    "temp_percentile_10= np.percentile(model_temp_dask_concat,10)\n",
    "temp_percentile_90= np.percentile(model_temp_dask_concat,90)\n",
    "salt_model_mean = model_salt_dask_concat.mean().compute()\n",
    "salt_percentile_10= np.percentile(model_salt_dask_concat,10)\n",
    "salt_percentile_90= np.percentile(model_salt_dask_concat,90)\n"
   ]
  },
  {
   "cell_type": "code",
   "execution_count": 18,
   "metadata": {
    "collapsed": false
   },
   "outputs": [
    {
     "data": {
      "text/plain": [
       "27.39994046202375"
      ]
     },
     "execution_count": 18,
     "metadata": {},
     "output_type": "execute_result"
    }
   ],
   "source": [
    "temp_model_mean"
   ]
  },
  {
   "cell_type": "code",
   "execution_count": 54,
   "metadata": {
    "collapsed": false
   },
   "outputs": [
    {
     "name": "stderr",
     "output_type": "stream",
     "text": [
      "/home/albert/anaconda2/lib/python2.7/site-packages/ipykernel/__main__.py:60: VisibleDeprecationWarning: using a non-integer number instead of an integer will result in an error in the future\n",
      "/home/albert/anaconda2/lib/python2.7/site-packages/ipykernel/__main__.py:61: VisibleDeprecationWarning: using a non-integer number instead of an integer will result in an error in the future\n",
      "/home/albert/anaconda2/lib/python2.7/site-packages/ipykernel/__main__.py:62: VisibleDeprecationWarning: using a non-integer number instead of an integer will result in an error in the future\n",
      "/home/albert/anaconda2/lib/python2.7/site-packages/ipykernel/__main__.py:63: VisibleDeprecationWarning: using a non-integer number instead of an integer will result in an error in the future\n",
      "/home/albert/anaconda2/lib/python2.7/site-packages/ipykernel/__main__.py:64: VisibleDeprecationWarning: using a non-integer number instead of an integer will result in an error in the future\n",
      "/home/albert/anaconda2/lib/python2.7/site-packages/ipykernel/__main__.py:65: VisibleDeprecationWarning: using a non-integer number instead of an integer will result in an error in the future\n",
      "/home/albert/anaconda2/lib/python2.7/site-packages/ipykernel/__main__.py:69: VisibleDeprecationWarning: using a non-integer number instead of an integer will result in an error in the future\n",
      "/home/albert/anaconda2/lib/python2.7/site-packages/ipykernel/__main__.py:70: VisibleDeprecationWarning: using a non-integer number instead of an integer will result in an error in the future\n",
      "/home/albert/anaconda2/lib/python2.7/site-packages/ipykernel/__main__.py:71: VisibleDeprecationWarning: using a non-integer number instead of an integer will result in an error in the future\n",
      "/home/albert/anaconda2/lib/python2.7/site-packages/ipykernel/__main__.py:72: VisibleDeprecationWarning: using a non-integer number instead of an integer will result in an error in the future\n",
      "/home/albert/anaconda2/lib/python2.7/site-packages/ipykernel/__main__.py:73: VisibleDeprecationWarning: using a non-integer number instead of an integer will result in an error in the future\n",
      "/home/albert/anaconda2/lib/python2.7/site-packages/ipykernel/__main__.py:74: VisibleDeprecationWarning: using a non-integer number instead of an integer will result in an error in the future\n",
      "/home/albert/anaconda2/lib/python2.7/site-packages/ipykernel/__main__.py:75: VisibleDeprecationWarning: using a non-integer number instead of an integer will result in an error in the future\n"
     ]
    }
   ],
   "source": [
    "def profile_mean_percent(k):\n",
    "\n",
    "    #decoupage grossier autour de la position du profile ARGO pour un niveau vertical\n",
    "\n",
    "    model_tempBOX=tempN[indtBOX[0][0]:indtBOX[0][-1],k,np.min(indxBOX[0]):np.max(indxBOX[0]):step,np.min(indxBOX[1]):np.max(indxBOX[1]):step]\n",
    "    model_saltBOX=saltN[indtBOX[0][0]:indtBOX[0][-1],k,np.min(indxBOX[0]):np.max(indxBOX[0]):step,np.min(indxBOX[1]):np.max(indxBOX[1]):step]\n",
    "\n",
    "    model_tempBOX_array=model_tempBOX.values\n",
    "    model_saltBOX_array=model_saltBOX.values\n",
    "    model_tBOX_array=model_tBOX.values\n",
    "\n",
    "        # construction d'un nouveau xarray\n",
    "    d = {}\n",
    "    d['time_counter'] = ('time_counter',t_dim)\n",
    "    d['y'] = ('y',y_dim)\n",
    "    d['x'] = ('x',x_dim)\n",
    "    d['nav_lat'] = (['y','x'],model_latBOX_array)\n",
    "    d['nav_lon'] = (['y','x'],model_lonBOX_array)\n",
    "\n",
    "    d['votemper'] = (['time_counter','y','x'], model_tempBOX_array)\n",
    "    d['vosaline'] = (['time_counter','y','x'], model_saltBOX_array)\n",
    "    d['time_counter'] = (['time_counter'], model_tBOX_array)\n",
    "    dset = xr.Dataset(d)\n",
    "\n",
    "    latB = dset.nav_lat\n",
    "    lonB = dset.nav_lon\n",
    "    model_temperatureB = dset.votemper\n",
    "    model_salinityB = dset.vosaline\n",
    "    model_timeB = dset.time_counter\n",
    "\n",
    "    # selection plus fine des profils\n",
    "    lon_stacked = lonB.stack(profile=('x', 'y'))\n",
    "    lat_stacked = latB.stack(profile=('x', 'y'))\n",
    "\n",
    "    distance_threshold = 0.25\n",
    "    square_distance_to_observation = (lon_stacked - observation_lon)**2 + (lat_stacked-observation_lat)**2\n",
    "    is_close_to_observation = square_distance_to_observation < distance_threshold**2\n",
    "\n",
    "    model_temperature_stacked = model_temperatureB.stack(profile=('x', 'y'))\n",
    "    model_salinity_stacked = model_salinityB.stack(profile=('x', 'y'))\n",
    "\n",
    "    model_temperature_near_observation = model_temperature_stacked.where(is_close_to_observation,drop=True)\n",
    "    model_salinity_near_observation = model_salinity_stacked.where(is_close_to_observation, drop=True)\n",
    "    lat_near_observation = lat_stacked.where(is_close_to_observation, drop=True)\n",
    "    lon_near_observation = lon_stacked.where(is_close_to_observation, drop=True)\n",
    "\n",
    "    model_temp_dask=dask.array.from_array(model_temperature_near_observation,chunks=(100,100))\n",
    "    model_temp_dask_concat=dask.array.concatenate(model_temp_dask)\n",
    "    model_salt_dask=dask.array.from_array(model_salinity_near_observation,chunks=(100,100))\n",
    "    model_salt_dask_concat=dask.array.concatenate(model_salt_dask)\n",
    "    temp_model_mean = model_temp_dask_concat.mean().compute()\n",
    "    temp_percentile_10= np.percentile(model_temp_dask_concat,10)\n",
    "    temp_percentile_90= np.percentile(model_temp_dask_concat,90)\n",
    "    salt_model_mean = model_salt_dask_concat.mean().compute()\n",
    "    salt_percentile_10= np.percentile(model_salt_dask_concat,10)\n",
    "    salt_percentile_90= np.percentile(model_salt_dask_concat,90)\n",
    "\n",
    "    return lat_near_observation,lon_near_observation,temp_model_mean,temp_percentile_10,temp_percentile_90,salt_model_mean,salt_percentile_10,salt_percentile_90\n",
    "\n",
    "profil_temp_model_mean=np.zeros(dep_level[0])\n",
    "profil_temp_model_percent10=np.zeros(dep_level[0])\n",
    "profil_temp_model_percent90=np.zeros(dep_level[0])\n",
    "profil_salt_model_mean=np.zeros(dep_level[0])\n",
    "profil_salt_model_percent10=np.zeros(dep_level[0])\n",
    "profil_salt_model_percent90=np.zeros(dep_level[0])\n",
    "\n",
    "\n",
    "for z in np.arange(dep_level[0]):\n",
    "    lat_near_observation,lon_near_observation,temp_model_mean,temp_percentile_10,temp_percentile_90,salt_model_mean,salt_percentile_10,salt_percentile_90=profile_mean_percent(model_level[z].astype(int))\n",
    "    profil_temp_model_mean[z]=temp_model_mean\n",
    "    profil_temp_model_percent10[z]=temp_percentile_10\n",
    "    profil_temp_model_percent90[z]=temp_percentile_90\n",
    "    profil_salt_model_mean[z]=salt_model_mean\n",
    "    profil_salt_model_percent10[z]=salt_percentile_10\n",
    "    profil_salt_model_percent90[z]=salt_percentile_90\n"
   ]
  },
  {
   "cell_type": "code",
   "execution_count": 37,
   "metadata": {
    "collapsed": false
   },
   "outputs": [
    {
     "name": "stdout",
     "output_type": "stream",
     "text": [
      "profiles_EN4-A20120724-0497_NATL60-CJM165_TS.nc\n"
     ]
    }
   ],
   "source": [
    "reference_profile=str(dsen4['DC_REFERENCE'][ref_prof].values)\n",
    "outname=\"profiles_EN4-\"+reference_profile[1:-1]+\"_NATL60-CJM165_TS.nc\"\n",
    "print outname"
   ]
  },
  {
   "cell_type": "code",
   "execution_count": 55,
   "metadata": {
    "collapsed": false
   },
   "outputs": [],
   "source": [
    "dsout=Dataset(outname,'w')\n",
    "\n",
    "today=date.today()\n",
    "dsout.description = \"This file contains one profile of temperature and salinity from EN4 dataset and the mean and 10 and 90 percentile of NATL60-CJM165 data within a 0.25deg circle around the location of the profile and 15 days before and after it has been sampled. This file has been created \"+str(today.day)+\"/\"+str(today.month)+\"/\"+str(today.year)\n",
    "\n",
    "depth=dsout.createDimension('depth',dep_level[0])\n",
    "x=dsout.createDimension('x',1)\n",
    "y=dsout.createDimension('y',1)\n",
    "\n",
    "lat = dsout.createVariable('latitude_profileEN4', 'f8', ('y','x'))\n",
    "lat.standart_name=\"latitude_profileEN4\"\n",
    "lat.long_name = \"Latitude of selected EN4 profile\"\n",
    "lat.units = \"degrees_north\"\n",
    "lon = dsout.createVariable('longitude_profileEN4', 'f8', ('y','x'))\n",
    "lon.standart_name=\"longitude_profileEN4\"\n",
    "lon.long_name = \"Longitude of selected EN4 profile\"\n",
    "lon.units = \"degrees_east\"\n",
    "\n",
    "time = dsout.createVariable('time_profileEN4', 'f8', ('y','x'))\n",
    "time.standart_name=\"time_profileEN4\"\n",
    "time.timeg_name = \"Time in seconds from 1-1-1958 of selected EN4 profile\"\n",
    "time.units = \"seconds\"\n",
    "\n",
    "depth_en4 = dsout.createVariable('depth_en4', 'f8', ('depth'),fill_value=0.)\n",
    "depth_en4.units = \"m\"\n",
    "depth_en4.valid_min = 0.\n",
    "depth_en4.valid_max = 8000.\n",
    "depth_en4.long_name = \"Depth\"\n",
    "\n",
    "depth_model = dsout.createVariable('depth_model', 'f8', ('depth'),fill_value=0.)\n",
    "depth_model.units = \"m\"\n",
    "depth_model.valid_min = 0.\n",
    "depth_model.valid_max = 8000.\n",
    "depth_model.long_name = \"Depth\"\n",
    "\n",
    "temp_en4 = dsout.createVariable('temp_profileEN4', 'f8', ('depth'),fill_value=0.)\n",
    "temp_en4.units = \"degC\"\n",
    "temp_en4.valid_min = -10.\n",
    "temp_en4.valid_max = 40.\n",
    "temp_en4.long_name = \"Temperature profile of the selected EN4 profile\"\n",
    "\n",
    "salt_en4 = dsout.createVariable('salt_profileEN4', 'f8', ('depth'),fill_value=0.)\n",
    "salt_en4.units = \"PSU\"\n",
    "salt_en4.valid_min = 20.\n",
    "salt_en4.valid_max = 40.\n",
    "salt_en4.long_name = \"Salinity profile of the selected EN4 profile\"\n",
    "\n",
    "mean_temp_model = dsout.createVariable('mean_temp_model', 'f8', ('depth'),fill_value=0.)\n",
    "mean_temp_model.units = \"degC\"\n",
    "mean_temp_model.valid_min = -10.\n",
    "mean_temp_model.valid_max = 40.\n",
    "mean_temp_model.long_name = \"Mean Temperature profile of the model\"\n",
    "\n",
    "mean_salt_model = dsout.createVariable('mean_salt_model', 'f8', ('depth'),fill_value=0.)\n",
    "mean_salt_model.units = \"PSU\"\n",
    "mean_salt_model.valid_min = 20.\n",
    "mean_salt_model.valid_max = 40.\n",
    "mean_salt_model.long_name = \"Mean Salinity profile of the model\"\n",
    "\n",
    "percent10_temp_model = dsout.createVariable('percent10_temp_model', 'f8', ('depth'),fill_value=0.)\n",
    "percent10_temp_model.units = \"degC\"\n",
    "percent10_temp_model.valid_min = -10.\n",
    "percent10_temp_model.valid_max = 40.\n",
    "percent10_temp_model.long_name = \"Percent 10 Temperature profile of the model\"\n",
    "\n",
    "percent10_salt_model = dsout.createVariable('percent10_salt_model', 'f8', ('depth'),fill_value=0.)\n",
    "percent10_salt_model.units = \"PSU\"\n",
    "percent10_salt_model.valid_min = 20.\n",
    "percent10_salt_model.valid_max = 40.\n",
    "percent10_salt_model.long_name = \"Percent 10 Salinity profile of the model\"\n",
    "\n",
    "percent90_temp_model = dsout.createVariable('percent90_temp_model', 'f8', ('depth'),fill_value=0.)\n",
    "percent90_temp_model.units = \"degC\"\n",
    "percent90_temp_model.valid_min = -90.\n",
    "percent90_temp_model.valid_max = 40.\n",
    "percent90_temp_model.long_name = \"Percent 90 Temperature profile of the model\"\n",
    "\n",
    "percent90_salt_model = dsout.createVariable('percent90_salt_model', 'f8', ('depth'),fill_value=0.)\n",
    "percent90_salt_model.units = \"PSU\"\n",
    "percent90_salt_model.valid_min = 20.\n",
    "percent90_salt_model.valid_max = 40.\n",
    "percent90_salt_model.long_name = \"Percent 90 Salinity profile of the model\"\n",
    "\n",
    "depth_en4[:]=obsred_dep\n",
    "depth_model[:]=model_dep\n",
    "temp_en4[:]=np.array(obsred_temp)\n",
    "salt_en4[:]=np.array(obsred_salt)\n",
    "mean_temp_model[:]=np.array(profil_temp_model_mean)\n",
    "mean_salt_model[:]=np.array(profil_salt_model_mean)\n",
    "percent10_temp_model[:]=np.array(profil_temp_model_percent10)\n",
    "percent10_salt_model[:]=np.array(profil_salt_model_percent10)\n",
    "percent90_temp_model[:]=np.array(profil_temp_model_percent90)\n",
    "percent90_salt_model[:]=np.array(profil_salt_model_percent90)\n",
    "dsout.close()  # close the new file\n"
   ]
  },
  {
   "cell_type": "code",
   "execution_count": null,
   "metadata": {
    "collapsed": true
   },
   "outputs": [],
   "source": []
  }
 ],
 "metadata": {
  "kernelspec": {
   "display_name": "Python [Root]",
   "language": "python",
   "name": "Python [Root]"
  },
  "language_info": {
   "codemirror_mode": {
    "name": "ipython",
    "version": 2
   },
   "file_extension": ".py",
   "mimetype": "text/x-python",
   "name": "python",
   "nbconvert_exporter": "python",
   "pygments_lexer": "ipython2",
   "version": "2.7.11"
  }
 },
 "nbformat": 4,
 "nbformat_minor": 0
}
