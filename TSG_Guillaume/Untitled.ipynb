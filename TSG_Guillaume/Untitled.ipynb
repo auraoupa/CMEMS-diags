{
 "cells": [
  {
   "cell_type": "code",
   "execution_count": 2,
   "metadata": {},
   "outputs": [
    {
     "name": "stderr",
     "output_type": "stream",
     "text": [
      "Traceback (most recent call last):\n",
      "  File \"/home/albert/anaconda2/lib/python2.7/site-packages/matplotlib/backends/backend_qt5.py\", line 519, in _draw_idle\n",
      "    self.draw()\n",
      "  File \"/home/albert/anaconda2/lib/python2.7/site-packages/matplotlib/backends/backend_agg.py\", line 433, in draw\n",
      "    self.figure.draw(self.renderer)\n",
      "  File \"/home/albert/anaconda2/lib/python2.7/site-packages/matplotlib/artist.py\", line 55, in draw_wrapper\n",
      "    return draw(artist, renderer, *args, **kwargs)\n",
      "  File \"/home/albert/anaconda2/lib/python2.7/site-packages/matplotlib/figure.py\", line 1475, in draw\n",
      "    renderer, self, artists, self.suppressComposite)\n",
      "  File \"/home/albert/anaconda2/lib/python2.7/site-packages/matplotlib/image.py\", line 141, in _draw_list_compositing_images\n",
      "    a.draw(renderer)\n",
      "  File \"/home/albert/anaconda2/lib/python2.7/site-packages/matplotlib/artist.py\", line 55, in draw_wrapper\n",
      "    return draw(artist, renderer, *args, **kwargs)\n",
      "  File \"/home/albert/anaconda2/lib/python2.7/site-packages/matplotlib/axes/_base.py\", line 2607, in draw\n",
      "    mimage._draw_list_compositing_images(renderer, self, artists)\n",
      "  File \"/home/albert/anaconda2/lib/python2.7/site-packages/matplotlib/image.py\", line 141, in _draw_list_compositing_images\n",
      "    a.draw(renderer)\n",
      "  File \"/home/albert/anaconda2/lib/python2.7/site-packages/matplotlib/artist.py\", line 55, in draw_wrapper\n",
      "    return draw(artist, renderer, *args, **kwargs)\n",
      "  File \"/home/albert/anaconda2/lib/python2.7/site-packages/matplotlib/image.py\", line 593, in draw\n",
      "    renderer, renderer.get_image_magnification())\n",
      "  File \"/home/albert/anaconda2/lib/python2.7/site-packages/matplotlib/image.py\", line 841, in make_image\n",
      "    unsampled=unsampled)\n",
      "  File \"/home/albert/anaconda2/lib/python2.7/site-packages/matplotlib/image.py\", line 489, in _make_image\n",
      "    output = self.norm(np.ma.masked_array(A_resampled, out_mask))\n",
      "  File \"/home/albert/anaconda2/lib/python2.7/site-packages/matplotlib/colors.py\", line 1017, in __call__\n",
      "    raise ValueError(\"values must all be positive\")\n",
      "ValueError: values must all be positive\n"
     ]
    }
   ],
   "source": [
    "import matplotlib.pyplot as plt\n",
    "from matplotlib.colors import LogNorm\n",
    "import numpy as np\n",
    "\n",
    "img = 10**np.random.normal(1, 1, size=(50, 50))\n",
    "\n",
    "fig, ax = plt.subplots(1, 1)\n",
    "plot = ax.imshow(img, cmap='gray')\n",
    "cb = fig.colorbar(plot, ax=ax)\n",
    "plot.norm = LogNorm()\n",
    "plot.autoscale()\n",
    "cb.update_normal(plot)  # no effect\n",
    "cb.update_bruteforce(plot)  # throws ZeroDivisionError\n",
    "plt.show()"
   ]
  },
  {
   "cell_type": "code",
   "execution_count": null,
   "metadata": {},
   "outputs": [],
   "source": []
  }
 ],
 "metadata": {
  "kernelspec": {
   "display_name": "Python [Root]",
   "language": "python",
   "name": "Python [Root]"
  },
  "language_info": {
   "codemirror_mode": {
    "name": "ipython",
    "version": 2
   },
   "file_extension": ".py",
   "mimetype": "text/x-python",
   "name": "python",
   "nbconvert_exporter": "python",
   "pygments_lexer": "ipython2",
   "version": "2.7.15"
  }
 },
 "nbformat": 4,
 "nbformat_minor": 2
}
