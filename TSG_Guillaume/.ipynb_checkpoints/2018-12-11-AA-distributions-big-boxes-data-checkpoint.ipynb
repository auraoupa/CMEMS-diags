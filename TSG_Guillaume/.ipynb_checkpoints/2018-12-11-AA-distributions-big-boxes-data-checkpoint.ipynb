{
 "cells": [
  {
   "cell_type": "code",
   "execution_count": 1,
   "metadata": {},
   "outputs": [],
   "source": [
    "import xarray as xr\n",
    "import numpy as np\n",
    "import pandas as pd\n",
    "import matplotlib\n",
    "import matplotlib.pyplot as plt\n",
    "import sys\n",
    "sys.path.insert(0,\"/home/albert/Work/git/cmclimate\")\n",
    "import cmclimate\n",
    "import os\n",
    "%matplotlib inline\n"
   ]
  },
  {
   "cell_type": "code",
   "execution_count": 2,
   "metadata": {},
   "outputs": [],
   "source": [
    "ds_data = xr.open_dataset('/mnt/albert/equipes/meom/workdir/albert/TSG/ALL_horizontal_gradients.nc', chunks={'time': 1e7})"
   ]
  },
  {
   "cell_type": "code",
   "execution_count": 15,
   "metadata": {},
   "outputs": [],
   "source": [
    "GSbox=(-65+360,-60+360,37,42)\n",
    "NEbox=(10,15,55,60)\n",
    "ACbox=(-32+360,-27+360,31,36)"
   ]
  },
  {
   "cell_type": "code",
   "execution_count": 23,
   "metadata": {},
   "outputs": [],
   "source": [
    "_lon=ds_data['lon'][:]\n",
    "_lat=ds_data['lat'][:]\n"
   ]
  },
  {
   "cell_type": "code",
   "execution_count": 16,
   "metadata": {},
   "outputs": [],
   "source": [
    "domainGS=(GSbox[0]<_lon)*(_lon<GSbox[1])*(GSbox[2]<_lat)*(_lat<GSbox[3])\n",
    "\n",
    "whereGS=np.where(domainGS)\n",
    "\n",
    "latsGS=_lat[whereGS[0][:]]\n",
    "lonsGS=_lon[whereGS[0][:]]\n",
    "\n",
    "gradTGS=ds_data['SST_LS'][whereGS[0][:]]\n",
    "gradSGS=ds_data['SSS_LS'][whereGS[0][:]]\n",
    "gradbGS=ds_data['SSb_LS'][whereGS[0][:]]\n"
   ]
  },
  {
   "cell_type": "code",
   "execution_count": 24,
   "metadata": {},
   "outputs": [],
   "source": [
    "domainNE=(NEbox[0]<_lon)*(_lon<NEbox[1])*(NEbox[2]<_lat)*(_lat<NEbox[3])\n",
    "\n",
    "whereNE=np.where(domainNE)\n",
    "\n",
    "latsNE=_lat[whereNE[0][:]]\n",
    "lonsNE=_lon[whereNE[0][:]]\n",
    "\n",
    "gradTNE=ds_data['SST_LS'][whereNE[0][:]]\n",
    "gradSNE=ds_data['SSS_LS'][whereNE[0][:]]\n",
    "gradbNE=ds_data['SSb_LS'][whereNE[0][:]]\n"
   ]
  },
  {
   "cell_type": "code",
   "execution_count": 25,
   "metadata": {},
   "outputs": [],
   "source": [
    "domainAC=(ACbox[0]<_lon)*(_lon<ACbox[1])*(ACbox[2]<_lat)*(_lat<ACbox[3])\n",
    "\n",
    "whereAC=np.where(domainAC)\n",
    "\n",
    "latsAC=_lat[whereAC[0][:]]\n",
    "lonsAC=_lon[whereAC[0][:]]\n",
    "\n",
    "gradTAC=ds_data['SST_LS'][whereAC[0][:]]\n",
    "gradSAC=ds_data['SSS_LS'][whereAC[0][:]]\n",
    "gradbAC=ds_data['SSb_LS'][whereAC[0][:]]\n"
   ]
  },
  {
   "cell_type": "code",
   "execution_count": null,
   "metadata": {},
   "outputs": [],
   "source": []
  }
 ],
 "metadata": {
  "kernelspec": {
   "display_name": "Python [Root]",
   "language": "python",
   "name": "Python [Root]"
  },
  "language_info": {
   "codemirror_mode": {
    "name": "ipython",
    "version": 2
   },
   "file_extension": ".py",
   "mimetype": "text/x-python",
   "name": "python",
   "nbconvert_exporter": "python",
   "pygments_lexer": "ipython2",
   "version": "2.7.15"
  }
 },
 "nbformat": 4,
 "nbformat_minor": 2
}
