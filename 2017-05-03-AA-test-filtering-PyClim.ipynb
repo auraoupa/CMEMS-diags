{
 "cells": [
  {
   "cell_type": "markdown",
   "metadata": {},
   "source": [
    "# Filtering with PyClim\n",
    "\n"
   ]
  },
  {
   "cell_type": "markdown",
   "metadata": {},
   "source": [
    "## 0. Installation of PyClim\n",
    "\n",
    " - svn checkout http://servforge.legi.grenoble-inp.fr/svn/soft-pyclim/trunk pyClim in /home/albert/lib/python\n",
    "\n",
    " - python setup.py install --home=~\n"
   ]
  },
  {
   "cell_type": "markdown",
   "metadata": {},
   "source": [
    "## 1. Importing external modules"
   ]
  },
  {
   "cell_type": "code",
   "execution_count": 1,
   "metadata": {
    "collapsed": false
   },
   "outputs": [
    {
     "data": {
      "application/json": {
       "Software versions": [
        {
         "module": "Python",
         "version": "2.7.11 64bit [GCC 4.4.7 20120313 (Red Hat 4.4.7-1)]"
        },
        {
         "module": "IPython",
         "version": "4.2.0"
        },
        {
         "module": "OS",
         "version": "Linux 3.16.0 4 amd64 x86_64 with debian 8.5"
        },
        {
         "module": "numpy",
         "version": "1.11.1"
        },
        {
         "module": "xarray",
         "version": "0.9.1"
        },
        {
         "module": "netCDF4",
         "version": "1.2.4"
        }
       ]
      },
      "text/html": [
       "<table><tr><th>Software</th><th>Version</th></tr><tr><td>Python</td><td>2.7.11 64bit [GCC 4.4.7 20120313 (Red Hat 4.4.7-1)]</td></tr><tr><td>IPython</td><td>4.2.0</td></tr><tr><td>OS</td><td>Linux 3.16.0 4 amd64 x86_64 with debian 8.5</td></tr><tr><td>numpy</td><td>1.11.1</td></tr><tr><td>xarray</td><td>0.9.1</td></tr><tr><td>netCDF4</td><td>1.2.4</td></tr><tr><td colspan='2'>Wed May 03 10:05:41 2017 CEST</td></tr></table>"
      ],
      "text/latex": [
       "\\begin{tabular}{|l|l|}\\hline\n",
       "{\\bf Software} & {\\bf Version} \\\\ \\hline\\hline\n",
       "Python & 2.7.11 64bit [GCC 4.4.7 20120313 (Red Hat 4.4.7-1)] \\\\ \\hline\n",
       "IPython & 4.2.0 \\\\ \\hline\n",
       "OS & Linux 3.16.0 4 amd64 x86\\_64 with debian 8.5 \\\\ \\hline\n",
       "numpy & 1.11.1 \\\\ \\hline\n",
       "xarray & 0.9.1 \\\\ \\hline\n",
       "netCDF4 & 1.2.4 \\\\ \\hline\n",
       "\\hline \\multicolumn{2}{|l|}{Wed May 03 10:05:41 2017 CEST} \\\\ \\hline\n",
       "\\end{tabular}\n"
      ],
      "text/plain": [
       "Software versions\n",
       "Python 2.7.11 64bit [GCC 4.4.7 20120313 (Red Hat 4.4.7-1)]\n",
       "IPython 4.2.0\n",
       "OS Linux 3.16.0 4 amd64 x86_64 with debian 8.5\n",
       "numpy 1.11.1\n",
       "xarray 0.9.1\n",
       "netCDF4 1.2.4\n",
       "Wed May 03 10:05:41 2017 CEST"
      ]
     },
     "execution_count": 1,
     "metadata": {},
     "output_type": "execute_result"
    }
   ],
   "source": [
    "## magics\n",
    "\n",
    "%load_ext version_information \n",
    "%version_information numpy,xarray,netCDF4\n"
   ]
  },
  {
   "cell_type": "code",
   "execution_count": 1,
   "metadata": {
    "collapsed": true
   },
   "outputs": [],
   "source": [
    "## path for mdules\n",
    "\n",
    "import sys\n",
    "sys.path.insert(0,\"/home/albert/lib/python\")\n"
   ]
  },
  {
   "cell_type": "code",
   "execution_count": 2,
   "metadata": {
    "collapsed": true
   },
   "outputs": [],
   "source": [
    "## imports\n",
    "\n",
    "import numpy as np\n",
    "import dask\n",
    "import xarray as xr\n",
    "import GriddedData\n",
    "import time"
   ]
  },
  {
   "cell_type": "code",
   "execution_count": 3,
   "metadata": {
    "collapsed": false
   },
   "outputs": [],
   "source": [
    "#- Other modules\n",
    "import os\n",
    "from glob import glob\n",
    "import numpy.ma as ma\n",
    "import scipy as sc\n",
    "import WavenumberSpectrum as ws\n",
    "import dask.array as da\n",
    "from netCDF4 import Dataset\n",
    "\n",
    "### palette\n",
    "from matplotlib.colors import LogNorm\n",
    "import matplotlib.cm as mplcm\n",
    "import colormap as cmaps\n",
    "import matplotlib.cm as cm\n",
    "\n",
    "import seaborn as sns\n",
    "\n",
    "seq_cmap = mplcm.Blues\n",
    "div_cmap = mplcm.seismic\n",
    "\n",
    "### quick plot\n",
    "import cartopy.crs as ccrs\n",
    "import matplotlib.pyplot as plt\n",
    "\n",
    "## local/specific imports\n",
    "import oocgcm\n",
    "import oocgcm.filtering\n",
    "import oocgcm.filtering.linearfilters as tf\n",
    "%matplotlib inline"
   ]
  },
  {
   "cell_type": "code",
   "execution_count": 4,
   "metadata": {
    "collapsed": false
   },
   "outputs": [],
   "source": [
    "import pyClim as pc"
   ]
  },
  {
   "cell_type": "markdown",
   "metadata": {},
   "source": [
    "## 2. Dataset"
   ]
  },
  {
   "cell_type": "code",
   "execution_count": 5,
   "metadata": {
    "collapsed": false
   },
   "outputs": [
    {
     "name": "stdout",
     "output_type": "stream",
     "text": [
      "/media/extra/DATA/NATL60/NATL60-CJM165-S/NATL60-CJM165_y2013m03d01.1d_curloverf.nc\n",
      "/media/extra/DATA/NATL60/NATL60-CJM165-S/NATL60-CJM165_y2013m03d02.1d_curloverf.nc\n",
      "/media/extra/DATA/NATL60/NATL60-CJM165-S/NATL60-CJM165_y2013m03d03.1d_curloverf.nc\n",
      "/media/extra/DATA/NATL60/NATL60-CJM165-S/NATL60-CJM165_y2013m03d04.1d_curloverf.nc\n",
      "/media/extra/DATA/NATL60/NATL60-CJM165-S/NATL60-CJM165_y2013m03d05.1d_curloverf.nc\n",
      "/media/extra/DATA/NATL60/NATL60-CJM165-S/NATL60-CJM165_y2013m03d06.1d_curloverf.nc\n",
      "/media/extra/DATA/NATL60/NATL60-CJM165-S/NATL60-CJM165_y2013m03d07.1d_curloverf.nc\n",
      "/media/extra/DATA/NATL60/NATL60-CJM165-S/NATL60-CJM165_y2013m03d08.1d_curloverf.nc\n",
      "/media/extra/DATA/NATL60/NATL60-CJM165-S/NATL60-CJM165_y2013m03d09.1d_curloverf.nc\n",
      "/media/extra/DATA/NATL60/NATL60-CJM165-S/NATL60-CJM165_y2013m03d10.1d_curloverf.nc\n",
      "/media/extra/DATA/NATL60/NATL60-CJM165-S/NATL60-CJM165_y2013m03d11.1d_curloverf.nc\n",
      "/media/extra/DATA/NATL60/NATL60-CJM165-S/NATL60-CJM165_y2013m03d12.1d_curloverf.nc\n",
      "/media/extra/DATA/NATL60/NATL60-CJM165-S/NATL60-CJM165_y2013m03d13.1d_curloverf.nc\n",
      "/media/extra/DATA/NATL60/NATL60-CJM165-S/NATL60-CJM165_y2013m03d14.1d_curloverf.nc\n",
      "/media/extra/DATA/NATL60/NATL60-CJM165-S/NATL60-CJM165_y2013m03d15.1d_curloverf.nc\n",
      "/media/extra/DATA/NATL60/NATL60-CJM165-S/NATL60-CJM165_y2013m03d16.1d_curloverf.nc\n",
      "/media/extra/DATA/NATL60/NATL60-CJM165-S/NATL60-CJM165_y2013m03d17.1d_curloverf.nc\n",
      "/media/extra/DATA/NATL60/NATL60-CJM165-S/NATL60-CJM165_y2013m03d18.1d_curloverf.nc\n",
      "/media/extra/DATA/NATL60/NATL60-CJM165-S/NATL60-CJM165_y2013m03d19.1d_curloverf.nc\n",
      "/media/extra/DATA/NATL60/NATL60-CJM165-S/NATL60-CJM165_y2013m03d20.1d_curloverf.nc\n",
      "/media/extra/DATA/NATL60/NATL60-CJM165-S/NATL60-CJM165_y2013m03d21.1d_curloverf.nc\n",
      "/media/extra/DATA/NATL60/NATL60-CJM165-S/NATL60-CJM165_y2013m03d22.1d_curloverf.nc\n",
      "/media/extra/DATA/NATL60/NATL60-CJM165-S/NATL60-CJM165_y2013m03d23.1d_curloverf.nc\n",
      "/media/extra/DATA/NATL60/NATL60-CJM165-S/NATL60-CJM165_y2013m03d24.1d_curloverf.nc\n",
      "/media/extra/DATA/NATL60/NATL60-CJM165-S/NATL60-CJM165_y2013m03d25.1d_curloverf.nc\n",
      "/media/extra/DATA/NATL60/NATL60-CJM165-S/NATL60-CJM165_y2013m03d26.1d_curloverf.nc\n",
      "/media/extra/DATA/NATL60/NATL60-CJM165-S/NATL60-CJM165_y2013m03d27.1d_curloverf.nc\n",
      "/media/extra/DATA/NATL60/NATL60-CJM165-S/NATL60-CJM165_y2013m03d28.1d_curloverf.nc\n",
      "/media/extra/DATA/NATL60/NATL60-CJM165-S/NATL60-CJM165_y2013m03d29.1d_curloverf.nc\n",
      "/media/extra/DATA/NATL60/NATL60-CJM165-S/NATL60-CJM165_y2013m03d30.1d_curloverf.nc\n",
      "/media/extra/DATA/NATL60/NATL60-CJM165-S/NATL60-CJM165_y2013m03d31.1d_curloverf.nc\n",
      "/media/extra/DATA/NATL60/NATL60-CJM165-S/NATL60-CJM165_y2013m09d01.1d_curloverf.nc\n",
      "/media/extra/DATA/NATL60/NATL60-CJM165-S/NATL60-CJM165_y2013m09d02.1d_curloverf.nc\n",
      "/media/extra/DATA/NATL60/NATL60-CJM165-S/NATL60-CJM165_y2013m09d03.1d_curloverf.nc\n",
      "/media/extra/DATA/NATL60/NATL60-CJM165-S/NATL60-CJM165_y2013m09d04.1d_curloverf.nc\n",
      "/media/extra/DATA/NATL60/NATL60-CJM165-S/NATL60-CJM165_y2013m09d05.1d_curloverf.nc\n",
      "/media/extra/DATA/NATL60/NATL60-CJM165-S/NATL60-CJM165_y2013m09d06.1d_curloverf.nc\n",
      "/media/extra/DATA/NATL60/NATL60-CJM165-S/NATL60-CJM165_y2013m09d07.1d_curloverf.nc\n",
      "/media/extra/DATA/NATL60/NATL60-CJM165-S/NATL60-CJM165_y2013m09d08.1d_curloverf.nc\n",
      "/media/extra/DATA/NATL60/NATL60-CJM165-S/NATL60-CJM165_y2013m09d09.1d_curloverf.nc\n",
      "/media/extra/DATA/NATL60/NATL60-CJM165-S/NATL60-CJM165_y2013m09d10.1d_curloverf.nc\n",
      "/media/extra/DATA/NATL60/NATL60-CJM165-S/NATL60-CJM165_y2013m09d11.1d_curloverf.nc\n",
      "/media/extra/DATA/NATL60/NATL60-CJM165-S/NATL60-CJM165_y2013m09d12.1d_curloverf.nc\n",
      "/media/extra/DATA/NATL60/NATL60-CJM165-S/NATL60-CJM165_y2013m09d13.1d_curloverf.nc\n",
      "/media/extra/DATA/NATL60/NATL60-CJM165-S/NATL60-CJM165_y2013m09d14.1d_curloverf.nc\n",
      "/media/extra/DATA/NATL60/NATL60-CJM165-S/NATL60-CJM165_y2013m09d15.1d_curloverf.nc\n",
      "/media/extra/DATA/NATL60/NATL60-CJM165-S/NATL60-CJM165_y2013m09d16.1d_curloverf.nc\n",
      "/media/extra/DATA/NATL60/NATL60-CJM165-S/NATL60-CJM165_y2013m09d17.1d_curloverf.nc\n",
      "/media/extra/DATA/NATL60/NATL60-CJM165-S/NATL60-CJM165_y2013m09d18.1d_curloverf.nc\n",
      "/media/extra/DATA/NATL60/NATL60-CJM165-S/NATL60-CJM165_y2013m09d19.1d_curloverf.nc\n",
      "/media/extra/DATA/NATL60/NATL60-CJM165-S/NATL60-CJM165_y2013m09d20.1d_curloverf.nc\n",
      "/media/extra/DATA/NATL60/NATL60-CJM165-S/NATL60-CJM165_y2013m09d21.1d_curloverf.nc\n",
      "/media/extra/DATA/NATL60/NATL60-CJM165-S/NATL60-CJM165_y2013m09d22.1d_curloverf.nc\n",
      "/media/extra/DATA/NATL60/NATL60-CJM165-S/NATL60-CJM165_y2013m09d23.1d_curloverf.nc\n",
      "/media/extra/DATA/NATL60/NATL60-CJM165-S/NATL60-CJM165_y2013m09d24.1d_curloverf.nc\n",
      "/media/extra/DATA/NATL60/NATL60-CJM165-S/NATL60-CJM165_y2013m09d25.1d_curloverf.nc\n",
      "/media/extra/DATA/NATL60/NATL60-CJM165-S/NATL60-CJM165_y2013m09d26.1d_curloverf.nc\n",
      "/media/extra/DATA/NATL60/NATL60-CJM165-S/NATL60-CJM165_y2013m09d27.1d_curloverf.nc\n",
      "/media/extra/DATA/NATL60/NATL60-CJM165-S/NATL60-CJM165_y2013m09d28.1d_curloverf.nc\n",
      "/media/extra/DATA/NATL60/NATL60-CJM165-S/NATL60-CJM165_y2013m09d29.1d_curloverf.nc\n",
      "/media/extra/DATA/NATL60/NATL60-CJM165-S/NATL60-CJM165_y2013m09d30.1d_curloverf.nc\n"
     ]
    }
   ],
   "source": [
    "dir=\"/media/extra/DATA/NATL60/NATL60-CJM165-S/\"\n",
    "files03=\"NATL60-CJM165_y2013m03d*.1d_curloverf.nc\"\n",
    "files09=\"NATL60-CJM165_y2013m09d*.1d_curloverf.nc\"\n",
    "\n",
    "tfiles03=dir+files03\n",
    "tfiles09=dir+files09\n",
    "\n",
    "!ls $tfiles03\n",
    "!ls $tfiles09"
   ]
  },
  {
   "cell_type": "markdown",
   "metadata": {},
   "source": [
    "## 4. 2D filtering"
   ]
  },
  {
   "cell_type": "code",
   "execution_count": 6,
   "metadata": {
    "collapsed": true
   },
   "outputs": [],
   "source": [
    "curls = xr.open_mfdataset(tfiles03,concat_dim='time_counter')['socurloverf']\n",
    "curl0 =curls[0]"
   ]
  },
  {
   "cell_type": "code",
   "execution_count": 7,
   "metadata": {
    "collapsed": false
   },
   "outputs": [
    {
     "data": {
      "text/plain": [
       "(3454, 5422)"
      ]
     },
     "execution_count": 7,
     "metadata": {},
     "output_type": "execute_result"
    }
   ],
   "source": [
    "curl0.shape"
   ]
  },
  {
   "cell_type": "code",
   "execution_count": 8,
   "metadata": {
    "collapsed": false
   },
   "outputs": [
    {
     "data": {
      "text/plain": [
       "(1454, 3922)"
      ]
     },
     "execution_count": 8,
     "metadata": {},
     "output_type": "execute_result"
    }
   ],
   "source": [
    "asocurl0 = curl0[...,2000:,1500:].squeeze()\n",
    "asocurl0.shape"
   ]
  },
  {
   "cell_type": "code",
   "execution_count": 9,
   "metadata": {
    "collapsed": false
   },
   "outputs": [
    {
     "name": "stderr",
     "output_type": "stream",
     "text": [
      "/home/albert/lib/python/pyClim/filTools.py:325: RuntimeWarning: divide by zero encountered in divide\n",
      "  w_rect = 1 / z * fc_x * fc_y * spec.j1(2 * pi * z)\n",
      "/home/albert/lib/python/pyClim/filTools.py:325: RuntimeWarning: invalid value encountered in multiply\n",
      "  w_rect = 1 / z * fc_x * fc_y * spec.j1(2 * pi * z)\n",
      "/home/albert/lib/python/pyClim/filTools.py:328: RuntimeWarning: invalid value encountered in divide\n",
      "  np.sin(pi * k_y / n_y) / (pi * k_y /n_y ))\n"
     ]
    }
   ],
   "source": [
    "from pyClim.filTools import lanczos\n",
    "n = 30\n",
    "fc = 1./120 # cycle per observation\n",
    "lowpass = lanczos('lp', [n,n],fc1=[fc, fc])\n"
   ]
  },
  {
   "cell_type": "code",
   "execution_count": 10,
   "metadata": {
    "collapsed": false
   },
   "outputs": [
    {
     "name": "stdout",
     "output_type": "stream",
     "text": [
      "CPU times: user 39.3 s, sys: 96 ms, total: 39.4 s\n",
      "Wall time: 39.5 s\n"
     ]
    }
   ],
   "source": [
    "%time lpsocurl = lowpass.do_filtering2d(asocurl0)"
   ]
  },
  {
   "cell_type": "code",
   "execution_count": 11,
   "metadata": {
    "collapsed": false
   },
   "outputs": [
    {
     "name": "stdout",
     "output_type": "stream",
     "text": [
      "CPU times: user 9min 39s, sys: 120 ms, total: 9min 39s\n",
      "Wall time: 9min 39s\n"
     ]
    }
   ],
   "source": [
    "n = 120\n",
    "fc = 1./120 # cycle per observation\n",
    "lowpass = lanczos('lp', [n,n],fc1=[fc, fc])\n",
    "%time lpsocurl = lowpass.do_filtering2d(asocurl0)"
   ]
  },
  {
   "cell_type": "code",
   "execution_count": 12,
   "metadata": {
    "collapsed": false
   },
   "outputs": [
    {
     "name": "stdout",
     "output_type": "stream",
     "text": [
      "CPU times: user 32min 39s, sys: 188 ms, total: 32min 39s\n",
      "Wall time: 32min 39s\n"
     ]
    }
   ],
   "source": [
    "%time lpsocurl = lowpass.do_filtering2d(curl0)"
   ]
  },
  {
   "cell_type": "code",
   "execution_count": null,
   "metadata": {
    "collapsed": true
   },
   "outputs": [],
   "source": []
  }
 ],
 "metadata": {
  "kernelspec": {
   "display_name": "Python [Root]",
   "language": "python",
   "name": "Python [Root]"
  },
  "language_info": {
   "codemirror_mode": {
    "name": "ipython",
    "version": 2
   },
   "file_extension": ".py",
   "mimetype": "text/x-python",
   "name": "python",
   "nbconvert_exporter": "python",
   "pygments_lexer": "ipython2",
   "version": "2.7.11"
  }
 },
 "nbformat": 4,
 "nbformat_minor": 0
}
