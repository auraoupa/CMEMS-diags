{
 "cells": [
  {
   "cell_type": "code",
   "execution_count": 1,
   "metadata": {},
   "outputs": [
    {
     "data": {
      "application/json": {
       "Software versions": [
        {
         "module": "Python",
         "version": "2.7.15 64bit [GCC 7.2.0]"
        },
        {
         "module": "IPython",
         "version": "4.2.0"
        },
        {
         "module": "OS",
         "version": "Linux 3.16.0 4 amd64 x86_64 with debian 8.5"
        },
        {
         "module": "numpy",
         "version": "1.11.2"
        },
        {
         "module": "xarray",
         "version": "0.10.4"
        },
        {
         "module": "netCDF4",
         "version": "1.4.0"
        },
        {
         "module": "matplotlib",
         "version": "2.2.2"
        }
       ]
      },
      "text/html": [
       "<table><tr><th>Software</th><th>Version</th></tr><tr><td>Python</td><td>2.7.15 64bit [GCC 7.2.0]</td></tr><tr><td>IPython</td><td>4.2.0</td></tr><tr><td>OS</td><td>Linux 3.16.0 4 amd64 x86_64 with debian 8.5</td></tr><tr><td>numpy</td><td>1.11.2</td></tr><tr><td>xarray</td><td>0.10.4</td></tr><tr><td>netCDF4</td><td>1.4.0</td></tr><tr><td>matplotlib</td><td>2.2.2</td></tr><tr><td colspan='2'>Mon May 28 16:24:17 2018 CEST</td></tr></table>"
      ],
      "text/latex": [
       "\\begin{tabular}{|l|l|}\\hline\n",
       "{\\bf Software} & {\\bf Version} \\\\ \\hline\\hline\n",
       "Python & 2.7.15 64bit [GCC 7.2.0] \\\\ \\hline\n",
       "IPython & 4.2.0 \\\\ \\hline\n",
       "OS & Linux 3.16.0 4 amd64 x86\\_64 with debian 8.5 \\\\ \\hline\n",
       "numpy & 1.11.2 \\\\ \\hline\n",
       "xarray & 0.10.4 \\\\ \\hline\n",
       "netCDF4 & 1.4.0 \\\\ \\hline\n",
       "matplotlib & 2.2.2 \\\\ \\hline\n",
       "\\hline \\multicolumn{2}{|l|}{Mon May 28 16:24:17 2018 CEST} \\\\ \\hline\n",
       "\\end{tabular}\n"
      ],
      "text/plain": [
       "Software versions\n",
       "Python 2.7.15 64bit [GCC 7.2.0]\n",
       "IPython 4.2.0\n",
       "OS Linux 3.16.0 4 amd64 x86_64 with debian 8.5\n",
       "numpy 1.11.2\n",
       "xarray 0.10.4\n",
       "netCDF4 1.4.0\n",
       "matplotlib 2.2.2\n",
       "Mon May 28 16:24:17 2018 CEST"
      ]
     },
     "execution_count": 1,
     "metadata": {},
     "output_type": "execute_result"
    }
   ],
   "source": [
    "## magics\n",
    "\n",
    "%load_ext version_information \n",
    "%version_information numpy,xarray,netCDF4,matplotlib\n"
   ]
  },
  {
   "cell_type": "code",
   "execution_count": null,
   "metadata": {},
   "outputs": [],
   "source": []
  }
 ],
 "metadata": {
  "kernelspec": {
   "display_name": "Python [Root]",
   "language": "python",
   "name": "Python [Root]"
  },
  "language_info": {
   "codemirror_mode": {
    "name": "ipython",
    "version": 2
   },
   "file_extension": ".py",
   "mimetype": "text/x-python",
   "name": "python",
   "nbconvert_exporter": "python",
   "pygments_lexer": "ipython2",
   "version": "2.7.15"
  }
 },
 "nbformat": 4,
 "nbformat_minor": 1
}
