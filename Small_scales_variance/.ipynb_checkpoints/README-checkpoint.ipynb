{
 "cells": [
  {
   "cell_type": "markdown",
   "metadata": {},
   "source": [
    "# README\n",
    "\n",
    "## Python librairies used \n",
    "\n",
    "You can download them via conda (https://www.continuum.io/downloads) or pip or your favorite packages manager...\n",
    "\n",
    "  - numpy\n",
    "  - xarray\n",
    "  - matplotlib\n",
    "  - time, sys\n",
    "  - netCDF4\n",
    "\n",
    "## Lanczos2DHighPass.py script\n",
    "\n",
    "This script filters a 2D field of data with Lanczos windowing method and writes the filtered signal in a new file that has the same structure than the input file.\n",
    "\n",
    "It is possible to filter one or multiple files (same variable) and maps of total and filtered signal can also be produced.\n",
    "\n",
    "External module needed :\n",
    "  - WavenumberSpectrum : https://github.com/lesommer/codes/blob/master/WavenumberSpectrum.py\n",
    "  - oocgcm filtering module : https://github.com/lesommer/oocgcm\n",
    "\n",
    "Examples of use :\n",
    "\n",
    "  - filter multiple files and no plot :\n",
    "\n",
    "```\n",
    "python Lanczos2DHighPassFilter.py -v 'socurloverf' -s  /media/extra/DATA/NATL60/NATL60-CJM165-S/NATL60-CJM165_y2013m03d1*.1d_curloverf.nc 80 0.0125\n",
    "\n",
    "```\n",
    "\n",
    "  - filter one file and plot :\n",
    "\n",
    "```\n",
    "python Lanczos2DHighPassFilter.py -v 'socurloverf' -s  /media/extra/DATA/NATL60/NATL60-CJM165-S/NATL60-CJM165_y2013m03d09.1d_curloverf.nc -s -p /media/extra/DATA/NATL60/NATL60-CJM165-PLOTS/NATL60-CJM165_y2013m03d09_socurloverf_total_large_small_scales.png 80 0.0125\n",
    "\n",
    "```\n",
    "\n",
    "  \n",
    "## cmems-glo-hr_demo-fine-scale-metrics_01_vorticity-variance_v1.0.ipynb\n",
    "\n",
    "This notebook is a demonstration of the implementation of the fine scale variance metric applied to surface relative vorticity of NATL60 outputs of March and September 2013.\n",
    "\n",
    "External module needed :\n",
    "  - GriddedData : https://github.com/lesommer/codes/blob/master/GriddedData.py\n",
    "  - WavenumberSpectrum : https://github.com/lesommer/codes/blob/master/WavenumberSpectrum.py\n",
    "  - oocgcm filtering module : https://github.com/lesommer/oocgcm\n",
    "\n",
    "\n",
    "Modifications to make before using this notebook :\n",
    "\n",
    "  - change the repository in which you have put external python modules (in the demo /home/albert/lib/python)\n",
    "  - change the repository in which you have put data, both total signal and filtered signal (in the demo /media/extra/DATA/NATL60/NATL60-CJM165-S/), and the gridfile (in the demo /media/extra/DATA/NATL60/NATL60-I/)"
   ]
  }
 ],
 "metadata": {
  "kernelspec": {
   "display_name": "Python [Root]",
   "language": "python",
   "name": "Python [Root]"
  },
  "language_info": {
   "codemirror_mode": {
    "name": "ipython",
    "version": 2
   },
   "file_extension": ".py",
   "mimetype": "text/x-python",
   "name": "python",
   "nbconvert_exporter": "python",
   "pygments_lexer": "ipython2",
   "version": "2.7.11"
  }
 },
 "nbformat": 4,
 "nbformat_minor": 0
}
