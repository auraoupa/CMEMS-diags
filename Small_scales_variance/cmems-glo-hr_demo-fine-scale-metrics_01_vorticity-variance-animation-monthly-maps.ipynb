{
 "cells": [
  {
   "cell_type": "markdown",
   "metadata": {},
   "source": [
    "# Animated Monthly Maps of Fine scale variance of surface relative vorticity\n",
    "\n",
    "\n",
    "__author__ : Aurélie Albert & Julien Le Sommer (MEOM)\n",
    "\n",
    "__context__ : 22-GLO-HR project : Lot 1 - Ocean Modelling\n",
    "\n",
    "__date__ : 7 June 2018\n",
    "\n",
    "__purpose__ : Metric for the intensity of the fine scale of surface relative vorticity in NATL60-CJM165 simulation\n",
    "\n",
    "__detailed description__ : \n",
    "Fine scale variance is defined at a given time and space by :\n",
    "\n",
    "$$V(X) = (X - \\langle X \\rangle)^{2}$$\n",
    "\n",
    "with $\\langle . \\rangle$ the low pass filtering operator. An average in time and space of the variance is then defined as : \n",
    "\n",
    "$$\\overline{(X(t)-\\langle X \\rangle)^{2}}^{t,x,y}$$\n",
    "\n",
    "with $\\overline{X}^{t,x,y}$ a boxcar averager.\n",
    "\n",
    "__practical steps__ :\n",
    "\n",
    "  * see [this notebook](cmems-glo-hr_demo-fine-scale-metrics_01_vorticity-variance-monthly-maps.ipynb) for a complete description of the computation   \n",
    "\n",
    "__licence__ : This work is licensed under a <a rel=\"license\" href=\"http://creativecommons.org/licenses/by/4.0/\">Creative Commons Attribution 4.0 International License</a>."
   ]
  },
  {
   "cell_type": "markdown",
   "metadata": {
    "collapsed": true
   },
   "source": [
    "![Animated Monthly Maps of Fine scale variance of surface relative vorticity](NATL60_small_scale_vorticity_variance.gif \"Animated Monthly Maps of Fine scale variance of surface relative vorticity\")"
   ]
  }
 ],
 "metadata": {
  "kernelspec": {
   "display_name": "Python [Root]",
   "language": "python",
   "name": "Python [Root]"
  },
  "language_info": {
   "codemirror_mode": {
    "name": "ipython",
    "version": 2
   },
   "file_extension": ".py",
   "mimetype": "text/x-python",
   "name": "python",
   "nbconvert_exporter": "python",
   "pygments_lexer": "ipython2",
   "version": "2.7.15"
  }
 },
 "nbformat": 4,
 "nbformat_minor": 1
}
