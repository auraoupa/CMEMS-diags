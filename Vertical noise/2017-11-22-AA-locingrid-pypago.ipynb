{
 "cells": [
  {
   "cell_type": "code",
   "execution_count": 2,
   "metadata": {
    "collapsed": true
   },
   "outputs": [],
   "source": [
    "# import modules\n",
    "from matplotlib import pyplot as plt\n",
    "import matplotlib.cm as cm\n",
    "import numpy.ma as ma\n",
    "import numpy as np\n",
    "import netCDF4 as nc4\n",
    "import wx\n",
    "import xarray as xr\n",
    "%matplotlib inline\n",
    "\n",
    "#pypago\n",
    "import sys\n",
    "sys.path.insert(0,\"/home/albert/lib/python/pypago\")\n",
    "import pypago\n",
    "\n",
    "from netCDF4 import Dataset\n",
    "import sys, os\n",
    "import wx\n",
    "import pypago\n",
    "from matplotlib.figure import Figure\n",
    "from matplotlib.backends.backend_wxagg import FigureCanvasWxAgg as FigureCanvas\n",
    "from matplotlib.backends.backend_wxagg import NavigationToolbar2Wx\n",
    "import matplotlib\n",
    "import pylab as plt\n",
    "import numpy as np\n",
    "from mpl_toolkits.basemap import Basemap\n",
    "from matplotlib import rcParams\n",
    "rcParams['lines.linewidth'] = 2\n",
    "\n",
    "from __param__ import *\n"
   ]
  },
  {
   "cell_type": "code",
   "execution_count": 15,
   "metadata": {
    "collapsed": false
   },
   "outputs": [],
   "source": [
    "gridname='/media/extra/DATA/NACHOS12.L75/NACHOS12.L75-I/NACHOS12.L75-MAA13_mesh_mask.nc'\n",
    "\n",
    "lont=np.squeeze(pypago.readnc(gridname,'nav_lon'));\n",
    "latt=np.squeeze(pypago.readnc(gridname,'nav_lat'));\n",
    "zt=np.squeeze(pypago.readnc(gridname,'gdept_1d'));\n",
    "bathy_temp=np.squeeze(pypago.readnc(gridname,'mbathy')).astype(np.int);\n",
    "bathy_temp[bathy_temp<0]=0;\n",
    "bathy=zt[bathy_temp]\n",
    "mask_temp=np.squeeze(pypago.readnc(gridname,'tmask'));\n",
    "mask=np.squeeze(mask_temp[0,:,:]);\n",
    "[nj,ni]=mask.shape\n",
    "\n"
   ]
  },
  {
   "cell_type": "code",
   "execution_count": 5,
   "metadata": {
    "collapsed": true
   },
   "outputs": [],
   "source": [
    "sections = [] # initialisation of the section list (default: empty list)\n",
    "numbernew = 1\n",
    "lonint=np.array((-56,-48)).astype(np.float) # we recover the variables of lon,lat\n",
    "latint=np.array((53.5,60.5)).astype(np.float)\n"
   ]
  },
  {
   "cell_type": "code",
   "execution_count": 6,
   "metadata": {
    "collapsed": false
   },
   "outputs": [
    {
     "data": {
      "text/plain": [
       "(1568, 1609)"
      ]
     },
     "execution_count": 6,
     "metadata": {},
     "output_type": "execute_result"
    }
   ],
   "source": [
    "lont.shape"
   ]
  },
  {
   "cell_type": "code",
   "execution_count": 7,
   "metadata": {
    "collapsed": false
   },
   "outputs": [
    {
     "data": {
      "text/plain": [
       "(1568, 1609)"
      ]
     },
     "execution_count": 7,
     "metadata": {},
     "output_type": "execute_result"
    }
   ],
   "source": [
    "latt.shape"
   ]
  },
  {
   "cell_type": "code",
   "execution_count": 8,
   "metadata": {
    "collapsed": false
   },
   "outputs": [
    {
     "data": {
      "text/plain": [
       "array([-56., -48.])"
      ]
     },
     "execution_count": 8,
     "metadata": {},
     "output_type": "execute_result"
    }
   ],
   "source": [
    "lonint"
   ]
  },
  {
   "cell_type": "code",
   "execution_count": 10,
   "metadata": {
    "collapsed": false
   },
   "outputs": [
    {
     "data": {
      "text/plain": [
       "array([ 53.5,  60.5])"
      ]
     },
     "execution_count": 10,
     "metadata": {},
     "output_type": "execute_result"
    }
   ],
   "source": [
    "latint"
   ]
  },
  {
   "cell_type": "code",
   "execution_count": 11,
   "metadata": {
    "collapsed": true
   },
   "outputs": [],
   "source": [
    "[nj,ni]=lont.shape"
   ]
  },
  {
   "cell_type": "code",
   "execution_count": 18,
   "metadata": {
    "collapsed": false
   },
   "outputs": [
    {
     "name": "stdout",
     "output_type": "stream",
     "text": [
      "0.0833333\n"
     ]
    }
   ],
   "source": [
    "c=np.max(np.abs(latt[1:,:]-latt[0:-1,:]))\n",
    "print c\n"
   ]
  },
  {
   "cell_type": "code",
   "execution_count": 19,
   "metadata": {
    "collapsed": true
   },
   "outputs": [],
   "source": [
    "a=np.max(np.abs(lont[1:,:]-lont[0:-1,:]))\n",
    "b=np.max(np.abs(lont[:,1:]-lont[:,0:-1]))\n",
    "step_x=np.max([a,b]);\n",
    "\n",
    "c=np.max(np.abs(latt[1:,:]-latt[0:-1,:]))\n",
    "d=np.max(np.abs(latt[:,1:]-latt[:,0:-1]))\n",
    "step_y=np.max([c,d]);\n",
    "\n",
    "vecj=np.empty(len(lonint))\n",
    "veci=np.empty(len(lonint))\n"
   ]
  },
  {
   "cell_type": "code",
   "execution_count": 20,
   "metadata": {
    "collapsed": true
   },
   "outputs": [],
   "source": [
    "off=1\n",
    "[j,i]=np.nonzero((lont<=lonint[0]+off*step_x)&(lont>=lonint[0]-off*step_x)&(latt<=latint[0]+off*step_y)&(latt>=latint[0]-off*step_y))"
   ]
  },
  {
   "cell_type": "code",
   "execution_count": 21,
   "metadata": {
    "collapsed": false
   },
   "outputs": [
    {
     "data": {
      "text/plain": [
       "array([1003, 1003, 1003, 1003, 1003, 1003, 1004, 1004, 1004, 1004, 1004,\n",
       "       1005, 1005, 1005, 1005, 1005, 1006, 1006])"
      ]
     },
     "execution_count": 21,
     "metadata": {},
     "output_type": "execute_result"
    }
   ],
   "source": [
    "j"
   ]
  },
  {
   "cell_type": "code",
   "execution_count": 22,
   "metadata": {
    "collapsed": false
   },
   "outputs": [
    {
     "data": {
      "text/plain": [
       "array([518, 519, 520, 521, 522, 523, 519, 520, 521, 522, 523, 519, 520,\n",
       "       521, 522, 523, 519, 520])"
      ]
     },
     "execution_count": 22,
     "metadata": {},
     "output_type": "execute_result"
    }
   ],
   "source": [
    "i"
   ]
  },
  {
   "cell_type": "code",
   "execution_count": 25,
   "metadata": {
    "collapsed": false
   },
   "outputs": [
    {
     "data": {
      "text/plain": [
       "18"
      ]
     },
     "execution_count": 25,
     "metadata": {},
     "output_type": "execute_result"
    }
   ],
   "source": [
    "len(j)"
   ]
  },
  {
   "cell_type": "code",
   "execution_count": 28,
   "metadata": {
    "collapsed": false
   },
   "outputs": [],
   "source": [
    "def distance(lat1,lon1,lat2,lon2,geoid):\n",
    "    az12,az21,dist = geoid.inv(lon1,lat1,lon2,lat2)\n",
    "    return dist\n",
    "\n",
    "dis=np.empty(len(j))\n",
    "for ii in range(0,len(j)):\n",
    "    dis[ii]=np.abs(distance(latint[0],lonint[0],latt[j[ii],i[ii]],lont[j[ii],i[ii]],ee))\n",
    "ind=np.argmin(dis)"
   ]
  },
  {
   "cell_type": "code",
   "execution_count": 29,
   "metadata": {
    "collapsed": false
   },
   "outputs": [
    {
     "data": {
      "text/plain": [
       "8"
      ]
     },
     "execution_count": 29,
     "metadata": {},
     "output_type": "execute_result"
    }
   ],
   "source": [
    "ind"
   ]
  },
  {
   "cell_type": "code",
   "execution_count": 30,
   "metadata": {
    "collapsed": true
   },
   "outputs": [],
   "source": [
    "vecj[0]=j[ind]\n",
    "veci[0]=i[ind]"
   ]
  },
  {
   "cell_type": "code",
   "execution_count": 32,
   "metadata": {
    "collapsed": false
   },
   "outputs": [
    {
     "data": {
      "text/plain": [
       "array([  1.00400000e+003,   4.94065646e-324])"
      ]
     },
     "execution_count": 32,
     "metadata": {},
     "output_type": "execute_result"
    }
   ],
   "source": [
    "vecj"
   ]
  },
  {
   "cell_type": "code",
   "execution_count": 37,
   "metadata": {
    "collapsed": false
   },
   "outputs": [
    {
     "data": {
      "text/plain": [
       "22.944302"
      ]
     },
     "execution_count": 37,
     "metadata": {},
     "output_type": "execute_result"
    }
   ],
   "source": [
    "latt[518,1003]"
   ]
  },
  {
   "cell_type": "code",
   "execution_count": 38,
   "metadata": {
    "collapsed": false
   },
   "outputs": [
    {
     "data": {
      "text/plain": [
       "array([-56., -48.])"
      ]
     },
     "execution_count": 38,
     "metadata": {},
     "output_type": "execute_result"
    }
   ],
   "source": [
    "lonint"
   ]
  },
  {
   "cell_type": "code",
   "execution_count": 39,
   "metadata": {
    "collapsed": false
   },
   "outputs": [
    {
     "data": {
      "text/plain": [
       "0.24533081"
      ]
     },
     "execution_count": 39,
     "metadata": {},
     "output_type": "execute_result"
    }
   ],
   "source": [
    "step_x"
   ]
  },
  {
   "cell_type": "code",
   "execution_count": 40,
   "metadata": {
    "collapsed": false
   },
   "outputs": [
    {
     "data": {
      "text/plain": [
       "-55.754669189453125"
      ]
     },
     "execution_count": 40,
     "metadata": {},
     "output_type": "execute_result"
    }
   ],
   "source": [
    "lonint[0]+off*step_x"
   ]
  },
  {
   "cell_type": "code",
   "execution_count": 41,
   "metadata": {
    "collapsed": false
   },
   "outputs": [
    {
     "data": {
      "text/plain": [
       "-56.245330810546875"
      ]
     },
     "execution_count": 41,
     "metadata": {},
     "output_type": "execute_result"
    }
   ],
   "source": [
    "lonint[0]-off*step_x"
   ]
  },
  {
   "cell_type": "code",
   "execution_count": 42,
   "metadata": {
    "collapsed": false
   },
   "outputs": [
    {
     "data": {
      "text/plain": [
       "53.583333306014538"
      ]
     },
     "execution_count": 42,
     "metadata": {},
     "output_type": "execute_result"
    }
   ],
   "source": [
    "latint[0]+off*step_y"
   ]
  },
  {
   "cell_type": "code",
   "execution_count": 43,
   "metadata": {
    "collapsed": false
   },
   "outputs": [
    {
     "data": {
      "text/plain": [
       "53.416666693985462"
      ]
     },
     "execution_count": 43,
     "metadata": {},
     "output_type": "execute_result"
    }
   ],
   "source": [
    "latint[0]-off*step_y"
   ]
  },
  {
   "cell_type": "code",
   "execution_count": null,
   "metadata": {
    "collapsed": true
   },
   "outputs": [],
   "source": []
  }
 ],
 "metadata": {
  "kernelspec": {
   "display_name": "Python [Root]",
   "language": "python",
   "name": "Python [Root]"
  },
  "language_info": {
   "codemirror_mode": {
    "name": "ipython",
    "version": 2
   },
   "file_extension": ".py",
   "mimetype": "text/x-python",
   "name": "python",
   "nbconvert_exporter": "python",
   "pygments_lexer": "ipython2",
   "version": "2.7.11"
  }
 },
 "nbformat": 4,
 "nbformat_minor": 0
}
