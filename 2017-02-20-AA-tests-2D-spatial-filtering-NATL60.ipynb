{
 "cells": [
  {
   "cell_type": "markdown",
   "metadata": {},
   "source": [
    "# Tests for spatial filtering for NATL60\n",
    "\n",
    "__purpose__ : optimize filtering for NATL60 using xarray and dask"
   ]
  },
  {
   "cell_type": "code",
   "execution_count": 2,
   "metadata": {
    "collapsed": false
   },
   "outputs": [
    {
     "name": "stdout",
     "output_type": "stream",
     "text": [
      "The version_information extension is already loaded. To reload it, use:\n",
      "  %reload_ext version_information\n"
     ]
    },
    {
     "data": {
      "application/json": {
       "Software versions": [
        {
         "module": "Python",
         "version": "2.7.11 64bit [GCC 4.4.7 20120313 (Red Hat 4.4.7-1)]"
        },
        {
         "module": "IPython",
         "version": "4.2.0"
        },
        {
         "module": "OS",
         "version": "Linux 3.16.0 4 amd64 x86_64 with debian 8.5"
        },
        {
         "module": "numpy",
         "version": "1.11.1"
        },
        {
         "module": "xarray",
         "version": "0.9.1"
        },
        {
         "module": "dask",
         "version": "0.10.0"
        }
       ]
      },
      "text/html": [
       "<table><tr><th>Software</th><th>Version</th></tr><tr><td>Python</td><td>2.7.11 64bit [GCC 4.4.7 20120313 (Red Hat 4.4.7-1)]</td></tr><tr><td>IPython</td><td>4.2.0</td></tr><tr><td>OS</td><td>Linux 3.16.0 4 amd64 x86_64 with debian 8.5</td></tr><tr><td>numpy</td><td>1.11.1</td></tr><tr><td>xarray</td><td>0.9.1</td></tr><tr><td>dask</td><td>0.10.0</td></tr><tr><td colspan='2'>Fri Feb 24 14:33:53 2017 CET</td></tr></table>"
      ],
      "text/latex": [
       "\\begin{tabular}{|l|l|}\\hline\n",
       "{\\bf Software} & {\\bf Version} \\\\ \\hline\\hline\n",
       "Python & 2.7.11 64bit [GCC 4.4.7 20120313 (Red Hat 4.4.7-1)] \\\\ \\hline\n",
       "IPython & 4.2.0 \\\\ \\hline\n",
       "OS & Linux 3.16.0 4 amd64 x86\\_64 with debian 8.5 \\\\ \\hline\n",
       "numpy & 1.11.1 \\\\ \\hline\n",
       "xarray & 0.9.1 \\\\ \\hline\n",
       "dask & 0.10.0 \\\\ \\hline\n",
       "\\hline \\multicolumn{2}{|l|}{Fri Feb 24 14:33:53 2017 CET} \\\\ \\hline\n",
       "\\end{tabular}\n"
      ],
      "text/plain": [
       "Software versions\n",
       "Python 2.7.11 64bit [GCC 4.4.7 20120313 (Red Hat 4.4.7-1)]\n",
       "IPython 4.2.0\n",
       "OS Linux 3.16.0 4 amd64 x86_64 with debian 8.5\n",
       "numpy 1.11.1\n",
       "xarray 0.9.1\n",
       "dask 0.10.0\n",
       "Fri Feb 24 14:33:53 2017 CET"
      ]
     },
     "execution_count": 2,
     "metadata": {},
     "output_type": "execute_result"
    }
   ],
   "source": [
    "## magics\n",
    "\n",
    "%load_ext version_information \n",
    "%version_information numpy,xarray, dask\n"
   ]
  },
  {
   "cell_type": "code",
   "execution_count": 3,
   "metadata": {
    "collapsed": true
   },
   "outputs": [],
   "source": [
    "## path for mdules\n",
    "\n",
    "import sys\n",
    "sys.path.insert(0,\"/home/albert/lib/python\")"
   ]
  },
  {
   "cell_type": "code",
   "execution_count": 4,
   "metadata": {
    "collapsed": true
   },
   "outputs": [],
   "source": [
    "## imports\n",
    "\n",
    "import numpy as np\n",
    "import dask\n",
    "import xarray as xr\n",
    "import GriddedData\n",
    "import time\n",
    "\n",
    "#- Other modules\n",
    "import os\n",
    "from glob import glob\n",
    "import numpy.ma as ma\n",
    "import scipy as sc\n",
    "import WavenumberSpectrum as ws\n",
    "import dask.array as da\n",
    "\n",
    "### palette\n",
    "from matplotlib.colors import LogNorm\n",
    "import matplotlib.cm as mplcm\n",
    "import colormap as cmaps\n",
    "import matplotlib.cm as cm\n",
    "\n",
    "import seaborn as sns\n",
    "\n",
    "seq_cmap = mplcm.Blues\n",
    "div_cmap = mplcm.seismic\n",
    "\n",
    "### quick plot\n",
    "import cartopy.crs as ccrs\n",
    "import matplotlib.pyplot as plt\n",
    "\n",
    "## local/specific imports\n",
    "import oocgcm\n",
    "import oocgcm.filtering\n",
    "import oocgcm.filtering.linearfilters as tf\n",
    "%matplotlib inline"
   ]
  },
  {
   "cell_type": "markdown",
   "metadata": {},
   "source": [
    "## 1. The size of the chunks in xarray"
   ]
  },
  {
   "cell_type": "markdown",
   "metadata": {},
   "source": [
    "My computer has 32 Go DDR4 \n",
    "\n",
    "1 2D field of NATL60 is 72Mo, 1 month of 2D fiels is 2.15Go\n",
    "\n",
    "xarray documentation : \"A good rule of thumb to create arrays with a minimum chunksize of at least one million elements (e.g., a 1000x1000 matrix). With large arrays (10+ GB), the cost of queueing up dask operations can be noticeable, and you may need even larger chunksizes.\"\n",
    "\n",
    "NATL60 is 5422 x 3454"
   ]
  },
  {
   "cell_type": "code",
   "execution_count": 5,
   "metadata": {
    "collapsed": false
   },
   "outputs": [],
   "source": [
    "dir=\"/media/extra/DATA/NATL60/NATL60-CJM165-S/\"\n",
    "files03=\"NATL60-CJM165_y2013m03d*.1d_curloverf.nc\"\n",
    "files09=\"NATL60-CJM165_y2013m09d*.1d_curloverf.nc\"\n",
    "\n",
    "tfiles03=dir+files03\n",
    "tfiles09=dir+files09\n"
   ]
  },
  {
   "cell_type": "code",
   "execution_count": 9,
   "metadata": {
    "collapsed": false
   },
   "outputs": [
    {
     "name": "stdout",
     "output_type": "stream",
     "text": [
      "100 loops, best of 3: 7.41 ms per loop\n"
     ]
    }
   ],
   "source": [
    "curls = xr.open_mfdataset(tfiles03,concat_dim='time_counter')['socurloverf'].chunk(chunks={'x': 1000, 'y':1000, 'time_counter': 1})\n",
    "%timeit curls.sum()"
   ]
  },
  {
   "cell_type": "code",
   "execution_count": 10,
   "metadata": {
    "collapsed": false
   },
   "outputs": [
    {
     "name": "stdout",
     "output_type": "stream",
     "text": [
      "1000 loops, best of 3: 1.4 ms per loop\n"
     ]
    }
   ],
   "source": [
    "curlsbis = xr.open_mfdataset(tfiles03,concat_dim='time_counter')['socurloverf']\n",
    "%timeit curlsbis.sum()"
   ]
  },
  {
   "cell_type": "markdown",
   "metadata": {},
   "source": [
    "It looks like the no-chunk calculation took 1400ms whereas the 1M points chunk calculation took 741 ms (half)"
   ]
  },
  {
   "cell_type": "code",
   "execution_count": 11,
   "metadata": {
    "collapsed": true
   },
   "outputs": [],
   "source": [
    "from dask.diagnostics import ProgressBar"
   ]
  },
  {
   "cell_type": "code",
   "execution_count": 13,
   "metadata": {
    "collapsed": false
   },
   "outputs": [
    {
     "name": "stdout",
     "output_type": "stream",
     "text": [
      "[########################################] | 100% Completed |  5min 47.8s\n"
     ]
    }
   ],
   "source": [
    "curls = xr.open_mfdataset(tfiles03,concat_dim='time_counter')['socurloverf'].chunk(chunks={'x': 1000, 'y':1000, 'time_counter': 1})\n",
    "res=curls.sum()\n",
    "with ProgressBar():\n",
    "    out = res.compute()"
   ]
  },
  {
   "cell_type": "code",
   "execution_count": 14,
   "metadata": {
    "collapsed": false
   },
   "outputs": [
    {
     "name": "stdout",
     "output_type": "stream",
     "text": [
      "[########################################] | 100% Completed | 14.5s\n"
     ]
    }
   ],
   "source": [
    "curls = xr.open_mfdataset(tfiles03,concat_dim='time_counter')['socurloverf']\n",
    "res=curls.sum()\n",
    "with ProgressBar():\n",
    "    out = res.compute()"
   ]
  },
  {
   "cell_type": "markdown",
   "metadata": {},
   "source": [
    "It looks like the no-chunk calculation took is quicker than the 1M points chunk calculation !!"
   ]
  },
  {
   "cell_type": "code",
   "execution_count": 15,
   "metadata": {
    "collapsed": true
   },
   "outputs": [],
   "source": [
    "from dask.diagnostics import Profiler, ResourceProfiler, CacheProfiler\n",
    "curls = xr.open_mfdataset(tfiles03,concat_dim='time_counter')['socurloverf'].chunk(chunks={'x': 1000, 'y':1000, 'time_counter': 1})\n",
    "res=curls.sum()\n",
    "with Profiler() as prof, ResourceProfiler(dt=0.25) as rprof, CacheProfiler() as cprof:\n",
    "    out = res.compute()"
   ]
  },
  {
   "cell_type": "code",
   "execution_count": 16,
   "metadata": {
    "collapsed": false
   },
   "outputs": [
    {
     "data": {
      "text/plain": [
       "TaskData(key=('nansum-788f55a90437b17978073db771aa419b', 12, 2, 0), task=(<functools.partial object at 0x7f81a7bc8ba8>, (<function concatenate3 at 0x7f81ec6cb398>, [[[(<built-in function getitem>, (<function getarray at 0x7f81ec727c80>, CopyOnWriteArray(array=LazilyIndexedArray(array=MaskedAndScaledArray(LazilyIndexedArray(array=NetCDF4ArrayWrapper(array=<type 'netCDF4._netCDF4.Variable'>\n",
       "float32 socurloverf(time_counter, y, x)\n",
       "    units: -\n",
       "    _FillValue: 0.0\n",
       "    valid_min: -1000.0\n",
       "    valid_max: 1000.0\n",
       "    long_name: Relative_Vorticity (curl)\n",
       "    short_name: socurl\n",
       "    iweight: 1\n",
       "    online_operation: N/A\n",
       "    axis: TYX\n",
       "    scale_factor: 1.0\n",
       "    add_offset: 0.0\n",
       "    savelog10: 0.0\n",
       "unlimited dimensions: time_counter\n",
       "current shape = (1, 3454, 5422)\n",
       "filling on), key=(slice(None, None, None), slice(None, None, None), slice(None, None, None))), fill_value=array(0.0, dtype=float32), scale_factor=1.0, add_offset=0.0, dtype=<type 'float'>), key=(slice(None, None, None), slice(None, None, None), slice(None, None, None)))), (slice(0, 1, None), slice(0, 3454, None), slice(0, 5422, None)), <thread.lock object at 0x7f81f12e7bb0>), (slice(0, 1, None), slice(2000, 3000, None), slice(0, 1000, None)))]]])), start_time=1487758265.913261, end_time=1487758269.506001, worker_id=140196053530368)"
      ]
     },
     "execution_count": 16,
     "metadata": {},
     "output_type": "execute_result"
    }
   ],
   "source": [
    "prof.results[0]"
   ]
  },
  {
   "cell_type": "code",
   "execution_count": 17,
   "metadata": {
    "collapsed": false
   },
   "outputs": [
    {
     "data": {
      "text/plain": [
       "ResourceData(time=1487758110.368293, mem=1163.91936, cpu=0.0)"
      ]
     },
     "execution_count": 17,
     "metadata": {},
     "output_type": "execute_result"
    }
   ],
   "source": [
    "rprof.results[0]"
   ]
  },
  {
   "cell_type": "code",
   "execution_count": 18,
   "metadata": {
    "collapsed": false
   },
   "outputs": [
    {
     "data": {
      "text/plain": [
       "CacheData(key=('nansum-788f55a90437b17978073db771aa419b', 0, 1, 2), task=(<functools.partial object at 0x7f81a7bc8ba8>, (<function concatenate3 at 0x7f81ec6cb398>, [[[(<built-in function getitem>, (<function getarray at 0x7f81ec727c80>, CopyOnWriteArray(array=LazilyIndexedArray(array=MaskedAndScaledArray(LazilyIndexedArray(array=NetCDF4ArrayWrapper(array=<type 'netCDF4._netCDF4.Variable'>\n",
       "float32 socurloverf(time_counter, y, x)\n",
       "    units: -\n",
       "    _FillValue: 0.0\n",
       "    valid_min: -1000.0\n",
       "    valid_max: 1000.0\n",
       "    long_name: Relative_Vorticity (curl)\n",
       "    short_name: socurl\n",
       "    iweight: 1\n",
       "    online_operation: N/A\n",
       "    axis: TYX\n",
       "    scale_factor: 1.0\n",
       "    add_offset: 0.0\n",
       "    savelog10: 0.0\n",
       "unlimited dimensions: time_counter\n",
       "current shape = (1, 3454, 5422)\n",
       "filling on), key=(slice(None, None, None), slice(None, None, None), slice(None, None, None))), fill_value=array(0.0, dtype=float32), scale_factor=1.0, add_offset=0.0, dtype=<type 'float'>), key=(slice(None, None, None), slice(None, None, None), slice(None, None, None)))), (slice(0, 1, None), slice(0, 3454, None), slice(0, 5422, None)), <thread.lock object at 0x7f81f12e7bb0>), (slice(0, 1, None), slice(1000, 2000, None), slice(2000, 3000, None)))]]])), metric=1, cache_time=1487758112.718916, free_time=1487758114.045544)"
      ]
     },
     "execution_count": 18,
     "metadata": {},
     "output_type": "execute_result"
    }
   ],
   "source": [
    "cprof.results[0]"
   ]
  },
  {
   "cell_type": "code",
   "execution_count": 19,
   "metadata": {
    "collapsed": false
   },
   "outputs": [
    {
     "data": {
      "text/plain": [
       "<bokeh.plotting.figure.Figure at 0x7f81a7bdf510>"
      ]
     },
     "execution_count": 19,
     "metadata": {},
     "output_type": "execute_result"
    }
   ],
   "source": [
    "prof.visualize()"
   ]
  },
  {
   "cell_type": "code",
   "execution_count": 20,
   "metadata": {
    "collapsed": true
   },
   "outputs": [],
   "source": [
    "from dask.diagnostics import visualize"
   ]
  },
  {
   "cell_type": "code",
   "execution_count": 21,
   "metadata": {
    "collapsed": false
   },
   "outputs": [
    {
     "data": {
      "text/plain": [
       "<bokeh.models.plots.GridPlot at 0x7f821805a9d0>"
      ]
     },
     "execution_count": 21,
     "metadata": {},
     "output_type": "execute_result"
    }
   ],
   "source": [
    "visualize([prof, rprof, cprof])"
   ]
  },
  {
   "cell_type": "markdown",
   "metadata": {},
   "source": [
    "<img width=\"600\" src=\"chunk1M1.png\"></img>\n",
    "<img width=\"600\" src=\"chunk1M2.png\"></img>\n",
    "<img width=\"600\" src=\"chunk1M3.png\"></img>"
   ]
  },
  {
   "cell_type": "code",
   "execution_count": 22,
   "metadata": {
    "collapsed": false
   },
   "outputs": [
    {
     "name": "stderr",
     "output_type": "stream",
     "text": [
      "Process _Tracker-2:\n",
      "  File \"/home/albert/anaconda2/lib/python2.7/multiprocessing/process.py\", line 258, in _bootstrap\n",
      "Traceback (most recent call last):\n",
      "    self.run()\n",
      "  File \"/home/albert/anaconda2/lib/python2.7/site-packages/dask/diagnostics/profile.py\", line 216, in run\n",
      "    ps = self._update_pids(pid)\n",
      "  File \"/home/albert/anaconda2/lib/python2.7/site-packages/psutil/__init__.py\", line 622, in status\n",
      "  File \"/home/albert/anaconda2/lib/python2.7/site-packages/dask/diagnostics/profile.py\", line 212, in _update_pids\n",
      "    if p.pid != pid and p.status() != 'zombie']\n",
      "    return self._proc.status()\n",
      "  File \"/home/albert/anaconda2/lib/python2.7/site-packages/psutil/_pslinux.py\", line 968, in wrapper\n",
      "    raise NoSuchProcess(self.pid, self._name)\n",
      "NoSuchProcess: psutil.NoSuchProcess process no longer exists (pid=19259)\n"
     ]
    }
   ],
   "source": [
    "curls = xr.open_mfdataset(tfiles03,concat_dim='time_counter')['socurloverf']\n",
    "res=curls.sum()\n",
    "with Profiler() as prof, ResourceProfiler(dt=0.25) as rprof, CacheProfiler() as cprof:\n",
    "    out = res.compute()"
   ]
  },
  {
   "cell_type": "code",
   "execution_count": 23,
   "metadata": {
    "collapsed": false
   },
   "outputs": [
    {
     "data": {
      "text/plain": [
       "TaskData(key=('nansum-0b1cf304078d734d2571ea90a92ba5fe', 16, 0, 0), task=(<functools.partial object at 0x7f81a6b35af8>, (<function getarray at 0x7f81ec727c80>, CopyOnWriteArray(array=LazilyIndexedArray(array=MaskedAndScaledArray(LazilyIndexedArray(array=NetCDF4ArrayWrapper(array=<type 'netCDF4._netCDF4.Variable'>\n",
       "float32 socurloverf(time_counter, y, x)\n",
       "    units: -\n",
       "    _FillValue: 0.0\n",
       "    valid_min: -1000.0\n",
       "    valid_max: 1000.0\n",
       "    long_name: Relative_Vorticity (curl)\n",
       "    short_name: socurl\n",
       "    iweight: 1\n",
       "    online_operation: N/A\n",
       "    axis: TYX\n",
       "    scale_factor: 1.0\n",
       "    add_offset: 0.0\n",
       "    savelog10: 0.0\n",
       "unlimited dimensions: time_counter\n",
       "current shape = (1, 3454, 5422)\n",
       "filling on), key=(slice(None, None, None), slice(None, None, None), slice(None, None, None))), fill_value=array(0.0, dtype=float32), scale_factor=1.0, add_offset=0.0, dtype=<type 'float'>), key=(slice(None, None, None), slice(None, None, None), slice(None, None, None)))), (slice(0, 1, None), slice(0, 3454, None), slice(0, 5422, None)), <thread.lock object at 0x7f81f12e7bb0>)), start_time=1487758912.935109, end_time=1487758916.394765, worker_id=140196053530368)"
      ]
     },
     "execution_count": 23,
     "metadata": {},
     "output_type": "execute_result"
    }
   ],
   "source": [
    "prof.results[0]"
   ]
  },
  {
   "cell_type": "code",
   "execution_count": 24,
   "metadata": {
    "collapsed": false
   },
   "outputs": [
    {
     "ename": "IndexError",
     "evalue": "list index out of range",
     "output_type": "error",
     "traceback": [
      "\u001b[1;31m---------------------------------------------------------------------------\u001b[0m",
      "\u001b[1;31mIndexError\u001b[0m                                Traceback (most recent call last)",
      "\u001b[1;32m<ipython-input-24-2c41355ff06c>\u001b[0m in \u001b[0;36m<module>\u001b[1;34m()\u001b[0m\n\u001b[1;32m----> 1\u001b[1;33m \u001b[0mrprof\u001b[0m\u001b[1;33m.\u001b[0m\u001b[0mresults\u001b[0m\u001b[1;33m[\u001b[0m\u001b[1;36m0\u001b[0m\u001b[1;33m]\u001b[0m\u001b[1;33m\u001b[0m\u001b[0m\n\u001b[0m",
      "\u001b[1;31mIndexError\u001b[0m: list index out of range"
     ]
    }
   ],
   "source": [
    "rprof.results[0]"
   ]
  },
  {
   "cell_type": "code",
   "execution_count": 25,
   "metadata": {
    "collapsed": false
   },
   "outputs": [
    {
     "data": {
      "text/plain": [
       "CacheData(key=('nansum-0b1cf304078d734d2571ea90a92ba5fe', 7, 0, 0), task=(<functools.partial object at 0x7f81a6b35af8>, (<function getarray at 0x7f81ec727c80>, CopyOnWriteArray(array=LazilyIndexedArray(array=MaskedAndScaledArray(LazilyIndexedArray(array=NetCDF4ArrayWrapper(array=<type 'netCDF4._netCDF4.Variable'>\n",
       "float32 socurloverf(time_counter, y, x)\n",
       "    units: -\n",
       "    _FillValue: 0.0\n",
       "    valid_min: -1000.0\n",
       "    valid_max: 1000.0\n",
       "    long_name: Relative_Vorticity (curl)\n",
       "    short_name: socurl\n",
       "    iweight: 1\n",
       "    online_operation: N/A\n",
       "    axis: TYX\n",
       "    scale_factor: 1.0\n",
       "    add_offset: 0.0\n",
       "    savelog10: 0.0\n",
       "unlimited dimensions: time_counter\n",
       "current shape = (1, 3454, 5422)\n",
       "filling on), key=(slice(None, None, None), slice(None, None, None), slice(None, None, None))), fill_value=array(0.0, dtype=float32), scale_factor=1.0, add_offset=0.0, dtype=<type 'float'>), key=(slice(None, None, None), slice(None, None, None), slice(None, None, None)))), (slice(0, 1, None), slice(0, 3454, None), slice(0, 5422, None)), <thread.lock object at 0x7f81f12e7bb0>)), metric=1, cache_time=1487758908.135055, free_time=1487758908.135595)"
      ]
     },
     "execution_count": 25,
     "metadata": {},
     "output_type": "execute_result"
    }
   ],
   "source": [
    "cprof.results[0]"
   ]
  },
  {
   "cell_type": "code",
   "execution_count": 26,
   "metadata": {
    "collapsed": false
   },
   "outputs": [
    {
     "data": {
      "text/plain": [
       "<bokeh.plotting.figure.Figure at 0x7f81a7bffa90>"
      ]
     },
     "execution_count": 26,
     "metadata": {},
     "output_type": "execute_result"
    }
   ],
   "source": [
    "prof.visualize()"
   ]
  },
  {
   "cell_type": "code",
   "execution_count": 27,
   "metadata": {
    "collapsed": false
   },
   "outputs": [
    {
     "data": {
      "text/plain": [
       "<bokeh.models.plots.GridPlot at 0x7f81a7d31790>"
      ]
     },
     "execution_count": 27,
     "metadata": {},
     "output_type": "execute_result"
    }
   ],
   "source": [
    "visualize([prof, rprof, cprof])"
   ]
  },
  {
   "cell_type": "markdown",
   "metadata": {},
   "source": [
    "<img width=\"600\" src=\"nochunk1.png\"></img>\n",
    "<img width=\"600\" src=\"nochunk2.png\"></img>\n",
    "<img width=\"600\" src=\"nochunk3.png\"></img>"
   ]
  },
  {
   "cell_type": "markdown",
   "metadata": {},
   "source": [
    "For the sum operation it looks like it is more efficient to compute without chunks"
   ]
  },
  {
   "cell_type": "markdown",
   "metadata": {},
   "source": [
    "## Test of 2D spatial filtering on 1 time_step"
   ]
  },
  {
   "cell_type": "code",
   "execution_count": 4,
   "metadata": {
    "collapsed": true
   },
   "outputs": [],
   "source": [
    "curls = xr.open_mfdataset(tfiles03,concat_dim='time_counter')['socurloverf'].chunk(chunks={'x': 1000, 'y':1000, 'time_counter': 1})\n",
    "curl0=curls[0]"
   ]
  },
  {
   "cell_type": "code",
   "execution_count": 5,
   "metadata": {
    "collapsed": true
   },
   "outputs": [],
   "source": [
    "win_box2D = curl0.win\n"
   ]
  },
  {
   "cell_type": "code",
   "execution_count": 6,
   "metadata": {
    "collapsed": false
   },
   "outputs": [
    {
     "name": "stderr",
     "output_type": "stream",
     "text": [
      "/home/albert/lib/python/oocgcm/filtering/linearfilters.py:58: RuntimeWarning: invalid value encountered in divide\n",
      "  np.sin(np.pi * k / (n / 2.)) / (np.pi * k / (n / 2.)))\n"
     ]
    }
   ],
   "source": [
    "win_box2D.set(window_name='lanczos', n=[120, 120], dims=['x', 'y'], fc=0.00833)\n"
   ]
  },
  {
   "cell_type": "code",
   "execution_count": 32,
   "metadata": {
    "collapsed": false
   },
   "outputs": [
    {
     "name": "stdout",
     "output_type": "stream",
     "text": [
      "1 loop, best of 3: 16min 46s per loop\n"
     ]
    }
   ],
   "source": [
    "%timeit bw = win_box2D.boundary_weights(drop_dims=[])"
   ]
  },
  {
   "cell_type": "code",
   "execution_count": 7,
   "metadata": {
    "collapsed": false
   },
   "outputs": [
    {
     "name": "stdout",
     "output_type": "stream",
     "text": [
      "CPU times: user 16min 51s, sys: 7.16 s, total: 16min 59s\n",
      "Wall time: 16min 58s\n"
     ]
    }
   ],
   "source": [
    "%time bw = win_box2D.boundary_weights(drop_dims=[])"
   ]
  },
  {
   "cell_type": "code",
   "execution_count": 33,
   "metadata": {
    "collapsed": true
   },
   "outputs": [],
   "source": [
    "curls = xr.open_mfdataset(tfiles03,concat_dim='time_counter')['socurloverf']\n",
    "curl0=curls[0]\n",
    "win_box2D = curl0.win\n",
    "win_box2D.set(window_name='lanczos', n=[120, 120], dims=['x', 'y'], fc=0.00833)"
   ]
  },
  {
   "cell_type": "code",
   "execution_count": 34,
   "metadata": {
    "collapsed": false
   },
   "outputs": [
    {
     "name": "stdout",
     "output_type": "stream",
     "text": [
      "1 loop, best of 3: 16min 35s per loop\n"
     ]
    }
   ],
   "source": [
    "%timeit bw = win_box2D.boundary_weights(drop_dims=[])"
   ]
  },
  {
   "cell_type": "code",
   "execution_count": 35,
   "metadata": {
    "collapsed": false
   },
   "outputs": [
    {
     "name": "stdout",
     "output_type": "stream",
     "text": [
      "CPU times: user 16min 29s, sys: 5.87 s, total: 16min 35s\n",
      "Wall time: 16min 34s\n"
     ]
    }
   ],
   "source": [
    "%time bw = win_box2D.boundary_weights(drop_dims=[])"
   ]
  },
  {
   "cell_type": "markdown",
   "metadata": {
    "collapsed": true
   },
   "source": [
    "No gain with chunks, try with 2 time-steps"
   ]
  },
  {
   "cell_type": "code",
   "execution_count": 45,
   "metadata": {
    "collapsed": true
   },
   "outputs": [],
   "source": [
    "curls = xr.open_mfdataset(tfiles03,concat_dim='time_counter')['socurloverf'].chunk(chunks={'x': 1000, 'y':1000, 'time_counter': 1})\n",
    "curl0=curls[0:2]\n",
    "win_box2D = curl0.win\n",
    "win_box2D.set(window_name='lanczos', n=[120, 120], dims=['x', 'y'], fc=0.00833)"
   ]
  },
  {
   "cell_type": "code",
   "execution_count": 46,
   "metadata": {
    "collapsed": false
   },
   "outputs": [
    {
     "name": "stdout",
     "output_type": "stream",
     "text": [
      "CPU times: user 32min 55s, sys: 10.5 s, total: 33min 5s\n",
      "Wall time: 33min 4s\n"
     ]
    }
   ],
   "source": [
    "%time bw = win_box2D.boundary_weights(drop_dims=[])"
   ]
  },
  {
   "cell_type": "markdown",
   "metadata": {
    "collapsed": true
   },
   "source": [
    "I have the impression that the chunking in time does not gain on performance for this calculation"
   ]
  },
  {
   "cell_type": "markdown",
   "metadata": {},
   "source": [
    "Computer boundary weights for all month"
   ]
  },
  {
   "cell_type": "code",
   "execution_count": 7,
   "metadata": {
    "collapsed": false
   },
   "outputs": [
    {
     "name": "stderr",
     "output_type": "stream",
     "text": [
      "/home/albert/lib/python/oocgcm/filtering/linearfilters.py:58: RuntimeWarning: invalid value encountered in divide\n",
      "  np.sin(np.pi * k / (n / 2.)) / (np.pi * k / (n / 2.)))\n"
     ]
    }
   ],
   "source": [
    "curl = xr.open_mfdataset(tfiles03,concat_dim='time_counter')['socurloverf'].chunk(chunks={'x': 1000, 'y':1000, 'time_counter': 1})\n",
    "win_box2D = curl.win\n",
    "win_box2D.set(window_name='lanczos', n=[120, 120], dims=['x', 'y'], fc=0.00833)"
   ]
  },
  {
   "cell_type": "code",
   "execution_count": 8,
   "metadata": {
    "collapsed": false
   },
   "outputs": [
    {
     "name": "stdout",
     "output_type": "stream",
     "text": [
      "CPU times: user 8h 22min 54s, sys: 1min 26s, total: 8h 24min 20s\n",
      "Wall time: 8h 29min 36s\n"
     ]
    }
   ],
   "source": [
    "%time bw = win_box2D.boundary_weights(drop_dims=[])"
   ]
  },
  {
   "cell_type": "code",
   "execution_count": 10,
   "metadata": {
    "collapsed": false
   },
   "outputs": [
    {
     "data": {
      "text/plain": [
       "<matplotlib.collections.QuadMesh at 0x7ff1804a0e90>"
      ]
     },
     "execution_count": 10,
     "metadata": {},
     "output_type": "execute_result"
    },
    {
     "data": {
      "image/png": "[encoded data removed]",
      "text/plain": [
       "<matplotlib.figure.Figure at 0x7ff18b2e1fd0>"
      ]
     },
     "metadata": {},
     "output_type": "display_data"
    }
   ],
   "source": [
    "bw.plot(vmin=0, vmax=1, cmap='spectral')"
   ]
  },
  {
   "cell_type": "code",
   "execution_count": 11,
   "metadata": {
    "collapsed": false
   },
   "outputs": [
    {
     "name": "stdout",
     "output_type": "stream",
     "text": [
      "[##########                              ] | 27% Completed | 46.0s\n"
     ]
    },
    {
     "ename": "MemoryError",
     "evalue": "\n\nTraceback\n---------\n  File \"/home/albert/anaconda2/lib/python2.7/site-packages/dask/async.py\", line 267, in execute_task\n    result = _execute_task(task, data)\n  File \"/home/albert/anaconda2/lib/python2.7/site-packages/dask/async.py\", line 248, in _execute_task\n    args2 = [_execute_task(a, cache) for a in args]\n  File \"/home/albert/anaconda2/lib/python2.7/site-packages/dask/async.py\", line 249, in _execute_task\n    return func(*args2)\n  File \"/home/albert/lib/python/oocgcm/filtering/linearfilters.py\", line 202, in convolve\n    xf = im.convolve(x, self.coefficients, mode=mode)\n  File \"/home/albert/anaconda2/lib/python2.7/site-packages/scipy/ndimage/filters.py\", line 755, in convolve\n    origin, True)\n  File \"/home/albert/anaconda2/lib/python2.7/site-packages/scipy/ndimage/filters.py\", line 603, in _correlate_or_convolve\n    _nd_image.correlate(input, weights, output, mode, cval, origins)\n",
     "output_type": "error",
     "traceback": [
      "\u001b[1;31m---------------------------------------------------------------------------\u001b[0m",
      "\u001b[1;31mMemoryError\u001b[0m                               Traceback (most recent call last)",
      "\u001b[1;32m<ipython-input-11-77801ccda70d>\u001b[0m in \u001b[0;36m<module>\u001b[1;34m()\u001b[0m\n\u001b[1;32m----> 1\u001b[1;33m \u001b[0msignal_LS\u001b[0m \u001b[1;33m=\u001b[0m \u001b[0mwin_box2D\u001b[0m\u001b[1;33m.\u001b[0m\u001b[0mapply\u001b[0m\u001b[1;33m(\u001b[0m\u001b[0mweights\u001b[0m\u001b[1;33m=\u001b[0m\u001b[0mbw\u001b[0m\u001b[1;33m)\u001b[0m\u001b[1;33m\u001b[0m\u001b[0m\n\u001b[0m",
      "\u001b[1;32m/home/albert/lib/python/oocgcm/filtering/linearfilters.pyc\u001b[0m in \u001b[0;36mapply\u001b[1;34m(self, mode, weights, compute)\u001b[0m\n\u001b[0;32m    207\u001b[0m                 \u001b[1;32mif\u001b[0m \u001b[0mcompute\u001b[0m\u001b[1;33m:\u001b[0m\u001b[1;33m\u001b[0m\u001b[0m\n\u001b[0;32m    208\u001b[0m                         \u001b[1;32mwith\u001b[0m \u001b[0mProgressBar\u001b[0m\u001b[1;33m(\u001b[0m\u001b[1;33m)\u001b[0m\u001b[1;33m:\u001b[0m\u001b[1;33m\u001b[0m\u001b[0m\n\u001b[1;32m--> 209\u001b[1;33m                                 \u001b[0mout\u001b[0m \u001b[1;33m=\u001b[0m \u001b[0mdata\u001b[0m\u001b[1;33m.\u001b[0m\u001b[0mcompute\u001b[0m\u001b[1;33m(\u001b[0m\u001b[1;33m)\u001b[0m\u001b[1;33m\u001b[0m\u001b[0m\n\u001b[0m\u001b[0;32m    210\u001b[0m                 \u001b[1;32melse\u001b[0m\u001b[1;33m:\u001b[0m\u001b[1;33m\u001b[0m\u001b[0m\n\u001b[0;32m    211\u001b[0m                         \u001b[0mout\u001b[0m \u001b[1;33m=\u001b[0m \u001b[0mdata\u001b[0m\u001b[1;33m\u001b[0m\u001b[0m\n",
      "\u001b[1;32m/home/albert/anaconda2/lib/python2.7/site-packages/dask/base.pyc\u001b[0m in \u001b[0;36mcompute\u001b[1;34m(self, **kwargs)\u001b[0m\n\u001b[0;32m     84\u001b[0m             \u001b[0mExtra\u001b[0m \u001b[0mkeywords\u001b[0m \u001b[0mto\u001b[0m \u001b[0mforward\u001b[0m \u001b[0mto\u001b[0m \u001b[0mthe\u001b[0m \u001b[0mscheduler\u001b[0m \u001b[1;33m`\u001b[0m\u001b[1;33m`\u001b[0m\u001b[0mget\u001b[0m\u001b[1;33m`\u001b[0m\u001b[1;33m`\u001b[0m \u001b[0mfunction\u001b[0m\u001b[1;33m.\u001b[0m\u001b[1;33m\u001b[0m\u001b[0m\n\u001b[0;32m     85\u001b[0m         \"\"\"\n\u001b[1;32m---> 86\u001b[1;33m         \u001b[1;32mreturn\u001b[0m \u001b[0mcompute\u001b[0m\u001b[1;33m(\u001b[0m\u001b[0mself\u001b[0m\u001b[1;33m,\u001b[0m \u001b[1;33m**\u001b[0m\u001b[0mkwargs\u001b[0m\u001b[1;33m)\u001b[0m\u001b[1;33m[\u001b[0m\u001b[1;36m0\u001b[0m\u001b[1;33m]\u001b[0m\u001b[1;33m\u001b[0m\u001b[0m\n\u001b[0m\u001b[0;32m     87\u001b[0m \u001b[1;33m\u001b[0m\u001b[0m\n\u001b[0;32m     88\u001b[0m     \u001b[1;33m@\u001b[0m\u001b[0mclassmethod\u001b[0m\u001b[1;33m\u001b[0m\u001b[0m\n",
      "\u001b[1;32m/home/albert/anaconda2/lib/python2.7/site-packages/dask/base.pyc\u001b[0m in \u001b[0;36mcompute\u001b[1;34m(*args, **kwargs)\u001b[0m\n\u001b[0;32m    177\u001b[0m         \u001b[0mdsk\u001b[0m \u001b[1;33m=\u001b[0m \u001b[0mmerge\u001b[0m\u001b[1;33m(\u001b[0m\u001b[0mvar\u001b[0m\u001b[1;33m.\u001b[0m\u001b[0mdask\u001b[0m \u001b[1;32mfor\u001b[0m \u001b[0mvar\u001b[0m \u001b[1;32min\u001b[0m \u001b[0mvariables\u001b[0m\u001b[1;33m)\u001b[0m\u001b[1;33m\u001b[0m\u001b[0m\n\u001b[0;32m    178\u001b[0m     \u001b[0mkeys\u001b[0m \u001b[1;33m=\u001b[0m \u001b[1;33m[\u001b[0m\u001b[0mvar\u001b[0m\u001b[1;33m.\u001b[0m\u001b[0m_keys\u001b[0m\u001b[1;33m(\u001b[0m\u001b[1;33m)\u001b[0m \u001b[1;32mfor\u001b[0m \u001b[0mvar\u001b[0m \u001b[1;32min\u001b[0m \u001b[0mvariables\u001b[0m\u001b[1;33m]\u001b[0m\u001b[1;33m\u001b[0m\u001b[0m\n\u001b[1;32m--> 179\u001b[1;33m     \u001b[0mresults\u001b[0m \u001b[1;33m=\u001b[0m \u001b[0mget\u001b[0m\u001b[1;33m(\u001b[0m\u001b[0mdsk\u001b[0m\u001b[1;33m,\u001b[0m \u001b[0mkeys\u001b[0m\u001b[1;33m,\u001b[0m \u001b[1;33m**\u001b[0m\u001b[0mkwargs\u001b[0m\u001b[1;33m)\u001b[0m\u001b[1;33m\u001b[0m\u001b[0m\n\u001b[0m\u001b[0;32m    180\u001b[0m \u001b[1;33m\u001b[0m\u001b[0m\n\u001b[0;32m    181\u001b[0m     \u001b[0mresults_iter\u001b[0m \u001b[1;33m=\u001b[0m \u001b[0miter\u001b[0m\u001b[1;33m(\u001b[0m\u001b[0mresults\u001b[0m\u001b[1;33m)\u001b[0m\u001b[1;33m\u001b[0m\u001b[0m\n",
      "\u001b[1;32m/home/albert/anaconda2/lib/python2.7/site-packages/dask/threaded.pyc\u001b[0m in \u001b[0;36mget\u001b[1;34m(dsk, result, cache, num_workers, **kwargs)\u001b[0m\n\u001b[0;32m     55\u001b[0m     results = get_async(pool.apply_async, len(pool._pool), dsk, result,\n\u001b[0;32m     56\u001b[0m                         \u001b[0mcache\u001b[0m\u001b[1;33m=\u001b[0m\u001b[0mcache\u001b[0m\u001b[1;33m,\u001b[0m \u001b[0mqueue\u001b[0m\u001b[1;33m=\u001b[0m\u001b[0mqueue\u001b[0m\u001b[1;33m,\u001b[0m \u001b[0mget_id\u001b[0m\u001b[1;33m=\u001b[0m\u001b[0m_thread_get_id\u001b[0m\u001b[1;33m,\u001b[0m\u001b[1;33m\u001b[0m\u001b[0m\n\u001b[1;32m---> 57\u001b[1;33m                         **kwargs)\n\u001b[0m\u001b[0;32m     58\u001b[0m \u001b[1;33m\u001b[0m\u001b[0m\n\u001b[0;32m     59\u001b[0m     \u001b[1;32mreturn\u001b[0m \u001b[0mresults\u001b[0m\u001b[1;33m\u001b[0m\u001b[0m\n",
      "\u001b[1;32m/home/albert/anaconda2/lib/python2.7/site-packages/dask/async.pyc\u001b[0m in \u001b[0;36mget_async\u001b[1;34m(apply_async, num_workers, dsk, result, cache, queue, get_id, raise_on_exception, rerun_exceptions_locally, callbacks, **kwargs)\u001b[0m\n\u001b[0;32m    482\u001b[0m                 \u001b[0m_execute_task\u001b[0m\u001b[1;33m(\u001b[0m\u001b[0mtask\u001b[0m\u001b[1;33m,\u001b[0m \u001b[0mdata\u001b[0m\u001b[1;33m)\u001b[0m  \u001b[1;31m# Re-execute locally\u001b[0m\u001b[1;33m\u001b[0m\u001b[0m\n\u001b[0;32m    483\u001b[0m             \u001b[1;32melse\u001b[0m\u001b[1;33m:\u001b[0m\u001b[1;33m\u001b[0m\u001b[0m\n\u001b[1;32m--> 484\u001b[1;33m                 \u001b[1;32mraise\u001b[0m\u001b[1;33m(\u001b[0m\u001b[0mremote_exception\u001b[0m\u001b[1;33m(\u001b[0m\u001b[0mres\u001b[0m\u001b[1;33m,\u001b[0m \u001b[0mtb\u001b[0m\u001b[1;33m)\u001b[0m\u001b[1;33m)\u001b[0m\u001b[1;33m\u001b[0m\u001b[0m\n\u001b[0m\u001b[0;32m    485\u001b[0m         \u001b[0mstate\u001b[0m\u001b[1;33m[\u001b[0m\u001b[1;34m'cache'\u001b[0m\u001b[1;33m]\u001b[0m\u001b[1;33m[\u001b[0m\u001b[0mkey\u001b[0m\u001b[1;33m]\u001b[0m \u001b[1;33m=\u001b[0m \u001b[0mres\u001b[0m\u001b[1;33m\u001b[0m\u001b[0m\n\u001b[0;32m    486\u001b[0m         \u001b[0mfinish_task\u001b[0m\u001b[1;33m(\u001b[0m\u001b[0mdsk\u001b[0m\u001b[1;33m,\u001b[0m \u001b[0mkey\u001b[0m\u001b[1;33m,\u001b[0m \u001b[0mstate\u001b[0m\u001b[1;33m,\u001b[0m \u001b[0mresults\u001b[0m\u001b[1;33m,\u001b[0m \u001b[0mkeyorder\u001b[0m\u001b[1;33m.\u001b[0m\u001b[0mget\u001b[0m\u001b[1;33m)\u001b[0m\u001b[1;33m\u001b[0m\u001b[0m\n",
      "\u001b[1;31mMemoryError\u001b[0m: \n\nTraceback\n---------\n  File \"/home/albert/anaconda2/lib/python2.7/site-packages/dask/async.py\", line 267, in execute_task\n    result = _execute_task(task, data)\n  File \"/home/albert/anaconda2/lib/python2.7/site-packages/dask/async.py\", line 248, in _execute_task\n    args2 = [_execute_task(a, cache) for a in args]\n  File \"/home/albert/anaconda2/lib/python2.7/site-packages/dask/async.py\", line 249, in _execute_task\n    return func(*args2)\n  File \"/home/albert/lib/python/oocgcm/filtering/linearfilters.py\", line 202, in convolve\n    xf = im.convolve(x, self.coefficients, mode=mode)\n  File \"/home/albert/anaconda2/lib/python2.7/site-packages/scipy/ndimage/filters.py\", line 755, in convolve\n    origin, True)\n  File \"/home/albert/anaconda2/lib/python2.7/site-packages/scipy/ndimage/filters.py\", line 603, in _correlate_or_convolve\n    _nd_image.correlate(input, weights, output, mode, cval, origins)\n"
     ]
    }
   ],
   "source": [
    "signal_LS = win_box2D.apply(weights=bw)"
   ]
  },
  {
   "cell_type": "code",
   "execution_count": null,
   "metadata": {
    "collapsed": true
   },
   "outputs": [],
   "source": []
  }
 ],
 "metadata": {
  "kernelspec": {
   "display_name": "Python [Root]",
   "language": "python",
   "name": "Python [Root]"
  },
  "language_info": {
   "codemirror_mode": {
    "name": "ipython",
    "version": 2
   },
   "file_extension": ".py",
   "mimetype": "text/x-python",
   "name": "python",
   "nbconvert_exporter": "python",
   "pygments_lexer": "ipython2",
   "version": "2.7.11"
  }
 },
 "nbformat": 4,
 "nbformat_minor": 0
}
