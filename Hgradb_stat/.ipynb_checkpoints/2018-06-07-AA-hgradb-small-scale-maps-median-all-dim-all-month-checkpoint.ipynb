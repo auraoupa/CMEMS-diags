{
 "cells": [
  {
   "cell_type": "code",
   "execution_count": 1,
   "metadata": {},
   "outputs": [],
   "source": [
    "## path for mdules\n",
    "\n",
    "import sys\n",
    "sys.path.insert(0,\"/home/albert/lib/python\")\n",
    "\n",
    "## imports\n",
    "\n",
    "import numpy as np\n",
    "import xarray as xr\n",
    "import GriddedData\n",
    "import time\n",
    "\n",
    "#- Other modules\n",
    "import numpy.ma as ma\n",
    "import WavenumberSpectrum as ws\n",
    "\n",
    "### palette\n",
    "import matplotlib.cm as mplcm\n",
    "\n",
    "seq_cmap = mplcm.Blues\n",
    "div_cmap = mplcm.seismic\n",
    "\n",
    "### quick plot\n",
    "import matplotlib.pyplot as plt\n",
    "\n",
    "## local/specific imports\n",
    "import oocgcm\n",
    "import oocgcm.filtering\n",
    "import oocgcm.filtering.linearfilters as tf\n",
    "\n",
    "## histograms\n",
    "import seaborn as sns\n",
    "sns.set(color_codes=True)\n",
    "\n",
    "from decimal import Decimal\n",
    "import cartopy.crs as ccrs\n",
    "import matplotlib.ticker as mticker\n",
    "\n",
    "%matplotlib inline"
   ]
  },
  {
   "cell_type": "code",
   "execution_count": 2,
   "metadata": {},
   "outputs": [],
   "source": [
    "dir='/media/extra/DATA/NATL60/NATL60-CJM165-S/hgradb/'"
   ]
  },
  {
   "cell_type": "code",
   "execution_count": 3,
   "metadata": {},
   "outputs": [
    {
     "name": "stdout",
     "output_type": "stream",
     "text": [
      "/media/extra/DATA/NATL60/NATL60-I/NATL60_v4.1_cdf_mesh_hgr.nc\r\n"
     ]
    }
   ],
   "source": [
    "dirin=\"/media/extra/DATA/NATL60/NATL60-I/\"\n",
    "gridfile=dirin+\"NATL60_v4.1_cdf_mesh_hgr.nc\"\n",
    "!ls $gridfile\n",
    "grid=xr.open_dataset(gridfile)\n",
    "navlat= np.squeeze(grid['nav_lat'])\n",
    "navlon= np.squeeze(grid['nav_lon'])\n",
    "diri='/media/extra/DATA/NATL60/NATL60-I/'\n",
    "tmask='NATL60-CJM165.1d_mask_surf_filt-n80-f0.0125.nc'\n",
    "mask_filt=np.squeeze(xr.open_dataset(diri+tmask)['tmask'])\n"
   ]
  },
  {
   "cell_type": "code",
   "execution_count": 4,
   "metadata": {},
   "outputs": [],
   "source": [
    "def plot_fine_scale_variance(fig,var,loncrs,latcrs,lon,lat,hpvarm,month):\n",
    "    ''' map of the averaged fine scale variance\n",
    "    '''\n",
    "    ax = plt.subplot(111)\n",
    "    ax.autoscale(tight=True)\n",
    "    truc=np.array(hpvarm)\n",
    "    truc[truc==0.]=np.nan\n",
    "    cont=np.isnan(truc)\n",
    "\n",
    "    pcolor = ax.pcolormesh(loncrs,latcrs,ma.masked_invalid(var),vmin=0,vmax=1,cmap=seq_cmap,alpha=1)\n",
    "    ax.tick_params(labelsize=25)\n",
    "    ax.contour(lon,lat,cont,alpha=0.5,linewidth=0.000001,antialiased=True)\n",
    "    cbar = plt.colorbar(pcolor,orientation='horizontal',pad=0.1)\n",
    "    cbar.ax.tick_params(labelsize=35)\n",
    "    ax.set_xlabel('Longitude (in degree)',fontsize=20)\n",
    "    ax.set_ylabel('Latitude (in degree)',fontsize=20)\n",
    "    cbar.ax.tick_params(labelsize=25)\n",
    "    plt.text(0,30,month,size=25)\n",
    "    cbar.set_label('Small scale horizontal buoyancy gradient in $10^-7 s^-2$',fontsize=25)\n",
    "    return fig\n"
   ]
  },
  {
   "cell_type": "code",
   "execution_count": 7,
   "metadata": {},
   "outputs": [],
   "source": [
    "# a function that ultimately produce the map from any given month\n",
    "\n",
    "def plot_hgradb_coarse(t):\n",
    "    m=str(t+1).zfill(2)\n",
    "    if t <9:\n",
    "        year='2013'\n",
    "    else:\n",
    "        year='2012'\n",
    "    month = {1 : 'january',\n",
    "           2 : 'february',\n",
    "           3 : 'march',\n",
    "           4 : 'april',\n",
    "           5 : 'may',\n",
    "           6 : 'june',\n",
    "           7 : 'july',\n",
    "           8 : 'august',\n",
    "           9 : 'september',\n",
    "           10 : 'october',\n",
    "           11 : 'november',\n",
    "           12 : 'december',\n",
    "    }\n",
    "\n",
    "    tfiles='/media/extra/DATA/NATL60/NATL60-CJM165-S/hgradb/NATL60-CJM165_y'+year+'m'+m+'d*.1d_hgradbuoy_filt-n80-f0.0125.nc'\n",
    "    hgradb = xr.open_mfdataset(tfiles,concat_dim='time_counter',decode_times=False)['vohgradb']\n",
    "    diri='/media/extra/DATA/NATL60/NATL60-I/'\n",
    "    tmask='NATL60-CJM165.1d_mask_surf_filt-n80-f0.0125.nc'\n",
    "    mask_filt=np.squeeze(xr.open_dataset(diri+tmask)['tmask'])\n",
    "    hgradb_mask=np.zeros(hgradb.shape)\n",
    "    for tt in np.arange(hgradb_mask.shape[0]):\n",
    "        truc=np.squeeze(hgradb[0,:,:].values)        \n",
    "        truc[np.where(mask_filt!=1)]=np.nan\n",
    "        hgradb_mask[tt,:,:]=truc[:,:]   \n",
    "    navlat2=np.array(navlat).squeeze()\n",
    "    navlon2=np.array(navlon).squeeze()\n",
    "    mgrd = GriddedData.grid2D(navlat=navlat2, navlon=navlon2)\n",
    "    crs = GriddedData.grdCoarsener(mgrd,crs_factor=60)\n",
    "    hgradb_coarse=np.zeros((hgradb_mask.shape[0],3600,57,90))\n",
    "    for tt in np.arange(hgradb_coarse.shape[0]):\n",
    "        truc=np.squeeze(hgradb_mask[0,:,:])        \n",
    "        hgradbc = crs.return_ravel(np.asarray(truc))\n",
    "        hgradb_coarse[tt,:,:,:]=hgradbc \n",
    "    hgradb_coarse_stack=np.concatenate(hgradb_coarse,axis=0)\n",
    "    hgradb_coarse_median=np.nanmedian(hgradb_coarse_stack,axis=0)\n",
    "    latcrs=crs.return_ravel(np.asarray(navlat2))\n",
    "    loncrs=crs.return_ravel(np.asarray(navlon2))\n",
    "    latcrsm=np.mean(latcrs,axis=-3)\n",
    "    loncrsm=np.mean(loncrs,axis=-3)\n",
    "\n",
    "    fig = plt.figure(figsize=(20, 15))\n",
    "    truc=plot_boxcar(fig,1e7*hgradb_coarse_median,loncrsm, latcrsm,navlon,navlat,hgradb[0],month[t+1])\n",
    "    plt.savefig(\"NATL60_hgrad_small_scale_median_m\"+m+\".png\")\n"
   ]
  },
  {
   "cell_type": "code",
   "execution_count": 8,
   "metadata": {},
   "outputs": [
    {
     "name": "stderr",
     "output_type": "stream",
     "text": [
      "/home/albert/anaconda2/lib/python2.7/site-packages/numpy/lib/nanfunctions.py:717: RuntimeWarning: All-NaN slice encountered\n",
      "  warnings.warn(\"All-NaN slice encountered\", RuntimeWarning)\n"
     ]
    },
    {
     "ename": "NameError",
     "evalue": "global name 'plot_boxcar' is not defined",
     "output_type": "error",
     "traceback": [
      "\u001b[1;31m-----------------------------------------------------\u001b[0m",
      "\u001b[1;31mNameError\u001b[0m           Traceback (most recent call last)",
      "\u001b[1;32m<ipython-input-8-7db52c0bc5d8>\u001b[0m in \u001b[0;36m<module>\u001b[1;34m()\u001b[0m\n\u001b[0;32m      1\u001b[0m \u001b[1;32mfor\u001b[0m \u001b[0mk\u001b[0m \u001b[1;32min\u001b[0m \u001b[0mnp\u001b[0m\u001b[1;33m.\u001b[0m\u001b[0marange\u001b[0m\u001b[1;33m(\u001b[0m\u001b[1;36m12\u001b[0m\u001b[1;33m)\u001b[0m\u001b[1;33m:\u001b[0m\u001b[1;33m\u001b[0m\u001b[0m\n\u001b[1;32m----> 2\u001b[1;33m     \u001b[0mplot_hgradb_coarse\u001b[0m\u001b[1;33m(\u001b[0m\u001b[0mk\u001b[0m\u001b[1;33m)\u001b[0m\u001b[1;33m\u001b[0m\u001b[0m\n\u001b[0m",
      "\u001b[1;32m<ipython-input-7-b2ceec1f589d>\u001b[0m in \u001b[0;36mplot_hgradb_coarse\u001b[1;34m(t)\u001b[0m\n\u001b[0;32m     48\u001b[0m \u001b[1;33m\u001b[0m\u001b[0m\n\u001b[0;32m     49\u001b[0m     \u001b[0mfig\u001b[0m \u001b[1;33m=\u001b[0m \u001b[0mplt\u001b[0m\u001b[1;33m.\u001b[0m\u001b[0mfigure\u001b[0m\u001b[1;33m(\u001b[0m\u001b[0mfigsize\u001b[0m\u001b[1;33m=\u001b[0m\u001b[1;33m(\u001b[0m\u001b[1;36m20\u001b[0m\u001b[1;33m,\u001b[0m \u001b[1;36m15\u001b[0m\u001b[1;33m)\u001b[0m\u001b[1;33m)\u001b[0m\u001b[1;33m\u001b[0m\u001b[0m\n\u001b[1;32m---> 50\u001b[1;33m     \u001b[0mtruc\u001b[0m\u001b[1;33m=\u001b[0m\u001b[0mplot_boxcar\u001b[0m\u001b[1;33m(\u001b[0m\u001b[0mfig\u001b[0m\u001b[1;33m,\u001b[0m\u001b[1;36m1e7\u001b[0m\u001b[1;33m*\u001b[0m\u001b[0mhgradb_coarse_median\u001b[0m\u001b[1;33m,\u001b[0m\u001b[0mloncrsm\u001b[0m\u001b[1;33m,\u001b[0m \u001b[0mlatcrsm\u001b[0m\u001b[1;33m,\u001b[0m\u001b[0mnavlon\u001b[0m\u001b[1;33m,\u001b[0m\u001b[0mnavlat\u001b[0m\u001b[1;33m,\u001b[0m\u001b[0mhgradb\u001b[0m\u001b[1;33m[\u001b[0m\u001b[1;36m0\u001b[0m\u001b[1;33m]\u001b[0m\u001b[1;33m,\u001b[0m\u001b[0mmonth\u001b[0m\u001b[1;33m[\u001b[0m\u001b[0mt\u001b[0m\u001b[1;33m+\u001b[0m\u001b[1;36m1\u001b[0m\u001b[1;33m]\u001b[0m\u001b[1;33m)\u001b[0m\u001b[1;33m\u001b[0m\u001b[0m\n\u001b[0m\u001b[0;32m     51\u001b[0m     \u001b[0mplt\u001b[0m\u001b[1;33m.\u001b[0m\u001b[0msavefig\u001b[0m\u001b[1;33m(\u001b[0m\u001b[1;34m\"NATL60_hgrad_small_scale_median_m\"\u001b[0m\u001b[1;33m+\u001b[0m\u001b[0mm\u001b[0m\u001b[1;33m+\u001b[0m\u001b[1;34m\".png\"\u001b[0m\u001b[1;33m)\u001b[0m\u001b[1;33m\u001b[0m\u001b[0m\n",
      "\u001b[1;31mNameError\u001b[0m: global name 'plot_boxcar' is not defined"
     ]
    },
    {
     "data": {
      "text/plain": [
       "<Figure size 2000x1500 with 0 Axes>"
      ]
     },
     "metadata": {},
     "output_type": "display_data"
    }
   ],
   "source": [
    "for k in np.arange(12):\n",
    "    plot_hgradb_coarse(k)"
   ]
  },
  {
   "cell_type": "code",
   "execution_count": 9,
   "metadata": {},
   "outputs": [
    {
     "ename": "MemoryError",
     "evalue": "",
     "output_type": "error",
     "traceback": [
      "\u001b[1;31m-----------------------------------------------------\u001b[0m",
      "\u001b[1;31mMemoryError\u001b[0m         Traceback (most recent call last)",
      "\u001b[1;32m<ipython-input-9-1e26a87f6f25>\u001b[0m in \u001b[0;36m<module>\u001b[1;34m()\u001b[0m\n\u001b[0;32m      4\u001b[0m \u001b[0mtmask\u001b[0m\u001b[1;33m=\u001b[0m\u001b[1;34m'NATL60-CJM165.1d_mask_surf_filt-n80-f0.0125.nc'\u001b[0m\u001b[1;33m\u001b[0m\u001b[0m\n\u001b[0;32m      5\u001b[0m \u001b[0mmask_filt\u001b[0m\u001b[1;33m=\u001b[0m\u001b[0mnp\u001b[0m\u001b[1;33m.\u001b[0m\u001b[0msqueeze\u001b[0m\u001b[1;33m(\u001b[0m\u001b[0mxr\u001b[0m\u001b[1;33m.\u001b[0m\u001b[0mopen_dataset\u001b[0m\u001b[1;33m(\u001b[0m\u001b[0mdiri\u001b[0m\u001b[1;33m+\u001b[0m\u001b[0mtmask\u001b[0m\u001b[1;33m)\u001b[0m\u001b[1;33m[\u001b[0m\u001b[1;34m'tmask'\u001b[0m\u001b[1;33m]\u001b[0m\u001b[1;33m)\u001b[0m\u001b[1;33m\u001b[0m\u001b[0m\n\u001b[1;32m----> 6\u001b[1;33m \u001b[0mhgradb_mask\u001b[0m\u001b[1;33m=\u001b[0m\u001b[0mnp\u001b[0m\u001b[1;33m.\u001b[0m\u001b[0mzeros\u001b[0m\u001b[1;33m(\u001b[0m\u001b[0mhgradb\u001b[0m\u001b[1;33m.\u001b[0m\u001b[0mshape\u001b[0m\u001b[1;33m)\u001b[0m\u001b[1;33m\u001b[0m\u001b[0m\n\u001b[0m\u001b[0;32m      7\u001b[0m \u001b[1;32mfor\u001b[0m \u001b[0mtt\u001b[0m \u001b[1;32min\u001b[0m \u001b[0mnp\u001b[0m\u001b[1;33m.\u001b[0m\u001b[0marange\u001b[0m\u001b[1;33m(\u001b[0m\u001b[0mhgradb_mask\u001b[0m\u001b[1;33m.\u001b[0m\u001b[0mshape\u001b[0m\u001b[1;33m[\u001b[0m\u001b[1;36m0\u001b[0m\u001b[1;33m]\u001b[0m\u001b[1;33m)\u001b[0m\u001b[1;33m:\u001b[0m\u001b[1;33m\u001b[0m\u001b[0m\n\u001b[0;32m      8\u001b[0m     \u001b[0mtruc\u001b[0m\u001b[1;33m=\u001b[0m\u001b[0mnp\u001b[0m\u001b[1;33m.\u001b[0m\u001b[0msqueeze\u001b[0m\u001b[1;33m(\u001b[0m\u001b[0mhgradb\u001b[0m\u001b[1;33m[\u001b[0m\u001b[1;36m0\u001b[0m\u001b[1;33m,\u001b[0m\u001b[1;33m:\u001b[0m\u001b[1;33m,\u001b[0m\u001b[1;33m:\u001b[0m\u001b[1;33m]\u001b[0m\u001b[1;33m.\u001b[0m\u001b[0mvalues\u001b[0m\u001b[1;33m)\u001b[0m\u001b[1;33m\u001b[0m\u001b[0m\n",
      "\u001b[1;31mMemoryError\u001b[0m: "
     ]
    }
   ],
   "source": [
    "tfiles='/media/extra/DATA/NATL60/NATL60-CJM165-S/hgradb/NATL60-CJM165_y2013m03d*.1d_hgradbuoy_filt-n80-f0.0125.nc'\n",
    "hgradb = xr.open_mfdataset(tfiles,concat_dim='time_counter',decode_times=False)['vohgradb']\n",
    "diri='/media/extra/DATA/NATL60/NATL60-I/'\n",
    "tmask='NATL60-CJM165.1d_mask_surf_filt-n80-f0.0125.nc'\n",
    "mask_filt=np.squeeze(xr.open_dataset(diri+tmask)['tmask'])\n",
    "hgradb_mask=np.zeros(hgradb.shape)\n",
    "for tt in np.arange(hgradb_mask.shape[0]):\n",
    "    truc=np.squeeze(hgradb[0,:,:].values)        \n",
    "    truc[np.where(mask_filt!=1)]=np.nan\n",
    "    hgradb_mask[tt,:,:]=truc[:,:]   \n",
    "navlat2=np.array(navlat).squeeze()\n",
    "navlon2=np.array(navlon).squeeze()\n",
    "mgrd = GriddedData.grid2D(navlat=navlat2, navlon=navlon2)\n",
    "crs = GriddedData.grdCoarsener(mgrd,crs_factor=60)\n",
    "hgradb_coarse=np.zeros((hgradb_mask.shape[0],3600,57,90))\n",
    "for tt in np.arange(hgradb_coarse.shape[0]):\n",
    "    truc=np.squeeze(hgradb_mask[0,:,:])        \n",
    "    hgradbc = crs.return_ravel(np.asarray(truc))\n",
    "    hgradb_coarse[tt,:,:,:]=hgradbc \n",
    "hgradb_coarse_stack=np.concatenate(hgradb_coarse,axis=0)\n",
    "hgradb_coarse_median=np.nanmedian(hgradb_coarse_stack,axis=0)\n",
    "latcrs=crs.return_ravel(np.asarray(navlat2))\n",
    "loncrs=crs.return_ravel(np.asarray(navlon2))\n",
    "latcrsm=np.mean(latcrs,axis=-3)\n",
    "loncrsm=np.mean(loncrs,axis=-3)\n",
    "\n",
    "fig = plt.figure(figsize=(15, 20))\n",
    "\n",
    "ax = plt.subplot(211)\n",
    "\n",
    "truc=np.array(hgradb[0])\n",
    "truc[truc==0.]=np.nan\n",
    "cont=np.isnan(truc)\n",
    "\n",
    "pcolor = ax.pcolormesh(loncrsm,latcrsm,ma.masked_invalid(1e7*hgradb_coarse_median),vmin=0,vmax=1,cmap=cc.cm.rainbow,alpha=1)\n",
    "ax.tick_params(labelsize=25)\n",
    "ax.contour(lon,lat,cont,alpha=0.5,linewidth=0.000001,antialiased=True)\n",
    "cbar = plt.colorbar(pcolor,orientation='horizontal',pad=0.1)\n",
    "cbar.ax.tick_params(labelsize=35)\n",
    "ax.set_xlabel('Longitude (in degree)',fontsize=20)\n",
    "ax.set_ylabel('Latitude (in degree)',fontsize=20)\n",
    "plt.text(0,30,'March',size=25)\n",
    "\n",
    "tfiles='/media/extra/DATA/NATL60/NATL60-CJM165-S/hgradb/NATL60-CJM165_y2013m09d*.1d_hgradbuoy_filt-n80-f0.0125.nc'\n",
    "hgradb = xr.open_mfdataset(tfiles,concat_dim='time_counter',decode_times=False)['vohgradb']\n",
    "diri='/media/extra/DATA/NATL60/NATL60-I/'\n",
    "tmask='NATL60-CJM165.1d_mask_surf_filt-n80-f0.0125.nc'\n",
    "mask_filt=np.squeeze(xr.open_dataset(diri+tmask)['tmask'])\n",
    "hgradb_mask=np.zeros(hgradb.shape)\n",
    "for tt in np.arange(hgradb_mask.shape[0]):\n",
    "    truc=np.squeeze(hgradb[0,:,:].values)        \n",
    "    truc[np.where(mask_filt!=1)]=np.nan\n",
    "    hgradb_mask[tt,:,:]=truc[:,:]   \n",
    "navlat2=np.array(navlat).squeeze()\n",
    "navlon2=np.array(navlon).squeeze()\n",
    "mgrd = GriddedData.grid2D(navlat=navlat2, navlon=navlon2)\n",
    "crs = GriddedData.grdCoarsener(mgrd,crs_factor=60)\n",
    "hgradb_coarse=np.zeros((hgradb_mask.shape[0],3600,57,90))\n",
    "for tt in np.arange(hgradb_coarse.shape[0]):\n",
    "    truc=np.squeeze(hgradb_mask[0,:,:])        \n",
    "    hgradbc = crs.return_ravel(np.asarray(truc))\n",
    "    hgradb_coarse[tt,:,:,:]=hgradbc \n",
    "hgradb_coarse_stack=np.concatenate(hgradb_coarse,axis=0)\n",
    "hgradb_coarse_median=np.nanmedian(hgradb_coarse_stack,axis=0)\n",
    "latcrs=crs.return_ravel(np.asarray(navlat2))\n",
    "loncrs=crs.return_ravel(np.asarray(navlon2))\n",
    "latcrsm=np.mean(latcrs,axis=-3)\n",
    "loncrsm=np.mean(loncrs,axis=-3)\n",
    "\n",
    "ax = plt.subplot(212)\n",
    "\n",
    "truc=np.array(hgradb[0])\n",
    "truc[truc==0.]=np.nan\n",
    "cont=np.isnan(truc)\n",
    "\n",
    "pcolor = ax.pcolormesh(loncrsm,latcrsm,ma.masked_invalid(1e7*hgradb_coarse_median),vmin=0,vmax=1,cmap=cc.cm.rainbow,alpha=1)\n",
    "ax.tick_params(labelsize=25)\n",
    "ax.contour(lon,lat,cont,alpha=0.5,linewidth=0.000001,antialiased=True)\n",
    "cbar = plt.colorbar(pcolor,orientation='horizontal',pad=0.1)\n",
    "cbar.ax.tick_params(labelsize=35)\n",
    "ax.set_xlabel('Longitude (in degree)',fontsize=20)\n",
    "ax.set_ylabel('Latitude (in degree)',fontsize=20)\n",
    "plt.text(0,30,'September',size=25)\n",
    "\n",
    "cbar_ax = fig.add_axes([0.95, 0.15, 0.05, 0.7])\n",
    "cbar=fig.colorbar(pcolor, cax=cbar_ax, extend='max', orientation=\"vertical\")\n",
    "cbar.ax.tick_params(labelsize=20)\n",
    "\n",
    "\n",
    "plt.savefig(\"NATL60_hgrad_small_scale_median_m03-09.png\")"
   ]
  },
  {
   "cell_type": "code",
   "execution_count": null,
   "metadata": {},
   "outputs": [],
   "source": []
  }
 ],
 "metadata": {
  "kernelspec": {
   "display_name": "Python [Root]",
   "language": "python",
   "name": "Python [Root]"
  },
  "language_info": {
   "codemirror_mode": {
    "name": "ipython",
    "version": 2
   },
   "file_extension": ".py",
   "mimetype": "text/x-python",
   "name": "python",
   "nbconvert_exporter": "python",
   "pygments_lexer": "ipython2",
   "version": "2.7.15"
  }
 },
 "nbformat": 4,
 "nbformat_minor": 1
}
