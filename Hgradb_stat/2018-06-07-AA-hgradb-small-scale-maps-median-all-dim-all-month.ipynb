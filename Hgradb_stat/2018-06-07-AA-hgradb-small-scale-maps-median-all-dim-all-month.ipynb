{
 "cells": [
  {
   "cell_type": "code",
   "execution_count": 1,
   "metadata": {},
   "outputs": [],
   "source": [
    "## path for mdules\n",
    "\n",
    "import sys\n",
    "sys.path.insert(0,\"/home/albert/lib/python\")\n",
    "\n",
    "## imports\n",
    "\n",
    "import numpy as np\n",
    "import xarray as xr\n",
    "import GriddedData\n",
    "import time\n",
    "\n",
    "#- Other modules\n",
    "import numpy.ma as ma\n",
    "import WavenumberSpectrum as ws\n",
    "\n",
    "### palette\n",
    "import matplotlib.cm as mplcm\n",
    "\n",
    "seq_cmap = mplcm.Blues\n",
    "div_cmap = mplcm.seismic\n",
    "\n",
    "### quick plot\n",
    "import matplotlib.pyplot as plt\n",
    "\n",
    "## local/specific imports\n",
    "import oocgcm\n",
    "import oocgcm.filtering\n",
    "import oocgcm.filtering.linearfilters as tf\n",
    "\n",
    "## histograms\n",
    "import seaborn as sns\n",
    "sns.set(color_codes=True)\n",
    "\n",
    "from decimal import Decimal\n",
    "import cartopy.crs as ccrs\n",
    "import matplotlib.ticker as mticker\n",
    "\n",
    "%matplotlib inline"
   ]
  },
  {
   "cell_type": "code",
   "execution_count": 2,
   "metadata": {},
   "outputs": [],
   "source": [
    "dir='/media/extra/DATA/NATL60/NATL60-CJM165-S/hgradb/'"
   ]
  },
  {
   "cell_type": "code",
   "execution_count": 3,
   "metadata": {},
   "outputs": [
    {
     "name": "stdout",
     "output_type": "stream",
     "text": [
      "/media/extra/DATA/NATL60/NATL60-I/NATL60_v4.1_cdf_mesh_hgr.nc\r\n"
     ]
    }
   ],
   "source": [
    "dirin=\"/media/extra/DATA/NATL60/NATL60-I/\"\n",
    "gridfile=dirin+\"NATL60_v4.1_cdf_mesh_hgr.nc\"\n",
    "!ls $gridfile\n",
    "grid=xr.open_dataset(gridfile)\n",
    "navlat= np.squeeze(grid['nav_lat'])\n",
    "navlon= np.squeeze(grid['nav_lon'])\n",
    "diri='/media/extra/DATA/NATL60/NATL60-I/'\n",
    "tmask='NATL60-CJM165.1d_mask_surf_filt-n80-f0.0125.nc'\n",
    "mask_filt=np.squeeze(xr.open_dataset(diri+tmask)['tmask'])\n"
   ]
  },
  {
   "cell_type": "code",
   "execution_count": 4,
   "metadata": {},
   "outputs": [],
   "source": [
    "def plot_fine_scale_variance(fig,var,loncrs,latcrs,lon,lat,hpvarm,month):\n",
    "    ''' map of the averaged fine scale variance\n",
    "    '''\n",
    "    ax = plt.subplot(111)\n",
    "    ax.autoscale(tight=True)\n",
    "    truc=np.array(hpvarm)\n",
    "    truc[truc==0.]=np.nan\n",
    "    cont=np.isnan(truc)\n",
    "\n",
    "    pcolor = ax.pcolormesh(loncrs,latcrs,ma.masked_invalid(var),vmin=0,vmax=1,cmap=seq_cmap,alpha=1)\n",
    "    ax.tick_params(labelsize=25)\n",
    "    ax.contour(lon,lat,cont,alpha=0.5,linewidth=0.000001,antialiased=True)\n",
    "    cbar = plt.colorbar(pcolor,orientation='horizontal',pad=0.1)\n",
    "    cbar.ax.tick_params(labelsize=35)\n",
    "    ax.set_xlabel('Longitude (in degree)',fontsize=20)\n",
    "    ax.set_ylabel('Latitude (in degree)',fontsize=20)\n",
    "    cbar.ax.tick_params(labelsize=25)\n",
    "    plt.text(0,30,month,size=25)\n",
    "    cbar.set_label('Small scale horizontal buoyancy gradient in $10^-7 s^-2$',fontsize=25)\n",
    "    return fig\n"
   ]
  },
  {
   "cell_type": "code",
   "execution_count": 5,
   "metadata": {},
   "outputs": [],
   "source": [
    "def plot_hgradb_coarse(t):\n",
    "    m=str(t+1).zfill(2)\n",
    "    if t <9:\n",
    "        year='2013'\n",
    "    else:\n",
    "        year='2012'\n",
    "    month = {1 : 'january',\n",
    "           2 : 'february',\n",
    "           3 : 'march',\n",
    "           4 : 'april',\n",
    "           5 : 'may',\n",
    "           6 : 'june',\n",
    "           7 : 'july',\n",
    "           8 : 'august',\n",
    "           9 : 'september',\n",
    "           10 : 'october',\n",
    "           11 : 'november',\n",
    "           12 : 'december',\n",
    "    }\n",
    "\n",
    "    tfiles='/media/extra/DATA/NATL60/NATL60-CJM165-S/hgradb/NATL60-CJM165_y'+year+'m'+m+'d*.1d_surfbuoy_filt-n80-f0.0125.nc'\n",
    "    hgradb = xr.open_mfdataset(tfiles,concat_dim='time_counter',decode_times=False)['vohgradb']\n",
    "    diri='/media/extra/DATA/NATL60/NATL60-I/'\n",
    "    tmask='NATL60-CJM165.1d_mask_surf_filt-n80-f0.0125.nc'\n",
    "    mask_filt=np.squeeze(xr.open_dataset(diri+tmask)['tmask'])\n",
    "    hgradb_mask=np.zeros(hgradb.shape)\n",
    "    for tt in np.arange(hgradb_mask.shape[0]):\n",
    "        truc=np.squeeze(hgradb[0,:,:].values)        \n",
    "        truc[np.where(mask_filt!=1)]=np.nan\n",
    "        hgradb_mask[tt,:,:]=truc[:,:]   \n",
    "    navlat2=np.array(navlat).squeeze()\n",
    "    navlon2=np.array(navlon).squeeze()\n",
    "    mgrd = GriddedData.grid2D(navlat=navlat2, navlon=navlon2)\n",
    "    crs = GriddedData.grdCoarsener(mgrd,crs_factor=60)\n",
    "    hgradb_coarse=np.zeros((hgradb_mask.shape[0],3600,57,90))\n",
    "    for tt in np.arange(hgradb_coarse.shape[0]):\n",
    "        truc=np.squeeze(hgradb_mask[0,:,:])        \n",
    "        hgradbc = crs.return_ravel(np.asarray(truc))\n",
    "        hgradb_coarse[tt,:,:,:]=hgradbc \n",
    "    hgradb_coarse_stack=np.concatenate(hgradb_coarse,axis=0)\n",
    "    hgradb_coarse_median=np.nanmedian(hgradb_coarse_stack,axis=0)\n",
    "    latcrs=crs.return_ravel(np.asarray(navlat2))\n",
    "    loncrs=crs.return_ravel(np.asarray(navlon2))\n",
    "    latcrsm=np.mean(latcrs,axis=-3)\n",
    "    loncrsm=np.mean(loncrs,axis=-3)\n",
    "\n",
    "    fig = plt.figure(figsize=(20, 15))\n",
    "    truc=plot_fine_scale_variance(fig,1e7*hgradb_coarse_median,loncrsm, latcrsm,navlon,navlat,hgradb[0],month[t+1])\n",
    "    plt.savefig(\"NATL60_hgrad_small_scale_median_m\"+m+\".png\")\n"
   ]
  },
  {
   "cell_type": "code",
   "execution_count": 6,
   "metadata": {},
   "outputs": [
    {
     "ename": "KeyError",
     "evalue": "'vohgradb'",
     "output_type": "error",
     "traceback": [
      "\u001b[1;31m-------------------------------------------------------------------\u001b[0m",
      "\u001b[1;31mKeyError\u001b[0m                          Traceback (most recent call last)",
      "\u001b[1;32m<ipython-input-6-7db52c0bc5d8>\u001b[0m in \u001b[0;36m<module>\u001b[1;34m()\u001b[0m\n\u001b[0;32m      1\u001b[0m \u001b[1;32mfor\u001b[0m \u001b[0mk\u001b[0m \u001b[1;32min\u001b[0m \u001b[0mnp\u001b[0m\u001b[1;33m.\u001b[0m\u001b[0marange\u001b[0m\u001b[1;33m(\u001b[0m\u001b[1;36m12\u001b[0m\u001b[1;33m)\u001b[0m\u001b[1;33m:\u001b[0m\u001b[1;33m\u001b[0m\u001b[0m\n\u001b[1;32m----> 2\u001b[1;33m     \u001b[0mplot_hgradb_coarse\u001b[0m\u001b[1;33m(\u001b[0m\u001b[0mk\u001b[0m\u001b[1;33m)\u001b[0m\u001b[1;33m\u001b[0m\u001b[0m\n\u001b[0m",
      "\u001b[1;32m<ipython-input-5-1a8444bd10a7>\u001b[0m in \u001b[0;36mplot_hgradb_coarse\u001b[1;34m(t)\u001b[0m\n\u001b[0;32m     20\u001b[0m \u001b[1;33m\u001b[0m\u001b[0m\n\u001b[0;32m     21\u001b[0m     \u001b[0mtfiles\u001b[0m\u001b[1;33m=\u001b[0m\u001b[1;34m'/media/extra/DATA/NATL60/NATL60-CJM165-S/hgradb/NATL60-CJM165_y'\u001b[0m\u001b[1;33m+\u001b[0m\u001b[0myear\u001b[0m\u001b[1;33m+\u001b[0m\u001b[1;34m'm'\u001b[0m\u001b[1;33m+\u001b[0m\u001b[0mm\u001b[0m\u001b[1;33m+\u001b[0m\u001b[1;34m'd*.1d_surfbuoy_filt-n80-f0.0125.nc'\u001b[0m\u001b[1;33m\u001b[0m\u001b[0m\n\u001b[1;32m---> 22\u001b[1;33m     \u001b[0mhgradb\u001b[0m \u001b[1;33m=\u001b[0m \u001b[0mxr\u001b[0m\u001b[1;33m.\u001b[0m\u001b[0mopen_mfdataset\u001b[0m\u001b[1;33m(\u001b[0m\u001b[0mtfiles\u001b[0m\u001b[1;33m,\u001b[0m\u001b[0mconcat_dim\u001b[0m\u001b[1;33m=\u001b[0m\u001b[1;34m'time_counter'\u001b[0m\u001b[1;33m,\u001b[0m\u001b[0mdecode_times\u001b[0m\u001b[1;33m=\u001b[0m\u001b[0mFalse\u001b[0m\u001b[1;33m)\u001b[0m\u001b[1;33m[\u001b[0m\u001b[1;34m'vohgradb'\u001b[0m\u001b[1;33m]\u001b[0m\u001b[1;33m\u001b[0m\u001b[0m\n\u001b[0m\u001b[0;32m     23\u001b[0m     \u001b[0mdiri\u001b[0m\u001b[1;33m=\u001b[0m\u001b[1;34m'/media/extra/DATA/NATL60/NATL60-I/'\u001b[0m\u001b[1;33m\u001b[0m\u001b[0m\n\u001b[0;32m     24\u001b[0m     \u001b[0mtmask\u001b[0m\u001b[1;33m=\u001b[0m\u001b[1;34m'NATL60-CJM165.1d_mask_surf_filt-n80-f0.0125.nc'\u001b[0m\u001b[1;33m\u001b[0m\u001b[0m\n",
      "\u001b[1;32m/home/albert/anaconda2/lib/python2.7/site-packages/xarray/core/dataset.pyc\u001b[0m in \u001b[0;36m__getitem__\u001b[1;34m(self, key)\u001b[0m\n\u001b[0;32m    878\u001b[0m \u001b[1;33m\u001b[0m\u001b[0m\n\u001b[0;32m    879\u001b[0m         \u001b[1;32mif\u001b[0m \u001b[0mhashable\u001b[0m\u001b[1;33m(\u001b[0m\u001b[0mkey\u001b[0m\u001b[1;33m)\u001b[0m\u001b[1;33m:\u001b[0m\u001b[1;33m\u001b[0m\u001b[0m\n\u001b[1;32m--> 880\u001b[1;33m             \u001b[1;32mreturn\u001b[0m \u001b[0mself\u001b[0m\u001b[1;33m.\u001b[0m\u001b[0m_construct_dataarray\u001b[0m\u001b[1;33m(\u001b[0m\u001b[0mkey\u001b[0m\u001b[1;33m)\u001b[0m\u001b[1;33m\u001b[0m\u001b[0m\n\u001b[0m\u001b[0;32m    881\u001b[0m         \u001b[1;32melse\u001b[0m\u001b[1;33m:\u001b[0m\u001b[1;33m\u001b[0m\u001b[0m\n\u001b[0;32m    882\u001b[0m             \u001b[1;32mreturn\u001b[0m \u001b[0mself\u001b[0m\u001b[1;33m.\u001b[0m\u001b[0m_copy_listed\u001b[0m\u001b[1;33m(\u001b[0m\u001b[0mnp\u001b[0m\u001b[1;33m.\u001b[0m\u001b[0masarray\u001b[0m\u001b[1;33m(\u001b[0m\u001b[0mkey\u001b[0m\u001b[1;33m)\u001b[0m\u001b[1;33m)\u001b[0m\u001b[1;33m\u001b[0m\u001b[0m\n",
      "\u001b[1;32m/home/albert/anaconda2/lib/python2.7/site-packages/xarray/core/dataset.pyc\u001b[0m in \u001b[0;36m_construct_dataarray\u001b[1;34m(self, name)\u001b[0m\n\u001b[0;32m    781\u001b[0m         \u001b[1;32mexcept\u001b[0m \u001b[0mKeyError\u001b[0m\u001b[1;33m:\u001b[0m\u001b[1;33m\u001b[0m\u001b[0m\n\u001b[0;32m    782\u001b[0m             _, name, variable = _get_virtual_variable(\n\u001b[1;32m--> 783\u001b[1;33m                 self._variables, name, self._level_coords, self.dims)\n\u001b[0m\u001b[0;32m    784\u001b[0m \u001b[1;33m\u001b[0m\u001b[0m\n\u001b[0;32m    785\u001b[0m         \u001b[0mcoords\u001b[0m \u001b[1;33m=\u001b[0m \u001b[0mOrderedDict\u001b[0m\u001b[1;33m(\u001b[0m\u001b[1;33m)\u001b[0m\u001b[1;33m\u001b[0m\u001b[0m\n",
      "\u001b[1;32m/home/albert/anaconda2/lib/python2.7/site-packages/xarray/core/dataset.pyc\u001b[0m in \u001b[0;36m_get_virtual_variable\u001b[1;34m(variables, key, level_vars, dim_sizes)\u001b[0m\n\u001b[0;32m     71\u001b[0m         \u001b[0mref_var\u001b[0m \u001b[1;33m=\u001b[0m \u001b[0mdim_var\u001b[0m\u001b[1;33m.\u001b[0m\u001b[0mto_index_variable\u001b[0m\u001b[1;33m(\u001b[0m\u001b[1;33m)\u001b[0m\u001b[1;33m.\u001b[0m\u001b[0mget_level_variable\u001b[0m\u001b[1;33m(\u001b[0m\u001b[0mref_name\u001b[0m\u001b[1;33m)\u001b[0m\u001b[1;33m\u001b[0m\u001b[0m\n\u001b[0;32m     72\u001b[0m     \u001b[1;32melse\u001b[0m\u001b[1;33m:\u001b[0m\u001b[1;33m\u001b[0m\u001b[0m\n\u001b[1;32m---> 73\u001b[1;33m         \u001b[0mref_var\u001b[0m \u001b[1;33m=\u001b[0m \u001b[0mvariables\u001b[0m\u001b[1;33m[\u001b[0m\u001b[0mref_name\u001b[0m\u001b[1;33m]\u001b[0m\u001b[1;33m\u001b[0m\u001b[0m\n\u001b[0m\u001b[0;32m     74\u001b[0m \u001b[1;33m\u001b[0m\u001b[0m\n\u001b[0;32m     75\u001b[0m     \u001b[1;32mif\u001b[0m \u001b[0mvar_name\u001b[0m \u001b[1;32mis\u001b[0m \u001b[0mNone\u001b[0m\u001b[1;33m:\u001b[0m\u001b[1;33m\u001b[0m\u001b[0m\n",
      "\u001b[1;31mKeyError\u001b[0m: 'vohgradb'"
     ]
    }
   ],
   "source": [
    "for k in np.arange(12):\n",
    "    plot_hgradb_coarse(k)"
   ]
  },
  {
   "cell_type": "code",
   "execution_count": null,
   "metadata": {},
   "outputs": [],
   "source": []
  }
 ],
 "metadata": {
  "kernelspec": {
   "display_name": "Python [Root]",
   "language": "python",
   "name": "Python [Root]"
  },
  "language_info": {
   "codemirror_mode": {
    "name": "ipython",
    "version": 2
   },
   "file_extension": ".py",
   "mimetype": "text/x-python",
   "name": "python",
   "nbconvert_exporter": "python",
   "pygments_lexer": "ipython2",
   "version": "2.7.15"
  }
 },
 "nbformat": 4,
 "nbformat_minor": 1
}
