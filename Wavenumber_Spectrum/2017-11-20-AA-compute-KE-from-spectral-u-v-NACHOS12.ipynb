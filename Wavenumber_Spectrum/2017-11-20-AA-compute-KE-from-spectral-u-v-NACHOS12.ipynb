{
 "cells": [
  {
   "cell_type": "code",
   "execution_count": 1,
   "metadata": {
    "collapsed": false
   },
   "outputs": [
    {
     "data": {
      "application/javascript": [
       "IPython.notebook.set_autosave_interval(60000)"
      ]
     },
     "metadata": {},
     "output_type": "display_data"
    },
    {
     "name": "stdout",
     "output_type": "stream",
     "text": [
      "Autosaving every 60 seconds\n"
     ]
    }
   ],
   "source": [
    "import glob\n",
    "import sys\n",
    "import numpy as np\n",
    "import matplotlib.pyplot as plt\n",
    "%matplotlib inline\n",
    "%autosave 60"
   ]
  },
  {
   "cell_type": "code",
   "execution_count": 2,
   "metadata": {
    "collapsed": false
   },
   "outputs": [],
   "source": [
    "sys.path.insert(0,'/home/albert/lib/python/AJ-spectre/')\n",
    "import PowerSpec as pp\n",
    "from nachos12_10_by_10_boxes import boxes"
   ]
  },
  {
   "cell_type": "code",
   "execution_count": 6,
   "metadata": {
    "collapsed": true
   },
   "outputs": [],
   "source": [
    "# - folder containing U and V spectral\n",
    "u_database = '/media/extra/DATA/NACHOS12.L75/NACHOS12.L75-MAA13-S/u_v_1d/Uspec/'\n",
    "v_database = '/media/extra/DATA/NACHOS12.L75/NACHOS12.L75-MAA13-S/u_v_1d/Vspec/'"
   ]
  },
  {
   "cell_type": "code",
   "execution_count": 3,
   "metadata": {
    "collapsed": true
   },
   "outputs": [],
   "source": [
    "# - folder to contain computed KE spectral\n",
    "KEspecFolder = '/media/extra/DATA/NACHOS12.L75/NACHOS12.L75-MAA13-S/u_v_1d/KEspec/'"
   ]
  },
  {
   "cell_type": "code",
   "execution_count": 4,
   "metadata": {
    "collapsed": true
   },
   "outputs": [],
   "source": [
    "# - Year and month for the simulation\n",
    "YrMth  = ['2012_01','2012_02','2012_03','2012_04','2012_05','2012_06','2012_07','2012_08','2012_09','2012_10','2012_11','2012_12']"
   ]
  },
  {
   "cell_type": "code",
   "execution_count": 7,
   "metadata": {
    "collapsed": false
   },
   "outputs": [
    {
     "name": "stdout",
     "output_type": "stream",
     "text": [
      "Box_14\n",
      "Box_13\n",
      "Box_12\n",
      "Box_11\n",
      "Box_10\n",
      "Box_7\n",
      "Box_6\n",
      "Box_5\n",
      "Box_4\n",
      "Box_3\n",
      "Box_2\n",
      "Box_1\n",
      "Box_9\n",
      "Box_8\n"
     ]
    }
   ],
   "source": [
    "# - compute KE spectral then save to file\n",
    "for box in boxes:\n",
    "    print box.name\n",
    "    u_filenames = sorted(glob.glob(u_database + 'WaveSpec_'+box.name+'_Uspec_*.npz'))\n",
    "    v_filenames = sorted(glob.glob(v_database + 'WaveSpec_'+box.name+'_Vspec_*.npz'))\n",
    "    for i in range(len(u_filenames)):\n",
    "        uspec = np.load(u_filenames[i])['pspec']\n",
    "        vspec = np.load(v_filenames[i])['pspec']\n",
    "        kspec = np.load(u_filenames[i])['kspec']\n",
    "        KEspec = 0.5*(uspec + vspec)\n",
    "        np.savez(KEspecFolder+'WaveSpec_'+box.name+'_KEspec_'+YrMth[i]+'.npz',kspec = kspec,KEspec = KEspec)"
   ]
  },
  {
   "cell_type": "code",
   "execution_count": null,
   "metadata": {
    "collapsed": true
   },
   "outputs": [],
   "source": []
  }
 ],
 "metadata": {
  "anaconda-cloud": {},
  "kernelspec": {
   "display_name": "Python [Root]",
   "language": "python",
   "name": "Python [Root]"
  },
  "language_info": {
   "codemirror_mode": {
    "name": "ipython",
    "version": 2
   },
   "file_extension": ".py",
   "mimetype": "text/x-python",
   "name": "python",
   "nbconvert_exporter": "python",
   "pygments_lexer": "ipython2",
   "version": "2.7.11"
  }
 },
 "nbformat": 4,
 "nbformat_minor": 1
}
