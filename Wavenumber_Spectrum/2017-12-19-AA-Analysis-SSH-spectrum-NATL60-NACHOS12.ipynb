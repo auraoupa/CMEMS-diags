{
 "cells": [
  {
   "cell_type": "markdown",
   "metadata": {},
   "source": [
    "# Comparative Analysis of SSH spectrum for NACHOS12 vs NATL60 Model."
   ]
  },
  {
   "cell_type": "markdown",
   "metadata": {},
   "source": [
    "# 0 - Load modules and define functions"
   ]
  },
  {
   "cell_type": "code",
   "execution_count": 1,
   "metadata": {},
   "outputs": [
    {
     "data": {
      "application/javascript": [
       "IPython.notebook.set_autosave_interval(60000)"
      ]
     },
     "metadata": {},
     "output_type": "display_data"
    },
    {
     "name": "stdout",
     "output_type": "stream",
     "text": [
      "Autosaving every 60 seconds\n"
     ]
    }
   ],
   "source": [
    "import sys\n",
    "import xarray as xr\n",
    "import numpy as np\n",
    "import matplotlib.pyplot as plt\n",
    "import glob\n",
    "%matplotlib inline\n",
    "%autosave 60"
   ]
  },
  {
   "cell_type": "code",
   "execution_count": 2,
   "metadata": {},
   "outputs": [],
   "source": [
    "sys.path.insert(0,'/home/albert/lib/python/AJ-spectre/')\n"
   ]
  },
  {
   "cell_type": "code",
   "execution_count": 3,
   "metadata": {},
   "outputs": [
    {
     "ename": "IOError",
     "evalue": "[Errno 2] No such file or directory: '/media/extra/DATA/NACHOS12.L75/NACHOS12.L75-I/NACHOS12.L75_coordinates_20S_80N_v2.0.nc'",
     "output_type": "error",
     "traceback": [
      "\u001b[1;31m---------------------------------------------------------\u001b[0m",
      "\u001b[1;31mIOError\u001b[0m                 Traceback (most recent call last)",
      "\u001b[1;32m<ipython-input-3-2e9919421358>\u001b[0m in \u001b[0;36m<module>\u001b[1;34m()\u001b[0m\n\u001b[0;32m      1\u001b[0m \u001b[1;32mimport\u001b[0m \u001b[0mPlot_PowerSpec\u001b[0m \u001b[1;32mas\u001b[0m \u001b[0mpp\u001b[0m\u001b[1;33m\u001b[0m\u001b[0m\n\u001b[0;32m      2\u001b[0m \u001b[1;32mimport\u001b[0m \u001b[0mplot_box\u001b[0m \u001b[1;32mas\u001b[0m \u001b[0mpb\u001b[0m\u001b[1;33m\u001b[0m\u001b[0m\n\u001b[1;32m----> 3\u001b[1;33m \u001b[1;32mfrom\u001b[0m \u001b[0mnachos12_10_by_10_boxes\u001b[0m \u001b[1;32mimport\u001b[0m \u001b[0mboxes\u001b[0m\u001b[1;33m\u001b[0m\u001b[0m\n\u001b[0m",
      "\u001b[1;32m/home/albert/lib/python/AJ-spectre/nachos12_10_by_10_boxes.py\u001b[0m in \u001b[0;36m<module>\u001b[1;34m()\u001b[0m\n\u001b[0;32m     78\u001b[0m \u001b[1;33m\u001b[0m\u001b[0m\n\u001b[0;32m     79\u001b[0m     \u001b[1;31m# - Obtain navlon and Navlat\u001b[0m\u001b[1;33m\u001b[0m\u001b[1;33m\u001b[0m\u001b[0m\n\u001b[1;32m---> 80\u001b[1;33m     \u001b[0mnavlon\u001b[0m\u001b[1;33m,\u001b[0m\u001b[0mnavlat\u001b[0m\u001b[1;33m,\u001b[0m\u001b[0mjmin\u001b[0m\u001b[1;33m,\u001b[0m\u001b[0mjmax\u001b[0m\u001b[1;33m,\u001b[0m\u001b[0mimin\u001b[0m\u001b[1;33m,\u001b[0m\u001b[0mimax\u001b[0m \u001b[1;33m=\u001b[0m \u001b[0mread_datagrid\u001b[0m\u001b[1;33m(\u001b[0m\u001b[0mgridfile\u001b[0m\u001b[1;33m,\u001b[0m\u001b[0mlatmin\u001b[0m\u001b[1;33m=\u001b[0m\u001b[0my1\u001b[0m\u001b[1;33m,\u001b[0m\u001b[0mlatmax\u001b[0m\u001b[1;33m=\u001b[0m\u001b[0my2\u001b[0m\u001b[1;33m,\u001b[0m\u001b[0mlonmin\u001b[0m\u001b[1;33m=\u001b[0m\u001b[0mx2\u001b[0m\u001b[1;33m,\u001b[0m\u001b[0mlonmax\u001b[0m\u001b[1;33m=\u001b[0m\u001b[0mx1\u001b[0m\u001b[1;33m)\u001b[0m\u001b[1;33m\u001b[0m\u001b[0m\n\u001b[0m\u001b[0;32m     81\u001b[0m \u001b[1;33m\u001b[0m\u001b[0m\n\u001b[0;32m     82\u001b[0m     \u001b[1;31m# - save box parameter\u001b[0m\u001b[1;33m\u001b[0m\u001b[1;33m\u001b[0m\u001b[0m\n",
      "\u001b[1;32m/home/albert/lib/python/AJ-spectre/nachos12_10_by_10_boxes.py\u001b[0m in \u001b[0;36mread_datagrid\u001b[1;34m(gridfile, latmin, latmax, lonmin, lonmax)\u001b[0m\n\u001b[0;32m     19\u001b[0m \u001b[1;32mdef\u001b[0m \u001b[0mread_datagrid\u001b[0m\u001b[1;33m(\u001b[0m\u001b[0mgridfile\u001b[0m\u001b[1;33m,\u001b[0m\u001b[0mlatmin\u001b[0m\u001b[1;33m=\u001b[0m\u001b[0mNone\u001b[0m\u001b[1;33m,\u001b[0m\u001b[0mlatmax\u001b[0m\u001b[1;33m=\u001b[0m\u001b[0mNone\u001b[0m\u001b[1;33m,\u001b[0m\u001b[0mlonmin\u001b[0m\u001b[1;33m=\u001b[0m\u001b[0mNone\u001b[0m\u001b[1;33m,\u001b[0m\u001b[0mlonmax\u001b[0m\u001b[1;33m=\u001b[0m\u001b[0mNone\u001b[0m\u001b[1;33m)\u001b[0m\u001b[1;33m:\u001b[0m\u001b[1;33m\u001b[0m\u001b[0m\n\u001b[0;32m     20\u001b[0m     \u001b[1;34m\"\"\"Return navlon,navlat.\"\"\"\u001b[0m\u001b[1;33m\u001b[0m\u001b[0m\n\u001b[1;32m---> 21\u001b[1;33m     \u001b[0mncfile\u001b[0m \u001b[1;33m=\u001b[0m \u001b[0mncopen\u001b[0m\u001b[1;33m(\u001b[0m\u001b[0mgridfile\u001b[0m\u001b[1;33m,\u001b[0m\u001b[1;34m'r'\u001b[0m\u001b[1;33m)\u001b[0m\u001b[1;33m\u001b[0m\u001b[0m\n\u001b[0m\u001b[0;32m     22\u001b[0m     \u001b[1;31m# load navlon and navlat\u001b[0m\u001b[1;33m\u001b[0m\u001b[1;33m\u001b[0m\u001b[0m\n\u001b[0;32m     23\u001b[0m     \u001b[0m_navlon\u001b[0m \u001b[1;33m=\u001b[0m \u001b[0mncfile\u001b[0m\u001b[1;33m.\u001b[0m\u001b[0mvariables\u001b[0m\u001b[1;33m[\u001b[0m\u001b[1;34m'glamt'\u001b[0m\u001b[1;33m]\u001b[0m\u001b[1;33m[\u001b[0m\u001b[1;33m:\u001b[0m\u001b[1;33m,\u001b[0m\u001b[1;33m:\u001b[0m\u001b[1;33m]\u001b[0m\u001b[1;33m\u001b[0m\u001b[0m\n",
      "\u001b[1;32mnetCDF4/_netCDF4.pyx\u001b[0m in \u001b[0;36mnetCDF4._netCDF4.Dataset.__init__\u001b[1;34m()\u001b[0m\n",
      "\u001b[1;32mnetCDF4/_netCDF4.pyx\u001b[0m in \u001b[0;36mnetCDF4._netCDF4._ensure_nc_success\u001b[1;34m()\u001b[0m\n",
      "\u001b[1;31mIOError\u001b[0m: [Errno 2] No such file or directory: '/media/extra/DATA/NACHOS12.L75/NACHOS12.L75-I/NACHOS12.L75_coordinates_20S_80N_v2.0.nc'"
     ]
    }
   ],
   "source": [
    "import Plot_PowerSpec as pp\n",
    "import plot_box as pb\n",
    "from nachos12_10_by_10_boxes import boxes"
   ]
  },
  {
   "cell_type": "code",
   "execution_count": null,
   "metadata": {},
   "outputs": [],
   "source": [
    "N12_database = '/media/extra/DATA/NACHOS12.L75/NACHOS12.L75-MAA13-S/ssh_1d/'\n",
    "N60_database = '/media/extra/DATA/NATL60/NATL60-CJM165-S/surf/ssh/'"
   ]
  },
  {
   "cell_type": "code",
   "execution_count": null,
   "metadata": {},
   "outputs": [],
   "source": [
    "def mean_pspec(filenames,i,j):\n",
    "    ''' Compute mean spectrum'''\n",
    "    _pspec = []\n",
    "    for filename in filenames:\n",
    "        spec = np.load(filename)\n",
    "        kspec = spec['kspec'];\n",
    "        pspec = spec['pspec'];\n",
    "        _pspec.append(pspec) \n",
    "    pspec_ar = np.array(_pspec)\n",
    "    mean_pspec = pspec_ar[i:j].mean(axis=0)\n",
    "    return kspec,mean_pspec"
   ]
  },
  {
   "cell_type": "code",
   "execution_count": null,
   "metadata": {},
   "outputs": [],
   "source": [
    "def comp_slope(database,i,j):\n",
    "    ''' Compute slope of averaged spectrum'''\n",
    "    slope_10_100 = []\n",
    "    slope_70_250 = []\n",
    "    for box in boxes:\n",
    "        filenames = sorted(glob.glob(database + 'WaveSpec_'+box.name+'_ssh_*.npz'))\n",
    "        kpsec,pspec = mean_pspec(filenames,i,j)\n",
    "        m1 = pp.get_slope(kpsec,pspec,10*1E3,100*1E3)\n",
    "        m2 = pp.get_slope(kpsec,pspec,70*1E3,250*1E3)\n",
    "        slope_10_100.append(m1)\n",
    "        slope_70_250.append(m2)\n",
    "    slope_10_100_arr = np.array(slope_10_100)\n",
    "    slope_70_250_arr = np.array(slope_70_250)\n",
    "    return slope_10_100_arr,slope_70_250_arr"
   ]
  },
  {
   "cell_type": "code",
   "execution_count": null,
   "metadata": {},
   "outputs": [],
   "source": [
    "# - general slope\n",
    "k = np.array([1E-6,1E-3])\n",
    "s3 = k**-3/1.e11\n",
    "s2 = k**-2/1.e7\n",
    "s53 = k**(-5./3.)/1.e5"
   ]
  },
  {
   "cell_type": "markdown",
   "metadata": {},
   "source": [
    "# 1 - Annual Mean"
   ]
  },
  {
   "cell_type": "markdown",
   "metadata": {},
   "source": [
    "## 1.1 - Annual Mean of KE spectrum"
   ]
  },
  {
   "cell_type": "code",
   "execution_count": null,
   "metadata": {},
   "outputs": [],
   "source": [
    "fig, axs = plt.subplots(4,4, figsize=(18, 18))\n",
    "axs = axs.ravel()\n",
    "title = 'Annual Mean of SSH spectrum'\n",
    "plt.suptitle(title,size = 25,y=1.05)\n",
    "\n",
    "i = 0\n",
    "for box in boxes:\n",
    "    N12_filenames = sorted(glob.glob(N12_database + 'WaveSpec_'+box.name+'_ssh_*.npz'))\n",
    "    N12_kpsec,N12_pspec = mean_pspec(N12_filenames,0,12)\n",
    "    N60_filenames = sorted(glob.glob(N60_database + 'WaveSpec_'+box.name+'_ssh_*.npz'))\n",
    "    N60_kpsec,N60_pspec = mean_pspec(N60_filenames,0,12)\n",
    "    axs[i].loglog(N60_kpsec,N60_pspec,'b',linewidth=2.0,label='NATL60')\n",
    "    axs[i].loglog(N12_kpsec,N12_pspec,'r',linewidth=2.0,label='NACHOS12')\n",
    "    axs[i].loglog(k,s3,'k-',label=r'$k^{-3}$')\n",
    "    axs[i].loglog(k,s2,'k-.',label=r'$k^{-2}$')\n",
    "    axs[i].loglog(k,s53,'k--',label=r'$k^{-5/3}$')\n",
    "    axs[i].set_xlim(1E-6,1E-3)\n",
    "    axs[i].set_ylim(1E-4,1E5)\n",
    "    axs[i].set_title(box.name,size=15)\n",
    "    axs[i].legend()\n",
    "    axs[i].grid(True)\n",
    "    i = i + 1\n",
    "    fig.tight_layout()\n",
    "    \n",
    "plt.savefig(\"SSH_spectrum_annual_mean_NACHOS12-NATL60.png\")"
   ]
  },
  {
   "cell_type": "code",
   "execution_count": null,
   "metadata": {},
   "outputs": [],
   "source": []
  }
 ],
 "metadata": {
  "anaconda-cloud": {},
  "kernelspec": {
   "display_name": "Python [Root]",
   "language": "python",
   "name": "Python [Root]"
  },
  "language_info": {
   "codemirror_mode": {
    "name": "ipython",
    "version": 2
   },
   "file_extension": ".py",
   "mimetype": "text/x-python",
   "name": "python",
   "nbconvert_exporter": "python",
   "pygments_lexer": "ipython2",
   "version": "2.7.15"
  }
 },
 "nbformat": 4,
 "nbformat_minor": 1
}
