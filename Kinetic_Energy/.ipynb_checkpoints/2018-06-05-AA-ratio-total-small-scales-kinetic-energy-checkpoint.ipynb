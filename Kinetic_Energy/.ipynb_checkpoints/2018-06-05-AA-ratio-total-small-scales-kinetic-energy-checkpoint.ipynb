{
 "cells": [
  {
   "cell_type": "code",
   "execution_count": 1,
   "metadata": {},
   "outputs": [],
   "source": [
    "## path for mdules\n",
    "\n",
    "import sys\n",
    "sys.path.insert(0,\"/home/albert/lib/python\")\n",
    "\n",
    "## imports\n",
    "\n",
    "import numpy as np\n",
    "import xarray as xr\n",
    "import GriddedData\n",
    "import time\n",
    "\n",
    "#- Other modules\n",
    "import numpy.ma as ma\n",
    "import WavenumberSpectrum as ws\n",
    "\n",
    "### palette\n",
    "import matplotlib.cm as mplcm\n",
    "\n",
    "seq_cmap = mplcm.Blues\n",
    "div_cmap = mplcm.seismic\n",
    "\n",
    "### quick plot\n",
    "import matplotlib.pyplot as plt\n",
    "\n",
    "## local/specific imports\n",
    "import oocgcm\n",
    "import oocgcm.filtering\n",
    "import oocgcm.filtering.linearfilters as tf\n",
    "\n",
    "## histograms\n",
    "import seaborn as sns\n",
    "sns.set(color_codes=True)\n",
    "\n",
    "from decimal import Decimal\n",
    "import cartopy.crs as ccrs\n",
    "import matplotlib.ticker as mticker\n",
    "\n",
    "%matplotlib inline"
   ]
  },
  {
   "cell_type": "code",
   "execution_count": 2,
   "metadata": {},
   "outputs": [
    {
     "name": "stdout",
     "output_type": "stream",
     "text": [
      "/media/extra/DATA/NATL60/NATL60-I/NATL60_v4.1_cdf_mesh_hgr.nc\r\n"
     ]
    }
   ],
   "source": [
    "dirin=\"/media/extra/DATA/NATL60/NATL60-I/\"\n",
    "gridfile=dirin+\"NATL60_v4.1_cdf_mesh_hgr.nc\"\n",
    "!ls $gridfile\n",
    "grid=xr.open_dataset(gridfile)\n",
    "navlat= np.squeeze(grid['nav_lat'])\n",
    "navlon= np.squeeze(grid['nav_lon'])\n",
    "diri='/media/extra/DATA/NATL60/NATL60-I/'\n",
    "tmask='NATL60-CJM165.1d_mask_surf_filt-n80-f0.0125.nc'\n",
    "mask_filt=np.squeeze(xr.open_dataset(diri+tmask)['tmask'])\n"
   ]
  },
  {
   "cell_type": "code",
   "execution_count": 3,
   "metadata": {},
   "outputs": [],
   "source": [
    "def plot_fine_scale_variance(fig,var,loncrs,latcrs,lon,lat,hpvarm,month):\n",
    "    ''' map of the averaged fine scale variance\n",
    "    '''\n",
    "    ax = plt.subplot(111)\n",
    "    ax.autoscale(tight=True)\n",
    "    truc=np.array(hpvarm)\n",
    "    truc[truc==0.]=np.nan\n",
    "    cont=np.isnan(truc)\n",
    "\n",
    "    pcolor = ax.pcolormesh(loncrs,latcrs,ma.masked_invalid(var),vmin=0,vmax=1,cmap=seq_cmap,alpha=1)\n",
    "    ax.tick_params(labelsize=25)\n",
    "    ax.contour(lon,lat,cont,alpha=0.5,linewidth=0.000001,antialiased=True)\n",
    "    cbar = plt.colorbar(pcolor,orientation='horizontal',pad=0.1)\n",
    "    cbar.ax.tick_params(labelsize=35)\n",
    "    ax.set_xlabel('Longitude (in degree)',fontsize=20)\n",
    "    ax.set_ylabel('Latitude (in degree)',fontsize=20)\n",
    "    cbar.ax.tick_params(labelsize=25)\n",
    "    plt.text(0,30,month,size=25)\n",
    "    cbar.set_label('Mean Total Kinetic Energy in $m^2/s^2$',fontsize=25)\n",
    "    return fig\n"
   ]
  },
  {
   "cell_type": "code",
   "execution_count": null,
   "metadata": {},
   "outputs": [],
   "source": [
    "tfiles='/media/extra/DATA/NATL60/NATL60-CJM165-S/EKE/NATL60-CJM165_y2012m10d01-y2013m09d30.1y_KET.nc'\n",
    "data = xr.open_dataset(tfiles)['vomke']\n",
    "navlat2=np.array(navlat).squeeze()\n",
    "navlon2=np.array(navlon).squeeze()\n",
    "mgrd = GriddedData.grid2D(navlat=navlat2, navlon=navlon2)\n",
    "crs = GriddedData.grdCoarsener(mgrd,crs_factor=60)\n",
    "datam=np.nanmean(data,axis=0)\n",
    "datac = crs.return_ravel(np.asarray(datam))\n",
    "latcrs=crs.return_ravel(np.asarray(navlat2))\n",
    "loncrs=crs.return_ravel(np.asarray(navlon2))\n",
    "latcrsm=np.mean(latcrs,axis=-3)\n",
    "loncrsm=np.mean(loncrs,axis=-3)\n",
    "\n",
    "fig = plt.figure(figsize=(20, 15))\n",
    "truc=plot_fine_scale_variance(fig,datac,loncrsm, latcrsm,navlon,navlat,hgradb[0],month[t+1])\n",
    "plt.savefig(\"NATL60_KET_annual_mean_coarse.png\")\n"
   ]
  },
  {
   "cell_type": "code",
   "execution_count": null,
   "metadata": {},
   "outputs": [],
   "source": []
  }
 ],
 "metadata": {
  "kernelspec": {
   "display_name": "Python [Root]",
   "language": "python",
   "name": "Python [Root]"
  },
  "language_info": {
   "codemirror_mode": {
    "name": "ipython",
    "version": 2
   },
   "file_extension": ".py",
   "mimetype": "text/x-python",
   "name": "python",
   "nbconvert_exporter": "python",
   "pygments_lexer": "ipython2",
   "version": "2.7.15"
  }
 },
 "nbformat": 4,
 "nbformat_minor": 2
}
